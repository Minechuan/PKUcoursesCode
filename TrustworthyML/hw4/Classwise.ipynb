{
 "cells": [
  {
   "attachments": {},
   "cell_type": "markdown",
   "metadata": {},
   "source": [
    "<h2>Creating Class-wise Unlearnable Examples</h2>"
   ]
  },
  {
   "attachments": {},
   "cell_type": "markdown",
   "metadata": {},
   "source": [
    "<h3>Prepare Data</h3>"
   ]
  },
  {
   "cell_type": "code",
   "execution_count": 5,
   "metadata": {},
   "outputs": [
    {
     "name": "stdout",
     "output_type": "stream",
     "text": [
      "Files already downloaded and verified\n",
      "Files already downloaded and verified\n"
     ]
    }
   ],
   "source": [
    "import os\n",
    "import torch\n",
    "import torchvision\n",
    "from torch.utils.data import DataLoader\n",
    "from torchvision import datasets, transforms\n",
    "\n",
    "# Prepare Dataset\n",
    "train_transform = [\n",
    "    transforms.ToTensor()\n",
    "]\n",
    "test_transform = [\n",
    "    transforms.ToTensor()\n",
    "]\n",
    "train_transform = transforms.Compose(train_transform)\n",
    "test_transform = transforms.Compose(test_transform)\n",
    "\n",
    "clean_train_dataset = datasets.CIFAR10(root='/data1/mjli/Code/kerdeq/data/', train=True, download=True, transform=train_transform)\n",
    "clean_test_dataset = datasets.CIFAR10(root='/data1/mjli/Code/kerdeq/data/', train=False, download=True, transform=test_transform)\n",
    "\n",
    "clean_train_loader = DataLoader(dataset=clean_train_dataset, batch_size=512,\n",
    "                                shuffle=False, pin_memory=True,\n",
    "                                drop_last=False)\n",
    "clean_test_loader = DataLoader(dataset=clean_test_dataset, batch_size=512,\n",
    "                                shuffle=False, pin_memory=True,\n",
    "                                drop_last=False)"
   ]
  },
  {
   "attachments": {},
   "cell_type": "markdown",
   "metadata": {},
   "source": [
    "<h3>Prepare Model</h3>"
   ]
  },
  {
   "cell_type": "code",
   "execution_count": 6,
   "metadata": {},
   "outputs": [],
   "source": [
    "from models.ResNet import ResNet18\n",
    "\n",
    "torch.backends.cudnn.enabled = True\n",
    "torch.backends.cudnn.benchmark = True\n",
    "\n",
    "base_model = ResNet18()\n",
    "base_model = base_model.cuda()\n",
    "criterion = torch.nn.CrossEntropyLoss()\n",
    "optimizer = torch.optim.SGD(params=base_model.parameters(), lr=0.1, weight_decay=0.0005, momentum=0.9)\n",
    "\n"
   ]
  },
  {
   "attachments": {},
   "cell_type": "markdown",
   "metadata": {},
   "source": [
    "<h3>Prepare Perturbation Generator Tool</h3>"
   ]
  },
  {
   "cell_type": "code",
   "execution_count": 7,
   "metadata": {},
   "outputs": [],
   "source": [
    "import numpy as np\n",
    "from torch.autograd import Variable\n",
    "\n",
    "if torch.cuda.is_available():\n",
    "    device = torch.device('cuda')\n",
    "else:\n",
    "    device = torch.device('cpu')\n",
    "\n",
    "\n",
    "class PerturbationTool():\n",
    "    def __init__(self, seed=0, epsilon=0.03137254901, num_steps=20, step_size=0.00784313725):\n",
    "        self.epsilon = epsilon\n",
    "        self.num_steps = num_steps\n",
    "        self.step_size = step_size\n",
    "        self.seed = seed\n",
    "        np.random.seed(seed)\n",
    "\n",
    "    def random_noise(self, noise_shape=[10, 3, 32, 32]):\n",
    "        random_noise = torch.FloatTensor(*noise_shape).uniform_(-self.epsilon, self.epsilon).to(device)\n",
    "        return random_noise\n",
    "\n",
    "    def min_min_attack(self, images, labels, model, optimizer, criterion, random_noise=None, sample_wise=False):\n",
    "        # 这里的输入是一个 batch 的图像和标签\n",
    "\n",
    "        if random_noise is None:\n",
    "            random_noise = torch.FloatTensor(*images.shape).uniform_(-self.epsilon, self.epsilon).to(device)\n",
    "\n",
    "        perturb_img = Variable(images.data + random_noise, requires_grad=True)\n",
    "        perturb_img = Variable(torch.clamp(perturb_img, 0, 1), requires_grad=True)\n",
    "        eta = random_noise\n",
    "        for _ in range(self.num_steps):\n",
    "            opt = torch.optim.SGD([perturb_img], lr=1e-3)\n",
    "            opt.zero_grad()\n",
    "            model.zero_grad()\n",
    "            if isinstance(criterion, torch.nn.CrossEntropyLoss):\n",
    "                if hasattr(model, 'classify'):\n",
    "                    model.classify = True\n",
    "                logits = model(perturb_img)\n",
    "                loss = criterion(logits, labels)\n",
    "            else:\n",
    "                logits, loss = criterion(model, perturb_img, labels, optimizer)\n",
    "            perturb_img.retain_grad()\n",
    "            loss.backward()\n",
    "            eta = self.step_size * perturb_img.grad.data.sign() * (-1)\n",
    "            perturb_img = Variable(perturb_img.data + eta, requires_grad=True)\n",
    "            eta = torch.clamp(perturb_img.data - images.data, -self.epsilon, self.epsilon)\n",
    "            perturb_img = Variable(images.data + eta, requires_grad=True)\n",
    "            perturb_img = Variable(torch.clamp(perturb_img, 0, 1), requires_grad=True)\n",
    "\n",
    "        return perturb_img, eta # 返回的也应该是一个 batch 的图像和扰动\n",
    "    \n",
    "\n",
    "    \n",
    "noise_generator = PerturbationTool(epsilon=16/255, num_steps=10, step_size=4/255)\n",
    "\n",
    "\n",
    "### Test noise_generator\n",
    "images= torch.randn([1,3,32,32]).cuda()\n",
    "labels= torch.ones([1]).long().cuda()\n",
    "\n",
    "# noise_generator.min_min_attack(images, labels, base_model, optimizer, criterion, \n",
    "#                                                           random_noise=torch.zeros_like(images).cuda())\n"
   ]
  },
  {
   "attachments": {},
   "cell_type": "markdown",
   "metadata": {},
   "source": [
    "<h3>Generate Class-wise Error-Minimizing Noise</h3>"
   ]
  },
  {
   "cell_type": "code",
   "execution_count": null,
   "metadata": {},
   "outputs": [
    {
     "name": "stderr",
     "output_type": "stream",
     "text": [
      "100%|██████████| 98/98 [01:25<00:00,  1.14it/s]\n"
     ]
    },
    {
     "name": "stdout",
     "output_type": "stream",
     "text": [
      "Accuracy 10.00\n"
     ]
    },
    {
     "name": "stderr",
     "output_type": "stream",
     "text": [
      "100%|██████████| 98/98 [01:26<00:00,  1.13it/s]\n"
     ]
    },
    {
     "name": "stdout",
     "output_type": "stream",
     "text": [
      "Accuracy 14.74\n"
     ]
    },
    {
     "name": "stderr",
     "output_type": "stream",
     "text": [
      "100%|██████████| 98/98 [01:25<00:00,  1.15it/s]\n"
     ]
    },
    {
     "name": "stdout",
     "output_type": "stream",
     "text": [
      "Accuracy 19.64\n"
     ]
    },
    {
     "name": "stderr",
     "output_type": "stream",
     "text": [
      "100%|██████████| 98/98 [01:25<00:00,  1.15it/s]\n"
     ]
    },
    {
     "name": "stdout",
     "output_type": "stream",
     "text": [
      "Accuracy 42.29\n"
     ]
    },
    {
     "name": "stderr",
     "output_type": "stream",
     "text": [
      "100%|██████████| 98/98 [01:23<00:00,  1.18it/s]\n"
     ]
    },
    {
     "name": "stdout",
     "output_type": "stream",
     "text": [
      "Accuracy 69.64\n"
     ]
    },
    {
     "name": "stderr",
     "output_type": "stream",
     "text": [
      "100%|██████████| 98/98 [01:21<00:00,  1.20it/s]\n"
     ]
    },
    {
     "name": "stdout",
     "output_type": "stream",
     "text": [
      "Accuracy 87.07\n"
     ]
    },
    {
     "name": "stderr",
     "output_type": "stream",
     "text": [
      "100%|██████████| 98/98 [01:22<00:00,  1.18it/s]\n"
     ]
    },
    {
     "name": "stdout",
     "output_type": "stream",
     "text": [
      "Accuracy 95.95\n"
     ]
    }
   ],
   "source": [
    "from tqdm import tqdm\n",
    "import collections\n",
    "\n",
    "### Final noise####\n",
    "noise = torch.zeros([10, 3, 32, 32])\n",
    "\n",
    "data_iter = iter(clean_train_loader)\n",
    "condition = True\n",
    "train_idx = 0\n",
    "\n",
    "while condition:\n",
    "    # optimize base model for 10 steps （train base models with 10 batches）\n",
    "    base_model.train()\n",
    "    for param in base_model.parameters():\n",
    "        param.requires_grad = True\n",
    "    for j in range(0, 10): # 10 steps\n",
    "        train_idx += 1\n",
    "        #############Optimization of base model on data with noise#################\n",
    "        #####1. each iteration is a batch, you may use next(data_iter) to get images and labels for training\n",
    "        #### Point 2\n",
    "        try:\n",
    "            (images, labels) = next(data_iter)\n",
    "        except: # if the data is run out, reset the iterator\n",
    "            train_idx = 0\n",
    "            data_iter = iter(clean_train_loader)\n",
    "            (images, labels) = next(data_iter)\n",
    "        for i, (image, label) in enumerate(zip(images, labels)):\n",
    "            # Update noise to images\n",
    "            images[i] += noise[label]\n",
    "            train_idx += 1\n",
    "        images, labels = images.cuda(), labels.cuda()\n",
    "        base_model.zero_grad()\n",
    "        optimizer.zero_grad()\n",
    "        logits = base_model(images)\n",
    "        loss = criterion(logits, labels)\n",
    "        loss.backward()\n",
    "        optimizer.step()\n",
    "\n",
    "    # Perturbation over entire dataset\n",
    "    idx = 0\n",
    "    for param in base_model.parameters():\n",
    "        param.requires_grad = False\n",
    "    for i, (images, labels) in tqdm(enumerate(clean_train_loader), total=len(clean_train_loader)):\n",
    "        # 针对一个 batch 处理\n",
    "        batch_start_idx, batch_noise = idx, []\n",
    "        tmp_idx = 0 # 是当前 batch 中的相对索引\n",
    "        for i, _ in enumerate(images):\n",
    "            # Update noise to images\n",
    "            batch_noise.append(noise[labels[tmp_idx]]) # 使用相对索引查找 label，然后利用label查找对应的噪声\n",
    "            idx += 1\n",
    "            tmp_idx += 1\n",
    "        batch_noise = torch.stack(batch_noise).cuda()\n",
    "        \n",
    "        # Update class-wise perturbation\n",
    "        base_model.eval()\n",
    "        images, labels = images.cuda(), labels.cuda()\n",
    "        perturb_img, eta = noise_generator.min_min_attack(images, labels, base_model, optimizer, criterion, \n",
    "                                                          random_noise=batch_noise)\n",
    "        \n",
    "        ################# Update noise by perturb_img or eta ####################\n",
    "        #### Point 2      \n",
    "        class_perturbations = collections.defaultdict(list)\n",
    "        for j in range(len(eta)):\n",
    "            cls = labels[j].item()\n",
    "            class_perturbations[cls].append(eta[j].detach().cpu())\n",
    "        # if a class has new perturbations, update the noise, else keep the old one\n",
    "        for cls in class_perturbations: \n",
    "            cls_perturb = torch.stack(class_perturbations[cls])\n",
    "            current_avg = cls_perturb.mean(dim=0)\n",
    "            noise[cls] = current_avg\n",
    "\n",
    "        \n",
    "    # Eval stop condition\n",
    "    eval_idx, total, correct = 0, 0, 0\n",
    "    for i, (images, labels) in enumerate(clean_train_loader):\n",
    "        eval_idx = 0\n",
    "        for i, _ in enumerate(images):\n",
    "            # Update noise to images\n",
    "            images[i] += noise[labels[eval_idx]]\n",
    "            eval_idx += 1\n",
    "        images, labels = images.cuda(), labels.cuda()\n",
    "        with torch.no_grad():\n",
    "            logits = base_model(images)\n",
    "            _, predicted = torch.max(logits.data, 1)\n",
    "            total += labels.size(0)\n",
    "            correct += (predicted == labels).sum().item()\n",
    "    acc = correct / total\n",
    "    print('Accuracy %.2f' % (acc*100))\n",
    "    if acc > 0.9:\n",
    "        condition=False    \n"
   ]
  },
  {
   "cell_type": "code",
   "execution_count": 9,
   "metadata": {},
   "outputs": [
    {
     "name": "stdout",
     "output_type": "stream",
     "text": [
      "tensor([[[[ 0.0293,  0.0235,  0.0423,  ..., -0.0467, -0.0083,  0.0247],\n",
      "          [ 0.0327,  0.0457,  0.0418,  ..., -0.0254,  0.0048,  0.0212],\n",
      "          [ 0.0398,  0.0418,  0.0410,  ..., -0.0304, -0.0096,  0.0189],\n",
      "          ...,\n",
      "          [-0.0494, -0.0459, -0.0448,  ..., -0.0385, -0.0164, -0.0063],\n",
      "          [-0.0450, -0.0447, -0.0401,  ..., -0.0389, -0.0315, -0.0208],\n",
      "          [-0.0454, -0.0428, -0.0394,  ..., -0.0403, -0.0372, -0.0319]],\n",
      "\n",
      "         [[-0.0530, -0.0493, -0.0529,  ...,  0.0217,  0.0037, -0.0310],\n",
      "          [-0.0529, -0.0522, -0.0522,  ...,  0.0221, -0.0129, -0.0316],\n",
      "          [-0.0517, -0.0501, -0.0477,  ...,  0.0124, -0.0066, -0.0349],\n",
      "          ...,\n",
      "          [ 0.0456,  0.0463,  0.0422,  ...,  0.0215, -0.0005, -0.0132],\n",
      "          [ 0.0400,  0.0427,  0.0352,  ...,  0.0268,  0.0223,  0.0075],\n",
      "          [ 0.0384,  0.0400,  0.0314,  ...,  0.0285,  0.0157,  0.0162]],\n",
      "\n",
      "         [[-0.0524,  0.0437,  0.0404,  ...,  0.0181, -0.0228,  0.0052],\n",
      "          [-0.0609,  0.0366,  0.0347,  ...,  0.0005, -0.0193, -0.0291],\n",
      "          [ 0.0232,  0.0237,  0.0307,  ..., -0.0329, -0.0209, -0.0009],\n",
      "          ...,\n",
      "          [ 0.0239,  0.0256,  0.0192,  ...,  0.0082, -0.0190, -0.0487],\n",
      "          [ 0.0117,  0.0150,  0.0120,  ...,  0.0014, -0.0106, -0.0444],\n",
      "          [ 0.0242,  0.0191,  0.0222,  ..., -0.0024, -0.0090, -0.0177]]],\n",
      "\n",
      "\n",
      "        [[[ 0.0509,  0.0532,  0.0541,  ..., -0.0473, -0.0336, -0.0155],\n",
      "          [ 0.0514,  0.0544,  0.0552,  ..., -0.0481, -0.0368, -0.0248],\n",
      "          [ 0.0539,  0.0552,  0.0554,  ..., -0.0489, -0.0425, -0.0383],\n",
      "          ...,\n",
      "          [ 0.0259, -0.0053,  0.0168,  ...,  0.0407,  0.0422,  0.0431],\n",
      "          [-0.0286, -0.0209,  0.0048,  ...,  0.0403,  0.0410,  0.0436],\n",
      "          [-0.0160,  0.0131,  0.0248,  ...,  0.0395,  0.0410,  0.0412]],\n",
      "\n",
      "         [[-0.0601, -0.0582, -0.0597,  ...,  0.0354,  0.0314,  0.0215],\n",
      "          [-0.0604, -0.0584, -0.0583,  ...,  0.0391,  0.0276,  0.0193],\n",
      "          [-0.0586, -0.0570, -0.0570,  ...,  0.0395,  0.0387,  0.0344],\n",
      "          ...,\n",
      "          [-0.0409, -0.0420, -0.0227,  ..., -0.0495, -0.0490, -0.0491],\n",
      "          [ 0.0072, -0.0014, -0.0207,  ..., -0.0485, -0.0475, -0.0481],\n",
      "          [-0.0016, -0.0361, -0.0435,  ..., -0.0490, -0.0486, -0.0477]],\n",
      "\n",
      "         [[ 0.0253,  0.0518,  0.0483,  ..., -0.0295, -0.0118, -0.0031],\n",
      "          [ 0.0172,  0.0491,  0.0488,  ...,  0.0085,  0.0019,  0.0061],\n",
      "          [ 0.0530,  0.0540,  0.0516,  ...,  0.0023,  0.0260,  0.0194],\n",
      "          ...,\n",
      "          [ 0.0510,  0.0292,  0.0469,  ...,  0.0356,  0.0344,  0.0311],\n",
      "          [ 0.0415,  0.0236,  0.0271,  ...,  0.0318,  0.0312,  0.0396],\n",
      "          [ 0.0408,  0.0200,  0.0341,  ...,  0.0387,  0.0396,  0.0399]]],\n",
      "\n",
      "\n",
      "        [[[-0.0480, -0.0525, -0.0380,  ...,  0.0613,  0.0606,  0.0372],\n",
      "          [-0.0488, -0.0447, -0.0315,  ...,  0.0615,  0.0593,  0.0545],\n",
      "          [-0.0438, -0.0413, -0.0278,  ...,  0.0607,  0.0609,  0.0565],\n",
      "          ...,\n",
      "          [ 0.0526,  0.0549,  0.0545,  ...,  0.0401,  0.0408,  0.0404],\n",
      "          [ 0.0560,  0.0557,  0.0518,  ...,  0.0388,  0.0379,  0.0398],\n",
      "          [ 0.0529,  0.0501,  0.0471,  ...,  0.0361,  0.0385,  0.0379]],\n",
      "\n",
      "         [[ 0.0505,  0.0512,  0.0375,  ..., -0.0623, -0.0623, -0.0577],\n",
      "          [ 0.0459,  0.0463,  0.0361,  ..., -0.0623, -0.0617, -0.0512],\n",
      "          [ 0.0459,  0.0428,  0.0221,  ..., -0.0623, -0.0623, -0.0566],\n",
      "          ...,\n",
      "          [-0.0542, -0.0545, -0.0560,  ..., -0.0435, -0.0431, -0.0445],\n",
      "          [-0.0566, -0.0571, -0.0549,  ..., -0.0426, -0.0418, -0.0440],\n",
      "          [-0.0580, -0.0535, -0.0518,  ..., -0.0437, -0.0425, -0.0412]],\n",
      "\n",
      "         [[-0.0160, -0.0115,  0.0109,  ...,  0.0581,  0.0511,  0.0601],\n",
      "          [-0.0260, -0.0279,  0.0160,  ...,  0.0500,  0.0533,  0.0605],\n",
      "          [ 0.0100, -0.0033,  0.0202,  ...,  0.0495,  0.0495,  0.0565],\n",
      "          ...,\n",
      "          [-0.0292,  0.0125, -0.0155,  ..., -0.0226,  0.0016, -0.0103],\n",
      "          [ 0.0185,  0.0428,  0.0435,  ..., -0.0059,  0.0004,  0.0217],\n",
      "          [ 0.0277,  0.0489,  0.0469,  ..., -0.0069,  0.0354,  0.0250]]],\n",
      "\n",
      "\n",
      "        ...,\n",
      "\n",
      "\n",
      "        [[[-0.0500, -0.0208, -0.0532,  ..., -0.0351, -0.0345,  0.0119],\n",
      "          [-0.0504, -0.0545, -0.0522,  ..., -0.0443, -0.0363, -0.0115],\n",
      "          [-0.0546, -0.0530, -0.0491,  ..., -0.0286, -0.0246, -0.0172],\n",
      "          ...,\n",
      "          [ 0.0586,  0.0616,  0.0620,  ..., -0.0477, -0.0535, -0.0566],\n",
      "          [ 0.0623,  0.0623,  0.0600,  ..., -0.0463, -0.0515, -0.0545],\n",
      "          [ 0.0605,  0.0593,  0.0572,  ..., -0.0453, -0.0496, -0.0512]],\n",
      "\n",
      "         [[ 0.0457,  0.0377,  0.0430,  ...,  0.0382,  0.0413,  0.0274],\n",
      "          [ 0.0492,  0.0485,  0.0440,  ...,  0.0368,  0.0287,  0.0281],\n",
      "          [ 0.0495,  0.0425,  0.0420,  ...,  0.0316,  0.0380,  0.0206],\n",
      "          ...,\n",
      "          [-0.0584, -0.0601, -0.0620,  ...,  0.0485,  0.0535,  0.0541],\n",
      "          [-0.0624, -0.0627, -0.0618,  ...,  0.0434,  0.0496,  0.0524],\n",
      "          [-0.0619, -0.0590, -0.0583,  ...,  0.0446,  0.0501,  0.0508]],\n",
      "\n",
      "         [[ 0.0555, -0.0451,  0.0238,  ..., -0.0342,  0.0271, -0.0396],\n",
      "          [ 0.0573,  0.0521,  0.0448,  ...,  0.0164,  0.0197, -0.0126],\n",
      "          [ 0.0286,  0.0423,  0.0327,  ...,  0.0122,  0.0103, -0.0171],\n",
      "          ...,\n",
      "          [-0.0020,  0.0310,  0.0342,  ...,  0.0334,  0.0398,  0.0455],\n",
      "          [ 0.0335,  0.0528,  0.0560,  ...,  0.0072,  0.0276,  0.0259],\n",
      "          [ 0.0413,  0.0523,  0.0510,  ..., -0.0194, -0.0051,  0.0106]]],\n",
      "\n",
      "\n",
      "        [[[-0.0391, -0.0424,  0.0083,  ...,  0.0076, -0.0136, -0.0522],\n",
      "          [-0.0387, -0.0109,  0.0056,  ...,  0.0222, -0.0249, -0.0459],\n",
      "          [-0.0350, -0.0297, -0.0246,  ..., -0.0073, -0.0331, -0.0547],\n",
      "          ...,\n",
      "          [-0.0556, -0.0531, -0.0517,  ...,  0.0545,  0.0539,  0.0496],\n",
      "          [-0.0507, -0.0506, -0.0497,  ...,  0.0509,  0.0500,  0.0422],\n",
      "          [-0.0506, -0.0505, -0.0487,  ...,  0.0422,  0.0483,  0.0406]],\n",
      "\n",
      "         [[ 0.0214,  0.0342,  0.0085,  ..., -0.0373, -0.0057,  0.0382],\n",
      "          [ 0.0271,  0.0289,  0.0288,  ..., -0.0288,  0.0068,  0.0461],\n",
      "          [ 0.0449,  0.0480,  0.0501,  ..., -0.0049,  0.0271,  0.0498],\n",
      "          ...,\n",
      "          [ 0.0554,  0.0550,  0.0510,  ..., -0.0531, -0.0524, -0.0476],\n",
      "          [ 0.0507,  0.0505,  0.0490,  ..., -0.0486, -0.0499, -0.0471],\n",
      "          [ 0.0498,  0.0495,  0.0476,  ..., -0.0409, -0.0466, -0.0360]],\n",
      "\n",
      "         [[-0.0535,  0.0227, -0.0016,  ...,  0.0462, -0.0042,  0.0338],\n",
      "          [-0.0465, -0.0252, -0.0221,  ...,  0.0184,  0.0109,  0.0302],\n",
      "          [-0.0165, -0.0350, -0.0250,  ...,  0.0155,  0.0122,  0.0344],\n",
      "          ...,\n",
      "          [ 0.0359,  0.0404,  0.0356,  ...,  0.0442,  0.0504,  0.0417],\n",
      "          [ 0.0424,  0.0350,  0.0368,  ...,  0.0430,  0.0434,  0.0493],\n",
      "          [ 0.0416,  0.0388,  0.0394,  ...,  0.0205,  0.0425,  0.0240]]],\n",
      "\n",
      "\n",
      "        [[[-0.0627, -0.0627, -0.0627,  ..., -0.0253, -0.0420, -0.0532],\n",
      "          [-0.0627, -0.0627, -0.0627,  ..., -0.0342, -0.0482, -0.0544],\n",
      "          [-0.0627, -0.0627, -0.0627,  ..., -0.0446, -0.0524, -0.0544],\n",
      "          ...,\n",
      "          [ 0.0524,  0.0552,  0.0554,  ...,  0.0594,  0.0562,  0.0570],\n",
      "          [ 0.0519,  0.0539,  0.0536,  ...,  0.0571,  0.0569,  0.0557],\n",
      "          [ 0.0506,  0.0541,  0.0533,  ...,  0.0556,  0.0554,  0.0546]],\n",
      "\n",
      "         [[ 0.0499,  0.0514,  0.0496,  ...,  0.0128,  0.0266,  0.0356],\n",
      "          [ 0.0503,  0.0510,  0.0496,  ...,  0.0251,  0.0355,  0.0426],\n",
      "          [ 0.0497,  0.0511,  0.0495,  ...,  0.0320,  0.0394,  0.0437],\n",
      "          ...,\n",
      "          [-0.0589, -0.0599, -0.0627,  ..., -0.0615, -0.0623, -0.0610],\n",
      "          [-0.0627, -0.0627, -0.0627,  ..., -0.0627, -0.0627, -0.0617],\n",
      "          [-0.0627, -0.0627, -0.0627,  ..., -0.0612, -0.0609, -0.0607]],\n",
      "\n",
      "         [[ 0.0499, -0.0475,  0.0139,  ..., -0.0236, -0.0195,  0.0075],\n",
      "          [ 0.0503,  0.0107,  0.0205,  ..., -0.0058, -0.0010,  0.0330],\n",
      "          [ 0.0401,  0.0114,  0.0103,  ...,  0.0031,  0.0171,  0.0342],\n",
      "          ...,\n",
      "          [-0.0497,  0.0354,  0.0022,  ...,  0.0603,  0.0376,  0.0517],\n",
      "          [-0.0213,  0.0488,  0.0484,  ...,  0.0582,  0.0570,  0.0456],\n",
      "          [-0.0126,  0.0451,  0.0416,  ...,  0.0498,  0.0480,  0.0450]]]])\n"
     ]
    }
   ],
   "source": [
    "# Examine the noise\n",
    "print(noise)"
   ]
  },
  {
   "attachments": {},
   "cell_type": "markdown",
   "metadata": {},
   "source": [
    "<h3>Create Unlearnable class-wise min-min Dataset</h3>"
   ]
  },
  {
   "cell_type": "code",
   "execution_count": 11,
   "metadata": {},
   "outputs": [
    {
     "name": "stdout",
     "output_type": "stream",
     "text": [
      "Files already downloaded and verified\n",
      "Files already downloaded and verified\n"
     ]
    }
   ],
   "source": [
    "import numpy as np\n",
    "\n",
    "# Add standard augmentation\n",
    "train_transform = [\n",
    "    transforms.RandomCrop(32, padding=4),\n",
    "    transforms.RandomHorizontalFlip(),\n",
    "    transforms.ToTensor()\n",
    "]\n",
    "train_transform = transforms.Compose(train_transform)\n",
    "clean_train_dataset = datasets.CIFAR10(root='/data1/mjli/Code/kerdeq/data/', train=True, download=True, transform=train_transform)\n",
    "unlearnable_train_dataset = datasets.CIFAR10(root='/data1/mjli/Code/kerdeq/data/', train=True, download=True, transform=train_transform)\n",
    "\n",
    "##########Add the generated noise to the clean dataset to generate the unlearnable dataset###########\n",
    "##########Point 2, you can refer to such part in samplewise.ipynb\n",
    "\n",
    "\n",
    "perturb_noise = noise.mul(255).clamp_(0, 255).permute(0, 2, 3, 1).to('cpu').numpy()\n",
    "unlearnable_train_dataset.data = unlearnable_train_dataset.data.astype(np.float32)\n",
    "\n",
    "for i in range(len(unlearnable_train_dataset)):\n",
    "    label = unlearnable_train_dataset.targets[i]\n",
    "    unlearnable_train_dataset.data[i] += perturb_noise[label]\n",
    "    unlearnable_train_dataset.data[i] = np.clip(unlearnable_train_dataset.data[i], a_min=0, a_max=255)\n",
    "unlearnable_train_dataset.data = unlearnable_train_dataset.data.astype(np.uint8)\n",
    "\n",
    "\n"
   ]
  },
  {
   "attachments": {},
   "cell_type": "markdown",
   "metadata": {},
   "source": [
    "<h3>Visualize Clean Images, Error-Minimizing Noise, Unlearnable Images</h3>"
   ]
  },
  {
   "cell_type": "code",
   "execution_count": null,
   "metadata": {},
   "outputs": [
    {
     "name": "stderr",
     "output_type": "stream",
     "text": [
      "Clipping input data to the valid range for imshow with RGB data ([0..1] for floats or [0..255] for integers). Got range [0.0..255.0].\n"
     ]
    },
    {
     "data": {
      "image/png": "[encoded data removed]",
      "text/plain": [
       "<Figure size 640x640 with 1 Axes>"
      ]
     },
     "metadata": {},
     "output_type": "display_data"
    }
   ],
   "source": [
    "import random\n",
    "import matplotlib.pyplot as plt\n",
    "import matplotlib\n",
    "%matplotlib inline\n",
    "\n",
    "def imshow(img):\n",
    "    fig = plt.figure(figsize=(8, 8), dpi=80, facecolor='w', edgecolor='k')\n",
    "    npimg = img.numpy()\n",
    "    plt.imshow(np.transpose(npimg, (1, 2, 0)))\n",
    "    plt.show()\n",
    "    \n",
    "def get_pairs_of_imgs(idx):\n",
    "    clean_img = clean_train_dataset.data[idx]\n",
    "    unlearnable_img = unlearnable_train_dataset.data[idx]\n",
    "    clean_img = torchvision.transforms.functional.to_tensor(clean_img)\n",
    "    unlearnable_img = torchvision.transforms.functional.to_tensor(unlearnable_img)\n",
    "\n",
    "    label = clean_train_dataset.targets[idx]\n",
    "    x = noise[label]\n",
    "    x_min = torch.min(x)\n",
    "    x_max = torch.max(x)\n",
    "    noise_norm = (x - x_min) / (x_max - x_min)\n",
    "    noise_norm = torch.clamp(noise_norm, 0, 1)\n",
    "    return [clean_img, noise_norm, unlearnable_img]\n",
    "    \n",
    "selected_idx = [random.randint(0, 50000) for _ in range(3)]\n",
    "img_grid = []\n",
    "for idx in selected_idx:\n",
    "    img_grid += get_pairs_of_imgs(idx)\n",
    "    \n",
    "\n",
    "imshow(torchvision.utils.make_grid(torch.stack(img_grid), nrow=3, pad_value=255))\n",
    "\n"
   ]
  },
  {
   "attachments": {},
   "cell_type": "markdown",
   "metadata": {},
   "source": [
    "<h3>Train ResNet18 on Unlearnable Dataset</h3>"
   ]
  },
  {
   "cell_type": "code",
   "execution_count": 14,
   "metadata": {},
   "outputs": [
    {
     "name": "stderr",
     "output_type": "stream",
     "text": [
      "Acc 53.26 Loss: 1.29: 100%|██████████| 391/391 [00:48<00:00,  8.01it/s]\n"
     ]
    },
    {
     "name": "stdout",
     "output_type": "stream",
     "text": [
      "Clean Accuracy 18.01\n",
      "\n"
     ]
    },
    {
     "name": "stderr",
     "output_type": "stream",
     "text": [
      "Acc 94.50 Loss: 0.17: 100%|██████████| 391/391 [00:45<00:00,  8.66it/s]\n"
     ]
    },
    {
     "name": "stdout",
     "output_type": "stream",
     "text": [
      "Clean Accuracy 13.39\n",
      "\n"
     ]
    },
    {
     "name": "stderr",
     "output_type": "stream",
     "text": [
      "Acc 98.46 Loss: 0.05: 100%|██████████| 391/391 [00:45<00:00,  8.53it/s]\n"
     ]
    },
    {
     "name": "stdout",
     "output_type": "stream",
     "text": [
      "Clean Accuracy 10.94\n",
      "\n"
     ]
    },
    {
     "name": "stderr",
     "output_type": "stream",
     "text": [
      "Acc 98.97 Loss: 0.03: 100%|██████████| 391/391 [00:45<00:00,  8.61it/s]\n"
     ]
    },
    {
     "name": "stdout",
     "output_type": "stream",
     "text": [
      "Clean Accuracy 11.30\n",
      "\n"
     ]
    },
    {
     "name": "stderr",
     "output_type": "stream",
     "text": [
      "Acc 99.25 Loss: 0.02: 100%|██████████| 391/391 [00:46<00:00,  8.49it/s]\n"
     ]
    },
    {
     "name": "stdout",
     "output_type": "stream",
     "text": [
      "Clean Accuracy 9.91\n",
      "\n"
     ]
    },
    {
     "name": "stderr",
     "output_type": "stream",
     "text": [
      "Acc 99.25 Loss: 0.02: 100%|██████████| 391/391 [00:45<00:00,  8.65it/s]\n"
     ]
    },
    {
     "name": "stdout",
     "output_type": "stream",
     "text": [
      "Clean Accuracy 10.01\n",
      "\n"
     ]
    },
    {
     "name": "stderr",
     "output_type": "stream",
     "text": [
      "Acc 99.49 Loss: 0.02: 100%|██████████| 391/391 [00:46<00:00,  8.47it/s]\n"
     ]
    },
    {
     "name": "stdout",
     "output_type": "stream",
     "text": [
      "Clean Accuracy 10.08\n",
      "\n"
     ]
    },
    {
     "name": "stderr",
     "output_type": "stream",
     "text": [
      "Acc 99.42 Loss: 0.02: 100%|██████████| 391/391 [00:46<00:00,  8.35it/s]\n"
     ]
    },
    {
     "name": "stdout",
     "output_type": "stream",
     "text": [
      "Clean Accuracy 10.68\n",
      "\n"
     ]
    },
    {
     "name": "stderr",
     "output_type": "stream",
     "text": [
      "Acc 99.61 Loss: 0.01: 100%|██████████| 391/391 [00:46<00:00,  8.43it/s]\n"
     ]
    },
    {
     "name": "stdout",
     "output_type": "stream",
     "text": [
      "Clean Accuracy 10.38\n",
      "\n"
     ]
    },
    {
     "name": "stderr",
     "output_type": "stream",
     "text": [
      "Acc 99.53 Loss: 0.02: 100%|██████████| 391/391 [00:44<00:00,  8.76it/s]\n"
     ]
    },
    {
     "name": "stdout",
     "output_type": "stream",
     "text": [
      "Clean Accuracy 10.26\n",
      "\n"
     ]
    },
    {
     "name": "stderr",
     "output_type": "stream",
     "text": [
      "Acc 99.59 Loss: 0.01: 100%|██████████| 391/391 [00:42<00:00,  9.12it/s]\n"
     ]
    },
    {
     "name": "stdout",
     "output_type": "stream",
     "text": [
      "Clean Accuracy 10.82\n",
      "\n"
     ]
    },
    {
     "name": "stderr",
     "output_type": "stream",
     "text": [
      "Acc 99.67 Loss: 0.01: 100%|██████████| 391/391 [00:44<00:00,  8.81it/s]\n"
     ]
    },
    {
     "name": "stdout",
     "output_type": "stream",
     "text": [
      "Clean Accuracy 10.03\n",
      "\n"
     ]
    },
    {
     "name": "stderr",
     "output_type": "stream",
     "text": [
      "Acc 99.72 Loss: 0.01: 100%|██████████| 391/391 [00:45<00:00,  8.68it/s]\n"
     ]
    },
    {
     "name": "stdout",
     "output_type": "stream",
     "text": [
      "Clean Accuracy 11.17\n",
      "\n"
     ]
    },
    {
     "name": "stderr",
     "output_type": "stream",
     "text": [
      "Acc 99.68 Loss: 0.01: 100%|██████████| 391/391 [00:44<00:00,  8.71it/s]\n"
     ]
    },
    {
     "name": "stdout",
     "output_type": "stream",
     "text": [
      "Clean Accuracy 10.12\n",
      "\n"
     ]
    },
    {
     "name": "stderr",
     "output_type": "stream",
     "text": [
      "Acc 99.73 Loss: 0.01: 100%|██████████| 391/391 [00:46<00:00,  8.50it/s]\n"
     ]
    },
    {
     "name": "stdout",
     "output_type": "stream",
     "text": [
      "Clean Accuracy 11.67\n",
      "\n"
     ]
    },
    {
     "name": "stderr",
     "output_type": "stream",
     "text": [
      "Acc 99.85 Loss: 0.01: 100%|██████████| 391/391 [00:46<00:00,  8.47it/s]\n"
     ]
    },
    {
     "name": "stdout",
     "output_type": "stream",
     "text": [
      "Clean Accuracy 10.28\n",
      "\n"
     ]
    },
    {
     "name": "stderr",
     "output_type": "stream",
     "text": [
      "Acc 99.93 Loss: 0.00: 100%|██████████| 391/391 [00:46<00:00,  8.46it/s]\n"
     ]
    },
    {
     "name": "stdout",
     "output_type": "stream",
     "text": [
      "Clean Accuracy 10.45\n",
      "\n"
     ]
    },
    {
     "name": "stderr",
     "output_type": "stream",
     "text": [
      "Acc 99.88 Loss: 0.01: 100%|██████████| 391/391 [00:45<00:00,  8.54it/s]\n"
     ]
    },
    {
     "name": "stdout",
     "output_type": "stream",
     "text": [
      "Clean Accuracy 10.74\n",
      "\n"
     ]
    },
    {
     "name": "stderr",
     "output_type": "stream",
     "text": [
      "Acc 99.85 Loss: 0.01: 100%|██████████| 391/391 [00:45<00:00,  8.68it/s]\n"
     ]
    },
    {
     "name": "stdout",
     "output_type": "stream",
     "text": [
      "Clean Accuracy 9.85\n",
      "\n"
     ]
    },
    {
     "name": "stderr",
     "output_type": "stream",
     "text": [
      "Acc 99.88 Loss: 0.01: 100%|██████████| 391/391 [00:45<00:00,  8.55it/s]\n"
     ]
    },
    {
     "name": "stdout",
     "output_type": "stream",
     "text": [
      "Clean Accuracy 10.10\n",
      "\n"
     ]
    },
    {
     "name": "stderr",
     "output_type": "stream",
     "text": [
      "Acc 99.94 Loss: 0.00: 100%|██████████| 391/391 [00:45<00:00,  8.59it/s]\n"
     ]
    },
    {
     "name": "stdout",
     "output_type": "stream",
     "text": [
      "Clean Accuracy 10.41\n",
      "\n"
     ]
    },
    {
     "name": "stderr",
     "output_type": "stream",
     "text": [
      "Acc 99.96 Loss: 0.00: 100%|██████████| 391/391 [00:45<00:00,  8.59it/s]\n"
     ]
    },
    {
     "name": "stdout",
     "output_type": "stream",
     "text": [
      "Clean Accuracy 10.16\n",
      "\n"
     ]
    },
    {
     "name": "stderr",
     "output_type": "stream",
     "text": [
      "Acc 99.98 Loss: 0.00: 100%|██████████| 391/391 [00:44<00:00,  8.82it/s]\n"
     ]
    },
    {
     "name": "stdout",
     "output_type": "stream",
     "text": [
      "Clean Accuracy 9.76\n",
      "\n"
     ]
    },
    {
     "name": "stderr",
     "output_type": "stream",
     "text": [
      "Acc 99.99 Loss: 0.00: 100%|██████████| 391/391 [00:45<00:00,  8.62it/s]\n"
     ]
    },
    {
     "name": "stdout",
     "output_type": "stream",
     "text": [
      "Clean Accuracy 10.09\n",
      "\n"
     ]
    },
    {
     "name": "stderr",
     "output_type": "stream",
     "text": [
      "Acc 99.99 Loss: 0.00: 100%|██████████| 391/391 [00:45<00:00,  8.51it/s]\n"
     ]
    },
    {
     "name": "stdout",
     "output_type": "stream",
     "text": [
      "Clean Accuracy 9.95\n",
      "\n"
     ]
    },
    {
     "name": "stderr",
     "output_type": "stream",
     "text": [
      "Acc 100.00 Loss: 0.00: 100%|██████████| 391/391 [00:45<00:00,  8.55it/s]\n"
     ]
    },
    {
     "name": "stdout",
     "output_type": "stream",
     "text": [
      "Clean Accuracy 10.19\n",
      "\n"
     ]
    },
    {
     "name": "stderr",
     "output_type": "stream",
     "text": [
      "Acc 99.99 Loss: 0.00: 100%|██████████| 391/391 [00:44<00:00,  8.70it/s] \n"
     ]
    },
    {
     "name": "stdout",
     "output_type": "stream",
     "text": [
      "Clean Accuracy 10.14\n",
      "\n"
     ]
    },
    {
     "name": "stderr",
     "output_type": "stream",
     "text": [
      "Acc 100.00 Loss: 0.00: 100%|██████████| 391/391 [00:45<00:00,  8.62it/s]\n"
     ]
    },
    {
     "name": "stdout",
     "output_type": "stream",
     "text": [
      "Clean Accuracy 10.08\n",
      "\n"
     ]
    },
    {
     "name": "stderr",
     "output_type": "stream",
     "text": [
      "Acc 100.00 Loss: 0.00: 100%|██████████| 391/391 [00:44<00:00,  8.83it/s]\n"
     ]
    },
    {
     "name": "stdout",
     "output_type": "stream",
     "text": [
      "Clean Accuracy 10.06\n",
      "\n"
     ]
    },
    {
     "name": "stderr",
     "output_type": "stream",
     "text": [
      "Acc 100.00 Loss: 0.00: 100%|██████████| 391/391 [00:44<00:00,  8.71it/s]\n"
     ]
    },
    {
     "name": "stdout",
     "output_type": "stream",
     "text": [
      "Clean Accuracy 9.93\n",
      "\n"
     ]
    }
   ],
   "source": [
    "from util import AverageMeter\n",
    "\n",
    "model = ResNet18()\n",
    "model = model.cuda()\n",
    "criterion = torch.nn.CrossEntropyLoss()\n",
    "optimizer = torch.optim.SGD(params=model.parameters(), lr=0.1, weight_decay=0.0005, momentum=0.9)\n",
    "scheduler = torch.optim.lr_scheduler.CosineAnnealingLR(optimizer, T_max=30, eta_min=0)\n",
    "\n",
    "unlearnable_loader = DataLoader(dataset=unlearnable_train_dataset, batch_size=128,\n",
    "                                shuffle=True, pin_memory=True,\n",
    "                                drop_last=False)\n",
    "\n",
    "\n",
    "for epoch in range(30):\n",
    "    # Train\n",
    "    model.train()\n",
    "    acc_meter = AverageMeter()\n",
    "    loss_meter = AverageMeter()\n",
    "    pbar = tqdm(unlearnable_loader, total=len(unlearnable_loader))\n",
    "    for images, labels in pbar:\n",
    "        images, labels = images.cuda(), labels.cuda()\n",
    "        model.zero_grad()\n",
    "        optimizer.zero_grad()\n",
    "        logits = model(images)\n",
    "        loss = criterion(logits, labels)\n",
    "        loss.backward()\n",
    "        torch.nn.utils.clip_grad_norm_(model.parameters(), 5.0)\n",
    "        optimizer.step()\n",
    "        \n",
    "        _, predicted = torch.max(logits.data, 1)\n",
    "        acc = (predicted == labels).sum().item()/labels.size(0)\n",
    "        acc_meter.update(acc)\n",
    "        loss_meter.update(loss.item())\n",
    "        pbar.set_description(\"Acc %.2f Loss: %.2f\" % (acc_meter.avg*100, loss_meter.avg))\n",
    "    scheduler.step()\n",
    "    # Eval\n",
    "    model.eval()\n",
    "    correct, total = 0, 0\n",
    "    for i, (images, labels) in enumerate(clean_test_loader):\n",
    "        images, labels = images.cuda(), labels.cuda()\n",
    "        with torch.no_grad():\n",
    "            logits = model(images)\n",
    "            _, predicted = torch.max(logits.data, 1)\n",
    "            total += labels.size(0)\n",
    "            correct += (predicted == labels).sum().item()\n",
    "    acc = correct / total\n",
    "    tqdm.write('Clean Accuracy %.2f\\n' % (acc*100))\n",
    "            "
   ]
  },
  {
   "cell_type": "code",
   "execution_count": null,
   "metadata": {},
   "outputs": [],
   "source": []
  },
  {
   "cell_type": "code",
   "execution_count": null,
   "metadata": {},
   "outputs": [],
   "source": []
  }
 ],
 "metadata": {
  "kernelspec": {
   "display_name": "Python 3",
   "language": "python",
   "name": "python3"
  },
  "language_info": {
   "codemirror_mode": {
    "name": "ipython",
    "version": 3
   },
   "file_extension": ".py",
   "mimetype": "text/x-python",
   "name": "python",
   "nbconvert_exporter": "python",
   "pygments_lexer": "ipython3",
   "version": "3.10.11"
  }
 },
 "nbformat": 4,
 "nbformat_minor": 4
}
