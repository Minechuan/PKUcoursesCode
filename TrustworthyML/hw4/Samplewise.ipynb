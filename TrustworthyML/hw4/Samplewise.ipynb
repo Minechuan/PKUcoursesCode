{
 "cells": [
  {
   "attachments": {},
   "cell_type": "markdown",
   "metadata": {},
   "source": [
    "<h2>Quick Start: Creating Sample-wise Unlearnable Examples</h2>"
   ]
  },
  {
   "attachments": {},
   "cell_type": "markdown",
   "metadata": {},
   "source": [
    "<h3>Prepare Data</h3>"
   ]
  },
  {
   "cell_type": "code",
   "execution_count": 1,
   "metadata": {},
   "outputs": [
    {
     "name": "stdout",
     "output_type": "stream",
     "text": [
      "Files already downloaded and verified\n",
      "Files already downloaded and verified\n"
     ]
    }
   ],
   "source": [
    "import torch\n",
    "import torchvision\n",
    "from torch.utils.data import DataLoader\n",
    "from torchvision import datasets, transforms\n",
    "\n",
    "# Prepare Dataset\n",
    "train_transform = [\n",
    "    transforms.ToTensor()\n",
    "]\n",
    "test_transform = [\n",
    "    transforms.ToTensor()\n",
    "]\n",
    "train_transform = transforms.Compose(train_transform)\n",
    "test_transform = transforms.Compose(test_transform)\n",
    "\n",
    "clean_train_dataset = datasets.CIFAR10(root='/data1/mjli/Code/kerdeq/data/', train=True, download=True, transform=train_transform)\n",
    "clean_test_dataset = datasets.CIFAR10(root='/data1/mjli/Code/kerdeq/data/', train=False, download=True, transform=test_transform)\n",
    "\n",
    "### No shuffle, easy to perturb image\n",
    "clean_train_loader = DataLoader(dataset=clean_train_dataset, batch_size=512,\n",
    "                                shuffle=False, pin_memory=True,\n",
    "                                drop_last=False)\n",
    "clean_test_loader = DataLoader(dataset=clean_test_dataset, batch_size=512,\n",
    "                                shuffle=False, pin_memory=True,\n",
    "                                drop_last=False)"
   ]
  },
  {
   "attachments": {},
   "cell_type": "markdown",
   "metadata": {},
   "source": [
    "<h3>Prepare Model</h3>"
   ]
  },
  {
   "cell_type": "code",
   "execution_count": 2,
   "metadata": {},
   "outputs": [
    {
     "name": "stderr",
     "output_type": "stream",
     "text": [
      "c:\\Users\\admin\\anaconda3\\envs\\torch2.4_cuda12.1\\lib\\site-packages\\tqdm\\auto.py:21: TqdmWarning: IProgress not found. Please update jupyter and ipywidgets. See https://ipywidgets.readthedocs.io/en/stable/user_install.html\n",
      "  from .autonotebook import tqdm as notebook_tqdm\n"
     ]
    }
   ],
   "source": [
    "from models.ResNet import ResNet18\n",
    "import toolbox\n",
    "\n",
    "torch.backends.cudnn.enabled = True\n",
    "torch.backends.cudnn.benchmark = True\n",
    "\n",
    "base_model = ResNet18()\n",
    "base_model = base_model.cuda()\n",
    "criterion = torch.nn.CrossEntropyLoss()\n",
    "optimizer = torch.optim.SGD(params=base_model.parameters(), lr=0.1, weight_decay=0.0005, momentum=0.9)\n"
   ]
  },
  {
   "attachments": {},
   "cell_type": "markdown",
   "metadata": {},
   "source": [
    "<h3>Prepare Perturbation Generator Tool</h3>"
   ]
  },
  {
   "cell_type": "code",
   "execution_count": 3,
   "metadata": {},
   "outputs": [
    {
     "name": "stdout",
     "output_type": "stream",
     "text": [
      "My device is:  cuda\n"
     ]
    }
   ],
   "source": [
    "import numpy as np\n",
    "from torch.autograd import Variable\n",
    "\n",
    "if torch.cuda.is_available():\n",
    "    device = torch.device('cuda')\n",
    "else:\n",
    "    device = torch.device('cpu')\n",
    "\n",
    "print(\"My device is: \", device)\n",
    "\n",
    "class PerturbationTool():\n",
    "    def __init__(self, seed=0, epsilon=0.03137254901, num_steps=20, step_size=0.00784313725):\n",
    "        self.epsilon = epsilon\n",
    "        self.num_steps = num_steps\n",
    "        self.step_size = step_size\n",
    "        self.seed = seed\n",
    "        np.random.seed(seed)\n",
    "\n",
    "    def random_noise(self, noise_shape=[10, 3, 32, 32]):\n",
    "        random_noise = torch.FloatTensor(*noise_shape).uniform_(-self.epsilon, self.epsilon).to(device)\n",
    "        return random_noise\n",
    "\n",
    "    def min_min_attack(self, images, labels, model, optimizer, criterion, random_noise=None, sample_wise=False):\n",
    "        if random_noise is None:\n",
    "            random_noise = torch.FloatTensor(*images.shape).uniform_(-self.epsilon, self.epsilon).to(device)\n",
    "\n",
    "        perturb_img = Variable(images.data + random_noise, requires_grad=True)\n",
    "        perturb_img = Variable(torch.clamp(perturb_img, 0, 1), requires_grad=True)\n",
    "        eta = random_noise\n",
    "        for _ in range(self.num_steps):\n",
    "            opt = torch.optim.SGD([perturb_img], lr=1e-3)\n",
    "            opt.zero_grad()\n",
    "            model.zero_grad()\n",
    "            if isinstance(criterion, torch.nn.CrossEntropyLoss):\n",
    "                if hasattr(model, 'classify'):\n",
    "                    model.classify = True\n",
    "                logits = model(perturb_img)\n",
    "                loss = criterion(logits, labels)\n",
    "            else:\n",
    "                logits, loss = criterion(model, perturb_img, labels, optimizer)\n",
    "            perturb_img.retain_grad()\n",
    "            loss.backward()\n",
    "            eta = self.step_size * perturb_img.grad.data.sign() * (-1)\n",
    "            perturb_img = Variable(perturb_img.data + eta, requires_grad=True)\n",
    "            eta = torch.clamp(perturb_img.data - images.data, -self.epsilon, self.epsilon)\n",
    "            perturb_img = Variable(images.data + eta, requires_grad=True)\n",
    "            perturb_img = Variable(torch.clamp(perturb_img, 0, 1), requires_grad=True)\n",
    "\n",
    "        return perturb_img, eta\n",
    "\n",
    "    \n",
    "noise_generator = PerturbationTool(epsilon=16/255, num_steps=10, step_size=4/255)\n",
    "\n",
    "\n",
    "### Test noise_generator\n",
    "images= torch.randn([1,3,32,32]).cuda()\n",
    "labels= torch.ones([1]).long().cuda()\n",
    "\n",
    "# noise_generator.min_min_attack(images, labels, base_model, optimizer, criterion, \n",
    "#                                                           random_noise=torch.zeros_like(images).cuda())\n"
   ]
  },
  {
   "attachments": {},
   "cell_type": "markdown",
   "metadata": {},
   "source": [
    "<h3>Generate Error-Minimizing Noise</h3>"
   ]
  },
  {
   "cell_type": "code",
   "execution_count": 4,
   "metadata": {},
   "outputs": [
    {
     "name": "stderr",
     "output_type": "stream",
     "text": [
      "100%|██████████| 98/98 [01:23<00:00,  1.17it/s]\n"
     ]
    },
    {
     "name": "stdout",
     "output_type": "stream",
     "text": [
      "Accuracy 10.00\n"
     ]
    },
    {
     "name": "stderr",
     "output_type": "stream",
     "text": [
      "100%|██████████| 98/98 [01:25<00:00,  1.15it/s]\n"
     ]
    },
    {
     "name": "stdout",
     "output_type": "stream",
     "text": [
      "Accuracy 10.06\n"
     ]
    },
    {
     "name": "stderr",
     "output_type": "stream",
     "text": [
      "100%|██████████| 98/98 [01:25<00:00,  1.14it/s]\n"
     ]
    },
    {
     "name": "stdout",
     "output_type": "stream",
     "text": [
      "Accuracy 41.45\n"
     ]
    },
    {
     "name": "stderr",
     "output_type": "stream",
     "text": [
      "100%|██████████| 98/98 [01:25<00:00,  1.14it/s]\n"
     ]
    },
    {
     "name": "stdout",
     "output_type": "stream",
     "text": [
      "Accuracy 66.66\n"
     ]
    },
    {
     "name": "stderr",
     "output_type": "stream",
     "text": [
      "100%|██████████| 98/98 [01:25<00:00,  1.14it/s]\n"
     ]
    },
    {
     "name": "stdout",
     "output_type": "stream",
     "text": [
      "Accuracy 66.96\n"
     ]
    },
    {
     "name": "stderr",
     "output_type": "stream",
     "text": [
      "100%|██████████| 98/98 [01:25<00:00,  1.15it/s]\n"
     ]
    },
    {
     "name": "stdout",
     "output_type": "stream",
     "text": [
      "Accuracy 77.81\n"
     ]
    },
    {
     "name": "stderr",
     "output_type": "stream",
     "text": [
      "100%|██████████| 98/98 [01:25<00:00,  1.15it/s]\n"
     ]
    },
    {
     "name": "stdout",
     "output_type": "stream",
     "text": [
      "Accuracy 79.48\n"
     ]
    },
    {
     "name": "stderr",
     "output_type": "stream",
     "text": [
      "100%|██████████| 98/98 [01:24<00:00,  1.16it/s]\n"
     ]
    },
    {
     "name": "stdout",
     "output_type": "stream",
     "text": [
      "Accuracy 96.95\n"
     ]
    },
    {
     "name": "stderr",
     "output_type": "stream",
     "text": [
      "100%|██████████| 98/98 [01:25<00:00,  1.15it/s]\n"
     ]
    },
    {
     "name": "stdout",
     "output_type": "stream",
     "text": [
      "Accuracy 98.96\n"
     ]
    },
    {
     "name": "stderr",
     "output_type": "stream",
     "text": [
      "100%|██████████| 98/98 [01:24<00:00,  1.15it/s]\n"
     ]
    },
    {
     "name": "stdout",
     "output_type": "stream",
     "text": [
      "Accuracy 99.46\n"
     ]
    }
   ],
   "source": [
    "from tqdm import tqdm\n",
    "\n",
    "noise = torch.zeros([50000, 3, 32, 32])\n",
    "data_iter = iter(clean_train_loader)\n",
    "condition = True\n",
    "train_idx = 0\n",
    "\n",
    "while condition:\n",
    "    #########Try to write the sample-wise min-min noise generator ########\n",
    "    #####1.optimize theta for M steps\n",
    "    #####2. generate min-min noise for each training images and update noise\n",
    "    #####3. If acc>0.99 break, else loop\n",
    "    #####4. Please refer to class-wise min-min noise generator\n",
    "    ##### Point 6 \n",
    "    base_model.train()\n",
    "    for param in base_model.parameters():\n",
    "        param.requires_grad = True\n",
    "    for j in range(0, 10): # 10 steps\n",
    "        try:\n",
    "            (images, labels) = next(data_iter)\n",
    "        except:\n",
    "            train_idx = 0\n",
    "            data_iter = iter(clean_train_loader)\n",
    "            (images, labels) = next(data_iter)\n",
    "        for i, (image, label) in enumerate(zip(images, labels)):\n",
    "            # Update noise to images\n",
    "            images[i] += noise[train_idx]\n",
    "            train_idx += 1\n",
    "        images, labels = images.cuda(), labels.cuda()\n",
    "        base_model.zero_grad()\n",
    "        optimizer.zero_grad()\n",
    "        logits = base_model(images)\n",
    "        loss = criterion(logits, labels)\n",
    "        loss.backward()\n",
    "        optimizer.step()\n",
    "\n",
    "    # Perturbation over entire dataset\n",
    "    idx = 0\n",
    "    for param in base_model.parameters():\n",
    "        param.requires_grad = False\n",
    "    for i, (images, labels) in tqdm(enumerate(clean_train_loader), total=len(clean_train_loader)):\n",
    "        # 针对一个 batch 处理\n",
    "        batch_start_idx, batch_noise = idx, []\n",
    "        for i, _ in enumerate(images):\n",
    "            batch_noise.append(noise[idx]) \n",
    "            idx += 1\n",
    "        batch_noise = torch.stack(batch_noise).cuda()\n",
    "        \n",
    "        # Update class-wise perturbation\n",
    "        base_model.eval()\n",
    "        images, labels = images.cuda(), labels.cuda()\n",
    "        perturb_img, eta = noise_generator.min_min_attack(images, labels, base_model, optimizer, criterion, \n",
    "                                                          random_noise=batch_noise)    \n",
    "        # Update noise\n",
    "        for j,delta in enumerate(eta):\n",
    "            noise[batch_start_idx+j] = delta.clone().detach().cpu()\n",
    "\n",
    "    eval_idx, total, correct = 0, 0, 0\n",
    "    for i, (images, labels) in enumerate(clean_train_loader):\n",
    "        for i, _ in enumerate(images):\n",
    "            # Update noise to images\n",
    "            images[i] += noise[eval_idx]\n",
    "            eval_idx += 1\n",
    "        images, labels = images.cuda(), labels.cuda()\n",
    "        with torch.no_grad():\n",
    "            logits = base_model(images)\n",
    "            _, predicted = torch.max(logits.data, 1)\n",
    "            total += labels.size(0)\n",
    "            correct += (predicted == labels).sum().item()\n",
    "    acc = correct / total\n",
    "    print('Accuracy %.2f' % (acc*100))\n",
    "    if acc > 0.99:\n",
    "        condition=False    \n"
   ]
  },
  {
   "cell_type": "code",
   "execution_count": 5,
   "metadata": {},
   "outputs": [
    {
     "name": "stdout",
     "output_type": "stream",
     "text": [
      "tensor([[[[ 6.2745e-02,  6.2745e-02, -3.1373e-02,  ..., -6.2745e-02,\n",
      "           -6.2745e-02, -6.2745e-02],\n",
      "          [-3.1373e-02,  6.2745e-02,  6.2745e-02,  ..., -6.2745e-02,\n",
      "            6.2745e-02, -6.2745e-02],\n",
      "          [ 6.2745e-02,  6.2745e-02,  6.2745e-02,  ..., -6.2745e-02,\n",
      "            6.2745e-02, -4.7059e-02],\n",
      "          ...,\n",
      "          [ 3.1373e-02,  3.1373e-02,  6.2745e-02,  ..., -3.1373e-02,\n",
      "           -3.1373e-02, -6.2745e-02],\n",
      "          [ 3.1373e-02,  3.1373e-02,  6.2745e-02,  ...,  6.2745e-02,\n",
      "            6.2745e-02, -6.2745e-02],\n",
      "          [ 3.1373e-02,  3.1373e-02,  3.1373e-02,  ..., -6.2745e-02,\n",
      "           -3.1373e-02, -3.1373e-02]],\n",
      "\n",
      "         [[ 6.2745e-02, -6.2745e-02,  3.1373e-02,  ...,  6.2745e-02,\n",
      "           -6.2745e-02,  6.2745e-02],\n",
      "          [ 6.2745e-02,  3.1373e-02,  6.2745e-02,  ...,  6.2745e-02,\n",
      "            6.2745e-02,  6.2745e-02],\n",
      "          [ 3.1373e-02,  4.7059e-02,  3.1373e-02,  ...,  6.2745e-02,\n",
      "            3.1373e-02,  4.7059e-02],\n",
      "          ...,\n",
      "          [-6.2745e-02,  3.1373e-02,  3.1373e-02,  ...,  3.1373e-02,\n",
      "            3.1373e-02,  6.2745e-02],\n",
      "          [ 3.1373e-02,  3.1373e-02,  0.0000e+00,  ...,  6.2745e-02,\n",
      "            3.1373e-02,  6.2745e-02],\n",
      "          [ 3.1373e-02,  3.1373e-02,  0.0000e+00,  ...,  6.2745e-02,\n",
      "           -6.2745e-02,  6.2745e-02]],\n",
      "\n",
      "         [[-3.1373e-02, -6.2745e-02, -6.2745e-02,  ..., -3.1373e-02,\n",
      "           -6.2745e-02,  6.2745e-02],\n",
      "          [-1.5686e-02,  3.1373e-02, -1.5686e-02,  ..., -6.2745e-02,\n",
      "           -6.2745e-02, -6.2745e-02],\n",
      "          [-6.2745e-02,  4.7059e-02, -4.7059e-02,  ..., -3.1373e-02,\n",
      "           -6.2745e-02,  6.2745e-02],\n",
      "          ...,\n",
      "          [ 6.2745e-02,  6.2745e-02,  6.2745e-02,  ..., -3.1373e-02,\n",
      "            3.9216e-03, -6.2745e-02],\n",
      "          [ 6.2745e-02,  6.2745e-02,  6.2745e-02,  ..., -3.1373e-02,\n",
      "           -6.2745e-02, -3.1373e-02],\n",
      "          [-3.1373e-02,  1.5686e-02,  6.2745e-02,  ...,  1.5686e-02,\n",
      "           -6.2745e-02, -6.2745e-02]]],\n",
      "\n",
      "\n",
      "        [[[-4.7059e-02,  6.2745e-02,  6.2745e-02,  ...,  6.2745e-02,\n",
      "            6.2745e-02,  6.2745e-02],\n",
      "          [-6.2745e-02,  6.2745e-02,  2.9802e-08,  ...,  6.2745e-02,\n",
      "            6.2745e-02,  6.2745e-02],\n",
      "          [-6.2745e-02, -6.2745e-02, -6.2745e-02,  ...,  3.1373e-02,\n",
      "            3.1373e-02, -3.1373e-02],\n",
      "          ...,\n",
      "          [-6.2745e-02, -3.1373e-02, -4.7059e-02,  ...,  6.2745e-02,\n",
      "            4.7059e-02, -6.2745e-02],\n",
      "          [-4.7059e-02,  3.1373e-02, -4.7059e-02,  ...,  6.2745e-02,\n",
      "            6.2745e-02, -6.2745e-02],\n",
      "          [ 6.2745e-02,  6.2745e-02,  6.2745e-02,  ..., -6.2745e-02,\n",
      "            0.0000e+00,  6.2745e-02]],\n",
      "\n",
      "         [[-3.1373e-02, -6.2745e-02, -6.2745e-02,  ..., -6.2745e-02,\n",
      "           -6.2745e-02,  4.7059e-02],\n",
      "          [-6.2745e-02, -6.2745e-02, -6.2745e-02,  ..., -6.2745e-02,\n",
      "           -6.2745e-02, -3.1373e-02],\n",
      "          [-6.2745e-02, -6.2745e-02, -6.2745e-02,  ..., -6.2745e-02,\n",
      "           -6.2745e-02, -3.1373e-02],\n",
      "          ...,\n",
      "          [ 3.1373e-02,  3.1373e-02,  4.7059e-02,  ...,  4.7059e-02,\n",
      "            6.2745e-02,  6.2745e-02],\n",
      "          [ 6.2745e-02,  4.7059e-02,  6.2745e-02,  ...,  6.2745e-02,\n",
      "            6.2745e-02,  6.2745e-02],\n",
      "          [ 6.2745e-02,  6.2745e-02,  6.2745e-02,  ...,  6.2745e-02,\n",
      "            4.7059e-02,  6.2745e-02]],\n",
      "\n",
      "         [[ 6.2745e-02, -4.7059e-02,  6.2745e-02,  ...,  4.7059e-02,\n",
      "            6.2745e-02,  6.2745e-02],\n",
      "          [ 6.2745e-02,  6.2745e-02,  6.2745e-02,  ...,  6.2745e-02,\n",
      "            6.2745e-02,  6.2745e-02],\n",
      "          [ 6.2745e-02,  6.2745e-02,  6.2745e-02,  ...,  6.2745e-02,\n",
      "            6.2745e-02,  4.7059e-02],\n",
      "          ...,\n",
      "          [-3.1373e-02, -4.7059e-02, -6.2745e-02,  ..., -4.7059e-02,\n",
      "           -6.2745e-02, -6.2745e-02],\n",
      "          [-6.2745e-02, -6.2745e-02, -6.2745e-02,  ..., -6.2745e-02,\n",
      "           -6.2745e-02, -6.2745e-02],\n",
      "          [-6.2745e-02, -6.2745e-02, -6.2745e-02,  ..., -6.2745e-02,\n",
      "           -6.2745e-02, -6.2745e-02]]],\n",
      "\n",
      "\n",
      "        [[[ 1.5686e-02, -3.1373e-02, -6.2745e-02,  ..., -6.2745e-02,\n",
      "           -6.2745e-02, -6.2745e-02],\n",
      "          [-4.7059e-02, -6.2745e-02, -6.2745e-02,  ..., -6.2745e-02,\n",
      "           -6.2745e-02, -6.2745e-02],\n",
      "          [-6.2745e-02, -6.2745e-02, -6.2745e-02,  ..., -6.2745e-02,\n",
      "           -6.2745e-02, -6.2745e-02],\n",
      "          ...,\n",
      "          [-4.7059e-02, -4.7059e-02, -6.2745e-02,  ...,  4.7059e-02,\n",
      "           -4.7059e-02,  3.1373e-02],\n",
      "          [ 6.2745e-02,  6.2745e-02,  6.2745e-02,  ...,  6.2745e-02,\n",
      "            4.7059e-02,  6.2745e-02],\n",
      "          [-1.5686e-02,  4.7059e-02,  4.7059e-02,  ...,  6.2745e-02,\n",
      "            1.5686e-02,  6.2745e-02]],\n",
      "\n",
      "         [[-3.1373e-02, -2.3529e-02,  7.8431e-03,  ...,  2.3529e-02,\n",
      "            2.3529e-02, -5.4902e-02],\n",
      "          [-6.2745e-02, -3.1373e-02,  0.0000e+00,  ...,  1.5686e-02,\n",
      "            1.5686e-02,  1.5686e-02],\n",
      "          [ 0.0000e+00,  1.9608e-02,  1.9608e-02,  ...,  1.9608e-02,\n",
      "            1.9608e-02,  1.9608e-02],\n",
      "          ...,\n",
      "          [ 4.7059e-02,  3.1373e-02,  6.2745e-02,  ...,  3.1373e-02,\n",
      "           -1.5686e-02,  4.7059e-02],\n",
      "          [ 4.7059e-02, -6.2745e-02,  6.2745e-02,  ..., -4.7059e-02,\n",
      "            1.5686e-02,  0.0000e+00],\n",
      "          [ 4.7059e-02,  4.7059e-02,  6.2745e-02,  ..., -6.2745e-02,\n",
      "           -1.5686e-02,  0.0000e+00]],\n",
      "\n",
      "         [[-3.1373e-02, -2.3529e-02, -6.2745e-02,  ...,  2.3529e-02,\n",
      "           -2.3529e-02, -4.7059e-02],\n",
      "          [-1.5686e-02, -3.1373e-02, -6.2745e-02,  ..., -6.2745e-02,\n",
      "           -3.1373e-02, -3.1373e-02],\n",
      "          [-6.2745e-02, -6.2745e-02, -6.2745e-02,  ..., -6.2745e-02,\n",
      "           -4.7059e-02, -2.7451e-02],\n",
      "          ...,\n",
      "          [-4.7059e-02, -4.7059e-02, -4.7059e-02,  ..., -3.1373e-02,\n",
      "           -4.7059e-02, -3.1373e-02],\n",
      "          [-4.7059e-02, -3.1373e-02, -4.7059e-02,  ..., -4.7059e-02,\n",
      "           -4.7059e-02,  3.1373e-02],\n",
      "          [-6.2745e-02,  1.5686e-02, -4.7059e-02,  ..., -1.5686e-02,\n",
      "           -4.7059e-02,  0.0000e+00]]],\n",
      "\n",
      "\n",
      "        ...,\n",
      "\n",
      "\n",
      "        [[[ 6.2745e-02,  4.7059e-02,  6.2745e-02,  ..., -4.7059e-02,\n",
      "            3.1373e-02,  1.5686e-02],\n",
      "          [ 3.1373e-02,  6.2745e-02,  6.2745e-02,  ..., -4.7059e-02,\n",
      "           -3.1373e-02,  6.2745e-02],\n",
      "          [ 6.2745e-02,  6.2745e-02,  6.2745e-02,  ..., -3.1373e-02,\n",
      "           -3.1373e-02,  6.2745e-02],\n",
      "          ...,\n",
      "          [-6.2745e-02, -1.5686e-02, -1.5686e-02,  ...,  6.2745e-02,\n",
      "           -7.4506e-09,  0.0000e+00],\n",
      "          [ 6.2745e-02,  6.2745e-02,  6.2745e-02,  ..., -1.5686e-02,\n",
      "            1.5686e-02,  4.7059e-02],\n",
      "          [ 1.5686e-02,  3.1373e-02,  4.7059e-02,  ...,  3.1373e-02,\n",
      "            6.2745e-02,  4.7059e-02]],\n",
      "\n",
      "         [[ 4.7059e-02,  3.1373e-02,  3.1373e-02,  ...,  4.7059e-02,\n",
      "            4.7059e-02, -3.1373e-02],\n",
      "          [-6.2745e-02,  3.1373e-02,  6.2745e-02,  ...,  4.7059e-02,\n",
      "           -1.5686e-02,  1.5686e-02],\n",
      "          [-6.2745e-02,  0.0000e+00, -6.2745e-02,  ...,  6.2745e-02,\n",
      "            4.7059e-02, -6.2745e-02],\n",
      "          ...,\n",
      "          [ 3.1373e-02,  4.7059e-02,  3.1373e-02,  ...,  3.1373e-02,\n",
      "            6.2745e-02,  6.2745e-02],\n",
      "          [ 4.7059e-02, -3.1373e-02,  4.7059e-02,  ...,  4.7059e-02,\n",
      "            6.2745e-02, -7.4506e-09],\n",
      "          [-1.4901e-08,  3.1373e-02,  0.0000e+00,  ...,  3.1373e-02,\n",
      "            1.5686e-02,  6.2745e-02]],\n",
      "\n",
      "         [[-3.1373e-02,  3.1373e-02, -6.2745e-02,  ...,  4.7059e-02,\n",
      "           -6.2745e-02, -3.1373e-02],\n",
      "          [ 0.0000e+00, -3.1373e-02, -6.2745e-02,  ..., -1.5686e-02,\n",
      "            6.2745e-02,  4.7059e-02],\n",
      "          [-1.5686e-02,  2.7451e-02, -6.2745e-02,  ..., -1.5686e-02,\n",
      "           -1.5686e-02, -1.5686e-02],\n",
      "          ...,\n",
      "          [-3.1373e-02,  1.5686e-02, -3.1373e-02,  ..., -1.5686e-02,\n",
      "           -6.2745e-02, -6.2745e-02],\n",
      "          [-3.1373e-02, -3.1373e-02, -3.1373e-02,  ..., -3.1373e-02,\n",
      "           -6.2745e-02, -6.2745e-02],\n",
      "          [-3.1373e-02, -3.1373e-02, -3.1373e-02,  ..., -6.2745e-02,\n",
      "           -6.2745e-02,  1.5686e-02]]],\n",
      "\n",
      "\n",
      "        [[[-6.2745e-02, -4.7059e-02, -6.2745e-02,  ...,  0.0000e+00,\n",
      "            0.0000e+00,  3.1373e-02],\n",
      "          [ 4.7059e-02, -4.7059e-02, -6.2745e-02,  ...,  0.0000e+00,\n",
      "            0.0000e+00, -1.5686e-02],\n",
      "          [-6.2745e-02, -6.2745e-02, -6.2745e-02,  ...,  0.0000e+00,\n",
      "            0.0000e+00,  4.7059e-02],\n",
      "          ...,\n",
      "          [-6.2745e-02, -4.7059e-02,  1.5686e-02,  ..., -1.5686e-02,\n",
      "           -6.2745e-02, -6.2745e-02],\n",
      "          [ 6.2745e-02,  3.1373e-02,  4.7059e-02,  ..., -6.2745e-02,\n",
      "           -6.2745e-02, -6.2745e-02],\n",
      "          [ 6.2745e-02,  6.2745e-02,  6.2745e-02,  ...,  0.0000e+00,\n",
      "           -6.2745e-02,  6.2745e-02]],\n",
      "\n",
      "         [[-4.7059e-02,  4.7059e-02,  6.2745e-02,  ...,  3.1373e-02,\n",
      "            0.0000e+00, -4.7059e-02],\n",
      "          [ 6.2745e-02,  4.7059e-02,  6.2745e-02,  ...,  0.0000e+00,\n",
      "            0.0000e+00, -6.2745e-02],\n",
      "          [ 6.2745e-02,  6.2745e-02,  6.2745e-02,  ...,  0.0000e+00,\n",
      "            0.0000e+00,  0.0000e+00],\n",
      "          ...,\n",
      "          [ 1.5686e-02,  1.5686e-02,  4.7059e-02,  ...,  0.0000e+00,\n",
      "            6.2745e-02,  3.1373e-02],\n",
      "          [ 6.2745e-02,  6.2745e-02,  6.2745e-02,  ..., -6.2745e-02,\n",
      "            6.2745e-02, -6.2745e-02],\n",
      "          [ 6.2745e-02,  6.2745e-02,  6.2745e-02,  ...,  1.5686e-02,\n",
      "            6.2745e-02,  1.5686e-02]],\n",
      "\n",
      "         [[-4.7059e-02,  4.7059e-02, -1.5686e-02,  ..., -4.7059e-02,\n",
      "            0.0000e+00, -4.7059e-02],\n",
      "          [-4.7059e-02, -4.7059e-02, -4.7059e-02,  ..., -4.7059e-02,\n",
      "           -4.7059e-02, -4.7059e-02],\n",
      "          [ 5.8824e-02, -1.5686e-02, -4.7059e-02,  ..., -1.5686e-02,\n",
      "            6.2745e-02, -6.2745e-02],\n",
      "          ...,\n",
      "          [ 4.7059e-02,  4.7059e-02,  3.1373e-02,  ...,  2.9802e-08,\n",
      "           -6.2745e-02, -6.2745e-02],\n",
      "          [ 3.1373e-02,  3.1373e-02,  3.1373e-02,  ..., -6.2745e-02,\n",
      "           -6.2745e-02, -6.2745e-02],\n",
      "          [ 0.0000e+00, -6.2745e-02,  4.7059e-02,  ..., -6.2745e-02,\n",
      "           -6.2745e-02, -4.7059e-02]]],\n",
      "\n",
      "\n",
      "        [[[-6.2745e-02, -6.2745e-02, -6.2745e-02,  ...,  6.2745e-02,\n",
      "            4.7059e-02,  6.2745e-02],\n",
      "          [ 6.2745e-02, -6.2745e-02, -6.2745e-02,  ...,  4.7059e-02,\n",
      "            4.7059e-02,  4.7059e-02],\n",
      "          [-6.2745e-02, -6.2745e-02, -6.2745e-02,  ..., -4.7059e-02,\n",
      "            4.7059e-02,  4.7059e-02],\n",
      "          ...,\n",
      "          [-6.2745e-02, -4.7059e-02, -4.7059e-02,  ..., -6.2745e-02,\n",
      "           -6.2745e-02, -6.2745e-02],\n",
      "          [ 3.1373e-02, -4.7059e-02,  6.2745e-02,  ...,  1.5686e-02,\n",
      "           -1.5686e-02,  6.2745e-02],\n",
      "          [ 6.2745e-02,  6.2745e-02, -1.5686e-02,  ...,  6.2745e-02,\n",
      "            6.2745e-02,  6.2745e-02]],\n",
      "\n",
      "         [[-6.2745e-02,  6.2745e-02,  6.2745e-02,  ..., -6.2745e-02,\n",
      "           -4.7059e-02,  0.0000e+00],\n",
      "          [ 6.2745e-02,  6.2745e-02,  6.2745e-02,  ..., -6.2745e-02,\n",
      "           -4.7059e-02, -6.2745e-02],\n",
      "          [ 6.2745e-02,  3.1373e-02,  3.1373e-02,  ..., -4.7059e-02,\n",
      "           -4.7059e-02, -6.2745e-02],\n",
      "          ...,\n",
      "          [ 6.2745e-02,  3.1373e-02,  3.1373e-02,  ...,  1.5686e-02,\n",
      "            4.7059e-02,  7.8431e-03],\n",
      "          [ 4.7059e-02,  6.2745e-02,  6.2745e-02,  ...,  6.2745e-02,\n",
      "            6.2745e-02,  6.2745e-02],\n",
      "          [ 6.2745e-02,  6.2745e-02,  6.2745e-02,  ...,  6.2745e-02,\n",
      "            6.2745e-02,  6.2745e-02]],\n",
      "\n",
      "         [[-6.2745e-02,  4.7059e-02,  4.7059e-02,  ..., -6.2745e-02,\n",
      "            6.2745e-02,  6.2745e-02],\n",
      "          [-6.2745e-02, -6.2745e-02,  3.5294e-02,  ...,  6.2745e-02,\n",
      "            6.2745e-02,  6.2745e-02],\n",
      "          [ 6.2745e-02,  6.2745e-02,  4.3137e-02,  ...,  6.2745e-02,\n",
      "            6.2745e-02,  6.2745e-02],\n",
      "          ...,\n",
      "          [-1.5686e-02, -6.2745e-02, -3.1373e-02,  ...,  6.2745e-02,\n",
      "            6.2745e-02,  6.2745e-02],\n",
      "          [-6.2745e-02, -6.2745e-02, -6.2745e-02,  ...,  6.2745e-02,\n",
      "            6.2745e-02,  6.2745e-02],\n",
      "          [-3.1373e-02, -6.2745e-02, -3.1373e-02,  ...,  6.2745e-02,\n",
      "            6.2745e-02,  6.2745e-02]]]])\n"
     ]
    }
   ],
   "source": [
    "# Examine the noise\n",
    "print(noise)"
   ]
  },
  {
   "attachments": {},
   "cell_type": "markdown",
   "metadata": {},
   "source": [
    "<h3>Creat Unlearnable Dataset</h3>"
   ]
  },
  {
   "cell_type": "code",
   "execution_count": 6,
   "metadata": {},
   "outputs": [
    {
     "name": "stdout",
     "output_type": "stream",
     "text": [
      "Files already downloaded and verified\n",
      "Files already downloaded and verified\n"
     ]
    }
   ],
   "source": [
    "import numpy as np\n",
    "\n",
    "# Add standard augmentation\n",
    "train_transform = [\n",
    "    transforms.RandomCrop(32, padding=4),\n",
    "    transforms.RandomHorizontalFlip(),\n",
    "    transforms.ToTensor()\n",
    "]\n",
    "train_transform = transforms.Compose(train_transform)\n",
    "clean_train_dataset = datasets.CIFAR10(root='/data1/mjli/Code/kerdeq/data/', train=True, download=True, transform=train_transform)\n",
    "unlearnable_train_dataset = datasets.CIFAR10(root='/data1/mjli/Code/kerdeq/data/', train=True, download=True, transform=train_transform)\n",
    "\n",
    "perturb_noise = noise.mul(255).clamp_(0, 255).permute(0, 2, 3, 1).to('cpu').numpy()\n",
    "unlearnable_train_dataset.data = unlearnable_train_dataset.data.astype(np.float32)\n",
    "\n",
    "#############Add perturb noise to original images#############\n",
    "for i in range(len(unlearnable_train_dataset)):\n",
    "    unlearnable_train_dataset.data[i] += perturb_noise[i]\n",
    "    unlearnable_train_dataset.data[i] = np.clip(unlearnable_train_dataset.data[i], a_min=0, a_max=255)\n",
    "unlearnable_train_dataset.data = unlearnable_train_dataset.data.astype(np.uint8)\n",
    "\n",
    "\n"
   ]
  },
  {
   "attachments": {},
   "cell_type": "markdown",
   "metadata": {},
   "source": [
    "<h3>Visualize Clean Images, Error-Minimizing Noise, Unlearnable Images</h3>"
   ]
  },
  {
   "cell_type": "code",
   "execution_count": 14,
   "metadata": {},
   "outputs": [
    {
     "name": "stderr",
     "output_type": "stream",
     "text": [
      "Clipping input data to the valid range for imshow with RGB data ([0..1] for floats or [0..255] for integers). Got range [0.0..255.0].\n"
     ]
    },
    {
     "data": {
      "image/png": "[encoded data removed]",
      "text/plain": [
       "<Figure size 640x640 with 1 Axes>"
      ]
     },
     "metadata": {},
     "output_type": "display_data"
    }
   ],
   "source": [
    "import random\n",
    "import matplotlib.pyplot as plt\n",
    "import matplotlib\n",
    "%matplotlib inline\n",
    "\n",
    "def imshow(img):\n",
    "    fig = plt.figure(figsize=(8, 8), dpi=80, facecolor='w', edgecolor='k')\n",
    "    npimg = img.numpy()\n",
    "    plt.imshow(np.transpose(npimg, (1, 2, 0)))\n",
    "    plt.show()\n",
    "    \n",
    "def get_pairs_of_imgs(idx):\n",
    "    clean_img = clean_train_dataset.data[idx]\n",
    "    unlearnable_img = unlearnable_train_dataset.data[idx]\n",
    "    clean_img = torchvision.transforms.functional.to_tensor(clean_img)\n",
    "    unlearnable_img = torchvision.transforms.functional.to_tensor(unlearnable_img)\n",
    "\n",
    "    x = noise[idx]\n",
    "    x_min = torch.min(x)\n",
    "    x_max = torch.max(x)\n",
    "    noise_norm = (x - x_min) / (x_max - x_min)\n",
    "    noise_norm = torch.clamp(noise_norm, 0, 1)\n",
    "    return [clean_img, noise_norm, unlearnable_img]\n",
    "    \n",
    "selected_idx = [random.randint(0, 50000) for _ in range(3)]\n",
    "img_grid = []\n",
    "for idx in selected_idx:\n",
    "    img_grid += get_pairs_of_imgs(idx)\n",
    "    \n",
    "\n",
    "imshow(torchvision.utils.make_grid(torch.stack(img_grid), nrow=3, pad_value=255))\n",
    "\n"
   ]
  },
  {
   "attachments": {},
   "cell_type": "markdown",
   "metadata": {},
   "source": [
    "<h3>Train ResNet18 on Unlearnable Dataset</h3>"
   ]
  },
  {
   "cell_type": "code",
   "execution_count": 8,
   "metadata": {},
   "outputs": [
    {
     "name": "stderr",
     "output_type": "stream",
     "text": [
      "Acc 58.13 Loss: 1.24: 100%|██████████| 391/391 [00:44<00:00,  8.81it/s]\n"
     ]
    },
    {
     "name": "stdout",
     "output_type": "stream",
     "text": [
      "Clean Accuracy 25.43\n",
      "\n"
     ]
    },
    {
     "name": "stderr",
     "output_type": "stream",
     "text": [
      "Acc 82.16 Loss: 0.54: 100%|██████████| 391/391 [00:41<00:00,  9.53it/s]\n"
     ]
    },
    {
     "name": "stdout",
     "output_type": "stream",
     "text": [
      "Clean Accuracy 22.14\n",
      "\n"
     ]
    },
    {
     "name": "stderr",
     "output_type": "stream",
     "text": [
      "Acc 88.64 Loss: 0.34: 100%|██████████| 391/391 [00:42<00:00,  9.25it/s]\n"
     ]
    },
    {
     "name": "stdout",
     "output_type": "stream",
     "text": [
      "Clean Accuracy 24.44\n",
      "\n"
     ]
    },
    {
     "name": "stderr",
     "output_type": "stream",
     "text": [
      "Acc 92.00 Loss: 0.24: 100%|██████████| 391/391 [00:41<00:00,  9.35it/s]\n"
     ]
    },
    {
     "name": "stdout",
     "output_type": "stream",
     "text": [
      "Clean Accuracy 23.34\n",
      "\n"
     ]
    },
    {
     "name": "stderr",
     "output_type": "stream",
     "text": [
      "Acc 93.53 Loss: 0.19: 100%|██████████| 391/391 [00:41<00:00,  9.36it/s]\n"
     ]
    },
    {
     "name": "stdout",
     "output_type": "stream",
     "text": [
      "Clean Accuracy 28.42\n",
      "\n"
     ]
    },
    {
     "name": "stderr",
     "output_type": "stream",
     "text": [
      "Acc 94.67 Loss: 0.16: 100%|██████████| 391/391 [00:41<00:00,  9.38it/s]\n"
     ]
    },
    {
     "name": "stdout",
     "output_type": "stream",
     "text": [
      "Clean Accuracy 27.60\n",
      "\n"
     ]
    },
    {
     "name": "stderr",
     "output_type": "stream",
     "text": [
      "Acc 95.12 Loss: 0.15: 100%|██████████| 391/391 [00:41<00:00,  9.35it/s]\n"
     ]
    },
    {
     "name": "stdout",
     "output_type": "stream",
     "text": [
      "Clean Accuracy 27.63\n",
      "\n"
     ]
    },
    {
     "name": "stderr",
     "output_type": "stream",
     "text": [
      "Acc 95.54 Loss: 0.13: 100%|██████████| 391/391 [00:41<00:00,  9.33it/s]\n"
     ]
    },
    {
     "name": "stdout",
     "output_type": "stream",
     "text": [
      "Clean Accuracy 29.47\n",
      "\n"
     ]
    },
    {
     "name": "stderr",
     "output_type": "stream",
     "text": [
      "Acc 95.81 Loss: 0.13: 100%|██████████| 391/391 [00:41<00:00,  9.37it/s]\n"
     ]
    },
    {
     "name": "stdout",
     "output_type": "stream",
     "text": [
      "Clean Accuracy 22.52\n",
      "\n"
     ]
    },
    {
     "name": "stderr",
     "output_type": "stream",
     "text": [
      "Acc 96.57 Loss: 0.10: 100%|██████████| 391/391 [00:41<00:00,  9.35it/s]\n"
     ]
    },
    {
     "name": "stdout",
     "output_type": "stream",
     "text": [
      "Clean Accuracy 14.07\n",
      "\n"
     ]
    },
    {
     "name": "stderr",
     "output_type": "stream",
     "text": [
      "Acc 96.69 Loss: 0.10: 100%|██████████| 391/391 [00:42<00:00,  9.28it/s]\n"
     ]
    },
    {
     "name": "stdout",
     "output_type": "stream",
     "text": [
      "Clean Accuracy 23.10\n",
      "\n"
     ]
    },
    {
     "name": "stderr",
     "output_type": "stream",
     "text": [
      "Acc 97.15 Loss: 0.09: 100%|██████████| 391/391 [00:41<00:00,  9.37it/s]\n"
     ]
    },
    {
     "name": "stdout",
     "output_type": "stream",
     "text": [
      "Clean Accuracy 25.67\n",
      "\n"
     ]
    },
    {
     "name": "stderr",
     "output_type": "stream",
     "text": [
      "Acc 97.37 Loss: 0.08: 100%|██████████| 391/391 [00:42<00:00,  9.21it/s]\n"
     ]
    },
    {
     "name": "stdout",
     "output_type": "stream",
     "text": [
      "Clean Accuracy 25.50\n",
      "\n"
     ]
    },
    {
     "name": "stderr",
     "output_type": "stream",
     "text": [
      "Acc 97.82 Loss: 0.07: 100%|██████████| 391/391 [00:41<00:00,  9.36it/s]\n"
     ]
    },
    {
     "name": "stdout",
     "output_type": "stream",
     "text": [
      "Clean Accuracy 20.40\n",
      "\n"
     ]
    },
    {
     "name": "stderr",
     "output_type": "stream",
     "text": [
      "Acc 97.89 Loss: 0.06: 100%|██████████| 391/391 [00:41<00:00,  9.32it/s]\n"
     ]
    },
    {
     "name": "stdout",
     "output_type": "stream",
     "text": [
      "Clean Accuracy 22.05\n",
      "\n"
     ]
    },
    {
     "name": "stderr",
     "output_type": "stream",
     "text": [
      "Acc 98.27 Loss: 0.05: 100%|██████████| 391/391 [00:42<00:00,  9.17it/s]\n"
     ]
    },
    {
     "name": "stdout",
     "output_type": "stream",
     "text": [
      "Clean Accuracy 17.79\n",
      "\n"
     ]
    },
    {
     "name": "stderr",
     "output_type": "stream",
     "text": [
      "Acc 98.71 Loss: 0.04: 100%|██████████| 391/391 [00:42<00:00,  9.24it/s]\n"
     ]
    },
    {
     "name": "stdout",
     "output_type": "stream",
     "text": [
      "Clean Accuracy 17.64\n",
      "\n"
     ]
    },
    {
     "name": "stderr",
     "output_type": "stream",
     "text": [
      "Acc 98.73 Loss: 0.04: 100%|██████████| 391/391 [00:41<00:00,  9.33it/s]\n"
     ]
    },
    {
     "name": "stdout",
     "output_type": "stream",
     "text": [
      "Clean Accuracy 17.79\n",
      "\n"
     ]
    },
    {
     "name": "stderr",
     "output_type": "stream",
     "text": [
      "Acc 99.10 Loss: 0.03: 100%|██████████| 391/391 [00:41<00:00,  9.34it/s]\n"
     ]
    },
    {
     "name": "stdout",
     "output_type": "stream",
     "text": [
      "Clean Accuracy 14.89\n",
      "\n"
     ]
    },
    {
     "name": "stderr",
     "output_type": "stream",
     "text": [
      "Acc 99.17 Loss: 0.03: 100%|██████████| 391/391 [00:41<00:00,  9.36it/s]\n"
     ]
    },
    {
     "name": "stdout",
     "output_type": "stream",
     "text": [
      "Clean Accuracy 16.01\n",
      "\n"
     ]
    },
    {
     "name": "stderr",
     "output_type": "stream",
     "text": [
      "Acc 99.38 Loss: 0.02: 100%|██████████| 391/391 [00:41<00:00,  9.37it/s]\n"
     ]
    },
    {
     "name": "stdout",
     "output_type": "stream",
     "text": [
      "Clean Accuracy 16.16\n",
      "\n"
     ]
    },
    {
     "name": "stderr",
     "output_type": "stream",
     "text": [
      "Acc 99.57 Loss: 0.01: 100%|██████████| 391/391 [00:41<00:00,  9.38it/s]\n"
     ]
    },
    {
     "name": "stdout",
     "output_type": "stream",
     "text": [
      "Clean Accuracy 13.62\n",
      "\n"
     ]
    },
    {
     "name": "stderr",
     "output_type": "stream",
     "text": [
      "Acc 99.72 Loss: 0.01: 100%|██████████| 391/391 [00:41<00:00,  9.45it/s]\n"
     ]
    },
    {
     "name": "stdout",
     "output_type": "stream",
     "text": [
      "Clean Accuracy 15.18\n",
      "\n"
     ]
    },
    {
     "name": "stderr",
     "output_type": "stream",
     "text": [
      "Acc 99.79 Loss: 0.01: 100%|██████████| 391/391 [00:41<00:00,  9.44it/s]\n"
     ]
    },
    {
     "name": "stdout",
     "output_type": "stream",
     "text": [
      "Clean Accuracy 15.95\n",
      "\n"
     ]
    },
    {
     "name": "stderr",
     "output_type": "stream",
     "text": [
      "Acc 99.88 Loss: 0.01: 100%|██████████| 391/391 [00:41<00:00,  9.39it/s]\n"
     ]
    },
    {
     "name": "stdout",
     "output_type": "stream",
     "text": [
      "Clean Accuracy 17.90\n",
      "\n"
     ]
    },
    {
     "name": "stderr",
     "output_type": "stream",
     "text": [
      "Acc 99.92 Loss: 0.00: 100%|██████████| 391/391 [00:42<00:00,  9.27it/s]\n"
     ]
    },
    {
     "name": "stdout",
     "output_type": "stream",
     "text": [
      "Clean Accuracy 16.72\n",
      "\n"
     ]
    },
    {
     "name": "stderr",
     "output_type": "stream",
     "text": [
      "Acc 99.94 Loss: 0.00: 100%|██████████| 391/391 [00:42<00:00,  9.28it/s]\n"
     ]
    },
    {
     "name": "stdout",
     "output_type": "stream",
     "text": [
      "Clean Accuracy 17.78\n",
      "\n"
     ]
    },
    {
     "name": "stderr",
     "output_type": "stream",
     "text": [
      "Acc 99.95 Loss: 0.00: 100%|██████████| 391/391 [00:41<00:00,  9.42it/s]\n"
     ]
    },
    {
     "name": "stdout",
     "output_type": "stream",
     "text": [
      "Clean Accuracy 17.37\n",
      "\n"
     ]
    },
    {
     "name": "stderr",
     "output_type": "stream",
     "text": [
      "Acc 99.95 Loss: 0.00: 100%|██████████| 391/391 [00:42<00:00,  9.26it/s]\n"
     ]
    },
    {
     "name": "stdout",
     "output_type": "stream",
     "text": [
      "Clean Accuracy 18.26\n",
      "\n"
     ]
    },
    {
     "name": "stderr",
     "output_type": "stream",
     "text": [
      "Acc 99.96 Loss: 0.00: 100%|██████████| 391/391 [00:42<00:00,  9.20it/s]\n"
     ]
    },
    {
     "name": "stdout",
     "output_type": "stream",
     "text": [
      "Clean Accuracy 17.88\n",
      "\n"
     ]
    }
   ],
   "source": [
    "from util import AverageMeter\n",
    "\n",
    "model = ResNet18()\n",
    "model = model.cuda()\n",
    "criterion = torch.nn.CrossEntropyLoss()\n",
    "optimizer = torch.optim.SGD(params=model.parameters(), lr=0.1, weight_decay=0.0005, momentum=0.9)\n",
    "scheduler = torch.optim.lr_scheduler.CosineAnnealingLR(optimizer, T_max=30, eta_min=0)\n",
    "\n",
    "unlearnable_loader = DataLoader(dataset=unlearnable_train_dataset, batch_size=128,\n",
    "                                shuffle=True, pin_memory=True,\n",
    "                                drop_last=False)\n",
    "\n",
    "\n",
    "for epoch in range(30):\n",
    "    # Train\n",
    "    model.train()\n",
    "    acc_meter = AverageMeter()\n",
    "    loss_meter = AverageMeter()\n",
    "    pbar = tqdm(unlearnable_loader, total=len(unlearnable_loader))\n",
    "    for images, labels in pbar:\n",
    "        images, labels = images.cuda(), labels.cuda()\n",
    "        model.zero_grad()\n",
    "        optimizer.zero_grad()\n",
    "        logits = model(images)\n",
    "        loss = criterion(logits, labels)\n",
    "        loss.backward()\n",
    "        torch.nn.utils.clip_grad_norm_(model.parameters(), 5.0)\n",
    "        optimizer.step()\n",
    "        \n",
    "        _, predicted = torch.max(logits.data, 1)\n",
    "        acc = (predicted == labels).sum().item()/labels.size(0)\n",
    "        acc_meter.update(acc)\n",
    "        loss_meter.update(loss.item())\n",
    "        pbar.set_description(\"Acc %.2f Loss: %.2f\" % (acc_meter.avg*100, loss_meter.avg))\n",
    "    scheduler.step()\n",
    "    # Eval\n",
    "    model.eval()\n",
    "    correct, total = 0, 0\n",
    "    for i, (images, labels) in enumerate(clean_test_loader):\n",
    "        images, labels = images.cuda(), labels.cuda()\n",
    "        with torch.no_grad():\n",
    "            logits = model(images)\n",
    "            _, predicted = torch.max(logits.data, 1)\n",
    "            total += labels.size(0)\n",
    "            correct += (predicted == labels).sum().item()\n",
    "    acc = correct / total\n",
    "    tqdm.write('Clean Accuracy %.2f\\n' % (acc*100))\n",
    "            "
   ]
  },
  {
   "cell_type": "code",
   "execution_count": null,
   "metadata": {},
   "outputs": [],
   "source": []
  },
  {
   "cell_type": "code",
   "execution_count": null,
   "metadata": {},
   "outputs": [],
   "source": []
  }
 ],
 "metadata": {
  "kernelspec": {
   "display_name": "Python 3",
   "language": "python",
   "name": "python3"
  },
  "language_info": {
   "codemirror_mode": {
    "name": "ipython",
    "version": 3
   },
   "file_extension": ".py",
   "mimetype": "text/x-python",
   "name": "python",
   "nbconvert_exporter": "python",
   "pygments_lexer": "ipython3",
   "version": "3.10.11"
  }
 },
 "nbformat": 4,
 "nbformat_minor": 4
}
