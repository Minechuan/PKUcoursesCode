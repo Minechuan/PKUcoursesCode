{
 "cells": [
  {
   "attachments": {},
   "cell_type": "markdown",
   "id": "9a0f65bc",
   "metadata": {},
   "source": [
    "<h3>Split dataset</h3>"
   ]
  },
  {
   "cell_type": "code",
   "execution_count": 1,
   "id": "626b1a03",
   "metadata": {},
   "outputs": [],
   "source": [
    "from torchvision.datasets import MNIST\n",
    "import numpy as np\n",
    "from PIL import Image\n",
    "\n",
    "train_target_size = 20000\n",
    "\n",
    "class custum_MNIST(MNIST):\n",
    "    \n",
    "\n",
    "    def __init__(self, target, num, *args, **kwargs):\n",
    "        super().__init__(*args, **kwargs)\n",
    "        self.target = target\n",
    "        if self.train:\n",
    "            if target:\n",
    "                # training data for target model\n",
    "                self.data = self.data[:25000]\n",
    "                self.targets = self.targets[:25000]\n",
    "            else:\n",
    "                # training data for shadow model\n",
    "                idx_shadow = np.arange(25000,50000) \n",
    "                # np.random.shuffle(idx_shadow) #in place 操作，没有返回值\n",
    "                start=2500*(num%10) # 原来的代码中是 2500*num%10,计算逻辑错误\n",
    "                self.data = self.data[idx_shadow[start:start+2500]]\n",
    "                self.targets = self.targets[idx_shadow[start:start+2500]]\n",
    "        else:\n",
    "            if target:\n",
    "                # test data for target model\n",
    "                self.data = self.data[:5000]\n",
    "                self.targets = self.targets[:5000]\n",
    "            else:\n",
    "                # test data for shadow model \n",
    "                idx_shadow = np.arange(5000,10000) \n",
    "                np.random.shuffle(idx_shadow) # in place\n",
    "                start=500*(num%10)\n",
    "                self.data = self.data[idx_shadow[start: start+2500]]\n",
    "                self.targets = self.targets[idx_shadow[start: start+2500]]\n",
    "\n",
    "    def __getitem__(self, index):\n",
    "        \"\"\"\n",
    "        Args:\n",
    "            index (int): Index\n",
    "        Returns:\n",
    "            tuple: (image, target) where target is index of the target class.\n",
    "        \"\"\"\n",
    "        if self.train:\n",
    "            if self.target:\n",
    "                index = index % 25000\n",
    "            else:\n",
    "                index = index % 2500\n",
    "        else:\n",
    "            if self.target:\n",
    "                index = index % 5000\n",
    "            else:\n",
    "                index = index % 500\n",
    "        img, target = self.data[index], int(self.targets[index])\n",
    "\n",
    "        # doing this so that it is consistent with all other datasets\n",
    "        # to return a PIL Image\n",
    "        img = Image.fromarray(img.numpy(), mode='L')\n",
    "\n",
    "        if self.transform is not None:\n",
    "            img = self.transform(img)\n",
    "\n",
    "        if self.target_transform is not None:\n",
    "            target = self.target_transform(target)\n",
    "        return img, target\n",
    "    \n",
    "def get_data_for_final_eval(models, all_dataloaders, device):\n",
    "    Y = []\n",
    "    X = []\n",
    "    C = []\n",
    "    for idx_model, model in enumerate(models):\n",
    "        model.eval()\n",
    "        #print(all_dataloaders)\n",
    "        dataloaders = all_dataloaders[idx_model]\n",
    "        for phase in ['train', 'val']:\n",
    "            for batch_idx, (data, target) in enumerate(dataloaders[phase]):\n",
    "                inputs, labels = data.to(device), target.to(device)\n",
    "                output = model(inputs)\n",
    "                for out in output.cpu().detach().numpy():\n",
    "                    X.append(out)\n",
    "                    if phase == \"train\":\n",
    "                        Y.append(1)\n",
    "                    else:\n",
    "                        Y.append(0)\n",
    "                for cla in labels.cpu().detach().numpy():\n",
    "                    C.append(cla)\n",
    "    return (np.array(X), np.array(Y), np.array(C))"
   ]
  },
  {
   "attachments": {},
   "cell_type": "markdown",
   "id": "c12c61e8",
   "metadata": {},
   "source": [
    "<h3>train model and return data for MIA</h3>"
   ]
  },
  {
   "cell_type": "code",
   "execution_count": 3,
   "id": "4836ed94",
   "metadata": {},
   "outputs": [],
   "source": [
    "import torch\n",
    "import torch.nn as nn\n",
    "import torch.optim as optim\n",
    "from torch.optim import lr_scheduler\n",
    "import numpy as np\n",
    "import torchvision\n",
    "from torchvision import datasets, models, transforms\n",
    "import matplotlib.pyplot as plt\n",
    "import time\n",
    "import tqdm\n",
    "import copy\n",
    "\n",
    "\n",
    "device = torch.device(\"cuda:0\" if torch.cuda.is_available() else \"cpu\")\n",
    "\n",
    "def train(model, criterion, optimizer, scheduler, dataloaders, dataset_sizes, num_epochs=25):\n",
    "    print(\"DATASET SIZE\", dataset_sizes)\n",
    "    since = time.time()\n",
    "\n",
    "    best_model_wts = copy.deepcopy(model.state_dict())\n",
    "    best_acc = 0\n",
    "    return_value_train = np.zeros((4,num_epochs))\n",
    "\n",
    "    for epoch in range(num_epochs):\n",
    "        #print('Epoch {}/{}'.format(epoch, num_epochs - 1))\n",
    "        #print('-' * 10)\n",
    "\n",
    "        X = [] ## The feature of the final logits for MIA classifier\n",
    "        Y = [] ## 1:\"in\" training sample 0:\"out\" training sample\n",
    "\n",
    "        # Each epoch has a training and validation phase\n",
    "        for phase in ['train', 'val']:\n",
    "            if phase == 'train':\n",
    "                if scheduler is not None:\n",
    "                    scheduler.step()\n",
    "                model.train()  # Set model to training mode\n",
    "            else:\n",
    "                model.eval()   # Set model to evaluate mode\n",
    "\n",
    "            running_loss = 0.0\n",
    "            running_corrects = 0\n",
    "\n",
    "            # Iterate over data.\n",
    "            for data, target in tqdm.tqdm(dataloaders[phase]):\n",
    "                inputs, labels = data.to(device), target.to(device)\n",
    "\n",
    "\n",
    "                # zero the parameter gradients\n",
    "                optimizer.zero_grad()\n",
    "\n",
    "                # forward\n",
    "                # track history if only in train\n",
    "                with torch.set_grad_enabled(phase == 'train'):\n",
    "                    outputs = model(inputs)\n",
    "                    _, preds = torch.max(outputs, 1)\n",
    "                    loss = criterion(outputs, labels)\n",
    "\n",
    "                    ##### Generate data for MIA on the final epoch, return X and Y\n",
    "                    ##### X is models output \n",
    "                    ##### Y denotes whether such sample is used for training\n",
    "                    ##### Point 2\n",
    "                    if epoch == num_epochs - 1:\n",
    "                        for out in outputs.cpu().detach().numpy():\n",
    "                            X.append(out)\n",
    "                            if phase == \"train\":\n",
    "                                Y.append(1)\n",
    "                            else:\n",
    "                                Y.append(0)\n",
    "\n",
    "\n",
    "                    # backward + optimize only if in training phase\n",
    "                    if phase == 'train':\n",
    "                        loss.backward()\n",
    "                        optimizer.step()\n",
    "\n",
    "                # statistics\n",
    "                running_loss += loss.item() * inputs.size(0)\n",
    "                running_corrects += torch.sum(preds == labels.data)\n",
    "\n",
    "            epoch_loss = running_loss / dataset_sizes[phase]\n",
    "            epoch_acc = running_corrects.double() / dataset_sizes[phase]\n",
    "\n",
    "            # deep copy the model\n",
    "            if phase == 'val' and epoch_acc > best_acc:\n",
    "                best_acc = epoch_acc\n",
    "                print(epoch, best_acc)\n",
    "\n",
    "    return model, best_acc, np.array(X), np.array(Y)\n"
   ]
  },
  {
   "attachments": {},
   "cell_type": "markdown",
   "id": "f1fc5ebd",
   "metadata": {},
   "source": [
    "<h3>Train target model and use target model's training set and validation set as validation set for MIA</h3>"
   ]
  },
  {
   "cell_type": "code",
   "execution_count": 4,
   "id": "3f9a838a",
   "metadata": {},
   "outputs": [
    {
     "name": "stdout",
     "output_type": "stream",
     "text": [
      "My device is :  cuda:0\n",
      "TAILLE dataset {'train': 25000, 'val': 5000}\n",
      "DATASET SIZE {'train': 25000, 'val': 5000}\n"
     ]
    },
    {
     "name": "stderr",
     "output_type": "stream",
     "text": [
      "100%|██████████| 391/391 [00:02<00:00, 131.89it/s]\n",
      "100%|██████████| 79/79 [00:00<00:00, 167.68it/s]\n"
     ]
    },
    {
     "name": "stdout",
     "output_type": "stream",
     "text": [
      "0 tensor(0.5258, device='cuda:0', dtype=torch.float64)\n"
     ]
    },
    {
     "name": "stderr",
     "output_type": "stream",
     "text": [
      "100%|██████████| 391/391 [00:02<00:00, 138.60it/s]\n",
      "100%|██████████| 79/79 [00:00<00:00, 163.25it/s]\n"
     ]
    },
    {
     "name": "stdout",
     "output_type": "stream",
     "text": [
      "1 tensor(0.7174, device='cuda:0', dtype=torch.float64)\n"
     ]
    },
    {
     "name": "stderr",
     "output_type": "stream",
     "text": [
      "100%|██████████| 391/391 [00:03<00:00, 128.87it/s]\n",
      "100%|██████████| 79/79 [00:00<00:00, 174.46it/s]\n"
     ]
    },
    {
     "name": "stdout",
     "output_type": "stream",
     "text": [
      "2 tensor(0.8068, device='cuda:0', dtype=torch.float64)\n"
     ]
    },
    {
     "name": "stderr",
     "output_type": "stream",
     "text": [
      "100%|██████████| 391/391 [00:03<00:00, 106.30it/s]\n",
      "100%|██████████| 79/79 [00:01<00:00, 63.97it/s]\n"
     ]
    },
    {
     "name": "stdout",
     "output_type": "stream",
     "text": [
      "3 tensor(0.8292, device='cuda:0', dtype=torch.float64)\n"
     ]
    },
    {
     "name": "stderr",
     "output_type": "stream",
     "text": [
      "100%|██████████| 391/391 [00:06<00:00, 58.93it/s]\n",
      "100%|██████████| 79/79 [00:01<00:00, 65.68it/s]\n"
     ]
    },
    {
     "name": "stdout",
     "output_type": "stream",
     "text": [
      "4 tensor(0.8440, device='cuda:0', dtype=torch.float64)\n"
     ]
    },
    {
     "name": "stderr",
     "output_type": "stream",
     "text": [
      "100%|██████████| 391/391 [00:06<00:00, 58.60it/s]\n",
      "100%|██████████| 79/79 [00:01<00:00, 71.14it/s]\n"
     ]
    },
    {
     "name": "stdout",
     "output_type": "stream",
     "text": [
      "5 tensor(0.8564, device='cuda:0', dtype=torch.float64)\n"
     ]
    },
    {
     "name": "stderr",
     "output_type": "stream",
     "text": [
      "100%|██████████| 391/391 [00:06<00:00, 59.71it/s]\n",
      "100%|██████████| 79/79 [00:01<00:00, 70.91it/s]\n"
     ]
    },
    {
     "name": "stdout",
     "output_type": "stream",
     "text": [
      "6 tensor(0.8578, device='cuda:0', dtype=torch.float64)\n"
     ]
    },
    {
     "name": "stderr",
     "output_type": "stream",
     "text": [
      "100%|██████████| 391/391 [00:04<00:00, 88.50it/s] \n",
      "100%|██████████| 79/79 [00:00<00:00, 168.01it/s]\n"
     ]
    },
    {
     "name": "stdout",
     "output_type": "stream",
     "text": [
      "7 tensor(0.8692, device='cuda:0', dtype=torch.float64)\n"
     ]
    },
    {
     "name": "stderr",
     "output_type": "stream",
     "text": [
      "100%|██████████| 391/391 [00:03<00:00, 127.41it/s]\n",
      "100%|██████████| 79/79 [00:00<00:00, 162.60it/s]\n"
     ]
    },
    {
     "name": "stdout",
     "output_type": "stream",
     "text": [
      "8 tensor(0.8742, device='cuda:0', dtype=torch.float64)\n"
     ]
    },
    {
     "name": "stderr",
     "output_type": "stream",
     "text": [
      "100%|██████████| 391/391 [00:03<00:00, 128.29it/s]\n",
      "100%|██████████| 79/79 [00:00<00:00, 154.13it/s]\n"
     ]
    },
    {
     "name": "stdout",
     "output_type": "stream",
     "text": [
      "9 tensor(0.8822, device='cuda:0', dtype=torch.float64)\n"
     ]
    },
    {
     "name": "stderr",
     "output_type": "stream",
     "text": [
      "100%|██████████| 391/391 [00:03<00:00, 125.33it/s]\n",
      "100%|██████████| 79/79 [00:00<00:00, 163.82it/s]\n"
     ]
    },
    {
     "name": "stdout",
     "output_type": "stream",
     "text": [
      "10 tensor(0.8850, device='cuda:0', dtype=torch.float64)\n"
     ]
    },
    {
     "name": "stderr",
     "output_type": "stream",
     "text": [
      "100%|██████████| 391/391 [00:03<00:00, 123.62it/s]\n",
      "100%|██████████| 79/79 [00:00<00:00, 158.44it/s]\n"
     ]
    },
    {
     "name": "stdout",
     "output_type": "stream",
     "text": [
      "11 tensor(0.8888, device='cuda:0', dtype=torch.float64)\n"
     ]
    },
    {
     "name": "stderr",
     "output_type": "stream",
     "text": [
      "100%|██████████| 391/391 [00:03<00:00, 124.06it/s]\n",
      "100%|██████████| 79/79 [00:00<00:00, 166.88it/s]\n"
     ]
    },
    {
     "name": "stdout",
     "output_type": "stream",
     "text": [
      "12 tensor(0.8940, device='cuda:0', dtype=torch.float64)\n"
     ]
    },
    {
     "name": "stderr",
     "output_type": "stream",
     "text": [
      "100%|██████████| 391/391 [00:03<00:00, 127.16it/s]\n",
      "100%|██████████| 79/79 [00:00<00:00, 146.75it/s]\n"
     ]
    },
    {
     "name": "stdout",
     "output_type": "stream",
     "text": [
      "13 tensor(0.9002, device='cuda:0', dtype=torch.float64)\n"
     ]
    },
    {
     "name": "stderr",
     "output_type": "stream",
     "text": [
      "100%|██████████| 391/391 [00:03<00:00, 121.14it/s]\n",
      "100%|██████████| 79/79 [00:00<00:00, 149.11it/s]\n",
      "100%|██████████| 391/391 [00:03<00:00, 99.01it/s] \n",
      "100%|██████████| 79/79 [00:00<00:00, 115.85it/s]\n"
     ]
    },
    {
     "name": "stdout",
     "output_type": "stream",
     "text": [
      "15 tensor(0.9034, device='cuda:0', dtype=torch.float64)\n"
     ]
    },
    {
     "name": "stderr",
     "output_type": "stream",
     "text": [
      "100%|██████████| 391/391 [00:02<00:00, 130.81it/s]\n",
      "100%|██████████| 79/79 [00:00<00:00, 154.21it/s]\n"
     ]
    },
    {
     "name": "stdout",
     "output_type": "stream",
     "text": [
      "16 tensor(0.9082, device='cuda:0', dtype=torch.float64)\n"
     ]
    },
    {
     "name": "stderr",
     "output_type": "stream",
     "text": [
      "100%|██████████| 391/391 [00:03<00:00, 116.84it/s]\n",
      "100%|██████████| 79/79 [00:00<00:00, 190.71it/s]\n"
     ]
    },
    {
     "name": "stdout",
     "output_type": "stream",
     "text": [
      "17 tensor(0.9092, device='cuda:0', dtype=torch.float64)\n"
     ]
    },
    {
     "name": "stderr",
     "output_type": "stream",
     "text": [
      "100%|██████████| 391/391 [00:03<00:00, 122.31it/s]\n",
      "100%|██████████| 79/79 [00:00<00:00, 154.18it/s]\n"
     ]
    },
    {
     "name": "stdout",
     "output_type": "stream",
     "text": [
      "18 tensor(0.9110, device='cuda:0', dtype=torch.float64)\n"
     ]
    },
    {
     "name": "stderr",
     "output_type": "stream",
     "text": [
      "100%|██████████| 391/391 [00:02<00:00, 131.98it/s]\n",
      "100%|██████████| 79/79 [00:00<00:00, 158.30it/s]\n"
     ]
    },
    {
     "name": "stdout",
     "output_type": "stream",
     "text": [
      "19 tensor(0.9120, device='cuda:0', dtype=torch.float64)\n"
     ]
    },
    {
     "name": "stderr",
     "output_type": "stream",
     "text": [
      "100%|██████████| 391/391 [00:03<00:00, 124.98it/s]\n",
      "100%|██████████| 79/79 [00:00<00:00, 154.91it/s]\n"
     ]
    },
    {
     "name": "stdout",
     "output_type": "stream",
     "text": [
      "20 tensor(0.9152, device='cuda:0', dtype=torch.float64)\n"
     ]
    },
    {
     "name": "stderr",
     "output_type": "stream",
     "text": [
      "100%|██████████| 391/391 [00:03<00:00, 121.61it/s]\n",
      "100%|██████████| 79/79 [00:00<00:00, 180.33it/s]\n"
     ]
    },
    {
     "name": "stdout",
     "output_type": "stream",
     "text": [
      "21 tensor(0.9182, device='cuda:0', dtype=torch.float64)\n"
     ]
    },
    {
     "name": "stderr",
     "output_type": "stream",
     "text": [
      "100%|██████████| 391/391 [00:03<00:00, 108.72it/s]\n",
      "100%|██████████| 79/79 [00:00<00:00, 195.76it/s]\n"
     ]
    },
    {
     "name": "stdout",
     "output_type": "stream",
     "text": [
      "22 tensor(0.9186, device='cuda:0', dtype=torch.float64)\n"
     ]
    },
    {
     "name": "stderr",
     "output_type": "stream",
     "text": [
      "100%|██████████| 391/391 [00:03<00:00, 124.37it/s]\n",
      "100%|██████████| 79/79 [00:00<00:00, 153.07it/s]\n"
     ]
    },
    {
     "name": "stdout",
     "output_type": "stream",
     "text": [
      "23 tensor(0.9200, device='cuda:0', dtype=torch.float64)\n"
     ]
    },
    {
     "name": "stderr",
     "output_type": "stream",
     "text": [
      "100%|██████████| 391/391 [00:03<00:00, 107.28it/s]\n",
      "100%|██████████| 79/79 [00:00<00:00, 181.15it/s]\n"
     ]
    },
    {
     "name": "stdout",
     "output_type": "stream",
     "text": [
      "24 tensor(0.9228, device='cuda:0', dtype=torch.float64)\n"
     ]
    },
    {
     "name": "stderr",
     "output_type": "stream",
     "text": [
      "100%|██████████| 391/391 [00:03<00:00, 123.91it/s]\n",
      "100%|██████████| 79/79 [00:00<00:00, 141.57it/s]\n"
     ]
    },
    {
     "name": "stdout",
     "output_type": "stream",
     "text": [
      "25 tensor(0.9256, device='cuda:0', dtype=torch.float64)\n"
     ]
    },
    {
     "name": "stderr",
     "output_type": "stream",
     "text": [
      "100%|██████████| 391/391 [00:03<00:00, 113.02it/s]\n",
      "100%|██████████| 79/79 [00:00<00:00, 179.82it/s]\n",
      "100%|██████████| 391/391 [00:03<00:00, 124.86it/s]\n",
      "100%|██████████| 79/79 [00:00<00:00, 147.60it/s]\n"
     ]
    },
    {
     "name": "stdout",
     "output_type": "stream",
     "text": [
      "27 tensor(0.9274, device='cuda:0', dtype=torch.float64)\n"
     ]
    },
    {
     "name": "stderr",
     "output_type": "stream",
     "text": [
      "100%|██████████| 391/391 [00:03<00:00, 124.28it/s]\n",
      "100%|██████████| 79/79 [00:00<00:00, 151.13it/s]\n"
     ]
    },
    {
     "name": "stdout",
     "output_type": "stream",
     "text": [
      "28 tensor(0.9334, device='cuda:0', dtype=torch.float64)\n"
     ]
    },
    {
     "name": "stderr",
     "output_type": "stream",
     "text": [
      "100%|██████████| 391/391 [00:03<00:00, 123.04it/s]\n",
      "100%|██████████| 79/79 [00:00<00:00, 146.84it/s]\n",
      "100%|██████████| 391/391 [00:03<00:00, 105.52it/s]\n",
      "100%|██████████| 79/79 [00:00<00:00, 172.02it/s]\n",
      "100%|██████████| 391/391 [00:03<00:00, 113.72it/s]\n",
      "100%|██████████| 79/79 [00:00<00:00, 145.59it/s]\n"
     ]
    },
    {
     "name": "stdout",
     "output_type": "stream",
     "text": [
      "31 tensor(0.9348, device='cuda:0', dtype=torch.float64)\n"
     ]
    },
    {
     "name": "stderr",
     "output_type": "stream",
     "text": [
      "100%|██████████| 391/391 [00:02<00:00, 134.30it/s]\n",
      "100%|██████████| 79/79 [00:00<00:00, 176.77it/s]\n"
     ]
    },
    {
     "name": "stdout",
     "output_type": "stream",
     "text": [
      "32 tensor(0.9358, device='cuda:0', dtype=torch.float64)\n"
     ]
    },
    {
     "name": "stderr",
     "output_type": "stream",
     "text": [
      "100%|██████████| 391/391 [00:03<00:00, 127.46it/s]\n",
      "100%|██████████| 79/79 [00:00<00:00, 151.08it/s]\n",
      "100%|██████████| 391/391 [00:02<00:00, 131.62it/s]\n",
      "100%|██████████| 79/79 [00:00<00:00, 148.52it/s]\n"
     ]
    },
    {
     "name": "stdout",
     "output_type": "stream",
     "text": [
      "34 tensor(0.9372, device='cuda:0', dtype=torch.float64)\n"
     ]
    },
    {
     "name": "stderr",
     "output_type": "stream",
     "text": [
      "100%|██████████| 391/391 [00:03<00:00, 110.27it/s]\n",
      "100%|██████████| 79/79 [00:00<00:00, 150.13it/s]\n"
     ]
    },
    {
     "name": "stdout",
     "output_type": "stream",
     "text": [
      "35 tensor(0.9386, device='cuda:0', dtype=torch.float64)\n"
     ]
    },
    {
     "name": "stderr",
     "output_type": "stream",
     "text": [
      "100%|██████████| 391/391 [00:03<00:00, 129.36it/s]\n",
      "100%|██████████| 79/79 [00:00<00:00, 167.74it/s]\n"
     ]
    },
    {
     "name": "stdout",
     "output_type": "stream",
     "text": [
      "36 tensor(0.9414, device='cuda:0', dtype=torch.float64)\n"
     ]
    },
    {
     "name": "stderr",
     "output_type": "stream",
     "text": [
      "100%|██████████| 391/391 [00:03<00:00, 114.29it/s]\n",
      "100%|██████████| 79/79 [00:00<00:00, 140.54it/s]\n"
     ]
    },
    {
     "name": "stdout",
     "output_type": "stream",
     "text": [
      "37 tensor(0.9452, device='cuda:0', dtype=torch.float64)\n"
     ]
    },
    {
     "name": "stderr",
     "output_type": "stream",
     "text": [
      "100%|██████████| 391/391 [00:02<00:00, 136.75it/s]\n",
      "100%|██████████| 79/79 [00:00<00:00, 157.97it/s]\n",
      "100%|██████████| 391/391 [00:03<00:00, 122.22it/s]\n",
      "100%|██████████| 79/79 [00:00<00:00, 199.46it/s]"
     ]
    },
    {
     "name": "stdout",
     "output_type": "stream",
     "text": [
      "tensor(0.9452, device='cuda:0', dtype=torch.float64)\n"
     ]
    },
    {
     "name": "stderr",
     "output_type": "stream",
     "text": [
      "\n"
     ]
    }
   ],
   "source": [
    "import torch\n",
    "import torch.nn as nn\n",
    "import torch.optim as optim\n",
    "from model import *\n",
    "from torch.optim import lr_scheduler\n",
    "from sklearn.utils import shuffle\n",
    "from sklearn.metrics import precision_recall_fscore_support, accuracy_score\n",
    "\n",
    "\n",
    "print(\"My device is : \",device)\n",
    "\n",
    "data_train_target = custum_MNIST(True, 0, '../data', train=True, download=True,\n",
    "                   transform=transforms.Compose([\n",
    "                       transforms.ToTensor(),\n",
    "                       transforms.Normalize((0.1307,), (0.3081,))\n",
    "                   ]))\n",
    "data_test_target = custum_MNIST(True, 0, '../data', train=False, transform=transforms.Compose([\n",
    "                   transforms.ToTensor(),\n",
    "                   transforms.Normalize((0.1307,), (0.3081,))\n",
    "               ]))\n",
    "\n",
    "criterion = nn.CrossEntropyLoss()\n",
    "train_loader_target = torch.utils.data.DataLoader(data_train_target, batch_size=64, shuffle=True)\n",
    "test_loader_target = torch.utils.data.DataLoader(data_test_target, batch_size=64, shuffle=True)\n",
    "dataloaders_target = {\"train\": train_loader_target, \"val\": test_loader_target}\n",
    "dataset_sizes_target = {\"train\": len(data_train_target), \"val\": len(data_test_target)}\n",
    "print(\"TAILLE dataset\", dataset_sizes_target)\n",
    "model_target = Net_mnist().to(device)\n",
    "optimizer = optim.SGD(model_target.parameters(), lr=0.001, momentum=0.5)\n",
    "exp_lr_scheduler = None\n",
    "\n",
    "model_target, best_acc_target, data_test_set, label_test_set = train(model_target, criterion, optimizer, exp_lr_scheduler, dataloaders_target, dataset_sizes_target,\n",
    "                       num_epochs=40)\n",
    "\n",
    "print(best_acc_target)"
   ]
  },
  {
   "attachments": {},
   "cell_type": "markdown",
   "id": "28bd463e",
   "metadata": {},
   "source": [
    "<h3>Train shadow model and use shadow model's training set and validation set as training set for MIA</h3>"
   ]
  },
  {
   "cell_type": "code",
   "execution_count": 5,
   "id": "86ee9efd",
   "metadata": {},
   "outputs": [
    {
     "name": "stdout",
     "output_type": "stream",
     "text": [
      "TAILLE dataset {'train': 2500, 'val': 2500}\n",
      "DATASET SIZE {'train': 2500, 'val': 2500}\n"
     ]
    },
    {
     "name": "stderr",
     "output_type": "stream",
     "text": [
      "100%|██████████| 40/40 [00:00<00:00, 50.95it/s]\n",
      "100%|██████████| 40/40 [00:00<00:00, 162.77it/s]\n"
     ]
    },
    {
     "name": "stdout",
     "output_type": "stream",
     "text": [
      "0 tensor(0.1060, device='cuda:0', dtype=torch.float64)\n"
     ]
    },
    {
     "name": "stderr",
     "output_type": "stream",
     "text": [
      "100%|██████████| 40/40 [00:00<00:00, 138.63it/s]\n",
      "100%|██████████| 40/40 [00:00<00:00, 163.80it/s]\n"
     ]
    },
    {
     "name": "stdout",
     "output_type": "stream",
     "text": [
      "1 tensor(0.1740, device='cuda:0', dtype=torch.float64)\n"
     ]
    },
    {
     "name": "stderr",
     "output_type": "stream",
     "text": [
      "100%|██████████| 40/40 [00:00<00:00, 139.63it/s]\n",
      "100%|██████████| 40/40 [00:00<00:00, 164.15it/s]\n"
     ]
    },
    {
     "name": "stdout",
     "output_type": "stream",
     "text": [
      "2 tensor(0.2340, device='cuda:0', dtype=torch.float64)\n"
     ]
    },
    {
     "name": "stderr",
     "output_type": "stream",
     "text": [
      "100%|██████████| 40/40 [00:00<00:00, 139.08it/s]\n",
      "100%|██████████| 40/40 [00:00<00:00, 168.99it/s]\n"
     ]
    },
    {
     "name": "stdout",
     "output_type": "stream",
     "text": [
      "3 tensor(0.2900, device='cuda:0', dtype=torch.float64)\n"
     ]
    },
    {
     "name": "stderr",
     "output_type": "stream",
     "text": [
      "100%|██████████| 40/40 [00:00<00:00, 129.73it/s]\n",
      "100%|██████████| 40/40 [00:00<00:00, 163.43it/s]\n"
     ]
    },
    {
     "name": "stdout",
     "output_type": "stream",
     "text": [
      "4 tensor(0.3460, device='cuda:0', dtype=torch.float64)\n"
     ]
    },
    {
     "name": "stderr",
     "output_type": "stream",
     "text": [
      "100%|██████████| 40/40 [00:00<00:00, 125.91it/s]\n",
      "100%|██████████| 40/40 [00:00<00:00, 162.69it/s]\n"
     ]
    },
    {
     "name": "stdout",
     "output_type": "stream",
     "text": [
      "5 tensor(0.4000, device='cuda:0', dtype=torch.float64)\n"
     ]
    },
    {
     "name": "stderr",
     "output_type": "stream",
     "text": [
      "100%|██████████| 40/40 [00:00<00:00, 116.99it/s]\n",
      "100%|██████████| 40/40 [00:00<00:00, 169.24it/s]\n"
     ]
    },
    {
     "name": "stdout",
     "output_type": "stream",
     "text": [
      "6 tensor(0.4180, device='cuda:0', dtype=torch.float64)\n"
     ]
    },
    {
     "name": "stderr",
     "output_type": "stream",
     "text": [
      "100%|██████████| 40/40 [00:00<00:00, 134.42it/s]\n",
      "100%|██████████| 40/40 [00:00<00:00, 171.28it/s]\n",
      "100%|██████████| 40/40 [00:00<00:00, 134.28it/s]\n",
      "100%|██████████| 40/40 [00:00<00:00, 168.05it/s]\n"
     ]
    },
    {
     "name": "stdout",
     "output_type": "stream",
     "text": [
      "8 tensor(0.4420, device='cuda:0', dtype=torch.float64)\n"
     ]
    },
    {
     "name": "stderr",
     "output_type": "stream",
     "text": [
      "100%|██████████| 40/40 [00:00<00:00, 131.78it/s]\n",
      "100%|██████████| 40/40 [00:00<00:00, 163.71it/s]\n"
     ]
    },
    {
     "name": "stdout",
     "output_type": "stream",
     "text": [
      "9 tensor(0.4860, device='cuda:0', dtype=torch.float64)\n"
     ]
    },
    {
     "name": "stderr",
     "output_type": "stream",
     "text": [
      "100%|██████████| 40/40 [00:00<00:00, 127.76it/s]\n",
      "100%|██████████| 40/40 [00:00<00:00, 140.62it/s]\n"
     ]
    },
    {
     "name": "stdout",
     "output_type": "stream",
     "text": [
      "10 tensor(0.5180, device='cuda:0', dtype=torch.float64)\n"
     ]
    },
    {
     "name": "stderr",
     "output_type": "stream",
     "text": [
      "100%|██████████| 40/40 [00:00<00:00, 121.19it/s]\n",
      "100%|██████████| 40/40 [00:00<00:00, 166.18it/s]\n"
     ]
    },
    {
     "name": "stdout",
     "output_type": "stream",
     "text": [
      "11 tensor(0.5400, device='cuda:0', dtype=torch.float64)\n"
     ]
    },
    {
     "name": "stderr",
     "output_type": "stream",
     "text": [
      "100%|██████████| 40/40 [00:00<00:00, 134.33it/s]\n",
      "100%|██████████| 40/40 [00:00<00:00, 163.36it/s]\n"
     ]
    },
    {
     "name": "stdout",
     "output_type": "stream",
     "text": [
      "12 tensor(0.5840, device='cuda:0', dtype=torch.float64)\n"
     ]
    },
    {
     "name": "stderr",
     "output_type": "stream",
     "text": [
      "100%|██████████| 40/40 [00:00<00:00, 137.13it/s]\n",
      "100%|██████████| 40/40 [00:00<00:00, 170.24it/s]\n"
     ]
    },
    {
     "name": "stdout",
     "output_type": "stream",
     "text": [
      "13 tensor(0.6080, device='cuda:0', dtype=torch.float64)\n"
     ]
    },
    {
     "name": "stderr",
     "output_type": "stream",
     "text": [
      "100%|██████████| 40/40 [00:00<00:00, 136.42it/s]\n",
      "100%|██████████| 40/40 [00:00<00:00, 162.64it/s]\n"
     ]
    },
    {
     "name": "stdout",
     "output_type": "stream",
     "text": [
      "14 tensor(0.6660, device='cuda:0', dtype=torch.float64)\n"
     ]
    },
    {
     "name": "stderr",
     "output_type": "stream",
     "text": [
      "100%|██████████| 40/40 [00:00<00:00, 127.21it/s]\n",
      "100%|██████████| 40/40 [00:00<00:00, 142.60it/s]\n"
     ]
    },
    {
     "name": "stdout",
     "output_type": "stream",
     "text": [
      "15 tensor(0.6920, device='cuda:0', dtype=torch.float64)\n"
     ]
    },
    {
     "name": "stderr",
     "output_type": "stream",
     "text": [
      "100%|██████████| 40/40 [00:00<00:00, 118.41it/s]\n",
      "100%|██████████| 40/40 [00:00<00:00, 160.99it/s]\n"
     ]
    },
    {
     "name": "stdout",
     "output_type": "stream",
     "text": [
      "16 tensor(0.7140, device='cuda:0', dtype=torch.float64)\n"
     ]
    },
    {
     "name": "stderr",
     "output_type": "stream",
     "text": [
      "100%|██████████| 40/40 [00:00<00:00, 131.83it/s]\n",
      "100%|██████████| 40/40 [00:00<00:00, 173.46it/s]\n"
     ]
    },
    {
     "name": "stdout",
     "output_type": "stream",
     "text": [
      "17 tensor(0.7200, device='cuda:0', dtype=torch.float64)\n"
     ]
    },
    {
     "name": "stderr",
     "output_type": "stream",
     "text": [
      "100%|██████████| 40/40 [00:00<00:00, 138.67it/s]\n",
      "100%|██████████| 40/40 [00:00<00:00, 169.92it/s]\n"
     ]
    },
    {
     "name": "stdout",
     "output_type": "stream",
     "text": [
      "18 tensor(0.7400, device='cuda:0', dtype=torch.float64)\n"
     ]
    },
    {
     "name": "stderr",
     "output_type": "stream",
     "text": [
      "100%|██████████| 40/40 [00:00<00:00, 141.15it/s]\n",
      "100%|██████████| 40/40 [00:00<00:00, 155.85it/s]\n"
     ]
    },
    {
     "name": "stdout",
     "output_type": "stream",
     "text": [
      "19 tensor(0.7540, device='cuda:0', dtype=torch.float64)\n"
     ]
    },
    {
     "name": "stderr",
     "output_type": "stream",
     "text": [
      "100%|██████████| 40/40 [00:00<00:00, 112.99it/s]\n",
      "100%|██████████| 40/40 [00:00<00:00, 164.15it/s]\n"
     ]
    },
    {
     "name": "stdout",
     "output_type": "stream",
     "text": [
      "20 tensor(0.7760, device='cuda:0', dtype=torch.float64)\n"
     ]
    },
    {
     "name": "stderr",
     "output_type": "stream",
     "text": [
      "100%|██████████| 40/40 [00:00<00:00, 133.56it/s]\n",
      "100%|██████████| 40/40 [00:00<00:00, 166.61it/s]\n"
     ]
    },
    {
     "name": "stdout",
     "output_type": "stream",
     "text": [
      "21 tensor(0.8000, device='cuda:0', dtype=torch.float64)\n"
     ]
    },
    {
     "name": "stderr",
     "output_type": "stream",
     "text": [
      "100%|██████████| 40/40 [00:00<00:00, 135.59it/s]\n",
      "100%|██████████| 40/40 [00:00<00:00, 163.36it/s]\n"
     ]
    },
    {
     "name": "stdout",
     "output_type": "stream",
     "text": [
      "22 tensor(0.8020, device='cuda:0', dtype=torch.float64)\n"
     ]
    },
    {
     "name": "stderr",
     "output_type": "stream",
     "text": [
      "100%|██████████| 40/40 [00:00<00:00, 136.86it/s]\n",
      "100%|██████████| 40/40 [00:00<00:00, 166.89it/s]\n"
     ]
    },
    {
     "name": "stdout",
     "output_type": "stream",
     "text": [
      "23 tensor(0.8140, device='cuda:0', dtype=torch.float64)\n"
     ]
    },
    {
     "name": "stderr",
     "output_type": "stream",
     "text": [
      "100%|██████████| 40/40 [00:00<00:00, 110.34it/s]\n",
      "100%|██████████| 40/40 [00:00<00:00, 161.75it/s]\n"
     ]
    },
    {
     "name": "stdout",
     "output_type": "stream",
     "text": [
      "24 tensor(0.8160, device='cuda:0', dtype=torch.float64)\n"
     ]
    },
    {
     "name": "stderr",
     "output_type": "stream",
     "text": [
      "100%|██████████| 40/40 [00:00<00:00, 135.91it/s]\n",
      "100%|██████████| 40/40 [00:00<00:00, 167.66it/s]\n"
     ]
    },
    {
     "name": "stdout",
     "output_type": "stream",
     "text": [
      "25 tensor(0.8220, device='cuda:0', dtype=torch.float64)\n"
     ]
    },
    {
     "name": "stderr",
     "output_type": "stream",
     "text": [
      "100%|██████████| 40/40 [00:00<00:00, 131.61it/s]\n",
      "100%|██████████| 40/40 [00:00<00:00, 166.12it/s]\n"
     ]
    },
    {
     "name": "stdout",
     "output_type": "stream",
     "text": [
      "26 tensor(0.8280, device='cuda:0', dtype=torch.float64)\n"
     ]
    },
    {
     "name": "stderr",
     "output_type": "stream",
     "text": [
      "100%|██████████| 40/40 [00:00<00:00, 127.47it/s]\n",
      "100%|██████████| 40/40 [00:00<00:00, 159.85it/s]\n",
      "100%|██████████| 40/40 [00:00<00:00, 114.03it/s]\n",
      "100%|██████████| 40/40 [00:00<00:00, 177.61it/s]\n"
     ]
    },
    {
     "name": "stdout",
     "output_type": "stream",
     "text": [
      "28 tensor(0.8460, device='cuda:0', dtype=torch.float64)\n"
     ]
    },
    {
     "name": "stderr",
     "output_type": "stream",
     "text": [
      "100%|██████████| 40/40 [00:00<00:00, 148.47it/s]\n",
      "100%|██████████| 40/40 [00:00<00:00, 183.37it/s]\n",
      "100%|██████████| 40/40 [00:00<00:00, 159.43it/s]\n",
      "100%|██████████| 40/40 [00:00<00:00, 193.08it/s]\n",
      "100%|██████████| 40/40 [00:00<00:00, 161.38it/s]\n",
      "100%|██████████| 40/40 [00:00<00:00, 194.22it/s]\n",
      "100%|██████████| 40/40 [00:00<00:00, 122.33it/s]\n",
      "100%|██████████| 40/40 [00:00<00:00, 158.38it/s]\n"
     ]
    },
    {
     "name": "stdout",
     "output_type": "stream",
     "text": [
      "32 tensor(0.8600, device='cuda:0', dtype=torch.float64)\n"
     ]
    },
    {
     "name": "stderr",
     "output_type": "stream",
     "text": [
      "100%|██████████| 40/40 [00:00<00:00, 108.80it/s]\n",
      "100%|██████████| 40/40 [00:00<00:00, 152.40it/s]\n",
      "100%|██████████| 40/40 [00:00<00:00, 89.78it/s]\n",
      "100%|██████████| 40/40 [00:00<00:00, 189.64it/s]\n"
     ]
    },
    {
     "name": "stdout",
     "output_type": "stream",
     "text": [
      "34 tensor(0.8680, device='cuda:0', dtype=torch.float64)\n"
     ]
    },
    {
     "name": "stderr",
     "output_type": "stream",
     "text": [
      "100%|██████████| 40/40 [00:00<00:00, 155.10it/s]\n",
      "100%|██████████| 40/40 [00:00<00:00, 189.89it/s]\n",
      "100%|██████████| 40/40 [00:00<00:00, 153.64it/s]\n",
      "100%|██████████| 40/40 [00:00<00:00, 189.01it/s]\n"
     ]
    },
    {
     "name": "stdout",
     "output_type": "stream",
     "text": [
      "36 tensor(0.8700, device='cuda:0', dtype=torch.float64)\n"
     ]
    },
    {
     "name": "stderr",
     "output_type": "stream",
     "text": [
      "100%|██████████| 40/40 [00:00<00:00, 152.85it/s]\n",
      "100%|██████████| 40/40 [00:00<00:00, 187.11it/s]\n",
      "100%|██████████| 40/40 [00:00<00:00, 136.04it/s]\n",
      "100%|██████████| 40/40 [00:00<00:00, 162.02it/s]\n",
      "100%|██████████| 40/40 [00:00<00:00, 105.00it/s]\n",
      "100%|██████████| 40/40 [00:00<00:00, 144.57it/s]\n"
     ]
    },
    {
     "name": "stdout",
     "output_type": "stream",
     "text": [
      "39 tensor(0.8720, device='cuda:0', dtype=torch.float64)\n",
      "Finished Shadow Model 0 Training with accuracy 0.872\n",
      "TAILLE dataset {'train': 2500, 'val': 2500}\n",
      "DATASET SIZE {'train': 2500, 'val': 2500}\n"
     ]
    },
    {
     "name": "stderr",
     "output_type": "stream",
     "text": [
      "100%|██████████| 40/40 [00:00<00:00, 109.16it/s]\n",
      "100%|██████████| 40/40 [00:00<00:00, 151.64it/s]\n"
     ]
    },
    {
     "name": "stdout",
     "output_type": "stream",
     "text": [
      "0 tensor(0.1020, device='cuda:0', dtype=torch.float64)\n"
     ]
    },
    {
     "name": "stderr",
     "output_type": "stream",
     "text": [
      "100%|██████████| 40/40 [00:00<00:00, 110.28it/s]\n",
      "100%|██████████| 40/40 [00:00<00:00, 153.40it/s]\n"
     ]
    },
    {
     "name": "stdout",
     "output_type": "stream",
     "text": [
      "1 tensor(0.1540, device='cuda:0', dtype=torch.float64)\n"
     ]
    },
    {
     "name": "stderr",
     "output_type": "stream",
     "text": [
      "100%|██████████| 40/40 [00:00<00:00, 102.08it/s]\n",
      "100%|██████████| 40/40 [00:00<00:00, 133.29it/s]\n"
     ]
    },
    {
     "name": "stdout",
     "output_type": "stream",
     "text": [
      "2 tensor(0.1940, device='cuda:0', dtype=torch.float64)\n"
     ]
    },
    {
     "name": "stderr",
     "output_type": "stream",
     "text": [
      "100%|██████████| 40/40 [00:00<00:00, 88.91it/s]\n",
      "100%|██████████| 40/40 [00:00<00:00, 140.45it/s]\n"
     ]
    },
    {
     "name": "stdout",
     "output_type": "stream",
     "text": [
      "3 tensor(0.2660, device='cuda:0', dtype=torch.float64)\n"
     ]
    },
    {
     "name": "stderr",
     "output_type": "stream",
     "text": [
      "100%|██████████| 40/40 [00:00<00:00, 116.54it/s]\n",
      "100%|██████████| 40/40 [00:00<00:00, 194.13it/s]\n"
     ]
    },
    {
     "name": "stdout",
     "output_type": "stream",
     "text": [
      "4 tensor(0.3240, device='cuda:0', dtype=torch.float64)\n"
     ]
    },
    {
     "name": "stderr",
     "output_type": "stream",
     "text": [
      "100%|██████████| 40/40 [00:00<00:00, 156.24it/s]\n",
      "100%|██████████| 40/40 [00:00<00:00, 182.01it/s]\n"
     ]
    },
    {
     "name": "stdout",
     "output_type": "stream",
     "text": [
      "5 tensor(0.3820, device='cuda:0', dtype=torch.float64)\n"
     ]
    },
    {
     "name": "stderr",
     "output_type": "stream",
     "text": [
      "100%|██████████| 40/40 [00:00<00:00, 142.88it/s]\n",
      "100%|██████████| 40/40 [00:00<00:00, 182.53it/s]\n"
     ]
    },
    {
     "name": "stdout",
     "output_type": "stream",
     "text": [
      "6 tensor(0.4360, device='cuda:0', dtype=torch.float64)\n"
     ]
    },
    {
     "name": "stderr",
     "output_type": "stream",
     "text": [
      "100%|██████████| 40/40 [00:00<00:00, 149.14it/s]\n",
      "100%|██████████| 40/40 [00:00<00:00, 173.94it/s]\n"
     ]
    },
    {
     "name": "stdout",
     "output_type": "stream",
     "text": [
      "7 tensor(0.4700, device='cuda:0', dtype=torch.float64)\n"
     ]
    },
    {
     "name": "stderr",
     "output_type": "stream",
     "text": [
      "100%|██████████| 40/40 [00:00<00:00, 109.55it/s]\n",
      "100%|██████████| 40/40 [00:00<00:00, 155.69it/s]\n"
     ]
    },
    {
     "name": "stdout",
     "output_type": "stream",
     "text": [
      "8 tensor(0.5000, device='cuda:0', dtype=torch.float64)\n"
     ]
    },
    {
     "name": "stderr",
     "output_type": "stream",
     "text": [
      "100%|██████████| 40/40 [00:00<00:00, 109.50it/s]\n",
      "100%|██████████| 40/40 [00:00<00:00, 142.65it/s]\n"
     ]
    },
    {
     "name": "stdout",
     "output_type": "stream",
     "text": [
      "9 tensor(0.5260, device='cuda:0', dtype=torch.float64)\n"
     ]
    },
    {
     "name": "stderr",
     "output_type": "stream",
     "text": [
      "100%|██████████| 40/40 [00:00<00:00, 108.55it/s]\n",
      "100%|██████████| 40/40 [00:00<00:00, 143.67it/s]\n"
     ]
    },
    {
     "name": "stdout",
     "output_type": "stream",
     "text": [
      "10 tensor(0.5500, device='cuda:0', dtype=torch.float64)\n"
     ]
    },
    {
     "name": "stderr",
     "output_type": "stream",
     "text": [
      "100%|██████████| 40/40 [00:00<00:00, 105.78it/s]\n",
      "100%|██████████| 40/40 [00:00<00:00, 148.27it/s]\n"
     ]
    },
    {
     "name": "stdout",
     "output_type": "stream",
     "text": [
      "11 tensor(0.5800, device='cuda:0', dtype=torch.float64)\n"
     ]
    },
    {
     "name": "stderr",
     "output_type": "stream",
     "text": [
      "100%|██████████| 40/40 [00:00<00:00, 106.35it/s]\n",
      "100%|██████████| 40/40 [00:00<00:00, 149.90it/s]\n"
     ]
    },
    {
     "name": "stdout",
     "output_type": "stream",
     "text": [
      "12 tensor(0.6060, device='cuda:0', dtype=torch.float64)\n"
     ]
    },
    {
     "name": "stderr",
     "output_type": "stream",
     "text": [
      "100%|██████████| 40/40 [00:00<00:00, 90.72it/s] \n",
      "100%|██████████| 40/40 [00:00<00:00, 132.56it/s]\n"
     ]
    },
    {
     "name": "stdout",
     "output_type": "stream",
     "text": [
      "13 tensor(0.6500, device='cuda:0', dtype=torch.float64)\n"
     ]
    },
    {
     "name": "stderr",
     "output_type": "stream",
     "text": [
      "100%|██████████| 40/40 [00:00<00:00, 95.19it/s]\n",
      "100%|██████████| 40/40 [00:00<00:00, 188.58it/s]\n"
     ]
    },
    {
     "name": "stdout",
     "output_type": "stream",
     "text": [
      "14 tensor(0.6520, device='cuda:0', dtype=torch.float64)\n"
     ]
    },
    {
     "name": "stderr",
     "output_type": "stream",
     "text": [
      "100%|██████████| 40/40 [00:00<00:00, 153.06it/s]\n",
      "100%|██████████| 40/40 [00:00<00:00, 174.32it/s]\n"
     ]
    },
    {
     "name": "stdout",
     "output_type": "stream",
     "text": [
      "15 tensor(0.6660, device='cuda:0', dtype=torch.float64)\n"
     ]
    },
    {
     "name": "stderr",
     "output_type": "stream",
     "text": [
      "100%|██████████| 40/40 [00:00<00:00, 147.16it/s]\n",
      "100%|██████████| 40/40 [00:00<00:00, 181.52it/s]\n"
     ]
    },
    {
     "name": "stdout",
     "output_type": "stream",
     "text": [
      "16 tensor(0.7080, device='cuda:0', dtype=torch.float64)\n"
     ]
    },
    {
     "name": "stderr",
     "output_type": "stream",
     "text": [
      "100%|██████████| 40/40 [00:00<00:00, 151.81it/s]\n",
      "100%|██████████| 40/40 [00:00<00:00, 189.81it/s]\n"
     ]
    },
    {
     "name": "stdout",
     "output_type": "stream",
     "text": [
      "17 tensor(0.7180, device='cuda:0', dtype=torch.float64)\n"
     ]
    },
    {
     "name": "stderr",
     "output_type": "stream",
     "text": [
      "100%|██████████| 40/40 [00:00<00:00, 108.60it/s]\n",
      "100%|██████████| 40/40 [00:00<00:00, 125.22it/s]\n"
     ]
    },
    {
     "name": "stdout",
     "output_type": "stream",
     "text": [
      "18 tensor(0.7340, device='cuda:0', dtype=torch.float64)\n"
     ]
    },
    {
     "name": "stderr",
     "output_type": "stream",
     "text": [
      "100%|██████████| 40/40 [00:00<00:00, 107.75it/s]\n",
      "100%|██████████| 40/40 [00:00<00:00, 160.73it/s]\n"
     ]
    },
    {
     "name": "stdout",
     "output_type": "stream",
     "text": [
      "19 tensor(0.7620, device='cuda:0', dtype=torch.float64)\n"
     ]
    },
    {
     "name": "stderr",
     "output_type": "stream",
     "text": [
      "100%|██████████| 40/40 [00:00<00:00, 145.88it/s]\n",
      "100%|██████████| 40/40 [00:00<00:00, 177.08it/s]\n"
     ]
    },
    {
     "name": "stdout",
     "output_type": "stream",
     "text": [
      "20 tensor(0.7920, device='cuda:0', dtype=torch.float64)\n"
     ]
    },
    {
     "name": "stderr",
     "output_type": "stream",
     "text": [
      "100%|██████████| 40/40 [00:00<00:00, 153.20it/s]\n",
      "100%|██████████| 40/40 [00:00<00:00, 184.35it/s]\n"
     ]
    },
    {
     "name": "stdout",
     "output_type": "stream",
     "text": [
      "21 tensor(0.8160, device='cuda:0', dtype=torch.float64)\n"
     ]
    },
    {
     "name": "stderr",
     "output_type": "stream",
     "text": [
      "100%|██████████| 40/40 [00:00<00:00, 148.72it/s]\n",
      "100%|██████████| 40/40 [00:00<00:00, 160.93it/s]\n"
     ]
    },
    {
     "name": "stdout",
     "output_type": "stream",
     "text": [
      "22 tensor(0.8220, device='cuda:0', dtype=torch.float64)\n"
     ]
    },
    {
     "name": "stderr",
     "output_type": "stream",
     "text": [
      "100%|██████████| 40/40 [00:00<00:00, 112.20it/s]\n",
      "100%|██████████| 40/40 [00:00<00:00, 140.34it/s]\n"
     ]
    },
    {
     "name": "stdout",
     "output_type": "stream",
     "text": [
      "23 tensor(0.8520, device='cuda:0', dtype=torch.float64)\n"
     ]
    },
    {
     "name": "stderr",
     "output_type": "stream",
     "text": [
      "100%|██████████| 40/40 [00:00<00:00, 111.36it/s]\n",
      "100%|██████████| 40/40 [00:00<00:00, 136.49it/s]\n",
      "100%|██████████| 40/40 [00:00<00:00, 126.97it/s]\n",
      "100%|██████████| 40/40 [00:00<00:00, 169.28it/s]\n"
     ]
    },
    {
     "name": "stdout",
     "output_type": "stream",
     "text": [
      "25 tensor(0.8620, device='cuda:0', dtype=torch.float64)\n"
     ]
    },
    {
     "name": "stderr",
     "output_type": "stream",
     "text": [
      "100%|██████████| 40/40 [00:00<00:00, 149.83it/s]\n",
      "100%|██████████| 40/40 [00:00<00:00, 167.47it/s]\n"
     ]
    },
    {
     "name": "stdout",
     "output_type": "stream",
     "text": [
      "26 tensor(0.8700, device='cuda:0', dtype=torch.float64)\n"
     ]
    },
    {
     "name": "stderr",
     "output_type": "stream",
     "text": [
      "100%|██████████| 40/40 [00:00<00:00, 147.93it/s]\n",
      "100%|██████████| 40/40 [00:00<00:00, 172.85it/s]\n",
      "100%|██████████| 40/40 [00:00<00:00, 140.30it/s]\n",
      "100%|██████████| 40/40 [00:00<00:00, 91.85it/s] \n"
     ]
    },
    {
     "name": "stdout",
     "output_type": "stream",
     "text": [
      "28 tensor(0.8760, device='cuda:0', dtype=torch.float64)\n"
     ]
    },
    {
     "name": "stderr",
     "output_type": "stream",
     "text": [
      "100%|██████████| 40/40 [00:00<00:00, 58.03it/s]\n",
      "100%|██████████| 40/40 [00:00<00:00, 65.48it/s]\n",
      "100%|██████████| 40/40 [00:00<00:00, 50.92it/s]\n",
      "100%|██████████| 40/40 [00:00<00:00, 58.77it/s]\n"
     ]
    },
    {
     "name": "stdout",
     "output_type": "stream",
     "text": [
      "30 tensor(0.8920, device='cuda:0', dtype=torch.float64)\n"
     ]
    },
    {
     "name": "stderr",
     "output_type": "stream",
     "text": [
      "100%|██████████| 40/40 [00:00<00:00, 46.43it/s]\n",
      "100%|██████████| 40/40 [00:00<00:00, 59.84it/s]\n",
      "100%|██████████| 40/40 [00:00<00:00, 50.44it/s]\n",
      "100%|██████████| 40/40 [00:00<00:00, 79.36it/s]\n",
      "100%|██████████| 40/40 [00:00<00:00, 62.43it/s]\n",
      "100%|██████████| 40/40 [00:00<00:00, 70.74it/s]\n"
     ]
    },
    {
     "name": "stdout",
     "output_type": "stream",
     "text": [
      "33 tensor(0.8980, device='cuda:0', dtype=torch.float64)\n"
     ]
    },
    {
     "name": "stderr",
     "output_type": "stream",
     "text": [
      "100%|██████████| 40/40 [00:00<00:00, 53.98it/s]\n",
      "100%|██████████| 40/40 [00:00<00:00, 69.25it/s]\n"
     ]
    },
    {
     "name": "stdout",
     "output_type": "stream",
     "text": [
      "34 tensor(0.9040, device='cuda:0', dtype=torch.float64)\n"
     ]
    },
    {
     "name": "stderr",
     "output_type": "stream",
     "text": [
      "100%|██████████| 40/40 [00:00<00:00, 62.43it/s]\n",
      "100%|██████████| 40/40 [00:00<00:00, 60.58it/s]\n"
     ]
    },
    {
     "name": "stdout",
     "output_type": "stream",
     "text": [
      "35 tensor(0.9060, device='cuda:0', dtype=torch.float64)\n"
     ]
    },
    {
     "name": "stderr",
     "output_type": "stream",
     "text": [
      "100%|██████████| 40/40 [00:00<00:00, 58.09it/s]\n",
      "100%|██████████| 40/40 [00:00<00:00, 69.44it/s]\n",
      "100%|██████████| 40/40 [00:00<00:00, 65.80it/s]\n",
      "100%|██████████| 40/40 [00:00<00:00, 70.67it/s]\n",
      "100%|██████████| 40/40 [00:00<00:00, 56.08it/s]\n",
      "100%|██████████| 40/40 [00:00<00:00, 64.26it/s]\n"
     ]
    },
    {
     "name": "stdout",
     "output_type": "stream",
     "text": [
      "38 tensor(0.9120, device='cuda:0', dtype=torch.float64)\n"
     ]
    },
    {
     "name": "stderr",
     "output_type": "stream",
     "text": [
      "100%|██████████| 40/40 [00:00<00:00, 44.15it/s]\n",
      "100%|██████████| 40/40 [00:00<00:00, 56.90it/s]\n"
     ]
    },
    {
     "name": "stdout",
     "output_type": "stream",
     "text": [
      "Finished Shadow Model 1 Training with accuracy 0.912\n",
      "TAILLE dataset {'train': 2500, 'val': 2500}\n",
      "DATASET SIZE {'train': 2500, 'val': 2500}\n"
     ]
    },
    {
     "name": "stderr",
     "output_type": "stream",
     "text": [
      "100%|██████████| 40/40 [00:00<00:00, 43.99it/s]\n",
      "100%|██████████| 40/40 [00:00<00:00, 58.33it/s]\n"
     ]
    },
    {
     "name": "stdout",
     "output_type": "stream",
     "text": [
      "0 tensor(0.1160, device='cuda:0', dtype=torch.float64)\n"
     ]
    },
    {
     "name": "stderr",
     "output_type": "stream",
     "text": [
      "100%|██████████| 40/40 [00:00<00:00, 43.80it/s]\n",
      "100%|██████████| 40/40 [00:00<00:00, 59.86it/s]\n"
     ]
    },
    {
     "name": "stdout",
     "output_type": "stream",
     "text": [
      "1 tensor(0.1200, device='cuda:0', dtype=torch.float64)\n"
     ]
    },
    {
     "name": "stderr",
     "output_type": "stream",
     "text": [
      "100%|██████████| 40/40 [00:00<00:00, 41.40it/s]\n",
      "100%|██████████| 40/40 [00:00<00:00, 60.43it/s]\n"
     ]
    },
    {
     "name": "stdout",
     "output_type": "stream",
     "text": [
      "2 tensor(0.1280, device='cuda:0', dtype=torch.float64)\n"
     ]
    },
    {
     "name": "stderr",
     "output_type": "stream",
     "text": [
      "100%|██████████| 40/40 [00:00<00:00, 44.76it/s]\n",
      "100%|██████████| 40/40 [00:00<00:00, 62.30it/s]\n"
     ]
    },
    {
     "name": "stdout",
     "output_type": "stream",
     "text": [
      "3 tensor(0.1420, device='cuda:0', dtype=torch.float64)\n"
     ]
    },
    {
     "name": "stderr",
     "output_type": "stream",
     "text": [
      "100%|██████████| 40/40 [00:00<00:00, 41.71it/s]\n",
      "100%|██████████| 40/40 [00:00<00:00, 59.38it/s]\n"
     ]
    },
    {
     "name": "stdout",
     "output_type": "stream",
     "text": [
      "4 tensor(0.1700, device='cuda:0', dtype=torch.float64)\n"
     ]
    },
    {
     "name": "stderr",
     "output_type": "stream",
     "text": [
      "100%|██████████| 40/40 [00:00<00:00, 43.85it/s]\n",
      "100%|██████████| 40/40 [00:00<00:00, 57.67it/s]\n"
     ]
    },
    {
     "name": "stdout",
     "output_type": "stream",
     "text": [
      "5 tensor(0.2020, device='cuda:0', dtype=torch.float64)\n"
     ]
    },
    {
     "name": "stderr",
     "output_type": "stream",
     "text": [
      "100%|██████████| 40/40 [00:00<00:00, 44.98it/s]\n",
      "100%|██████████| 40/40 [00:00<00:00, 59.37it/s]\n"
     ]
    },
    {
     "name": "stdout",
     "output_type": "stream",
     "text": [
      "6 tensor(0.2460, device='cuda:0', dtype=torch.float64)\n"
     ]
    },
    {
     "name": "stderr",
     "output_type": "stream",
     "text": [
      "100%|██████████| 40/40 [00:00<00:00, 43.49it/s]\n",
      "100%|██████████| 40/40 [00:00<00:00, 59.61it/s]\n"
     ]
    },
    {
     "name": "stdout",
     "output_type": "stream",
     "text": [
      "7 tensor(0.2740, device='cuda:0', dtype=torch.float64)\n"
     ]
    },
    {
     "name": "stderr",
     "output_type": "stream",
     "text": [
      "100%|██████████| 40/40 [00:00<00:00, 44.37it/s]\n",
      "100%|██████████| 40/40 [00:00<00:00, 71.12it/s]\n"
     ]
    },
    {
     "name": "stdout",
     "output_type": "stream",
     "text": [
      "8 tensor(0.3040, device='cuda:0', dtype=torch.float64)\n"
     ]
    },
    {
     "name": "stderr",
     "output_type": "stream",
     "text": [
      "100%|██████████| 40/40 [00:00<00:00, 72.71it/s]\n",
      "100%|██████████| 40/40 [00:00<00:00, 70.96it/s]\n"
     ]
    },
    {
     "name": "stdout",
     "output_type": "stream",
     "text": [
      "9 tensor(0.3720, device='cuda:0', dtype=torch.float64)\n"
     ]
    },
    {
     "name": "stderr",
     "output_type": "stream",
     "text": [
      "100%|██████████| 40/40 [00:00<00:00, 68.62it/s]\n",
      "100%|██████████| 40/40 [00:00<00:00, 73.95it/s]\n"
     ]
    },
    {
     "name": "stdout",
     "output_type": "stream",
     "text": [
      "10 tensor(0.4340, device='cuda:0', dtype=torch.float64)\n"
     ]
    },
    {
     "name": "stderr",
     "output_type": "stream",
     "text": [
      "100%|██████████| 40/40 [00:00<00:00, 72.16it/s]\n",
      "100%|██████████| 40/40 [00:00<00:00, 62.14it/s]\n"
     ]
    },
    {
     "name": "stdout",
     "output_type": "stream",
     "text": [
      "11 tensor(0.4540, device='cuda:0', dtype=torch.float64)\n"
     ]
    },
    {
     "name": "stderr",
     "output_type": "stream",
     "text": [
      "100%|██████████| 40/40 [00:00<00:00, 52.33it/s]\n",
      "100%|██████████| 40/40 [00:00<00:00, 60.66it/s]\n"
     ]
    },
    {
     "name": "stdout",
     "output_type": "stream",
     "text": [
      "12 tensor(0.4680, device='cuda:0', dtype=torch.float64)\n"
     ]
    },
    {
     "name": "stderr",
     "output_type": "stream",
     "text": [
      "100%|██████████| 40/40 [00:00<00:00, 43.22it/s]\n",
      "100%|██████████| 40/40 [00:00<00:00, 58.03it/s]\n"
     ]
    },
    {
     "name": "stdout",
     "output_type": "stream",
     "text": [
      "13 tensor(0.5200, device='cuda:0', dtype=torch.float64)\n"
     ]
    },
    {
     "name": "stderr",
     "output_type": "stream",
     "text": [
      "100%|██████████| 40/40 [00:00<00:00, 43.71it/s]\n",
      "100%|██████████| 40/40 [00:00<00:00, 57.58it/s]\n"
     ]
    },
    {
     "name": "stdout",
     "output_type": "stream",
     "text": [
      "14 tensor(0.5640, device='cuda:0', dtype=torch.float64)\n"
     ]
    },
    {
     "name": "stderr",
     "output_type": "stream",
     "text": [
      "100%|██████████| 40/40 [00:00<00:00, 43.29it/s]\n",
      "100%|██████████| 40/40 [00:00<00:00, 58.86it/s]\n"
     ]
    },
    {
     "name": "stdout",
     "output_type": "stream",
     "text": [
      "15 tensor(0.6140, device='cuda:0', dtype=torch.float64)\n"
     ]
    },
    {
     "name": "stderr",
     "output_type": "stream",
     "text": [
      "100%|██████████| 40/40 [00:00<00:00, 44.75it/s]\n",
      "100%|██████████| 40/40 [00:00<00:00, 60.36it/s]\n"
     ]
    },
    {
     "name": "stdout",
     "output_type": "stream",
     "text": [
      "16 tensor(0.6500, device='cuda:0', dtype=torch.float64)\n"
     ]
    },
    {
     "name": "stderr",
     "output_type": "stream",
     "text": [
      "100%|██████████| 40/40 [00:00<00:00, 45.11it/s]\n",
      "100%|██████████| 40/40 [00:00<00:00, 57.24it/s]\n"
     ]
    },
    {
     "name": "stdout",
     "output_type": "stream",
     "text": [
      "17 tensor(0.6720, device='cuda:0', dtype=torch.float64)\n"
     ]
    },
    {
     "name": "stderr",
     "output_type": "stream",
     "text": [
      "100%|██████████| 40/40 [00:00<00:00, 41.35it/s]\n",
      "100%|██████████| 40/40 [00:00<00:00, 69.56it/s]\n"
     ]
    },
    {
     "name": "stdout",
     "output_type": "stream",
     "text": [
      "18 tensor(0.7200, device='cuda:0', dtype=torch.float64)\n"
     ]
    },
    {
     "name": "stderr",
     "output_type": "stream",
     "text": [
      "100%|██████████| 40/40 [00:00<00:00, 45.67it/s]\n",
      "100%|██████████| 40/40 [00:00<00:00, 58.77it/s]\n"
     ]
    },
    {
     "name": "stdout",
     "output_type": "stream",
     "text": [
      "19 tensor(0.7320, device='cuda:0', dtype=torch.float64)\n"
     ]
    },
    {
     "name": "stderr",
     "output_type": "stream",
     "text": [
      "100%|██████████| 40/40 [00:00<00:00, 41.46it/s]\n",
      "100%|██████████| 40/40 [00:00<00:00, 62.35it/s]\n",
      "100%|██████████| 40/40 [00:00<00:00, 45.13it/s]\n",
      "100%|██████████| 40/40 [00:00<00:00, 60.05it/s]\n"
     ]
    },
    {
     "name": "stdout",
     "output_type": "stream",
     "text": [
      "21 tensor(0.7400, device='cuda:0', dtype=torch.float64)\n"
     ]
    },
    {
     "name": "stderr",
     "output_type": "stream",
     "text": [
      "100%|██████████| 40/40 [00:00<00:00, 41.45it/s]\n",
      "100%|██████████| 40/40 [00:00<00:00, 59.93it/s]\n"
     ]
    },
    {
     "name": "stdout",
     "output_type": "stream",
     "text": [
      "22 tensor(0.7700, device='cuda:0', dtype=torch.float64)\n"
     ]
    },
    {
     "name": "stderr",
     "output_type": "stream",
     "text": [
      "100%|██████████| 40/40 [00:00<00:00, 43.38it/s]\n",
      "100%|██████████| 40/40 [00:00<00:00, 56.78it/s]\n",
      "100%|██████████| 40/40 [00:00<00:00, 41.12it/s]\n",
      "100%|██████████| 40/40 [00:00<00:00, 58.70it/s]\n"
     ]
    },
    {
     "name": "stdout",
     "output_type": "stream",
     "text": [
      "24 tensor(0.7800, device='cuda:0', dtype=torch.float64)\n"
     ]
    },
    {
     "name": "stderr",
     "output_type": "stream",
     "text": [
      "100%|██████████| 40/40 [00:00<00:00, 46.37it/s]\n",
      "100%|██████████| 40/40 [00:00<00:00, 60.32it/s]\n"
     ]
    },
    {
     "name": "stdout",
     "output_type": "stream",
     "text": [
      "25 tensor(0.7860, device='cuda:0', dtype=torch.float64)\n"
     ]
    },
    {
     "name": "stderr",
     "output_type": "stream",
     "text": [
      "100%|██████████| 40/40 [00:00<00:00, 44.62it/s]\n",
      "100%|██████████| 40/40 [00:00<00:00, 57.51it/s]\n"
     ]
    },
    {
     "name": "stdout",
     "output_type": "stream",
     "text": [
      "26 tensor(0.8080, device='cuda:0', dtype=torch.float64)\n"
     ]
    },
    {
     "name": "stderr",
     "output_type": "stream",
     "text": [
      "100%|██████████| 40/40 [00:00<00:00, 42.79it/s]\n",
      "100%|██████████| 40/40 [00:00<00:00, 58.44it/s]\n"
     ]
    },
    {
     "name": "stdout",
     "output_type": "stream",
     "text": [
      "27 tensor(0.8320, device='cuda:0', dtype=torch.float64)\n"
     ]
    },
    {
     "name": "stderr",
     "output_type": "stream",
     "text": [
      "100%|██████████| 40/40 [00:00<00:00, 44.73it/s]\n",
      "100%|██████████| 40/40 [00:00<00:00, 59.23it/s]\n",
      "100%|██████████| 40/40 [00:00<00:00, 46.08it/s]\n",
      "100%|██████████| 40/40 [00:00<00:00, 56.27it/s]\n",
      "100%|██████████| 40/40 [00:00<00:00, 41.62it/s]\n",
      "100%|██████████| 40/40 [00:00<00:00, 53.69it/s]\n"
     ]
    },
    {
     "name": "stdout",
     "output_type": "stream",
     "text": [
      "30 tensor(0.8340, device='cuda:0', dtype=torch.float64)\n"
     ]
    },
    {
     "name": "stderr",
     "output_type": "stream",
     "text": [
      "100%|██████████| 40/40 [00:00<00:00, 46.22it/s]\n",
      "100%|██████████| 40/40 [00:00<00:00, 60.11it/s]\n"
     ]
    },
    {
     "name": "stdout",
     "output_type": "stream",
     "text": [
      "31 tensor(0.8400, device='cuda:0', dtype=torch.float64)\n"
     ]
    },
    {
     "name": "stderr",
     "output_type": "stream",
     "text": [
      "100%|██████████| 40/40 [00:00<00:00, 45.82it/s]\n",
      "100%|██████████| 40/40 [00:00<00:00, 58.93it/s]\n",
      "100%|██████████| 40/40 [00:00<00:00, 41.37it/s]\n",
      "100%|██████████| 40/40 [00:00<00:00, 63.16it/s]\n"
     ]
    },
    {
     "name": "stdout",
     "output_type": "stream",
     "text": [
      "33 tensor(0.8580, device='cuda:0', dtype=torch.float64)\n"
     ]
    },
    {
     "name": "stderr",
     "output_type": "stream",
     "text": [
      "100%|██████████| 40/40 [00:00<00:00, 46.11it/s]\n",
      "100%|██████████| 40/40 [00:00<00:00, 59.55it/s]\n",
      "100%|██████████| 40/40 [00:00<00:00, 44.34it/s]\n",
      "100%|██████████| 40/40 [00:00<00:00, 60.80it/s]\n",
      "100%|██████████| 40/40 [00:00<00:00, 45.76it/s]\n",
      "100%|██████████| 40/40 [00:00<00:00, 62.03it/s]\n",
      "100%|██████████| 40/40 [00:00<00:00, 44.82it/s]\n",
      "100%|██████████| 40/40 [00:00<00:00, 57.58it/s]\n"
     ]
    },
    {
     "name": "stdout",
     "output_type": "stream",
     "text": [
      "37 tensor(0.8700, device='cuda:0', dtype=torch.float64)\n"
     ]
    },
    {
     "name": "stderr",
     "output_type": "stream",
     "text": [
      "100%|██████████| 40/40 [00:00<00:00, 45.78it/s]\n",
      "100%|██████████| 40/40 [00:00<00:00, 58.25it/s]\n"
     ]
    },
    {
     "name": "stdout",
     "output_type": "stream",
     "text": [
      "38 tensor(0.8740, device='cuda:0', dtype=torch.float64)\n"
     ]
    },
    {
     "name": "stderr",
     "output_type": "stream",
     "text": [
      "100%|██████████| 40/40 [00:00<00:00, 41.85it/s]\n",
      "100%|██████████| 40/40 [00:00<00:00, 61.88it/s]\n"
     ]
    },
    {
     "name": "stdout",
     "output_type": "stream",
     "text": [
      "39 tensor(0.8760, device='cuda:0', dtype=torch.float64)\n",
      "Finished Shadow Model 2 Training with accuracy 0.876\n",
      "TAILLE dataset {'train': 2500, 'val': 2500}\n",
      "DATASET SIZE {'train': 2500, 'val': 2500}\n"
     ]
    },
    {
     "name": "stderr",
     "output_type": "stream",
     "text": [
      "100%|██████████| 40/40 [00:00<00:00, 45.66it/s]\n",
      "100%|██████████| 40/40 [00:00<00:00, 60.09it/s]\n"
     ]
    },
    {
     "name": "stdout",
     "output_type": "stream",
     "text": [
      "0 tensor(0.1280, device='cuda:0', dtype=torch.float64)\n"
     ]
    },
    {
     "name": "stderr",
     "output_type": "stream",
     "text": [
      "100%|██████████| 40/40 [00:00<00:00, 45.14it/s]\n",
      "100%|██████████| 40/40 [00:00<00:00, 59.21it/s]\n"
     ]
    },
    {
     "name": "stdout",
     "output_type": "stream",
     "text": [
      "1 tensor(0.1720, device='cuda:0', dtype=torch.float64)\n"
     ]
    },
    {
     "name": "stderr",
     "output_type": "stream",
     "text": [
      "100%|██████████| 40/40 [00:00<00:00, 45.90it/s]\n",
      "100%|██████████| 40/40 [00:00<00:00, 60.58it/s]\n"
     ]
    },
    {
     "name": "stdout",
     "output_type": "stream",
     "text": [
      "2 tensor(0.2020, device='cuda:0', dtype=torch.float64)\n"
     ]
    },
    {
     "name": "stderr",
     "output_type": "stream",
     "text": [
      "100%|██████████| 40/40 [00:00<00:00, 45.11it/s]\n",
      "100%|██████████| 40/40 [00:00<00:00, 57.31it/s]\n"
     ]
    },
    {
     "name": "stdout",
     "output_type": "stream",
     "text": [
      "3 tensor(0.2440, device='cuda:0', dtype=torch.float64)\n"
     ]
    },
    {
     "name": "stderr",
     "output_type": "stream",
     "text": [
      "100%|██████████| 40/40 [00:00<00:00, 45.94it/s]\n",
      "100%|██████████| 40/40 [00:00<00:00, 54.09it/s]\n"
     ]
    },
    {
     "name": "stdout",
     "output_type": "stream",
     "text": [
      "4 tensor(0.2600, device='cuda:0', dtype=torch.float64)\n"
     ]
    },
    {
     "name": "stderr",
     "output_type": "stream",
     "text": [
      "100%|██████████| 40/40 [00:00<00:00, 40.27it/s]\n",
      "100%|██████████| 40/40 [00:00<00:00, 56.81it/s]\n"
     ]
    },
    {
     "name": "stdout",
     "output_type": "stream",
     "text": [
      "5 tensor(0.2760, device='cuda:0', dtype=torch.float64)\n"
     ]
    },
    {
     "name": "stderr",
     "output_type": "stream",
     "text": [
      "100%|██████████| 40/40 [00:00<00:00, 44.59it/s]\n",
      "100%|██████████| 40/40 [00:00<00:00, 75.48it/s]\n"
     ]
    },
    {
     "name": "stdout",
     "output_type": "stream",
     "text": [
      "6 tensor(0.3220, device='cuda:0', dtype=torch.float64)\n"
     ]
    },
    {
     "name": "stderr",
     "output_type": "stream",
     "text": [
      "100%|██████████| 40/40 [00:00<00:00, 65.45it/s]\n",
      "100%|██████████| 40/40 [00:00<00:00, 73.38it/s]\n"
     ]
    },
    {
     "name": "stdout",
     "output_type": "stream",
     "text": [
      "7 tensor(0.3720, device='cuda:0', dtype=torch.float64)\n"
     ]
    },
    {
     "name": "stderr",
     "output_type": "stream",
     "text": [
      "100%|██████████| 40/40 [00:00<00:00, 67.27it/s]\n",
      "100%|██████████| 40/40 [00:00<00:00, 64.93it/s]\n"
     ]
    },
    {
     "name": "stdout",
     "output_type": "stream",
     "text": [
      "8 tensor(0.4280, device='cuda:0', dtype=torch.float64)\n"
     ]
    },
    {
     "name": "stderr",
     "output_type": "stream",
     "text": [
      "100%|██████████| 40/40 [00:00<00:00, 58.17it/s]\n",
      "100%|██████████| 40/40 [00:00<00:00, 76.07it/s]\n"
     ]
    },
    {
     "name": "stdout",
     "output_type": "stream",
     "text": [
      "9 tensor(0.4760, device='cuda:0', dtype=torch.float64)\n"
     ]
    },
    {
     "name": "stderr",
     "output_type": "stream",
     "text": [
      "100%|██████████| 40/40 [00:00<00:00, 68.74it/s]\n",
      "100%|██████████| 40/40 [00:00<00:00, 72.98it/s]\n"
     ]
    },
    {
     "name": "stdout",
     "output_type": "stream",
     "text": [
      "10 tensor(0.5260, device='cuda:0', dtype=torch.float64)\n"
     ]
    },
    {
     "name": "stderr",
     "output_type": "stream",
     "text": [
      "100%|██████████| 40/40 [00:00<00:00, 57.70it/s]\n",
      "100%|██████████| 40/40 [00:00<00:00, 69.79it/s]\n"
     ]
    },
    {
     "name": "stdout",
     "output_type": "stream",
     "text": [
      "11 tensor(0.5560, device='cuda:0', dtype=torch.float64)\n"
     ]
    },
    {
     "name": "stderr",
     "output_type": "stream",
     "text": [
      "100%|██████████| 40/40 [00:00<00:00, 66.05it/s]\n",
      "100%|██████████| 40/40 [00:00<00:00, 73.08it/s]\n"
     ]
    },
    {
     "name": "stdout",
     "output_type": "stream",
     "text": [
      "12 tensor(0.6140, device='cuda:0', dtype=torch.float64)\n"
     ]
    },
    {
     "name": "stderr",
     "output_type": "stream",
     "text": [
      "100%|██████████| 40/40 [00:00<00:00, 54.29it/s]\n",
      "100%|██████████| 40/40 [00:00<00:00, 63.26it/s]\n"
     ]
    },
    {
     "name": "stdout",
     "output_type": "stream",
     "text": [
      "13 tensor(0.6860, device='cuda:0', dtype=torch.float64)\n"
     ]
    },
    {
     "name": "stderr",
     "output_type": "stream",
     "text": [
      "100%|██████████| 40/40 [00:00<00:00, 45.04it/s]\n",
      "100%|██████████| 40/40 [00:00<00:00, 58.30it/s]\n"
     ]
    },
    {
     "name": "stdout",
     "output_type": "stream",
     "text": [
      "14 tensor(0.6940, device='cuda:0', dtype=torch.float64)\n"
     ]
    },
    {
     "name": "stderr",
     "output_type": "stream",
     "text": [
      "100%|██████████| 40/40 [00:00<00:00, 45.17it/s]\n",
      "100%|██████████| 40/40 [00:00<00:00, 59.78it/s]\n"
     ]
    },
    {
     "name": "stdout",
     "output_type": "stream",
     "text": [
      "15 tensor(0.7100, device='cuda:0', dtype=torch.float64)\n"
     ]
    },
    {
     "name": "stderr",
     "output_type": "stream",
     "text": [
      "100%|██████████| 40/40 [00:00<00:00, 45.21it/s]\n",
      "100%|██████████| 40/40 [00:00<00:00, 64.27it/s]\n"
     ]
    },
    {
     "name": "stdout",
     "output_type": "stream",
     "text": [
      "16 tensor(0.7260, device='cuda:0', dtype=torch.float64)\n"
     ]
    },
    {
     "name": "stderr",
     "output_type": "stream",
     "text": [
      "100%|██████████| 40/40 [00:00<00:00, 46.03it/s]\n",
      "100%|██████████| 40/40 [00:00<00:00, 57.73it/s]\n"
     ]
    },
    {
     "name": "stdout",
     "output_type": "stream",
     "text": [
      "17 tensor(0.7400, device='cuda:0', dtype=torch.float64)\n"
     ]
    },
    {
     "name": "stderr",
     "output_type": "stream",
     "text": [
      "100%|██████████| 40/40 [00:00<00:00, 46.01it/s]\n",
      "100%|██████████| 40/40 [00:00<00:00, 60.46it/s]\n"
     ]
    },
    {
     "name": "stdout",
     "output_type": "stream",
     "text": [
      "18 tensor(0.7560, device='cuda:0', dtype=torch.float64)\n"
     ]
    },
    {
     "name": "stderr",
     "output_type": "stream",
     "text": [
      "100%|██████████| 40/40 [00:00<00:00, 45.71it/s]\n",
      "100%|██████████| 40/40 [00:00<00:00, 61.32it/s]\n"
     ]
    },
    {
     "name": "stdout",
     "output_type": "stream",
     "text": [
      "19 tensor(0.7660, device='cuda:0', dtype=torch.float64)\n"
     ]
    },
    {
     "name": "stderr",
     "output_type": "stream",
     "text": [
      "100%|██████████| 40/40 [00:00<00:00, 42.73it/s]\n",
      "100%|██████████| 40/40 [00:00<00:00, 58.44it/s]\n"
     ]
    },
    {
     "name": "stdout",
     "output_type": "stream",
     "text": [
      "20 tensor(0.7720, device='cuda:0', dtype=torch.float64)\n"
     ]
    },
    {
     "name": "stderr",
     "output_type": "stream",
     "text": [
      "100%|██████████| 40/40 [00:00<00:00, 44.04it/s]\n",
      "100%|██████████| 40/40 [00:00<00:00, 60.45it/s]\n",
      "100%|██████████| 40/40 [00:00<00:00, 41.95it/s]\n",
      "100%|██████████| 40/40 [00:00<00:00, 62.28it/s]\n"
     ]
    },
    {
     "name": "stdout",
     "output_type": "stream",
     "text": [
      "22 tensor(0.7900, device='cuda:0', dtype=torch.float64)\n"
     ]
    },
    {
     "name": "stderr",
     "output_type": "stream",
     "text": [
      "100%|██████████| 40/40 [00:00<00:00, 46.40it/s]\n",
      "100%|██████████| 40/40 [00:00<00:00, 55.72it/s]\n",
      "100%|██████████| 40/40 [00:00<00:00, 45.59it/s]\n",
      "100%|██████████| 40/40 [00:00<00:00, 61.25it/s]\n"
     ]
    },
    {
     "name": "stdout",
     "output_type": "stream",
     "text": [
      "24 tensor(0.8060, device='cuda:0', dtype=torch.float64)\n"
     ]
    },
    {
     "name": "stderr",
     "output_type": "stream",
     "text": [
      "100%|██████████| 40/40 [00:00<00:00, 45.51it/s]\n",
      "100%|██████████| 40/40 [00:00<00:00, 56.06it/s]\n"
     ]
    },
    {
     "name": "stdout",
     "output_type": "stream",
     "text": [
      "25 tensor(0.8200, device='cuda:0', dtype=torch.float64)\n"
     ]
    },
    {
     "name": "stderr",
     "output_type": "stream",
     "text": [
      "100%|██████████| 40/40 [00:00<00:00, 46.07it/s]\n",
      "100%|██████████| 40/40 [00:00<00:00, 53.78it/s]\n"
     ]
    },
    {
     "name": "stdout",
     "output_type": "stream",
     "text": [
      "26 tensor(0.8280, device='cuda:0', dtype=torch.float64)\n"
     ]
    },
    {
     "name": "stderr",
     "output_type": "stream",
     "text": [
      "100%|██████████| 40/40 [00:00<00:00, 41.60it/s]\n",
      "100%|██████████| 40/40 [00:00<00:00, 63.43it/s]\n",
      "100%|██████████| 40/40 [00:00<00:00, 44.68it/s]\n",
      "100%|██████████| 40/40 [00:00<00:00, 61.24it/s]\n",
      "100%|██████████| 40/40 [00:00<00:00, 45.39it/s]\n",
      "100%|██████████| 40/40 [00:00<00:00, 60.43it/s]\n"
     ]
    },
    {
     "name": "stdout",
     "output_type": "stream",
     "text": [
      "29 tensor(0.8360, device='cuda:0', dtype=torch.float64)\n"
     ]
    },
    {
     "name": "stderr",
     "output_type": "stream",
     "text": [
      "100%|██████████| 40/40 [00:00<00:00, 45.01it/s]\n",
      "100%|██████████| 40/40 [00:00<00:00, 58.71it/s]\n"
     ]
    },
    {
     "name": "stdout",
     "output_type": "stream",
     "text": [
      "30 tensor(0.8480, device='cuda:0', dtype=torch.float64)\n"
     ]
    },
    {
     "name": "stderr",
     "output_type": "stream",
     "text": [
      "100%|██████████| 40/40 [00:00<00:00, 43.36it/s]\n",
      "100%|██████████| 40/40 [00:00<00:00, 61.11it/s]\n",
      "100%|██████████| 40/40 [00:00<00:00, 46.85it/s]\n",
      "100%|██████████| 40/40 [00:00<00:00, 59.02it/s]\n"
     ]
    },
    {
     "name": "stdout",
     "output_type": "stream",
     "text": [
      "32 tensor(0.8500, device='cuda:0', dtype=torch.float64)\n"
     ]
    },
    {
     "name": "stderr",
     "output_type": "stream",
     "text": [
      "100%|██████████| 40/40 [00:00<00:00, 44.12it/s]\n",
      "100%|██████████| 40/40 [00:00<00:00, 57.08it/s]\n",
      "100%|██████████| 40/40 [00:00<00:00, 42.92it/s]\n",
      "100%|██████████| 40/40 [00:00<00:00, 50.90it/s]\n"
     ]
    },
    {
     "name": "stdout",
     "output_type": "stream",
     "text": [
      "34 tensor(0.8540, device='cuda:0', dtype=torch.float64)\n"
     ]
    },
    {
     "name": "stderr",
     "output_type": "stream",
     "text": [
      "100%|██████████| 40/40 [00:00<00:00, 45.60it/s]\n",
      "100%|██████████| 40/40 [00:00<00:00, 63.51it/s]\n",
      "100%|██████████| 40/40 [00:00<00:00, 45.56it/s]\n",
      "100%|██████████| 40/40 [00:00<00:00, 61.18it/s]\n"
     ]
    },
    {
     "name": "stdout",
     "output_type": "stream",
     "text": [
      "36 tensor(0.8600, device='cuda:0', dtype=torch.float64)\n"
     ]
    },
    {
     "name": "stderr",
     "output_type": "stream",
     "text": [
      "100%|██████████| 40/40 [00:00<00:00, 45.62it/s]\n",
      "100%|██████████| 40/40 [00:00<00:00, 56.80it/s]\n"
     ]
    },
    {
     "name": "stdout",
     "output_type": "stream",
     "text": [
      "37 tensor(0.8660, device='cuda:0', dtype=torch.float64)\n"
     ]
    },
    {
     "name": "stderr",
     "output_type": "stream",
     "text": [
      "100%|██████████| 40/40 [00:01<00:00, 39.43it/s]\n",
      "100%|██████████| 40/40 [00:00<00:00, 58.50it/s]\n",
      "100%|██████████| 40/40 [00:00<00:00, 44.33it/s]\n",
      "100%|██████████| 40/40 [00:00<00:00, 61.90it/s]\n"
     ]
    },
    {
     "name": "stdout",
     "output_type": "stream",
     "text": [
      "Finished Shadow Model 3 Training with accuracy 0.866\n",
      "TAILLE dataset {'train': 2500, 'val': 2500}\n",
      "DATASET SIZE {'train': 2500, 'val': 2500}\n"
     ]
    },
    {
     "name": "stderr",
     "output_type": "stream",
     "text": [
      "100%|██████████| 40/40 [00:00<00:00, 46.17it/s]\n",
      "100%|██████████| 40/40 [00:00<00:00, 60.75it/s]\n"
     ]
    },
    {
     "name": "stdout",
     "output_type": "stream",
     "text": [
      "0 tensor(0.1720, device='cuda:0', dtype=torch.float64)\n"
     ]
    },
    {
     "name": "stderr",
     "output_type": "stream",
     "text": [
      "100%|██████████| 40/40 [00:00<00:00, 44.10it/s]\n",
      "100%|██████████| 40/40 [00:00<00:00, 59.44it/s]\n"
     ]
    },
    {
     "name": "stdout",
     "output_type": "stream",
     "text": [
      "1 tensor(0.1980, device='cuda:0', dtype=torch.float64)\n"
     ]
    },
    {
     "name": "stderr",
     "output_type": "stream",
     "text": [
      "100%|██████████| 40/40 [00:00<00:00, 41.19it/s]\n",
      "100%|██████████| 40/40 [00:00<00:00, 55.76it/s]\n"
     ]
    },
    {
     "name": "stdout",
     "output_type": "stream",
     "text": [
      "2 tensor(0.2240, device='cuda:0', dtype=torch.float64)\n"
     ]
    },
    {
     "name": "stderr",
     "output_type": "stream",
     "text": [
      "100%|██████████| 40/40 [00:00<00:00, 46.60it/s]\n",
      "100%|██████████| 40/40 [00:00<00:00, 60.24it/s]\n"
     ]
    },
    {
     "name": "stdout",
     "output_type": "stream",
     "text": [
      "3 tensor(0.2600, device='cuda:0', dtype=torch.float64)\n"
     ]
    },
    {
     "name": "stderr",
     "output_type": "stream",
     "text": [
      "100%|██████████| 40/40 [00:00<00:00, 45.49it/s]\n",
      "100%|██████████| 40/40 [00:00<00:00, 61.97it/s]\n"
     ]
    },
    {
     "name": "stdout",
     "output_type": "stream",
     "text": [
      "4 tensor(0.3240, device='cuda:0', dtype=torch.float64)\n"
     ]
    },
    {
     "name": "stderr",
     "output_type": "stream",
     "text": [
      "100%|██████████| 40/40 [00:00<00:00, 44.74it/s]\n",
      "100%|██████████| 40/40 [00:00<00:00, 60.30it/s]\n"
     ]
    },
    {
     "name": "stdout",
     "output_type": "stream",
     "text": [
      "5 tensor(0.4320, device='cuda:0', dtype=torch.float64)\n"
     ]
    },
    {
     "name": "stderr",
     "output_type": "stream",
     "text": [
      "100%|██████████| 40/40 [00:00<00:00, 43.20it/s]\n",
      "100%|██████████| 40/40 [00:00<00:00, 65.51it/s]\n"
     ]
    },
    {
     "name": "stdout",
     "output_type": "stream",
     "text": [
      "6 tensor(0.4980, device='cuda:0', dtype=torch.float64)\n"
     ]
    },
    {
     "name": "stderr",
     "output_type": "stream",
     "text": [
      "100%|██████████| 40/40 [00:00<00:00, 45.89it/s]\n",
      "100%|██████████| 40/40 [00:00<00:00, 62.95it/s]\n"
     ]
    },
    {
     "name": "stdout",
     "output_type": "stream",
     "text": [
      "7 tensor(0.5200, device='cuda:0', dtype=torch.float64)\n"
     ]
    },
    {
     "name": "stderr",
     "output_type": "stream",
     "text": [
      "100%|██████████| 40/40 [00:00<00:00, 45.55it/s]\n",
      "100%|██████████| 40/40 [00:00<00:00, 54.18it/s]\n"
     ]
    },
    {
     "name": "stdout",
     "output_type": "stream",
     "text": [
      "8 tensor(0.5300, device='cuda:0', dtype=torch.float64)\n"
     ]
    },
    {
     "name": "stderr",
     "output_type": "stream",
     "text": [
      "100%|██████████| 40/40 [00:01<00:00, 37.61it/s]\n",
      "100%|██████████| 40/40 [00:00<00:00, 64.33it/s]\n"
     ]
    },
    {
     "name": "stdout",
     "output_type": "stream",
     "text": [
      "9 tensor(0.5620, device='cuda:0', dtype=torch.float64)\n"
     ]
    },
    {
     "name": "stderr",
     "output_type": "stream",
     "text": [
      "100%|██████████| 40/40 [00:00<00:00, 46.48it/s]\n",
      "100%|██████████| 40/40 [00:00<00:00, 58.99it/s]\n",
      "100%|██████████| 40/40 [00:00<00:00, 46.30it/s]\n",
      "100%|██████████| 40/40 [00:00<00:00, 59.23it/s]\n"
     ]
    },
    {
     "name": "stdout",
     "output_type": "stream",
     "text": [
      "11 tensor(0.5820, device='cuda:0', dtype=torch.float64)\n"
     ]
    },
    {
     "name": "stderr",
     "output_type": "stream",
     "text": [
      "100%|██████████| 40/40 [00:00<00:00, 42.04it/s]\n",
      "100%|██████████| 40/40 [00:00<00:00, 63.44it/s]\n"
     ]
    },
    {
     "name": "stdout",
     "output_type": "stream",
     "text": [
      "12 tensor(0.5900, device='cuda:0', dtype=torch.float64)\n"
     ]
    },
    {
     "name": "stderr",
     "output_type": "stream",
     "text": [
      "100%|██████████| 40/40 [00:00<00:00, 46.97it/s]\n",
      "100%|██████████| 40/40 [00:00<00:00, 60.63it/s]\n"
     ]
    },
    {
     "name": "stdout",
     "output_type": "stream",
     "text": [
      "13 tensor(0.6620, device='cuda:0', dtype=torch.float64)\n"
     ]
    },
    {
     "name": "stderr",
     "output_type": "stream",
     "text": [
      "100%|██████████| 40/40 [00:00<00:00, 45.84it/s]\n",
      "100%|██████████| 40/40 [00:00<00:00, 61.60it/s]\n"
     ]
    },
    {
     "name": "stdout",
     "output_type": "stream",
     "text": [
      "14 tensor(0.6840, device='cuda:0', dtype=torch.float64)\n"
     ]
    },
    {
     "name": "stderr",
     "output_type": "stream",
     "text": [
      "100%|██████████| 40/40 [00:00<00:00, 42.33it/s]\n",
      "100%|██████████| 40/40 [00:00<00:00, 61.03it/s]\n"
     ]
    },
    {
     "name": "stdout",
     "output_type": "stream",
     "text": [
      "15 tensor(0.7140, device='cuda:0', dtype=torch.float64)\n"
     ]
    },
    {
     "name": "stderr",
     "output_type": "stream",
     "text": [
      "100%|██████████| 40/40 [00:00<00:00, 46.38it/s]\n",
      "100%|██████████| 40/40 [00:00<00:00, 58.89it/s]\n"
     ]
    },
    {
     "name": "stdout",
     "output_type": "stream",
     "text": [
      "16 tensor(0.7640, device='cuda:0', dtype=torch.float64)\n"
     ]
    },
    {
     "name": "stderr",
     "output_type": "stream",
     "text": [
      "100%|██████████| 40/40 [00:00<00:00, 44.10it/s]\n",
      "100%|██████████| 40/40 [00:00<00:00, 58.60it/s]\n"
     ]
    },
    {
     "name": "stdout",
     "output_type": "stream",
     "text": [
      "17 tensor(0.7680, device='cuda:0', dtype=torch.float64)\n"
     ]
    },
    {
     "name": "stderr",
     "output_type": "stream",
     "text": [
      "100%|██████████| 40/40 [00:00<00:00, 47.42it/s]\n",
      "100%|██████████| 40/40 [00:00<00:00, 58.08it/s]\n"
     ]
    },
    {
     "name": "stdout",
     "output_type": "stream",
     "text": [
      "18 tensor(0.7900, device='cuda:0', dtype=torch.float64)\n"
     ]
    },
    {
     "name": "stderr",
     "output_type": "stream",
     "text": [
      "100%|██████████| 40/40 [00:00<00:00, 43.59it/s]\n",
      "100%|██████████| 40/40 [00:00<00:00, 51.56it/s]\n"
     ]
    },
    {
     "name": "stdout",
     "output_type": "stream",
     "text": [
      "19 tensor(0.8040, device='cuda:0', dtype=torch.float64)\n"
     ]
    },
    {
     "name": "stderr",
     "output_type": "stream",
     "text": [
      "100%|██████████| 40/40 [00:00<00:00, 58.24it/s]\n",
      "100%|██████████| 40/40 [00:00<00:00, 82.55it/s]\n",
      "100%|██████████| 40/40 [00:00<00:00, 67.48it/s]\n",
      "100%|██████████| 40/40 [00:00<00:00, 69.70it/s]\n"
     ]
    },
    {
     "name": "stdout",
     "output_type": "stream",
     "text": [
      "21 tensor(0.8180, device='cuda:0', dtype=torch.float64)\n"
     ]
    },
    {
     "name": "stderr",
     "output_type": "stream",
     "text": [
      "100%|██████████| 40/40 [00:00<00:00, 67.47it/s]\n",
      "100%|██████████| 40/40 [00:00<00:00, 65.89it/s]\n"
     ]
    },
    {
     "name": "stdout",
     "output_type": "stream",
     "text": [
      "22 tensor(0.8380, device='cuda:0', dtype=torch.float64)\n"
     ]
    },
    {
     "name": "stderr",
     "output_type": "stream",
     "text": [
      "100%|██████████| 40/40 [00:00<00:00, 66.57it/s]\n",
      "100%|██████████| 40/40 [00:00<00:00, 66.17it/s]\n"
     ]
    },
    {
     "name": "stdout",
     "output_type": "stream",
     "text": [
      "23 tensor(0.8420, device='cuda:0', dtype=torch.float64)\n"
     ]
    },
    {
     "name": "stderr",
     "output_type": "stream",
     "text": [
      "100%|██████████| 40/40 [00:00<00:00, 57.14it/s]\n",
      "100%|██████████| 40/40 [00:00<00:00, 42.88it/s]\n",
      "100%|██████████| 40/40 [00:00<00:00, 53.93it/s]\n",
      "100%|██████████| 40/40 [00:00<00:00, 57.16it/s]\n"
     ]
    },
    {
     "name": "stdout",
     "output_type": "stream",
     "text": [
      "25 tensor(0.8580, device='cuda:0', dtype=torch.float64)\n"
     ]
    },
    {
     "name": "stderr",
     "output_type": "stream",
     "text": [
      "100%|██████████| 40/40 [00:00<00:00, 57.30it/s]\n",
      "100%|██████████| 40/40 [00:00<00:00, 60.32it/s]\n",
      "100%|██████████| 40/40 [00:00<00:00, 46.35it/s]\n",
      "100%|██████████| 40/40 [00:00<00:00, 72.73it/s]\n"
     ]
    },
    {
     "name": "stdout",
     "output_type": "stream",
     "text": [
      "27 tensor(0.8600, device='cuda:0', dtype=torch.float64)\n"
     ]
    },
    {
     "name": "stderr",
     "output_type": "stream",
     "text": [
      "100%|██████████| 40/40 [00:00<00:00, 103.03it/s]\n",
      "100%|██████████| 40/40 [00:00<00:00, 165.40it/s]\n",
      "100%|██████████| 40/40 [00:00<00:00, 133.71it/s]\n",
      "100%|██████████| 40/40 [00:00<00:00, 171.68it/s]\n"
     ]
    },
    {
     "name": "stdout",
     "output_type": "stream",
     "text": [
      "29 tensor(0.8720, device='cuda:0', dtype=torch.float64)\n"
     ]
    },
    {
     "name": "stderr",
     "output_type": "stream",
     "text": [
      "100%|██████████| 40/40 [00:00<00:00, 135.72it/s]\n",
      "100%|██████████| 40/40 [00:00<00:00, 167.57it/s]\n",
      "100%|██████████| 40/40 [00:00<00:00, 134.29it/s]\n",
      "100%|██████████| 40/40 [00:00<00:00, 147.83it/s]\n"
     ]
    },
    {
     "name": "stdout",
     "output_type": "stream",
     "text": [
      "31 tensor(0.8780, device='cuda:0', dtype=torch.float64)\n"
     ]
    },
    {
     "name": "stderr",
     "output_type": "stream",
     "text": [
      "100%|██████████| 40/40 [00:00<00:00, 113.85it/s]\n",
      "100%|██████████| 40/40 [00:00<00:00, 169.96it/s]\n"
     ]
    },
    {
     "name": "stdout",
     "output_type": "stream",
     "text": [
      "32 tensor(0.8800, device='cuda:0', dtype=torch.float64)\n"
     ]
    },
    {
     "name": "stderr",
     "output_type": "stream",
     "text": [
      "100%|██████████| 40/40 [00:00<00:00, 133.32it/s]\n",
      "100%|██████████| 40/40 [00:00<00:00, 154.83it/s]\n",
      "100%|██████████| 40/40 [00:00<00:00, 125.02it/s]\n",
      "100%|██████████| 40/40 [00:00<00:00, 159.56it/s]\n"
     ]
    },
    {
     "name": "stdout",
     "output_type": "stream",
     "text": [
      "34 tensor(0.8840, device='cuda:0', dtype=torch.float64)\n"
     ]
    },
    {
     "name": "stderr",
     "output_type": "stream",
     "text": [
      "100%|██████████| 40/40 [00:00<00:00, 132.08it/s]\n",
      "100%|██████████| 40/40 [00:00<00:00, 162.45it/s]\n",
      "100%|██████████| 40/40 [00:00<00:00, 124.36it/s]\n",
      "100%|██████████| 40/40 [00:00<00:00, 155.52it/s]\n",
      "100%|██████████| 40/40 [00:00<00:00, 117.87it/s]\n",
      "100%|██████████| 40/40 [00:00<00:00, 162.16it/s]\n",
      "100%|██████████| 40/40 [00:00<00:00, 130.04it/s]\n",
      "100%|██████████| 40/40 [00:00<00:00, 161.83it/s]\n",
      "100%|██████████| 40/40 [00:00<00:00, 132.42it/s]\n",
      "100%|██████████| 40/40 [00:00<00:00, 165.25it/s]\n"
     ]
    },
    {
     "name": "stdout",
     "output_type": "stream",
     "text": [
      "Finished Shadow Model 4 Training with accuracy 0.884\n",
      "TAILLE dataset {'train': 2500, 'val': 2500}\n",
      "DATASET SIZE {'train': 2500, 'val': 2500}\n"
     ]
    },
    {
     "name": "stderr",
     "output_type": "stream",
     "text": [
      "100%|██████████| 40/40 [00:00<00:00, 133.30it/s]\n",
      "100%|██████████| 40/40 [00:00<00:00, 151.05it/s]\n"
     ]
    },
    {
     "name": "stdout",
     "output_type": "stream",
     "text": [
      "0 tensor(0.1440, device='cuda:0', dtype=torch.float64)\n"
     ]
    },
    {
     "name": "stderr",
     "output_type": "stream",
     "text": [
      "100%|██████████| 40/40 [00:00<00:00, 113.99it/s]\n",
      "100%|██████████| 40/40 [00:00<00:00, 172.16it/s]\n"
     ]
    },
    {
     "name": "stdout",
     "output_type": "stream",
     "text": [
      "1 tensor(0.1500, device='cuda:0', dtype=torch.float64)\n"
     ]
    },
    {
     "name": "stderr",
     "output_type": "stream",
     "text": [
      "100%|██████████| 40/40 [00:00<00:00, 141.10it/s]\n",
      "100%|██████████| 40/40 [00:00<00:00, 166.25it/s]\n"
     ]
    },
    {
     "name": "stdout",
     "output_type": "stream",
     "text": [
      "2 tensor(0.1660, device='cuda:0', dtype=torch.float64)\n"
     ]
    },
    {
     "name": "stderr",
     "output_type": "stream",
     "text": [
      "100%|██████████| 40/40 [00:00<00:00, 141.63it/s]\n",
      "100%|██████████| 40/40 [00:00<00:00, 170.77it/s]\n"
     ]
    },
    {
     "name": "stdout",
     "output_type": "stream",
     "text": [
      "3 tensor(0.2060, device='cuda:0', dtype=torch.float64)\n"
     ]
    },
    {
     "name": "stderr",
     "output_type": "stream",
     "text": [
      "100%|██████████| 40/40 [00:00<00:00, 133.51it/s]\n",
      "100%|██████████| 40/40 [00:00<00:00, 166.84it/s]\n"
     ]
    },
    {
     "name": "stdout",
     "output_type": "stream",
     "text": [
      "4 tensor(0.2300, device='cuda:0', dtype=torch.float64)\n"
     ]
    },
    {
     "name": "stderr",
     "output_type": "stream",
     "text": [
      "100%|██████████| 40/40 [00:00<00:00, 116.40it/s]\n",
      "100%|██████████| 40/40 [00:00<00:00, 166.74it/s]\n"
     ]
    },
    {
     "name": "stdout",
     "output_type": "stream",
     "text": [
      "5 tensor(0.2620, device='cuda:0', dtype=torch.float64)\n"
     ]
    },
    {
     "name": "stderr",
     "output_type": "stream",
     "text": [
      "100%|██████████| 40/40 [00:00<00:00, 141.54it/s]\n",
      "100%|██████████| 40/40 [00:00<00:00, 172.24it/s]\n"
     ]
    },
    {
     "name": "stdout",
     "output_type": "stream",
     "text": [
      "6 tensor(0.2780, device='cuda:0', dtype=torch.float64)\n"
     ]
    },
    {
     "name": "stderr",
     "output_type": "stream",
     "text": [
      "100%|██████████| 40/40 [00:00<00:00, 143.94it/s]\n",
      "100%|██████████| 40/40 [00:00<00:00, 164.91it/s]\n"
     ]
    },
    {
     "name": "stdout",
     "output_type": "stream",
     "text": [
      "7 tensor(0.3180, device='cuda:0', dtype=torch.float64)\n"
     ]
    },
    {
     "name": "stderr",
     "output_type": "stream",
     "text": [
      "100%|██████████| 40/40 [00:00<00:00, 142.35it/s]\n",
      "100%|██████████| 40/40 [00:00<00:00, 170.47it/s]\n"
     ]
    },
    {
     "name": "stdout",
     "output_type": "stream",
     "text": [
      "8 tensor(0.3660, device='cuda:0', dtype=torch.float64)\n"
     ]
    },
    {
     "name": "stderr",
     "output_type": "stream",
     "text": [
      "100%|██████████| 40/40 [00:00<00:00, 134.97it/s]\n",
      "100%|██████████| 40/40 [00:00<00:00, 157.24it/s]\n"
     ]
    },
    {
     "name": "stdout",
     "output_type": "stream",
     "text": [
      "9 tensor(0.4100, device='cuda:0', dtype=torch.float64)\n"
     ]
    },
    {
     "name": "stderr",
     "output_type": "stream",
     "text": [
      "100%|██████████| 40/40 [00:00<00:00, 124.32it/s]\n",
      "100%|██████████| 40/40 [00:00<00:00, 168.38it/s]\n"
     ]
    },
    {
     "name": "stdout",
     "output_type": "stream",
     "text": [
      "10 tensor(0.4500, device='cuda:0', dtype=torch.float64)\n"
     ]
    },
    {
     "name": "stderr",
     "output_type": "stream",
     "text": [
      "100%|██████████| 40/40 [00:00<00:00, 131.71it/s]\n",
      "100%|██████████| 40/40 [00:00<00:00, 172.73it/s]\n"
     ]
    },
    {
     "name": "stdout",
     "output_type": "stream",
     "text": [
      "11 tensor(0.4820, device='cuda:0', dtype=torch.float64)\n"
     ]
    },
    {
     "name": "stderr",
     "output_type": "stream",
     "text": [
      "100%|██████████| 40/40 [00:00<00:00, 136.81it/s]\n",
      "100%|██████████| 40/40 [00:00<00:00, 169.10it/s]\n"
     ]
    },
    {
     "name": "stdout",
     "output_type": "stream",
     "text": [
      "12 tensor(0.4920, device='cuda:0', dtype=torch.float64)\n"
     ]
    },
    {
     "name": "stderr",
     "output_type": "stream",
     "text": [
      "100%|██████████| 40/40 [00:00<00:00, 135.22it/s]\n",
      "100%|██████████| 40/40 [00:00<00:00, 166.48it/s]\n"
     ]
    },
    {
     "name": "stdout",
     "output_type": "stream",
     "text": [
      "13 tensor(0.5160, device='cuda:0', dtype=torch.float64)\n"
     ]
    },
    {
     "name": "stderr",
     "output_type": "stream",
     "text": [
      "100%|██████████| 40/40 [00:00<00:00, 128.92it/s]\n",
      "100%|██████████| 40/40 [00:00<00:00, 147.14it/s]\n"
     ]
    },
    {
     "name": "stdout",
     "output_type": "stream",
     "text": [
      "14 tensor(0.5300, device='cuda:0', dtype=torch.float64)\n"
     ]
    },
    {
     "name": "stderr",
     "output_type": "stream",
     "text": [
      "100%|██████████| 40/40 [00:00<00:00, 122.46it/s]\n",
      "100%|██████████| 40/40 [00:00<00:00, 172.42it/s]\n"
     ]
    },
    {
     "name": "stdout",
     "output_type": "stream",
     "text": [
      "15 tensor(0.5500, device='cuda:0', dtype=torch.float64)\n"
     ]
    },
    {
     "name": "stderr",
     "output_type": "stream",
     "text": [
      "100%|██████████| 40/40 [00:00<00:00, 139.10it/s]\n",
      "100%|██████████| 40/40 [00:00<00:00, 167.52it/s]\n"
     ]
    },
    {
     "name": "stdout",
     "output_type": "stream",
     "text": [
      "16 tensor(0.5860, device='cuda:0', dtype=torch.float64)\n"
     ]
    },
    {
     "name": "stderr",
     "output_type": "stream",
     "text": [
      "100%|██████████| 40/40 [00:00<00:00, 137.99it/s]\n",
      "100%|██████████| 40/40 [00:00<00:00, 171.02it/s]\n"
     ]
    },
    {
     "name": "stdout",
     "output_type": "stream",
     "text": [
      "17 tensor(0.6380, device='cuda:0', dtype=torch.float64)\n"
     ]
    },
    {
     "name": "stderr",
     "output_type": "stream",
     "text": [
      "100%|██████████| 40/40 [00:00<00:00, 139.52it/s]\n",
      "100%|██████████| 40/40 [00:00<00:00, 159.91it/s]\n"
     ]
    },
    {
     "name": "stdout",
     "output_type": "stream",
     "text": [
      "18 tensor(0.6860, device='cuda:0', dtype=torch.float64)\n"
     ]
    },
    {
     "name": "stderr",
     "output_type": "stream",
     "text": [
      "100%|██████████| 40/40 [00:00<00:00, 131.26it/s]\n",
      "100%|██████████| 40/40 [00:00<00:00, 158.62it/s]\n"
     ]
    },
    {
     "name": "stdout",
     "output_type": "stream",
     "text": [
      "19 tensor(0.7120, device='cuda:0', dtype=torch.float64)\n"
     ]
    },
    {
     "name": "stderr",
     "output_type": "stream",
     "text": [
      "100%|██████████| 40/40 [00:00<00:00, 118.84it/s]\n",
      "100%|██████████| 40/40 [00:00<00:00, 179.04it/s]\n"
     ]
    },
    {
     "name": "stdout",
     "output_type": "stream",
     "text": [
      "20 tensor(0.7520, device='cuda:0', dtype=torch.float64)\n"
     ]
    },
    {
     "name": "stderr",
     "output_type": "stream",
     "text": [
      "100%|██████████| 40/40 [00:00<00:00, 146.63it/s]\n",
      "100%|██████████| 40/40 [00:00<00:00, 177.76it/s]\n"
     ]
    },
    {
     "name": "stdout",
     "output_type": "stream",
     "text": [
      "21 tensor(0.7740, device='cuda:0', dtype=torch.float64)\n"
     ]
    },
    {
     "name": "stderr",
     "output_type": "stream",
     "text": [
      "100%|██████████| 40/40 [00:00<00:00, 141.88it/s]\n",
      "100%|██████████| 40/40 [00:00<00:00, 172.19it/s]\n"
     ]
    },
    {
     "name": "stdout",
     "output_type": "stream",
     "text": [
      "22 tensor(0.7800, device='cuda:0', dtype=torch.float64)\n"
     ]
    },
    {
     "name": "stderr",
     "output_type": "stream",
     "text": [
      "100%|██████████| 40/40 [00:00<00:00, 147.71it/s]\n",
      "100%|██████████| 40/40 [00:00<00:00, 181.67it/s]\n"
     ]
    },
    {
     "name": "stdout",
     "output_type": "stream",
     "text": [
      "23 tensor(0.7940, device='cuda:0', dtype=torch.float64)\n"
     ]
    },
    {
     "name": "stderr",
     "output_type": "stream",
     "text": [
      "100%|██████████| 40/40 [00:00<00:00, 133.86it/s]\n",
      "100%|██████████| 40/40 [00:00<00:00, 171.05it/s]\n"
     ]
    },
    {
     "name": "stdout",
     "output_type": "stream",
     "text": [
      "24 tensor(0.8260, device='cuda:0', dtype=torch.float64)\n"
     ]
    },
    {
     "name": "stderr",
     "output_type": "stream",
     "text": [
      "100%|██████████| 40/40 [00:00<00:00, 118.69it/s]\n",
      "100%|██████████| 40/40 [00:00<00:00, 166.26it/s]\n"
     ]
    },
    {
     "name": "stdout",
     "output_type": "stream",
     "text": [
      "25 tensor(0.8300, device='cuda:0', dtype=torch.float64)\n"
     ]
    },
    {
     "name": "stderr",
     "output_type": "stream",
     "text": [
      "100%|██████████| 40/40 [00:00<00:00, 143.77it/s]\n",
      "100%|██████████| 40/40 [00:00<00:00, 173.46it/s]\n"
     ]
    },
    {
     "name": "stdout",
     "output_type": "stream",
     "text": [
      "26 tensor(0.8340, device='cuda:0', dtype=torch.float64)\n"
     ]
    },
    {
     "name": "stderr",
     "output_type": "stream",
     "text": [
      "100%|██████████| 40/40 [00:00<00:00, 144.63it/s]\n",
      "100%|██████████| 40/40 [00:00<00:00, 173.52it/s]\n"
     ]
    },
    {
     "name": "stdout",
     "output_type": "stream",
     "text": [
      "27 tensor(0.8440, device='cuda:0', dtype=torch.float64)\n"
     ]
    },
    {
     "name": "stderr",
     "output_type": "stream",
     "text": [
      "100%|██████████| 40/40 [00:00<00:00, 138.34it/s]\n",
      "100%|██████████| 40/40 [00:00<00:00, 166.72it/s]\n"
     ]
    },
    {
     "name": "stdout",
     "output_type": "stream",
     "text": [
      "28 tensor(0.8480, device='cuda:0', dtype=torch.float64)\n"
     ]
    },
    {
     "name": "stderr",
     "output_type": "stream",
     "text": [
      "100%|██████████| 40/40 [00:00<00:00, 130.69it/s]\n",
      "100%|██████████| 40/40 [00:00<00:00, 171.53it/s]\n"
     ]
    },
    {
     "name": "stdout",
     "output_type": "stream",
     "text": [
      "29 tensor(0.8580, device='cuda:0', dtype=torch.float64)\n"
     ]
    },
    {
     "name": "stderr",
     "output_type": "stream",
     "text": [
      "100%|██████████| 40/40 [00:00<00:00, 129.83it/s]\n",
      "100%|██████████| 40/40 [00:00<00:00, 166.57it/s]\n",
      "100%|██████████| 40/40 [00:00<00:00, 135.93it/s]\n",
      "100%|██████████| 40/40 [00:00<00:00, 171.78it/s]\n"
     ]
    },
    {
     "name": "stdout",
     "output_type": "stream",
     "text": [
      "31 tensor(0.8840, device='cuda:0', dtype=torch.float64)\n"
     ]
    },
    {
     "name": "stderr",
     "output_type": "stream",
     "text": [
      "100%|██████████| 40/40 [00:00<00:00, 127.47it/s]\n",
      "100%|██████████| 40/40 [00:00<00:00, 151.88it/s]\n"
     ]
    },
    {
     "name": "stdout",
     "output_type": "stream",
     "text": [
      "32 tensor(0.8920, device='cuda:0', dtype=torch.float64)\n"
     ]
    },
    {
     "name": "stderr",
     "output_type": "stream",
     "text": [
      "100%|██████████| 40/40 [00:00<00:00, 112.20it/s]\n",
      "100%|██████████| 40/40 [00:00<00:00, 174.68it/s]\n",
      "100%|██████████| 40/40 [00:00<00:00, 142.13it/s]\n",
      "100%|██████████| 40/40 [00:00<00:00, 176.96it/s]\n",
      "100%|██████████| 40/40 [00:00<00:00, 146.71it/s]\n",
      "100%|██████████| 40/40 [00:00<00:00, 175.70it/s]\n",
      "100%|██████████| 40/40 [00:00<00:00, 144.23it/s]\n",
      "100%|██████████| 40/40 [00:00<00:00, 173.47it/s]\n",
      "100%|██████████| 40/40 [00:00<00:00, 134.32it/s]\n",
      "100%|██████████| 40/40 [00:00<00:00, 165.22it/s]\n"
     ]
    },
    {
     "name": "stdout",
     "output_type": "stream",
     "text": [
      "37 tensor(0.8980, device='cuda:0', dtype=torch.float64)\n"
     ]
    },
    {
     "name": "stderr",
     "output_type": "stream",
     "text": [
      "100%|██████████| 40/40 [00:00<00:00, 120.71it/s]\n",
      "100%|██████████| 40/40 [00:00<00:00, 173.15it/s]\n",
      "100%|██████████| 40/40 [00:00<00:00, 143.04it/s]\n",
      "100%|██████████| 40/40 [00:00<00:00, 167.85it/s]\n"
     ]
    },
    {
     "name": "stdout",
     "output_type": "stream",
     "text": [
      "Finished Shadow Model 5 Training with accuracy 0.898\n",
      "TAILLE dataset {'train': 2500, 'val': 2000}\n",
      "DATASET SIZE {'train': 2500, 'val': 2000}\n"
     ]
    },
    {
     "name": "stderr",
     "output_type": "stream",
     "text": [
      "100%|██████████| 40/40 [00:00<00:00, 143.09it/s]\n",
      "100%|██████████| 32/32 [00:00<00:00, 173.50it/s]\n"
     ]
    },
    {
     "name": "stdout",
     "output_type": "stream",
     "text": [
      "0 tensor(0.1300, device='cuda:0', dtype=torch.float64)\n"
     ]
    },
    {
     "name": "stderr",
     "output_type": "stream",
     "text": [
      "100%|██████████| 40/40 [00:00<00:00, 139.15it/s]\n",
      "100%|██████████| 32/32 [00:00<00:00, 173.02it/s]\n"
     ]
    },
    {
     "name": "stdout",
     "output_type": "stream",
     "text": [
      "1 tensor(0.1540, device='cuda:0', dtype=torch.float64)\n"
     ]
    },
    {
     "name": "stderr",
     "output_type": "stream",
     "text": [
      "100%|██████████| 40/40 [00:00<00:00, 129.60it/s]\n",
      "100%|██████████| 32/32 [00:00<00:00, 165.28it/s]\n"
     ]
    },
    {
     "name": "stdout",
     "output_type": "stream",
     "text": [
      "2 tensor(0.1940, device='cuda:0', dtype=torch.float64)\n"
     ]
    },
    {
     "name": "stderr",
     "output_type": "stream",
     "text": [
      "100%|██████████| 40/40 [00:00<00:00, 120.17it/s]\n",
      "100%|██████████| 32/32 [00:00<00:00, 175.98it/s]\n"
     ]
    },
    {
     "name": "stdout",
     "output_type": "stream",
     "text": [
      "3 tensor(0.2420, device='cuda:0', dtype=torch.float64)\n"
     ]
    },
    {
     "name": "stderr",
     "output_type": "stream",
     "text": [
      "100%|██████████| 40/40 [00:00<00:00, 144.33it/s]\n",
      "100%|██████████| 32/32 [00:00<00:00, 175.06it/s]\n"
     ]
    },
    {
     "name": "stdout",
     "output_type": "stream",
     "text": [
      "4 tensor(0.3080, device='cuda:0', dtype=torch.float64)\n"
     ]
    },
    {
     "name": "stderr",
     "output_type": "stream",
     "text": [
      "100%|██████████| 40/40 [00:00<00:00, 142.82it/s]\n",
      "100%|██████████| 32/32 [00:00<00:00, 173.62it/s]\n"
     ]
    },
    {
     "name": "stdout",
     "output_type": "stream",
     "text": [
      "5 tensor(0.3500, device='cuda:0', dtype=torch.float64)\n"
     ]
    },
    {
     "name": "stderr",
     "output_type": "stream",
     "text": [
      "100%|██████████| 40/40 [00:00<00:00, 142.04it/s]\n",
      "100%|██████████| 32/32 [00:00<00:00, 179.88it/s]\n"
     ]
    },
    {
     "name": "stdout",
     "output_type": "stream",
     "text": [
      "6 tensor(0.3620, device='cuda:0', dtype=torch.float64)\n"
     ]
    },
    {
     "name": "stderr",
     "output_type": "stream",
     "text": [
      "100%|██████████| 40/40 [00:00<00:00, 131.88it/s]\n",
      "100%|██████████| 32/32 [00:00<00:00, 146.06it/s]\n"
     ]
    },
    {
     "name": "stdout",
     "output_type": "stream",
     "text": [
      "7 tensor(0.3900, device='cuda:0', dtype=torch.float64)\n"
     ]
    },
    {
     "name": "stderr",
     "output_type": "stream",
     "text": [
      "100%|██████████| 40/40 [00:00<00:00, 115.66it/s]\n",
      "100%|██████████| 32/32 [00:00<00:00, 165.18it/s]\n"
     ]
    },
    {
     "name": "stdout",
     "output_type": "stream",
     "text": [
      "8 tensor(0.3920, device='cuda:0', dtype=torch.float64)\n"
     ]
    },
    {
     "name": "stderr",
     "output_type": "stream",
     "text": [
      "100%|██████████| 40/40 [00:00<00:00, 133.90it/s]\n",
      "100%|██████████| 32/32 [00:00<00:00, 179.33it/s]\n"
     ]
    },
    {
     "name": "stdout",
     "output_type": "stream",
     "text": [
      "9 tensor(0.4040, device='cuda:0', dtype=torch.float64)\n"
     ]
    },
    {
     "name": "stderr",
     "output_type": "stream",
     "text": [
      "100%|██████████| 40/40 [00:00<00:00, 134.26it/s]\n",
      "100%|██████████| 32/32 [00:00<00:00, 162.57it/s]\n"
     ]
    },
    {
     "name": "stdout",
     "output_type": "stream",
     "text": [
      "10 tensor(0.4260, device='cuda:0', dtype=torch.float64)\n"
     ]
    },
    {
     "name": "stderr",
     "output_type": "stream",
     "text": [
      "100%|██████████| 40/40 [00:00<00:00, 132.15it/s]\n",
      "100%|██████████| 32/32 [00:00<00:00, 164.63it/s]\n"
     ]
    },
    {
     "name": "stdout",
     "output_type": "stream",
     "text": [
      "11 tensor(0.4620, device='cuda:0', dtype=torch.float64)\n"
     ]
    },
    {
     "name": "stderr",
     "output_type": "stream",
     "text": [
      "100%|██████████| 40/40 [00:00<00:00, 133.44it/s]\n",
      "100%|██████████| 32/32 [00:00<00:00, 159.98it/s]\n"
     ]
    },
    {
     "name": "stdout",
     "output_type": "stream",
     "text": [
      "12 tensor(0.4720, device='cuda:0', dtype=torch.float64)\n"
     ]
    },
    {
     "name": "stderr",
     "output_type": "stream",
     "text": [
      "100%|██████████| 40/40 [00:00<00:00, 114.60it/s]\n",
      "100%|██████████| 32/32 [00:00<00:00, 166.95it/s]\n"
     ]
    },
    {
     "name": "stdout",
     "output_type": "stream",
     "text": [
      "13 tensor(0.5000, device='cuda:0', dtype=torch.float64)\n"
     ]
    },
    {
     "name": "stderr",
     "output_type": "stream",
     "text": [
      "100%|██████████| 40/40 [00:00<00:00, 138.57it/s]\n",
      "100%|██████████| 32/32 [00:00<00:00, 168.56it/s]\n"
     ]
    },
    {
     "name": "stdout",
     "output_type": "stream",
     "text": [
      "14 tensor(0.5420, device='cuda:0', dtype=torch.float64)\n"
     ]
    },
    {
     "name": "stderr",
     "output_type": "stream",
     "text": [
      "100%|██████████| 40/40 [00:00<00:00, 146.11it/s]\n",
      "100%|██████████| 32/32 [00:00<00:00, 176.38it/s]\n"
     ]
    },
    {
     "name": "stdout",
     "output_type": "stream",
     "text": [
      "15 tensor(0.5660, device='cuda:0', dtype=torch.float64)\n"
     ]
    },
    {
     "name": "stderr",
     "output_type": "stream",
     "text": [
      "100%|██████████| 40/40 [00:00<00:00, 147.37it/s]\n",
      "100%|██████████| 32/32 [00:00<00:00, 177.54it/s]\n"
     ]
    },
    {
     "name": "stdout",
     "output_type": "stream",
     "text": [
      "16 tensor(0.5980, device='cuda:0', dtype=torch.float64)\n"
     ]
    },
    {
     "name": "stderr",
     "output_type": "stream",
     "text": [
      "100%|██████████| 40/40 [00:00<00:00, 133.07it/s]\n",
      "100%|██████████| 32/32 [00:00<00:00, 166.52it/s]\n"
     ]
    },
    {
     "name": "stdout",
     "output_type": "stream",
     "text": [
      "17 tensor(0.6440, device='cuda:0', dtype=torch.float64)\n"
     ]
    },
    {
     "name": "stderr",
     "output_type": "stream",
     "text": [
      "100%|██████████| 40/40 [00:00<00:00, 120.12it/s]\n",
      "100%|██████████| 32/32 [00:00<00:00, 167.53it/s]\n"
     ]
    },
    {
     "name": "stdout",
     "output_type": "stream",
     "text": [
      "18 tensor(0.6980, device='cuda:0', dtype=torch.float64)\n"
     ]
    },
    {
     "name": "stderr",
     "output_type": "stream",
     "text": [
      "100%|██████████| 40/40 [00:00<00:00, 134.36it/s]\n",
      "100%|██████████| 32/32 [00:00<00:00, 169.01it/s]\n"
     ]
    },
    {
     "name": "stdout",
     "output_type": "stream",
     "text": [
      "19 tensor(0.7280, device='cuda:0', dtype=torch.float64)\n"
     ]
    },
    {
     "name": "stderr",
     "output_type": "stream",
     "text": [
      "100%|██████████| 40/40 [00:00<00:00, 125.31it/s]\n",
      "100%|██████████| 32/32 [00:00<00:00, 165.20it/s]\n"
     ]
    },
    {
     "name": "stdout",
     "output_type": "stream",
     "text": [
      "20 tensor(0.7480, device='cuda:0', dtype=torch.float64)\n"
     ]
    },
    {
     "name": "stderr",
     "output_type": "stream",
     "text": [
      "100%|██████████| 40/40 [00:00<00:00, 138.93it/s]\n",
      "100%|██████████| 32/32 [00:00<00:00, 165.55it/s]\n",
      "100%|██████████| 40/40 [00:00<00:00, 143.65it/s]\n",
      "100%|██████████| 32/32 [00:00<00:00, 178.57it/s]\n"
     ]
    },
    {
     "name": "stdout",
     "output_type": "stream",
     "text": [
      "22 tensor(0.7660, device='cuda:0', dtype=torch.float64)\n"
     ]
    },
    {
     "name": "stderr",
     "output_type": "stream",
     "text": [
      "100%|██████████| 40/40 [00:00<00:00, 132.84it/s]\n",
      "100%|██████████| 32/32 [00:00<00:00, 142.01it/s]\n"
     ]
    },
    {
     "name": "stdout",
     "output_type": "stream",
     "text": [
      "23 tensor(0.7780, device='cuda:0', dtype=torch.float64)\n"
     ]
    },
    {
     "name": "stderr",
     "output_type": "stream",
     "text": [
      "100%|██████████| 40/40 [00:00<00:00, 138.95it/s]\n",
      "100%|██████████| 32/32 [00:00<00:00, 181.79it/s]\n"
     ]
    },
    {
     "name": "stdout",
     "output_type": "stream",
     "text": [
      "24 tensor(0.7800, device='cuda:0', dtype=torch.float64)\n"
     ]
    },
    {
     "name": "stderr",
     "output_type": "stream",
     "text": [
      "100%|██████████| 40/40 [00:00<00:00, 140.61it/s]\n",
      "100%|██████████| 32/32 [00:00<00:00, 179.42it/s]\n"
     ]
    },
    {
     "name": "stdout",
     "output_type": "stream",
     "text": [
      "25 tensor(0.8120, device='cuda:0', dtype=torch.float64)\n"
     ]
    },
    {
     "name": "stderr",
     "output_type": "stream",
     "text": [
      "100%|██████████| 40/40 [00:00<00:00, 139.68it/s]\n",
      "100%|██████████| 32/32 [00:00<00:00, 177.29it/s]\n"
     ]
    },
    {
     "name": "stdout",
     "output_type": "stream",
     "text": [
      "26 tensor(0.8300, device='cuda:0', dtype=torch.float64)\n"
     ]
    },
    {
     "name": "stderr",
     "output_type": "stream",
     "text": [
      "100%|██████████| 40/40 [00:00<00:00, 141.56it/s]\n",
      "100%|██████████| 32/32 [00:00<00:00, 149.70it/s]\n",
      "100%|██████████| 40/40 [00:00<00:00, 108.06it/s]\n",
      "100%|██████████| 32/32 [00:00<00:00, 142.07it/s]\n"
     ]
    },
    {
     "name": "stdout",
     "output_type": "stream",
     "text": [
      "28 tensor(0.8440, device='cuda:0', dtype=torch.float64)\n"
     ]
    },
    {
     "name": "stderr",
     "output_type": "stream",
     "text": [
      "100%|██████████| 40/40 [00:00<00:00, 105.79it/s]\n",
      "100%|██████████| 32/32 [00:00<00:00, 147.38it/s]\n"
     ]
    },
    {
     "name": "stdout",
     "output_type": "stream",
     "text": [
      "29 tensor(0.8460, device='cuda:0', dtype=torch.float64)\n"
     ]
    },
    {
     "name": "stderr",
     "output_type": "stream",
     "text": [
      "100%|██████████| 40/40 [00:00<00:00, 73.89it/s] \n",
      "100%|██████████| 32/32 [00:00<00:00, 61.00it/s]\n"
     ]
    },
    {
     "name": "stdout",
     "output_type": "stream",
     "text": [
      "30 tensor(0.8560, device='cuda:0', dtype=torch.float64)\n"
     ]
    },
    {
     "name": "stderr",
     "output_type": "stream",
     "text": [
      "100%|██████████| 40/40 [00:00<00:00, 45.49it/s]\n",
      "100%|██████████| 32/32 [00:00<00:00, 73.99it/s] \n"
     ]
    },
    {
     "name": "stdout",
     "output_type": "stream",
     "text": [
      "31 tensor(0.8660, device='cuda:0', dtype=torch.float64)\n"
     ]
    },
    {
     "name": "stderr",
     "output_type": "stream",
     "text": [
      "100%|██████████| 40/40 [00:00<00:00, 59.55it/s]\n",
      "100%|██████████| 32/32 [00:00<00:00, 65.86it/s]\n"
     ]
    },
    {
     "name": "stdout",
     "output_type": "stream",
     "text": [
      "32 tensor(0.8680, device='cuda:0', dtype=torch.float64)\n"
     ]
    },
    {
     "name": "stderr",
     "output_type": "stream",
     "text": [
      "100%|██████████| 40/40 [00:00<00:00, 51.14it/s]\n",
      "100%|██████████| 32/32 [00:00<00:00, 63.70it/s]\n"
     ]
    },
    {
     "name": "stdout",
     "output_type": "stream",
     "text": [
      "33 tensor(0.8700, device='cuda:0', dtype=torch.float64)\n"
     ]
    },
    {
     "name": "stderr",
     "output_type": "stream",
     "text": [
      "100%|██████████| 40/40 [00:00<00:00, 50.89it/s]\n",
      "100%|██████████| 32/32 [00:00<00:00, 58.27it/s]\n"
     ]
    },
    {
     "name": "stdout",
     "output_type": "stream",
     "text": [
      "34 tensor(0.8720, device='cuda:0', dtype=torch.float64)\n"
     ]
    },
    {
     "name": "stderr",
     "output_type": "stream",
     "text": [
      "100%|██████████| 40/40 [00:00<00:00, 41.73it/s]\n",
      "100%|██████████| 32/32 [00:00<00:00, 53.95it/s]\n",
      "100%|██████████| 40/40 [00:00<00:00, 40.14it/s]\n",
      "100%|██████████| 32/32 [00:00<00:00, 75.08it/s] \n",
      "100%|██████████| 40/40 [00:00<00:00, 64.48it/s]\n",
      "100%|██████████| 32/32 [00:00<00:00, 51.81it/s]\n"
     ]
    },
    {
     "name": "stdout",
     "output_type": "stream",
     "text": [
      "37 tensor(0.8800, device='cuda:0', dtype=torch.float64)\n"
     ]
    },
    {
     "name": "stderr",
     "output_type": "stream",
     "text": [
      "100%|██████████| 40/40 [00:00<00:00, 50.95it/s]\n",
      "100%|██████████| 32/32 [00:00<00:00, 70.51it/s]\n"
     ]
    },
    {
     "name": "stdout",
     "output_type": "stream",
     "text": [
      "38 tensor(0.8820, device='cuda:0', dtype=torch.float64)\n"
     ]
    },
    {
     "name": "stderr",
     "output_type": "stream",
     "text": [
      "100%|██████████| 40/40 [00:00<00:00, 55.85it/s]\n",
      "100%|██████████| 32/32 [00:00<00:00, 66.32it/s]\n"
     ]
    },
    {
     "name": "stdout",
     "output_type": "stream",
     "text": [
      "Finished Shadow Model 6 Training with accuracy 0.882\n",
      "TAILLE dataset {'train': 2500, 'val': 1500}\n",
      "DATASET SIZE {'train': 2500, 'val': 1500}\n"
     ]
    },
    {
     "name": "stderr",
     "output_type": "stream",
     "text": [
      "100%|██████████| 40/40 [00:00<00:00, 66.29it/s]\n",
      "100%|██████████| 24/24 [00:00<00:00, 163.39it/s]\n"
     ]
    },
    {
     "name": "stdout",
     "output_type": "stream",
     "text": [
      "0 tensor(0.1060, device='cuda:0', dtype=torch.float64)\n"
     ]
    },
    {
     "name": "stderr",
     "output_type": "stream",
     "text": [
      "100%|██████████| 40/40 [00:00<00:00, 134.76it/s]\n",
      "100%|██████████| 24/24 [00:00<00:00, 166.97it/s]\n"
     ]
    },
    {
     "name": "stdout",
     "output_type": "stream",
     "text": [
      "1 tensor(0.1220, device='cuda:0', dtype=torch.float64)\n"
     ]
    },
    {
     "name": "stderr",
     "output_type": "stream",
     "text": [
      "100%|██████████| 40/40 [00:00<00:00, 133.86it/s]\n",
      "100%|██████████| 24/24 [00:00<00:00, 167.52it/s]\n"
     ]
    },
    {
     "name": "stdout",
     "output_type": "stream",
     "text": [
      "2 tensor(0.1560, device='cuda:0', dtype=torch.float64)\n"
     ]
    },
    {
     "name": "stderr",
     "output_type": "stream",
     "text": [
      "100%|██████████| 40/40 [00:00<00:00, 132.55it/s]\n",
      "100%|██████████| 24/24 [00:00<00:00, 174.49it/s]\n"
     ]
    },
    {
     "name": "stdout",
     "output_type": "stream",
     "text": [
      "3 tensor(0.2060, device='cuda:0', dtype=torch.float64)\n"
     ]
    },
    {
     "name": "stderr",
     "output_type": "stream",
     "text": [
      "100%|██████████| 40/40 [00:00<00:00, 133.88it/s]\n",
      "100%|██████████| 24/24 [00:00<00:00, 181.97it/s]\n"
     ]
    },
    {
     "name": "stdout",
     "output_type": "stream",
     "text": [
      "4 tensor(0.2560, device='cuda:0', dtype=torch.float64)\n"
     ]
    },
    {
     "name": "stderr",
     "output_type": "stream",
     "text": [
      "100%|██████████| 40/40 [00:00<00:00, 135.05it/s]\n",
      "100%|██████████| 24/24 [00:00<00:00, 169.19it/s]\n"
     ]
    },
    {
     "name": "stdout",
     "output_type": "stream",
     "text": [
      "5 tensor(0.2820, device='cuda:0', dtype=torch.float64)\n"
     ]
    },
    {
     "name": "stderr",
     "output_type": "stream",
     "text": [
      "100%|██████████| 40/40 [00:00<00:00, 115.34it/s]\n",
      "100%|██████████| 24/24 [00:00<00:00, 168.15it/s]\n"
     ]
    },
    {
     "name": "stdout",
     "output_type": "stream",
     "text": [
      "6 tensor(0.2920, device='cuda:0', dtype=torch.float64)\n"
     ]
    },
    {
     "name": "stderr",
     "output_type": "stream",
     "text": [
      "100%|██████████| 40/40 [00:00<00:00, 141.87it/s]\n",
      "100%|██████████| 24/24 [00:00<00:00, 177.50it/s]\n"
     ]
    },
    {
     "name": "stdout",
     "output_type": "stream",
     "text": [
      "7 tensor(0.3080, device='cuda:0', dtype=torch.float64)\n"
     ]
    },
    {
     "name": "stderr",
     "output_type": "stream",
     "text": [
      "100%|██████████| 40/40 [00:00<00:00, 138.32it/s]\n",
      "100%|██████████| 24/24 [00:00<00:00, 161.49it/s]\n"
     ]
    },
    {
     "name": "stdout",
     "output_type": "stream",
     "text": [
      "8 tensor(0.3520, device='cuda:0', dtype=torch.float64)\n"
     ]
    },
    {
     "name": "stderr",
     "output_type": "stream",
     "text": [
      "100%|██████████| 40/40 [00:00<00:00, 147.26it/s]\n",
      "100%|██████████| 24/24 [00:00<00:00, 164.25it/s]\n"
     ]
    },
    {
     "name": "stdout",
     "output_type": "stream",
     "text": [
      "9 tensor(0.3900, device='cuda:0', dtype=torch.float64)\n"
     ]
    },
    {
     "name": "stderr",
     "output_type": "stream",
     "text": [
      "100%|██████████| 40/40 [00:00<00:00, 146.21it/s]\n",
      "100%|██████████| 24/24 [00:00<00:00, 175.29it/s]\n"
     ]
    },
    {
     "name": "stdout",
     "output_type": "stream",
     "text": [
      "10 tensor(0.4280, device='cuda:0', dtype=torch.float64)\n"
     ]
    },
    {
     "name": "stderr",
     "output_type": "stream",
     "text": [
      "100%|██████████| 40/40 [00:00<00:00, 132.48it/s]\n",
      "100%|██████████| 24/24 [00:00<00:00, 163.54it/s]\n"
     ]
    },
    {
     "name": "stdout",
     "output_type": "stream",
     "text": [
      "11 tensor(0.4880, device='cuda:0', dtype=torch.float64)\n"
     ]
    },
    {
     "name": "stderr",
     "output_type": "stream",
     "text": [
      "100%|██████████| 40/40 [00:00<00:00, 127.90it/s]\n",
      "100%|██████████| 24/24 [00:00<00:00, 165.48it/s]\n"
     ]
    },
    {
     "name": "stdout",
     "output_type": "stream",
     "text": [
      "12 tensor(0.4980, device='cuda:0', dtype=torch.float64)\n"
     ]
    },
    {
     "name": "stderr",
     "output_type": "stream",
     "text": [
      "100%|██████████| 40/40 [00:00<00:00, 118.40it/s]\n",
      "100%|██████████| 24/24 [00:00<00:00, 164.20it/s]\n"
     ]
    },
    {
     "name": "stdout",
     "output_type": "stream",
     "text": [
      "13 tensor(0.5160, device='cuda:0', dtype=torch.float64)\n"
     ]
    },
    {
     "name": "stderr",
     "output_type": "stream",
     "text": [
      "100%|██████████| 40/40 [00:00<00:00, 143.27it/s]\n",
      "100%|██████████| 24/24 [00:00<00:00, 173.14it/s]\n"
     ]
    },
    {
     "name": "stdout",
     "output_type": "stream",
     "text": [
      "14 tensor(0.5560, device='cuda:0', dtype=torch.float64)\n"
     ]
    },
    {
     "name": "stderr",
     "output_type": "stream",
     "text": [
      "100%|██████████| 40/40 [00:00<00:00, 141.35it/s]\n",
      "100%|██████████| 24/24 [00:00<00:00, 178.63it/s]\n"
     ]
    },
    {
     "name": "stdout",
     "output_type": "stream",
     "text": [
      "15 tensor(0.5820, device='cuda:0', dtype=torch.float64)\n"
     ]
    },
    {
     "name": "stderr",
     "output_type": "stream",
     "text": [
      "100%|██████████| 40/40 [00:00<00:00, 132.96it/s]\n",
      "100%|██████████| 24/24 [00:00<00:00, 148.91it/s]\n"
     ]
    },
    {
     "name": "stdout",
     "output_type": "stream",
     "text": [
      "16 tensor(0.6240, device='cuda:0', dtype=torch.float64)\n"
     ]
    },
    {
     "name": "stderr",
     "output_type": "stream",
     "text": [
      "100%|██████████| 40/40 [00:00<00:00, 106.39it/s]\n",
      "100%|██████████| 24/24 [00:00<00:00, 145.78it/s]\n"
     ]
    },
    {
     "name": "stdout",
     "output_type": "stream",
     "text": [
      "17 tensor(0.6420, device='cuda:0', dtype=torch.float64)\n"
     ]
    },
    {
     "name": "stderr",
     "output_type": "stream",
     "text": [
      "100%|██████████| 40/40 [00:00<00:00, 106.67it/s]\n",
      "100%|██████████| 24/24 [00:00<00:00, 146.79it/s]\n"
     ]
    },
    {
     "name": "stdout",
     "output_type": "stream",
     "text": [
      "18 tensor(0.6540, device='cuda:0', dtype=torch.float64)\n"
     ]
    },
    {
     "name": "stderr",
     "output_type": "stream",
     "text": [
      "100%|██████████| 40/40 [00:00<00:00, 112.03it/s]\n",
      "100%|██████████| 24/24 [00:00<00:00, 146.76it/s]\n"
     ]
    },
    {
     "name": "stdout",
     "output_type": "stream",
     "text": [
      "19 tensor(0.7000, device='cuda:0', dtype=torch.float64)\n"
     ]
    },
    {
     "name": "stderr",
     "output_type": "stream",
     "text": [
      "100%|██████████| 40/40 [00:00<00:00, 116.60it/s]\n",
      "100%|██████████| 24/24 [00:00<00:00, 169.17it/s]\n"
     ]
    },
    {
     "name": "stdout",
     "output_type": "stream",
     "text": [
      "20 tensor(0.7260, device='cuda:0', dtype=torch.float64)\n"
     ]
    },
    {
     "name": "stderr",
     "output_type": "stream",
     "text": [
      "100%|██████████| 40/40 [00:00<00:00, 138.12it/s]\n",
      "100%|██████████| 24/24 [00:00<00:00, 177.46it/s]\n"
     ]
    },
    {
     "name": "stdout",
     "output_type": "stream",
     "text": [
      "21 tensor(0.7460, device='cuda:0', dtype=torch.float64)\n"
     ]
    },
    {
     "name": "stderr",
     "output_type": "stream",
     "text": [
      "100%|██████████| 40/40 [00:00<00:00, 136.68it/s]\n",
      "100%|██████████| 24/24 [00:00<00:00, 179.45it/s]\n"
     ]
    },
    {
     "name": "stdout",
     "output_type": "stream",
     "text": [
      "22 tensor(0.7920, device='cuda:0', dtype=torch.float64)\n"
     ]
    },
    {
     "name": "stderr",
     "output_type": "stream",
     "text": [
      "100%|██████████| 40/40 [00:00<00:00, 129.53it/s]\n",
      "100%|██████████| 24/24 [00:00<00:00, 61.76it/s]\n",
      "100%|██████████| 40/40 [00:00<00:00, 51.54it/s]\n",
      "100%|██████████| 24/24 [00:00<00:00, 52.16it/s]\n",
      "100%|██████████| 40/40 [00:01<00:00, 38.38it/s]\n",
      "100%|██████████| 24/24 [00:00<00:00, 52.82it/s]\n"
     ]
    },
    {
     "name": "stdout",
     "output_type": "stream",
     "text": [
      "25 tensor(0.8060, device='cuda:0', dtype=torch.float64)\n"
     ]
    },
    {
     "name": "stderr",
     "output_type": "stream",
     "text": [
      "100%|██████████| 40/40 [00:00<00:00, 44.21it/s]\n",
      "100%|██████████| 24/24 [00:00<00:00, 61.22it/s]\n",
      "100%|██████████| 40/40 [00:00<00:00, 45.55it/s]\n",
      "100%|██████████| 24/24 [00:00<00:00, 50.96it/s]\n"
     ]
    },
    {
     "name": "stdout",
     "output_type": "stream",
     "text": [
      "27 tensor(0.8220, device='cuda:0', dtype=torch.float64)\n"
     ]
    },
    {
     "name": "stderr",
     "output_type": "stream",
     "text": [
      "100%|██████████| 40/40 [00:00<00:00, 46.46it/s]\n",
      "100%|██████████| 24/24 [00:00<00:00, 55.77it/s]\n"
     ]
    },
    {
     "name": "stdout",
     "output_type": "stream",
     "text": [
      "28 tensor(0.8400, device='cuda:0', dtype=torch.float64)\n"
     ]
    },
    {
     "name": "stderr",
     "output_type": "stream",
     "text": [
      "100%|██████████| 40/40 [00:00<00:00, 45.07it/s]\n",
      "100%|██████████| 24/24 [00:00<00:00, 58.18it/s]\n"
     ]
    },
    {
     "name": "stdout",
     "output_type": "stream",
     "text": [
      "29 tensor(0.8440, device='cuda:0', dtype=torch.float64)\n"
     ]
    },
    {
     "name": "stderr",
     "output_type": "stream",
     "text": [
      "100%|██████████| 40/40 [00:00<00:00, 45.34it/s]\n",
      "100%|██████████| 24/24 [00:00<00:00, 42.77it/s]\n"
     ]
    },
    {
     "name": "stdout",
     "output_type": "stream",
     "text": [
      "30 tensor(0.8500, device='cuda:0', dtype=torch.float64)\n"
     ]
    },
    {
     "name": "stderr",
     "output_type": "stream",
     "text": [
      "100%|██████████| 40/40 [00:00<00:00, 51.00it/s]\n",
      "100%|██████████| 24/24 [00:00<00:00, 81.61it/s]\n"
     ]
    },
    {
     "name": "stdout",
     "output_type": "stream",
     "text": [
      "31 tensor(0.8540, device='cuda:0', dtype=torch.float64)\n"
     ]
    },
    {
     "name": "stderr",
     "output_type": "stream",
     "text": [
      "100%|██████████| 40/40 [00:00<00:00, 64.70it/s]\n",
      "100%|██████████| 24/24 [00:00<00:00, 77.86it/s]\n"
     ]
    },
    {
     "name": "stdout",
     "output_type": "stream",
     "text": [
      "32 tensor(0.8660, device='cuda:0', dtype=torch.float64)\n"
     ]
    },
    {
     "name": "stderr",
     "output_type": "stream",
     "text": [
      "100%|██████████| 40/40 [00:00<00:00, 60.50it/s]\n",
      "100%|██████████| 24/24 [00:00<00:00, 60.00it/s]\n"
     ]
    },
    {
     "name": "stdout",
     "output_type": "stream",
     "text": [
      "33 tensor(0.8800, device='cuda:0', dtype=torch.float64)\n"
     ]
    },
    {
     "name": "stderr",
     "output_type": "stream",
     "text": [
      "100%|██████████| 40/40 [00:00<00:00, 62.92it/s]\n",
      "100%|██████████| 24/24 [00:00<00:00, 63.82it/s]\n",
      "100%|██████████| 40/40 [00:00<00:00, 53.31it/s]\n",
      "100%|██████████| 24/24 [00:00<00:00, 54.18it/s]\n",
      "100%|██████████| 40/40 [00:00<00:00, 44.33it/s]\n",
      "100%|██████████| 24/24 [00:00<00:00, 56.95it/s]\n",
      "100%|██████████| 40/40 [00:00<00:00, 45.45it/s]\n",
      "100%|██████████| 24/24 [00:00<00:00, 57.58it/s]\n"
     ]
    },
    {
     "name": "stdout",
     "output_type": "stream",
     "text": [
      "37 tensor(0.8820, device='cuda:0', dtype=torch.float64)\n"
     ]
    },
    {
     "name": "stderr",
     "output_type": "stream",
     "text": [
      "100%|██████████| 40/40 [00:00<00:00, 43.81it/s]\n",
      "100%|██████████| 24/24 [00:00<00:00, 46.38it/s]\n",
      "100%|██████████| 40/40 [00:00<00:00, 49.12it/s]\n",
      "100%|██████████| 24/24 [00:00<00:00, 58.67it/s]\n"
     ]
    },
    {
     "name": "stdout",
     "output_type": "stream",
     "text": [
      "39 tensor(0.8860, device='cuda:0', dtype=torch.float64)\n",
      "Finished Shadow Model 7 Training with accuracy 0.886\n",
      "TAILLE dataset {'train': 2500, 'val': 1000}\n",
      "DATASET SIZE {'train': 2500, 'val': 1000}\n"
     ]
    },
    {
     "name": "stderr",
     "output_type": "stream",
     "text": [
      "100%|██████████| 40/40 [00:00<00:00, 50.95it/s]\n",
      "100%|██████████| 16/16 [00:00<00:00, 50.67it/s]\n"
     ]
    },
    {
     "name": "stdout",
     "output_type": "stream",
     "text": [
      "0 tensor(0.1120, device='cuda:0', dtype=torch.float64)\n"
     ]
    },
    {
     "name": "stderr",
     "output_type": "stream",
     "text": [
      "100%|██████████| 40/40 [00:00<00:00, 55.68it/s]\n",
      "100%|██████████| 16/16 [00:00<00:00, 52.89it/s]\n"
     ]
    },
    {
     "name": "stdout",
     "output_type": "stream",
     "text": [
      "1 tensor(0.1180, device='cuda:0', dtype=torch.float64)\n"
     ]
    },
    {
     "name": "stderr",
     "output_type": "stream",
     "text": [
      "100%|██████████| 40/40 [00:00<00:00, 55.72it/s]\n",
      "100%|██████████| 16/16 [00:00<00:00, 51.92it/s]\n"
     ]
    },
    {
     "name": "stdout",
     "output_type": "stream",
     "text": [
      "2 tensor(0.1360, device='cuda:0', dtype=torch.float64)\n"
     ]
    },
    {
     "name": "stderr",
     "output_type": "stream",
     "text": [
      "100%|██████████| 40/40 [00:00<00:00, 59.86it/s]\n",
      "100%|██████████| 16/16 [00:00<00:00, 167.43it/s]\n"
     ]
    },
    {
     "name": "stdout",
     "output_type": "stream",
     "text": [
      "3 tensor(0.1680, device='cuda:0', dtype=torch.float64)\n"
     ]
    },
    {
     "name": "stderr",
     "output_type": "stream",
     "text": [
      "100%|██████████| 40/40 [00:00<00:00, 131.40it/s]\n",
      "100%|██████████| 16/16 [00:00<00:00, 155.55it/s]\n"
     ]
    },
    {
     "name": "stdout",
     "output_type": "stream",
     "text": [
      "4 tensor(0.2540, device='cuda:0', dtype=torch.float64)\n"
     ]
    },
    {
     "name": "stderr",
     "output_type": "stream",
     "text": [
      "100%|██████████| 40/40 [00:00<00:00, 129.14it/s]\n",
      "100%|██████████| 16/16 [00:00<00:00, 169.61it/s]\n"
     ]
    },
    {
     "name": "stdout",
     "output_type": "stream",
     "text": [
      "5 tensor(0.3360, device='cuda:0', dtype=torch.float64)\n"
     ]
    },
    {
     "name": "stderr",
     "output_type": "stream",
     "text": [
      "100%|██████████| 40/40 [00:00<00:00, 125.20it/s]\n",
      "100%|██████████| 16/16 [00:00<00:00, 166.27it/s]\n"
     ]
    },
    {
     "name": "stdout",
     "output_type": "stream",
     "text": [
      "6 tensor(0.4220, device='cuda:0', dtype=torch.float64)\n"
     ]
    },
    {
     "name": "stderr",
     "output_type": "stream",
     "text": [
      "100%|██████████| 40/40 [00:00<00:00, 126.01it/s]\n",
      "100%|██████████| 16/16 [00:00<00:00, 164.13it/s]\n"
     ]
    },
    {
     "name": "stdout",
     "output_type": "stream",
     "text": [
      "7 tensor(0.4420, device='cuda:0', dtype=torch.float64)\n"
     ]
    },
    {
     "name": "stderr",
     "output_type": "stream",
     "text": [
      "100%|██████████| 40/40 [00:00<00:00, 131.46it/s]\n",
      "100%|██████████| 16/16 [00:00<00:00, 165.27it/s]\n"
     ]
    },
    {
     "name": "stdout",
     "output_type": "stream",
     "text": [
      "8 tensor(0.4660, device='cuda:0', dtype=torch.float64)\n"
     ]
    },
    {
     "name": "stderr",
     "output_type": "stream",
     "text": [
      "100%|██████████| 40/40 [00:00<00:00, 123.96it/s]\n",
      "100%|██████████| 16/16 [00:00<00:00, 164.64it/s]\n"
     ]
    },
    {
     "name": "stdout",
     "output_type": "stream",
     "text": [
      "9 tensor(0.4880, device='cuda:0', dtype=torch.float64)\n"
     ]
    },
    {
     "name": "stderr",
     "output_type": "stream",
     "text": [
      "100%|██████████| 40/40 [00:00<00:00, 132.41it/s]\n",
      "100%|██████████| 16/16 [00:00<00:00, 157.42it/s]\n"
     ]
    },
    {
     "name": "stdout",
     "output_type": "stream",
     "text": [
      "10 tensor(0.5060, device='cuda:0', dtype=torch.float64)\n"
     ]
    },
    {
     "name": "stderr",
     "output_type": "stream",
     "text": [
      "100%|██████████| 40/40 [00:00<00:00, 98.78it/s]\n",
      "100%|██████████| 16/16 [00:00<00:00, 143.05it/s]\n"
     ]
    },
    {
     "name": "stdout",
     "output_type": "stream",
     "text": [
      "11 tensor(0.5520, device='cuda:0', dtype=torch.float64)\n"
     ]
    },
    {
     "name": "stderr",
     "output_type": "stream",
     "text": [
      "100%|██████████| 40/40 [00:00<00:00, 102.24it/s]\n",
      "100%|██████████| 16/16 [00:00<00:00, 139.66it/s]\n"
     ]
    },
    {
     "name": "stdout",
     "output_type": "stream",
     "text": [
      "12 tensor(0.5980, device='cuda:0', dtype=torch.float64)\n"
     ]
    },
    {
     "name": "stderr",
     "output_type": "stream",
     "text": [
      "100%|██████████| 40/40 [00:00<00:00, 108.85it/s]\n",
      "100%|██████████| 16/16 [00:00<00:00, 151.61it/s]\n"
     ]
    },
    {
     "name": "stdout",
     "output_type": "stream",
     "text": [
      "13 tensor(0.6400, device='cuda:0', dtype=torch.float64)\n"
     ]
    },
    {
     "name": "stderr",
     "output_type": "stream",
     "text": [
      "100%|██████████| 40/40 [00:00<00:00, 112.29it/s]\n",
      "100%|██████████| 16/16 [00:00<00:00, 170.30it/s]\n"
     ]
    },
    {
     "name": "stdout",
     "output_type": "stream",
     "text": [
      "14 tensor(0.6840, device='cuda:0', dtype=torch.float64)\n"
     ]
    },
    {
     "name": "stderr",
     "output_type": "stream",
     "text": [
      "100%|██████████| 40/40 [00:00<00:00, 136.75it/s]\n",
      "100%|██████████| 16/16 [00:00<00:00, 167.16it/s]\n"
     ]
    },
    {
     "name": "stdout",
     "output_type": "stream",
     "text": [
      "15 tensor(0.6920, device='cuda:0', dtype=torch.float64)\n"
     ]
    },
    {
     "name": "stderr",
     "output_type": "stream",
     "text": [
      "100%|██████████| 40/40 [00:00<00:00, 136.73it/s]\n",
      "100%|██████████| 16/16 [00:00<00:00, 170.47it/s]\n"
     ]
    },
    {
     "name": "stdout",
     "output_type": "stream",
     "text": [
      "16 tensor(0.7060, device='cuda:0', dtype=torch.float64)\n"
     ]
    },
    {
     "name": "stderr",
     "output_type": "stream",
     "text": [
      "100%|██████████| 40/40 [00:00<00:00, 139.76it/s]\n",
      "100%|██████████| 16/16 [00:00<00:00, 168.47it/s]\n"
     ]
    },
    {
     "name": "stdout",
     "output_type": "stream",
     "text": [
      "17 tensor(0.7300, device='cuda:0', dtype=torch.float64)\n"
     ]
    },
    {
     "name": "stderr",
     "output_type": "stream",
     "text": [
      "100%|██████████| 40/40 [00:00<00:00, 58.28it/s]\n",
      "100%|██████████| 16/16 [00:00<00:00, 55.99it/s]\n",
      "100%|██████████| 40/40 [00:00<00:00, 41.38it/s]\n",
      "100%|██████████| 16/16 [00:00<00:00, 45.13it/s]\n"
     ]
    },
    {
     "name": "stdout",
     "output_type": "stream",
     "text": [
      "19 tensor(0.7360, device='cuda:0', dtype=torch.float64)\n"
     ]
    },
    {
     "name": "stderr",
     "output_type": "stream",
     "text": [
      "100%|██████████| 40/40 [00:00<00:00, 42.46it/s]\n",
      "100%|██████████| 16/16 [00:00<00:00, 45.72it/s]\n"
     ]
    },
    {
     "name": "stdout",
     "output_type": "stream",
     "text": [
      "20 tensor(0.7440, device='cuda:0', dtype=torch.float64)\n"
     ]
    },
    {
     "name": "stderr",
     "output_type": "stream",
     "text": [
      "100%|██████████| 40/40 [00:00<00:00, 48.88it/s]\n",
      "100%|██████████| 16/16 [00:00<00:00, 58.84it/s]\n"
     ]
    },
    {
     "name": "stdout",
     "output_type": "stream",
     "text": [
      "21 tensor(0.7560, device='cuda:0', dtype=torch.float64)\n"
     ]
    },
    {
     "name": "stderr",
     "output_type": "stream",
     "text": [
      "100%|██████████| 40/40 [00:00<00:00, 48.08it/s]\n",
      "100%|██████████| 16/16 [00:00<00:00, 58.03it/s]\n"
     ]
    },
    {
     "name": "stdout",
     "output_type": "stream",
     "text": [
      "22 tensor(0.7600, device='cuda:0', dtype=torch.float64)\n"
     ]
    },
    {
     "name": "stderr",
     "output_type": "stream",
     "text": [
      "100%|██████████| 40/40 [00:00<00:00, 46.88it/s]\n",
      "100%|██████████| 16/16 [00:00<00:00, 51.23it/s]\n"
     ]
    },
    {
     "name": "stdout",
     "output_type": "stream",
     "text": [
      "23 tensor(0.7720, device='cuda:0', dtype=torch.float64)\n"
     ]
    },
    {
     "name": "stderr",
     "output_type": "stream",
     "text": [
      "100%|██████████| 40/40 [00:00<00:00, 47.68it/s]\n",
      "100%|██████████| 16/16 [00:00<00:00, 56.85it/s]\n"
     ]
    },
    {
     "name": "stdout",
     "output_type": "stream",
     "text": [
      "24 tensor(0.7840, device='cuda:0', dtype=torch.float64)\n"
     ]
    },
    {
     "name": "stderr",
     "output_type": "stream",
     "text": [
      "100%|██████████| 40/40 [00:00<00:00, 45.73it/s]\n",
      "100%|██████████| 16/16 [00:00<00:00, 56.10it/s]\n"
     ]
    },
    {
     "name": "stdout",
     "output_type": "stream",
     "text": [
      "25 tensor(0.8120, device='cuda:0', dtype=torch.float64)\n"
     ]
    },
    {
     "name": "stderr",
     "output_type": "stream",
     "text": [
      "100%|██████████| 40/40 [00:00<00:00, 45.18it/s]\n",
      "100%|██████████| 16/16 [00:00<00:00, 51.27it/s]\n"
     ]
    },
    {
     "name": "stdout",
     "output_type": "stream",
     "text": [
      "26 tensor(0.8320, device='cuda:0', dtype=torch.float64)\n"
     ]
    },
    {
     "name": "stderr",
     "output_type": "stream",
     "text": [
      "100%|██████████| 40/40 [00:00<00:00, 47.21it/s]\n",
      "100%|██████████| 16/16 [00:00<00:00, 50.47it/s]\n"
     ]
    },
    {
     "name": "stdout",
     "output_type": "stream",
     "text": [
      "27 tensor(0.8560, device='cuda:0', dtype=torch.float64)\n"
     ]
    },
    {
     "name": "stderr",
     "output_type": "stream",
     "text": [
      "100%|██████████| 40/40 [00:00<00:00, 46.49it/s]\n",
      "100%|██████████| 16/16 [00:00<00:00, 45.83it/s]\n"
     ]
    },
    {
     "name": "stdout",
     "output_type": "stream",
     "text": [
      "28 tensor(0.8680, device='cuda:0', dtype=torch.float64)\n"
     ]
    },
    {
     "name": "stderr",
     "output_type": "stream",
     "text": [
      "100%|██████████| 40/40 [00:00<00:00, 45.61it/s]\n",
      "100%|██████████| 16/16 [00:00<00:00, 53.19it/s]\n"
     ]
    },
    {
     "name": "stdout",
     "output_type": "stream",
     "text": [
      "29 tensor(0.8700, device='cuda:0', dtype=torch.float64)\n"
     ]
    },
    {
     "name": "stderr",
     "output_type": "stream",
     "text": [
      "100%|██████████| 40/40 [00:00<00:00, 42.92it/s]\n",
      "100%|██████████| 16/16 [00:00<00:00, 55.07it/s]\n"
     ]
    },
    {
     "name": "stdout",
     "output_type": "stream",
     "text": [
      "30 tensor(0.8800, device='cuda:0', dtype=torch.float64)\n"
     ]
    },
    {
     "name": "stderr",
     "output_type": "stream",
     "text": [
      "100%|██████████| 40/40 [00:00<00:00, 45.16it/s]\n",
      "100%|██████████| 16/16 [00:00<00:00, 58.13it/s]\n",
      "100%|██████████| 40/40 [00:00<00:00, 47.61it/s]\n",
      "100%|██████████| 16/16 [00:00<00:00, 58.87it/s]\n",
      "100%|██████████| 40/40 [00:00<00:00, 43.21it/s]\n",
      "100%|██████████| 16/16 [00:00<00:00, 43.58it/s]\n"
     ]
    },
    {
     "name": "stdout",
     "output_type": "stream",
     "text": [
      "33 tensor(0.8840, device='cuda:0', dtype=torch.float64)\n"
     ]
    },
    {
     "name": "stderr",
     "output_type": "stream",
     "text": [
      "100%|██████████| 40/40 [00:00<00:00, 46.60it/s]\n",
      "100%|██████████| 16/16 [00:00<00:00, 55.50it/s]\n",
      "100%|██████████| 40/40 [00:00<00:00, 45.23it/s]\n",
      "100%|██████████| 16/16 [00:00<00:00, 49.68it/s]\n"
     ]
    },
    {
     "name": "stdout",
     "output_type": "stream",
     "text": [
      "35 tensor(0.8980, device='cuda:0', dtype=torch.float64)\n"
     ]
    },
    {
     "name": "stderr",
     "output_type": "stream",
     "text": [
      "100%|██████████| 40/40 [00:00<00:00, 44.97it/s]\n",
      "100%|██████████| 16/16 [00:00<00:00, 48.83it/s]\n",
      "100%|██████████| 40/40 [00:00<00:00, 42.91it/s]\n",
      "100%|██████████| 16/16 [00:00<00:00, 56.29it/s]\n"
     ]
    },
    {
     "name": "stdout",
     "output_type": "stream",
     "text": [
      "37 tensor(0.9020, device='cuda:0', dtype=torch.float64)\n"
     ]
    },
    {
     "name": "stderr",
     "output_type": "stream",
     "text": [
      "100%|██████████| 40/40 [00:00<00:00, 42.65it/s]\n",
      "100%|██████████| 16/16 [00:00<00:00, 56.53it/s]\n",
      "100%|██████████| 40/40 [00:00<00:00, 42.79it/s]\n",
      "100%|██████████| 16/16 [00:00<00:00, 46.51it/s]\n"
     ]
    },
    {
     "name": "stdout",
     "output_type": "stream",
     "text": [
      "39 tensor(0.9060, device='cuda:0', dtype=torch.float64)\n",
      "Finished Shadow Model 8 Training with accuracy 0.906\n",
      "TAILLE dataset {'train': 2500, 'val': 500}\n",
      "DATASET SIZE {'train': 2500, 'val': 500}\n"
     ]
    },
    {
     "name": "stderr",
     "output_type": "stream",
     "text": [
      "100%|██████████| 40/40 [00:00<00:00, 46.15it/s]\n",
      "100%|██████████| 8/8 [00:00<00:00, 46.97it/s]\n"
     ]
    },
    {
     "name": "stdout",
     "output_type": "stream",
     "text": [
      "0 tensor(0.1000, device='cuda:0', dtype=torch.float64)\n"
     ]
    },
    {
     "name": "stderr",
     "output_type": "stream",
     "text": [
      "100%|██████████| 40/40 [00:00<00:00, 48.07it/s]\n",
      "100%|██████████| 8/8 [00:00<00:00, 54.59it/s]\n"
     ]
    },
    {
     "name": "stdout",
     "output_type": "stream",
     "text": [
      "1 tensor(0.1620, device='cuda:0', dtype=torch.float64)\n"
     ]
    },
    {
     "name": "stderr",
     "output_type": "stream",
     "text": [
      "100%|██████████| 40/40 [00:00<00:00, 47.48it/s]\n",
      "100%|██████████| 8/8 [00:00<00:00, 52.14it/s]\n"
     ]
    },
    {
     "name": "stdout",
     "output_type": "stream",
     "text": [
      "2 tensor(0.1900, device='cuda:0', dtype=torch.float64)\n"
     ]
    },
    {
     "name": "stderr",
     "output_type": "stream",
     "text": [
      "100%|██████████| 40/40 [00:00<00:00, 46.13it/s]\n",
      "100%|██████████| 8/8 [00:00<00:00, 52.97it/s]\n"
     ]
    },
    {
     "name": "stdout",
     "output_type": "stream",
     "text": [
      "3 tensor(0.2080, device='cuda:0', dtype=torch.float64)\n"
     ]
    },
    {
     "name": "stderr",
     "output_type": "stream",
     "text": [
      "100%|██████████| 40/40 [00:00<00:00, 45.49it/s]\n",
      "100%|██████████| 8/8 [00:00<00:00, 48.99it/s]\n"
     ]
    },
    {
     "name": "stdout",
     "output_type": "stream",
     "text": [
      "4 tensor(0.2260, device='cuda:0', dtype=torch.float64)\n"
     ]
    },
    {
     "name": "stderr",
     "output_type": "stream",
     "text": [
      "100%|██████████| 40/40 [00:00<00:00, 46.06it/s]\n",
      "100%|██████████| 8/8 [00:00<00:00, 49.19it/s]\n"
     ]
    },
    {
     "name": "stdout",
     "output_type": "stream",
     "text": [
      "5 tensor(0.2400, device='cuda:0', dtype=torch.float64)\n"
     ]
    },
    {
     "name": "stderr",
     "output_type": "stream",
     "text": [
      "100%|██████████| 40/40 [00:00<00:00, 46.09it/s]\n",
      "100%|██████████| 8/8 [00:00<00:00, 50.32it/s]\n"
     ]
    },
    {
     "name": "stdout",
     "output_type": "stream",
     "text": [
      "6 tensor(0.2540, device='cuda:0', dtype=torch.float64)\n"
     ]
    },
    {
     "name": "stderr",
     "output_type": "stream",
     "text": [
      "100%|██████████| 40/40 [00:00<00:00, 46.53it/s]\n",
      "100%|██████████| 8/8 [00:00<00:00, 51.09it/s]\n"
     ]
    },
    {
     "name": "stdout",
     "output_type": "stream",
     "text": [
      "7 tensor(0.2800, device='cuda:0', dtype=torch.float64)\n"
     ]
    },
    {
     "name": "stderr",
     "output_type": "stream",
     "text": [
      "100%|██████████| 40/40 [00:00<00:00, 44.54it/s]\n",
      "100%|██████████| 8/8 [00:00<00:00, 52.90it/s]\n"
     ]
    },
    {
     "name": "stdout",
     "output_type": "stream",
     "text": [
      "8 tensor(0.3140, device='cuda:0', dtype=torch.float64)\n"
     ]
    },
    {
     "name": "stderr",
     "output_type": "stream",
     "text": [
      "100%|██████████| 40/40 [00:00<00:00, 44.94it/s]\n",
      "100%|██████████| 8/8 [00:00<00:00, 49.80it/s]\n"
     ]
    },
    {
     "name": "stdout",
     "output_type": "stream",
     "text": [
      "9 tensor(0.3540, device='cuda:0', dtype=torch.float64)\n"
     ]
    },
    {
     "name": "stderr",
     "output_type": "stream",
     "text": [
      "100%|██████████| 40/40 [00:00<00:00, 47.02it/s]\n",
      "100%|██████████| 8/8 [00:00<00:00, 52.34it/s]\n"
     ]
    },
    {
     "name": "stdout",
     "output_type": "stream",
     "text": [
      "10 tensor(0.3960, device='cuda:0', dtype=torch.float64)\n"
     ]
    },
    {
     "name": "stderr",
     "output_type": "stream",
     "text": [
      "100%|██████████| 40/40 [00:00<00:00, 47.89it/s]\n",
      "100%|██████████| 8/8 [00:00<00:00, 53.83it/s]\n"
     ]
    },
    {
     "name": "stdout",
     "output_type": "stream",
     "text": [
      "11 tensor(0.4440, device='cuda:0', dtype=torch.float64)\n"
     ]
    },
    {
     "name": "stderr",
     "output_type": "stream",
     "text": [
      "100%|██████████| 40/40 [00:00<00:00, 47.34it/s]\n",
      "100%|██████████| 8/8 [00:00<00:00, 51.20it/s]\n"
     ]
    },
    {
     "name": "stdout",
     "output_type": "stream",
     "text": [
      "12 tensor(0.4900, device='cuda:0', dtype=torch.float64)\n"
     ]
    },
    {
     "name": "stderr",
     "output_type": "stream",
     "text": [
      "100%|██████████| 40/40 [00:00<00:00, 45.09it/s]\n",
      "100%|██████████| 8/8 [00:00<00:00, 44.46it/s]\n"
     ]
    },
    {
     "name": "stdout",
     "output_type": "stream",
     "text": [
      "13 tensor(0.5320, device='cuda:0', dtype=torch.float64)\n"
     ]
    },
    {
     "name": "stderr",
     "output_type": "stream",
     "text": [
      "100%|██████████| 40/40 [00:00<00:00, 46.29it/s]\n",
      "100%|██████████| 8/8 [00:00<00:00, 49.42it/s]\n"
     ]
    },
    {
     "name": "stdout",
     "output_type": "stream",
     "text": [
      "14 tensor(0.5400, device='cuda:0', dtype=torch.float64)\n"
     ]
    },
    {
     "name": "stderr",
     "output_type": "stream",
     "text": [
      "100%|██████████| 40/40 [00:00<00:00, 47.56it/s]\n",
      "100%|██████████| 8/8 [00:00<00:00, 47.04it/s]\n"
     ]
    },
    {
     "name": "stdout",
     "output_type": "stream",
     "text": [
      "15 tensor(0.6060, device='cuda:0', dtype=torch.float64)\n"
     ]
    },
    {
     "name": "stderr",
     "output_type": "stream",
     "text": [
      "100%|██████████| 40/40 [00:00<00:00, 43.86it/s]\n",
      "100%|██████████| 8/8 [00:00<00:00, 53.06it/s]\n"
     ]
    },
    {
     "name": "stdout",
     "output_type": "stream",
     "text": [
      "16 tensor(0.6500, device='cuda:0', dtype=torch.float64)\n"
     ]
    },
    {
     "name": "stderr",
     "output_type": "stream",
     "text": [
      "100%|██████████| 40/40 [00:00<00:00, 43.51it/s]\n",
      "100%|██████████| 8/8 [00:00<00:00, 61.28it/s]\n"
     ]
    },
    {
     "name": "stdout",
     "output_type": "stream",
     "text": [
      "17 tensor(0.7000, device='cuda:0', dtype=torch.float64)\n"
     ]
    },
    {
     "name": "stderr",
     "output_type": "stream",
     "text": [
      "100%|██████████| 40/40 [00:00<00:00, 46.42it/s]\n",
      "100%|██████████| 8/8 [00:00<00:00, 47.07it/s]\n"
     ]
    },
    {
     "name": "stdout",
     "output_type": "stream",
     "text": [
      "18 tensor(0.7320, device='cuda:0', dtype=torch.float64)\n"
     ]
    },
    {
     "name": "stderr",
     "output_type": "stream",
     "text": [
      "100%|██████████| 40/40 [00:00<00:00, 44.84it/s]\n",
      "100%|██████████| 8/8 [00:00<00:00, 49.02it/s]\n"
     ]
    },
    {
     "name": "stdout",
     "output_type": "stream",
     "text": [
      "19 tensor(0.7700, device='cuda:0', dtype=torch.float64)\n"
     ]
    },
    {
     "name": "stderr",
     "output_type": "stream",
     "text": [
      "100%|██████████| 40/40 [00:00<00:00, 47.28it/s]\n",
      "100%|██████████| 8/8 [00:00<00:00, 50.14it/s]\n"
     ]
    },
    {
     "name": "stdout",
     "output_type": "stream",
     "text": [
      "20 tensor(0.7800, device='cuda:0', dtype=torch.float64)\n"
     ]
    },
    {
     "name": "stderr",
     "output_type": "stream",
     "text": [
      "100%|██████████| 40/40 [00:00<00:00, 48.23it/s]\n",
      "100%|██████████| 8/8 [00:00<00:00, 50.58it/s]\n"
     ]
    },
    {
     "name": "stdout",
     "output_type": "stream",
     "text": [
      "21 tensor(0.8020, device='cuda:0', dtype=torch.float64)\n"
     ]
    },
    {
     "name": "stderr",
     "output_type": "stream",
     "text": [
      "100%|██████████| 40/40 [00:00<00:00, 45.38it/s]\n",
      "100%|██████████| 8/8 [00:00<00:00, 50.75it/s]\n"
     ]
    },
    {
     "name": "stdout",
     "output_type": "stream",
     "text": [
      "22 tensor(0.8220, device='cuda:0', dtype=torch.float64)\n"
     ]
    },
    {
     "name": "stderr",
     "output_type": "stream",
     "text": [
      "100%|██████████| 40/40 [00:00<00:00, 47.49it/s]\n",
      "100%|██████████| 8/8 [00:00<00:00, 45.99it/s]\n"
     ]
    },
    {
     "name": "stdout",
     "output_type": "stream",
     "text": [
      "23 tensor(0.8440, device='cuda:0', dtype=torch.float64)\n"
     ]
    },
    {
     "name": "stderr",
     "output_type": "stream",
     "text": [
      "100%|██████████| 40/40 [00:00<00:00, 46.60it/s]\n",
      "100%|██████████| 8/8 [00:00<00:00, 48.81it/s]\n"
     ]
    },
    {
     "name": "stdout",
     "output_type": "stream",
     "text": [
      "24 tensor(0.8480, device='cuda:0', dtype=torch.float64)\n"
     ]
    },
    {
     "name": "stderr",
     "output_type": "stream",
     "text": [
      "100%|██████████| 40/40 [00:00<00:00, 44.52it/s]\n",
      "100%|██████████| 8/8 [00:00<00:00, 39.54it/s]\n"
     ]
    },
    {
     "name": "stdout",
     "output_type": "stream",
     "text": [
      "25 tensor(0.8640, device='cuda:0', dtype=torch.float64)\n"
     ]
    },
    {
     "name": "stderr",
     "output_type": "stream",
     "text": [
      "100%|██████████| 40/40 [00:00<00:00, 45.69it/s]\n",
      "100%|██████████| 8/8 [00:00<00:00, 46.55it/s]\n"
     ]
    },
    {
     "name": "stdout",
     "output_type": "stream",
     "text": [
      "26 tensor(0.8860, device='cuda:0', dtype=torch.float64)\n"
     ]
    },
    {
     "name": "stderr",
     "output_type": "stream",
     "text": [
      "100%|██████████| 40/40 [00:00<00:00, 62.92it/s]\n",
      "100%|██████████| 8/8 [00:00<00:00, 61.47it/s]\n",
      "100%|██████████| 40/40 [00:00<00:00, 61.18it/s]\n",
      "100%|██████████| 8/8 [00:00<00:00, 62.14it/s]\n",
      "100%|██████████| 40/40 [00:00<00:00, 64.83it/s]\n",
      "100%|██████████| 8/8 [00:00<00:00, 58.69it/s]\n",
      "100%|██████████| 40/40 [00:00<00:00, 65.59it/s]\n",
      "100%|██████████| 8/8 [00:00<00:00, 61.49it/s]\n"
     ]
    },
    {
     "name": "stdout",
     "output_type": "stream",
     "text": [
      "30 tensor(0.8880, device='cuda:0', dtype=torch.float64)\n"
     ]
    },
    {
     "name": "stderr",
     "output_type": "stream",
     "text": [
      "100%|██████████| 40/40 [00:00<00:00, 61.25it/s]\n",
      "100%|██████████| 8/8 [00:00<00:00, 57.58it/s]\n",
      "100%|██████████| 40/40 [00:00<00:00, 46.33it/s]\n",
      "100%|██████████| 8/8 [00:00<00:00, 48.12it/s]\n"
     ]
    },
    {
     "name": "stdout",
     "output_type": "stream",
     "text": [
      "32 tensor(0.9040, device='cuda:0', dtype=torch.float64)\n"
     ]
    },
    {
     "name": "stderr",
     "output_type": "stream",
     "text": [
      "100%|██████████| 40/40 [00:00<00:00, 41.79it/s]\n",
      "100%|██████████| 8/8 [00:00<00:00, 47.96it/s]\n",
      "100%|██████████| 40/40 [00:00<00:00, 45.41it/s]\n",
      "100%|██████████| 8/8 [00:00<00:00, 51.03it/s]\n",
      "100%|██████████| 40/40 [00:00<00:00, 43.94it/s]\n",
      "100%|██████████| 8/8 [00:00<00:00, 52.12it/s]\n"
     ]
    },
    {
     "name": "stdout",
     "output_type": "stream",
     "text": [
      "35 tensor(0.9060, device='cuda:0', dtype=torch.float64)\n"
     ]
    },
    {
     "name": "stderr",
     "output_type": "stream",
     "text": [
      "100%|██████████| 40/40 [00:00<00:00, 44.35it/s]\n",
      "100%|██████████| 8/8 [00:00<00:00, 44.83it/s]\n",
      "100%|██████████| 40/40 [00:00<00:00, 41.29it/s]\n",
      "100%|██████████| 8/8 [00:00<00:00, 42.17it/s]\n"
     ]
    },
    {
     "name": "stdout",
     "output_type": "stream",
     "text": [
      "37 tensor(0.9120, device='cuda:0', dtype=torch.float64)\n"
     ]
    },
    {
     "name": "stderr",
     "output_type": "stream",
     "text": [
      "100%|██████████| 40/40 [00:00<00:00, 43.29it/s]\n",
      "100%|██████████| 8/8 [00:00<00:00, 50.71it/s]\n",
      "100%|██████████| 40/40 [00:00<00:00, 43.21it/s]\n",
      "100%|██████████| 8/8 [00:00<00:00, 64.48it/s]\n"
     ]
    },
    {
     "name": "stdout",
     "output_type": "stream",
     "text": [
      "Finished Shadow Model 9 Training with accuracy 0.912\n",
      "TAILLE dataset {'train': 2500, 'val': 2500}\n",
      "DATASET SIZE {'train': 2500, 'val': 2500}\n"
     ]
    },
    {
     "name": "stderr",
     "output_type": "stream",
     "text": [
      "100%|██████████| 40/40 [00:00<00:00, 64.84it/s]\n",
      "100%|██████████| 40/40 [00:00<00:00, 62.30it/s]\n"
     ]
    },
    {
     "name": "stdout",
     "output_type": "stream",
     "text": [
      "0 tensor(0.0980, device='cuda:0', dtype=torch.float64)\n"
     ]
    },
    {
     "name": "stderr",
     "output_type": "stream",
     "text": [
      "100%|██████████| 40/40 [00:00<00:00, 61.86it/s]\n",
      "100%|██████████| 40/40 [00:00<00:00, 68.00it/s]\n"
     ]
    },
    {
     "name": "stdout",
     "output_type": "stream",
     "text": [
      "1 tensor(0.1480, device='cuda:0', dtype=torch.float64)\n"
     ]
    },
    {
     "name": "stderr",
     "output_type": "stream",
     "text": [
      "100%|██████████| 40/40 [00:00<00:00, 51.92it/s]\n",
      "100%|██████████| 40/40 [00:00<00:00, 55.68it/s]\n"
     ]
    },
    {
     "name": "stdout",
     "output_type": "stream",
     "text": [
      "2 tensor(0.1860, device='cuda:0', dtype=torch.float64)\n"
     ]
    },
    {
     "name": "stderr",
     "output_type": "stream",
     "text": [
      "100%|██████████| 40/40 [00:00<00:00, 44.25it/s]\n",
      "100%|██████████| 40/40 [00:00<00:00, 57.24it/s]\n"
     ]
    },
    {
     "name": "stdout",
     "output_type": "stream",
     "text": [
      "3 tensor(0.2380, device='cuda:0', dtype=torch.float64)\n"
     ]
    },
    {
     "name": "stderr",
     "output_type": "stream",
     "text": [
      "100%|██████████| 40/40 [00:00<00:00, 43.16it/s]\n",
      "100%|██████████| 40/40 [00:00<00:00, 57.53it/s]\n"
     ]
    },
    {
     "name": "stdout",
     "output_type": "stream",
     "text": [
      "4 tensor(0.3100, device='cuda:0', dtype=torch.float64)\n"
     ]
    },
    {
     "name": "stderr",
     "output_type": "stream",
     "text": [
      "100%|██████████| 40/40 [00:00<00:00, 44.57it/s]\n",
      "100%|██████████| 40/40 [00:00<00:00, 53.22it/s]\n"
     ]
    },
    {
     "name": "stdout",
     "output_type": "stream",
     "text": [
      "5 tensor(0.3520, device='cuda:0', dtype=torch.float64)\n"
     ]
    },
    {
     "name": "stderr",
     "output_type": "stream",
     "text": [
      "100%|██████████| 40/40 [00:00<00:00, 44.37it/s]\n",
      "100%|██████████| 40/40 [00:00<00:00, 55.71it/s]\n"
     ]
    },
    {
     "name": "stdout",
     "output_type": "stream",
     "text": [
      "6 tensor(0.3860, device='cuda:0', dtype=torch.float64)\n"
     ]
    },
    {
     "name": "stderr",
     "output_type": "stream",
     "text": [
      "100%|██████████| 40/40 [00:00<00:00, 41.41it/s]\n",
      "100%|██████████| 40/40 [00:00<00:00, 56.85it/s]\n"
     ]
    },
    {
     "name": "stdout",
     "output_type": "stream",
     "text": [
      "7 tensor(0.4000, device='cuda:0', dtype=torch.float64)\n"
     ]
    },
    {
     "name": "stderr",
     "output_type": "stream",
     "text": [
      "100%|██████████| 40/40 [00:00<00:00, 44.84it/s]\n",
      "100%|██████████| 40/40 [00:00<00:00, 56.79it/s]\n"
     ]
    },
    {
     "name": "stdout",
     "output_type": "stream",
     "text": [
      "8 tensor(0.4100, device='cuda:0', dtype=torch.float64)\n"
     ]
    },
    {
     "name": "stderr",
     "output_type": "stream",
     "text": [
      "100%|██████████| 40/40 [00:00<00:00, 44.56it/s]\n",
      "100%|██████████| 40/40 [00:00<00:00, 59.67it/s]\n"
     ]
    },
    {
     "name": "stdout",
     "output_type": "stream",
     "text": [
      "9 tensor(0.4240, device='cuda:0', dtype=torch.float64)\n"
     ]
    },
    {
     "name": "stderr",
     "output_type": "stream",
     "text": [
      "100%|██████████| 40/40 [00:00<00:00, 45.97it/s]\n",
      "100%|██████████| 40/40 [00:00<00:00, 47.51it/s]\n"
     ]
    },
    {
     "name": "stdout",
     "output_type": "stream",
     "text": [
      "10 tensor(0.4680, device='cuda:0', dtype=torch.float64)\n"
     ]
    },
    {
     "name": "stderr",
     "output_type": "stream",
     "text": [
      "100%|██████████| 40/40 [00:00<00:00, 43.93it/s]\n",
      "100%|██████████| 40/40 [00:00<00:00, 55.86it/s]\n"
     ]
    },
    {
     "name": "stdout",
     "output_type": "stream",
     "text": [
      "11 tensor(0.5060, device='cuda:0', dtype=torch.float64)\n"
     ]
    },
    {
     "name": "stderr",
     "output_type": "stream",
     "text": [
      "100%|██████████| 40/40 [00:00<00:00, 44.79it/s]\n",
      "100%|██████████| 40/40 [00:00<00:00, 46.90it/s]\n"
     ]
    },
    {
     "name": "stdout",
     "output_type": "stream",
     "text": [
      "12 tensor(0.5900, device='cuda:0', dtype=torch.float64)\n"
     ]
    },
    {
     "name": "stderr",
     "output_type": "stream",
     "text": [
      "100%|██████████| 40/40 [00:00<00:00, 44.12it/s]\n",
      "100%|██████████| 40/40 [00:00<00:00, 54.01it/s]\n"
     ]
    },
    {
     "name": "stdout",
     "output_type": "stream",
     "text": [
      "13 tensor(0.6300, device='cuda:0', dtype=torch.float64)\n"
     ]
    },
    {
     "name": "stderr",
     "output_type": "stream",
     "text": [
      "100%|██████████| 40/40 [00:00<00:00, 43.52it/s]\n",
      "100%|██████████| 40/40 [00:00<00:00, 54.88it/s]\n"
     ]
    },
    {
     "name": "stdout",
     "output_type": "stream",
     "text": [
      "14 tensor(0.6600, device='cuda:0', dtype=torch.float64)\n"
     ]
    },
    {
     "name": "stderr",
     "output_type": "stream",
     "text": [
      "100%|██████████| 40/40 [00:00<00:00, 46.43it/s]\n",
      "100%|██████████| 40/40 [00:00<00:00, 58.72it/s]\n"
     ]
    },
    {
     "name": "stdout",
     "output_type": "stream",
     "text": [
      "15 tensor(0.6860, device='cuda:0', dtype=torch.float64)\n"
     ]
    },
    {
     "name": "stderr",
     "output_type": "stream",
     "text": [
      "100%|██████████| 40/40 [00:00<00:00, 43.09it/s]\n",
      "100%|██████████| 40/40 [00:00<00:00, 58.27it/s]\n"
     ]
    },
    {
     "name": "stdout",
     "output_type": "stream",
     "text": [
      "16 tensor(0.7220, device='cuda:0', dtype=torch.float64)\n"
     ]
    },
    {
     "name": "stderr",
     "output_type": "stream",
     "text": [
      "100%|██████████| 40/40 [00:00<00:00, 44.75it/s]\n",
      "100%|██████████| 40/40 [00:00<00:00, 57.48it/s]\n"
     ]
    },
    {
     "name": "stdout",
     "output_type": "stream",
     "text": [
      "17 tensor(0.7700, device='cuda:0', dtype=torch.float64)\n"
     ]
    },
    {
     "name": "stderr",
     "output_type": "stream",
     "text": [
      "100%|██████████| 40/40 [00:00<00:00, 46.67it/s]\n",
      "100%|██████████| 40/40 [00:00<00:00, 50.23it/s]\n"
     ]
    },
    {
     "name": "stdout",
     "output_type": "stream",
     "text": [
      "18 tensor(0.8020, device='cuda:0', dtype=torch.float64)\n"
     ]
    },
    {
     "name": "stderr",
     "output_type": "stream",
     "text": [
      "100%|██████████| 40/40 [00:00<00:00, 42.44it/s]\n",
      "100%|██████████| 40/40 [00:00<00:00, 54.51it/s]\n"
     ]
    },
    {
     "name": "stdout",
     "output_type": "stream",
     "text": [
      "19 tensor(0.8180, device='cuda:0', dtype=torch.float64)\n"
     ]
    },
    {
     "name": "stderr",
     "output_type": "stream",
     "text": [
      "100%|██████████| 40/40 [00:00<00:00, 43.37it/s]\n",
      "100%|██████████| 40/40 [00:00<00:00, 58.85it/s]\n"
     ]
    },
    {
     "name": "stdout",
     "output_type": "stream",
     "text": [
      "20 tensor(0.8320, device='cuda:0', dtype=torch.float64)\n"
     ]
    },
    {
     "name": "stderr",
     "output_type": "stream",
     "text": [
      "100%|██████████| 40/40 [00:00<00:00, 44.41it/s]\n",
      "100%|██████████| 40/40 [00:00<00:00, 59.90it/s]\n",
      "100%|██████████| 40/40 [00:00<00:00, 44.95it/s]\n",
      "100%|██████████| 40/40 [00:00<00:00, 53.49it/s]\n"
     ]
    },
    {
     "name": "stdout",
     "output_type": "stream",
     "text": [
      "22 tensor(0.8380, device='cuda:0', dtype=torch.float64)\n"
     ]
    },
    {
     "name": "stderr",
     "output_type": "stream",
     "text": [
      "100%|██████████| 40/40 [00:00<00:00, 43.46it/s]\n",
      "100%|██████████| 40/40 [00:00<00:00, 54.81it/s]\n",
      "100%|██████████| 40/40 [00:00<00:00, 44.76it/s]\n",
      "100%|██████████| 40/40 [00:00<00:00, 54.75it/s]\n"
     ]
    },
    {
     "name": "stdout",
     "output_type": "stream",
     "text": [
      "24 tensor(0.8440, device='cuda:0', dtype=torch.float64)\n"
     ]
    },
    {
     "name": "stderr",
     "output_type": "stream",
     "text": [
      "100%|██████████| 40/40 [00:00<00:00, 45.21it/s]\n",
      "100%|██████████| 40/40 [00:00<00:00, 54.24it/s]\n"
     ]
    },
    {
     "name": "stdout",
     "output_type": "stream",
     "text": [
      "25 tensor(0.8480, device='cuda:0', dtype=torch.float64)\n"
     ]
    },
    {
     "name": "stderr",
     "output_type": "stream",
     "text": [
      "100%|██████████| 40/40 [00:00<00:00, 42.78it/s]\n",
      "100%|██████████| 40/40 [00:00<00:00, 54.41it/s]\n",
      "100%|██████████| 40/40 [00:00<00:00, 44.00it/s]\n",
      "100%|██████████| 40/40 [00:00<00:00, 57.35it/s]\n",
      "100%|██████████| 40/40 [00:00<00:00, 43.45it/s]\n",
      "100%|██████████| 40/40 [00:00<00:00, 57.24it/s]\n"
     ]
    },
    {
     "name": "stdout",
     "output_type": "stream",
     "text": [
      "28 tensor(0.8600, device='cuda:0', dtype=torch.float64)\n"
     ]
    },
    {
     "name": "stderr",
     "output_type": "stream",
     "text": [
      "100%|██████████| 40/40 [00:00<00:00, 41.90it/s]\n",
      "100%|██████████| 40/40 [00:00<00:00, 56.67it/s]\n"
     ]
    },
    {
     "name": "stdout",
     "output_type": "stream",
     "text": [
      "29 tensor(0.8680, device='cuda:0', dtype=torch.float64)\n"
     ]
    },
    {
     "name": "stderr",
     "output_type": "stream",
     "text": [
      "100%|██████████| 40/40 [00:00<00:00, 45.08it/s]\n",
      "100%|██████████| 40/40 [00:00<00:00, 50.44it/s]\n",
      "100%|██████████| 40/40 [00:00<00:00, 44.11it/s]\n",
      "100%|██████████| 40/40 [00:00<00:00, 56.04it/s]\n",
      "100%|██████████| 40/40 [00:00<00:00, 43.89it/s]\n",
      "100%|██████████| 40/40 [00:00<00:00, 55.56it/s]\n",
      "100%|██████████| 40/40 [00:00<00:00, 43.70it/s]\n",
      "100%|██████████| 40/40 [00:00<00:00, 58.06it/s]\n",
      "100%|██████████| 40/40 [00:00<00:00, 44.47it/s]\n",
      "100%|██████████| 40/40 [00:00<00:00, 56.58it/s]\n",
      "100%|██████████| 40/40 [00:00<00:00, 44.56it/s]\n",
      "100%|██████████| 40/40 [00:00<00:00, 63.70it/s]\n",
      "100%|██████████| 40/40 [00:00<00:00, 41.61it/s]\n",
      "100%|██████████| 40/40 [00:00<00:00, 56.76it/s]\n",
      "100%|██████████| 40/40 [00:00<00:00, 42.44it/s]\n",
      "100%|██████████| 40/40 [00:00<00:00, 53.69it/s]\n"
     ]
    },
    {
     "name": "stdout",
     "output_type": "stream",
     "text": [
      "37 tensor(0.8760, device='cuda:0', dtype=torch.float64)\n"
     ]
    },
    {
     "name": "stderr",
     "output_type": "stream",
     "text": [
      "100%|██████████| 40/40 [00:00<00:00, 44.16it/s]\n",
      "100%|██████████| 40/40 [00:00<00:00, 50.71it/s]\n",
      "100%|██████████| 40/40 [00:00<00:00, 42.53it/s]\n",
      "100%|██████████| 40/40 [00:00<00:00, 55.19it/s]\n"
     ]
    },
    {
     "name": "stdout",
     "output_type": "stream",
     "text": [
      "Finished Shadow Model 10 Training with accuracy 0.876\n",
      "TAILLE dataset {'train': 2500, 'val': 2500}\n",
      "DATASET SIZE {'train': 2500, 'val': 2500}\n"
     ]
    },
    {
     "name": "stderr",
     "output_type": "stream",
     "text": [
      "100%|██████████| 40/40 [00:00<00:00, 43.14it/s]\n",
      "100%|██████████| 40/40 [00:00<00:00, 58.63it/s]\n"
     ]
    },
    {
     "name": "stdout",
     "output_type": "stream",
     "text": [
      "0 tensor(0.1060, device='cuda:0', dtype=torch.float64)\n"
     ]
    },
    {
     "name": "stderr",
     "output_type": "stream",
     "text": [
      "100%|██████████| 40/40 [00:00<00:00, 42.40it/s]\n",
      "100%|██████████| 40/40 [00:00<00:00, 59.42it/s]\n"
     ]
    },
    {
     "name": "stdout",
     "output_type": "stream",
     "text": [
      "1 tensor(0.1180, device='cuda:0', dtype=torch.float64)\n"
     ]
    },
    {
     "name": "stderr",
     "output_type": "stream",
     "text": [
      "100%|██████████| 40/40 [00:00<00:00, 42.33it/s]\n",
      "100%|██████████| 40/40 [00:00<00:00, 56.81it/s]\n"
     ]
    },
    {
     "name": "stdout",
     "output_type": "stream",
     "text": [
      "2 tensor(0.1360, device='cuda:0', dtype=torch.float64)\n"
     ]
    },
    {
     "name": "stderr",
     "output_type": "stream",
     "text": [
      "100%|██████████| 40/40 [00:00<00:00, 46.04it/s]\n",
      "100%|██████████| 40/40 [00:00<00:00, 57.26it/s]\n"
     ]
    },
    {
     "name": "stdout",
     "output_type": "stream",
     "text": [
      "3 tensor(0.1920, device='cuda:0', dtype=torch.float64)\n"
     ]
    },
    {
     "name": "stderr",
     "output_type": "stream",
     "text": [
      "100%|██████████| 40/40 [00:00<00:00, 43.93it/s]\n",
      "100%|██████████| 40/40 [00:00<00:00, 49.26it/s]\n"
     ]
    },
    {
     "name": "stdout",
     "output_type": "stream",
     "text": [
      "4 tensor(0.2500, device='cuda:0', dtype=torch.float64)\n"
     ]
    },
    {
     "name": "stderr",
     "output_type": "stream",
     "text": [
      "100%|██████████| 40/40 [00:00<00:00, 42.53it/s]\n",
      "100%|██████████| 40/40 [00:00<00:00, 53.38it/s]\n"
     ]
    },
    {
     "name": "stdout",
     "output_type": "stream",
     "text": [
      "5 tensor(0.3040, device='cuda:0', dtype=torch.float64)\n"
     ]
    },
    {
     "name": "stderr",
     "output_type": "stream",
     "text": [
      "100%|██████████| 40/40 [00:00<00:00, 43.61it/s]\n",
      "100%|██████████| 40/40 [00:00<00:00, 59.38it/s]\n"
     ]
    },
    {
     "name": "stdout",
     "output_type": "stream",
     "text": [
      "6 tensor(0.3820, device='cuda:0', dtype=torch.float64)\n"
     ]
    },
    {
     "name": "stderr",
     "output_type": "stream",
     "text": [
      "100%|██████████| 40/40 [00:00<00:00, 42.97it/s]\n",
      "100%|██████████| 40/40 [00:00<00:00, 51.64it/s]\n"
     ]
    },
    {
     "name": "stdout",
     "output_type": "stream",
     "text": [
      "7 tensor(0.4400, device='cuda:0', dtype=torch.float64)\n"
     ]
    },
    {
     "name": "stderr",
     "output_type": "stream",
     "text": [
      "100%|██████████| 40/40 [00:00<00:00, 43.19it/s]\n",
      "100%|██████████| 40/40 [00:00<00:00, 48.20it/s]\n"
     ]
    },
    {
     "name": "stdout",
     "output_type": "stream",
     "text": [
      "8 tensor(0.5100, device='cuda:0', dtype=torch.float64)\n"
     ]
    },
    {
     "name": "stderr",
     "output_type": "stream",
     "text": [
      "100%|██████████| 40/40 [00:00<00:00, 47.03it/s]\n",
      "100%|██████████| 40/40 [00:00<00:00, 49.55it/s]\n"
     ]
    },
    {
     "name": "stdout",
     "output_type": "stream",
     "text": [
      "9 tensor(0.5180, device='cuda:0', dtype=torch.float64)\n"
     ]
    },
    {
     "name": "stderr",
     "output_type": "stream",
     "text": [
      "100%|██████████| 40/40 [00:00<00:00, 46.26it/s]\n",
      "100%|██████████| 40/40 [00:00<00:00, 59.84it/s]\n",
      "100%|██████████| 40/40 [00:00<00:00, 43.72it/s]\n",
      "100%|██████████| 40/40 [00:00<00:00, 58.96it/s]\n"
     ]
    },
    {
     "name": "stdout",
     "output_type": "stream",
     "text": [
      "11 tensor(0.5200, device='cuda:0', dtype=torch.float64)\n"
     ]
    },
    {
     "name": "stderr",
     "output_type": "stream",
     "text": [
      "100%|██████████| 40/40 [00:00<00:00, 45.09it/s]\n",
      "100%|██████████| 40/40 [00:00<00:00, 56.21it/s]\n"
     ]
    },
    {
     "name": "stdout",
     "output_type": "stream",
     "text": [
      "12 tensor(0.5280, device='cuda:0', dtype=torch.float64)\n"
     ]
    },
    {
     "name": "stderr",
     "output_type": "stream",
     "text": [
      "100%|██████████| 40/40 [00:00<00:00, 43.92it/s]\n",
      "100%|██████████| 40/40 [00:00<00:00, 47.73it/s]\n"
     ]
    },
    {
     "name": "stdout",
     "output_type": "stream",
     "text": [
      "13 tensor(0.5440, device='cuda:0', dtype=torch.float64)\n"
     ]
    },
    {
     "name": "stderr",
     "output_type": "stream",
     "text": [
      "100%|██████████| 40/40 [00:01<00:00, 36.45it/s]\n",
      "100%|██████████| 40/40 [00:00<00:00, 49.96it/s]\n"
     ]
    },
    {
     "name": "stdout",
     "output_type": "stream",
     "text": [
      "14 tensor(0.5780, device='cuda:0', dtype=torch.float64)\n"
     ]
    },
    {
     "name": "stderr",
     "output_type": "stream",
     "text": [
      "100%|██████████| 40/40 [00:00<00:00, 44.04it/s]\n",
      "100%|██████████| 40/40 [00:00<00:00, 53.91it/s]\n"
     ]
    },
    {
     "name": "stdout",
     "output_type": "stream",
     "text": [
      "15 tensor(0.5820, device='cuda:0', dtype=torch.float64)\n"
     ]
    },
    {
     "name": "stderr",
     "output_type": "stream",
     "text": [
      "100%|██████████| 40/40 [00:00<00:00, 44.33it/s]\n",
      "100%|██████████| 40/40 [00:00<00:00, 55.94it/s]\n"
     ]
    },
    {
     "name": "stdout",
     "output_type": "stream",
     "text": [
      "16 tensor(0.6200, device='cuda:0', dtype=torch.float64)\n"
     ]
    },
    {
     "name": "stderr",
     "output_type": "stream",
     "text": [
      "100%|██████████| 40/40 [00:00<00:00, 43.62it/s]\n",
      "100%|██████████| 40/40 [00:00<00:00, 58.26it/s]\n"
     ]
    },
    {
     "name": "stdout",
     "output_type": "stream",
     "text": [
      "17 tensor(0.6500, device='cuda:0', dtype=torch.float64)\n"
     ]
    },
    {
     "name": "stderr",
     "output_type": "stream",
     "text": [
      "100%|██████████| 40/40 [00:00<00:00, 45.61it/s]\n",
      "100%|██████████| 40/40 [00:00<00:00, 58.25it/s]\n"
     ]
    },
    {
     "name": "stdout",
     "output_type": "stream",
     "text": [
      "18 tensor(0.6760, device='cuda:0', dtype=torch.float64)\n"
     ]
    },
    {
     "name": "stderr",
     "output_type": "stream",
     "text": [
      "100%|██████████| 40/40 [00:00<00:00, 43.71it/s]\n",
      "100%|██████████| 40/40 [00:00<00:00, 59.76it/s]\n"
     ]
    },
    {
     "name": "stdout",
     "output_type": "stream",
     "text": [
      "19 tensor(0.7220, device='cuda:0', dtype=torch.float64)\n"
     ]
    },
    {
     "name": "stderr",
     "output_type": "stream",
     "text": [
      "100%|██████████| 40/40 [00:00<00:00, 45.55it/s]\n",
      "100%|██████████| 40/40 [00:00<00:00, 57.96it/s]\n"
     ]
    },
    {
     "name": "stdout",
     "output_type": "stream",
     "text": [
      "20 tensor(0.7460, device='cuda:0', dtype=torch.float64)\n"
     ]
    },
    {
     "name": "stderr",
     "output_type": "stream",
     "text": [
      "100%|██████████| 40/40 [00:00<00:00, 45.55it/s]\n",
      "100%|██████████| 40/40 [00:00<00:00, 58.19it/s]\n"
     ]
    },
    {
     "name": "stdout",
     "output_type": "stream",
     "text": [
      "21 tensor(0.7820, device='cuda:0', dtype=torch.float64)\n"
     ]
    },
    {
     "name": "stderr",
     "output_type": "stream",
     "text": [
      "100%|██████████| 40/40 [00:00<00:00, 43.60it/s]\n",
      "100%|██████████| 40/40 [00:00<00:00, 55.11it/s]\n"
     ]
    },
    {
     "name": "stdout",
     "output_type": "stream",
     "text": [
      "22 tensor(0.7900, device='cuda:0', dtype=torch.float64)\n"
     ]
    },
    {
     "name": "stderr",
     "output_type": "stream",
     "text": [
      "100%|██████████| 40/40 [00:00<00:00, 42.89it/s]\n",
      "100%|██████████| 40/40 [00:00<00:00, 57.67it/s]\n"
     ]
    },
    {
     "name": "stdout",
     "output_type": "stream",
     "text": [
      "23 tensor(0.8220, device='cuda:0', dtype=torch.float64)\n"
     ]
    },
    {
     "name": "stderr",
     "output_type": "stream",
     "text": [
      "100%|██████████| 40/40 [00:00<00:00, 43.15it/s]\n",
      "100%|██████████| 40/40 [00:00<00:00, 54.54it/s]\n"
     ]
    },
    {
     "name": "stdout",
     "output_type": "stream",
     "text": [
      "24 tensor(0.8520, device='cuda:0', dtype=torch.float64)\n"
     ]
    },
    {
     "name": "stderr",
     "output_type": "stream",
     "text": [
      "100%|██████████| 40/40 [00:00<00:00, 46.04it/s]\n",
      "100%|██████████| 40/40 [00:00<00:00, 57.47it/s]\n",
      "100%|██████████| 40/40 [00:00<00:00, 43.50it/s]\n",
      "100%|██████████| 40/40 [00:00<00:00, 56.61it/s]\n"
     ]
    },
    {
     "name": "stdout",
     "output_type": "stream",
     "text": [
      "26 tensor(0.8540, device='cuda:0', dtype=torch.float64)\n"
     ]
    },
    {
     "name": "stderr",
     "output_type": "stream",
     "text": [
      "100%|██████████| 40/40 [00:00<00:00, 44.68it/s]\n",
      "100%|██████████| 40/40 [00:00<00:00, 58.57it/s]\n"
     ]
    },
    {
     "name": "stdout",
     "output_type": "stream",
     "text": [
      "27 tensor(0.8640, device='cuda:0', dtype=torch.float64)\n"
     ]
    },
    {
     "name": "stderr",
     "output_type": "stream",
     "text": [
      "100%|██████████| 40/40 [00:00<00:00, 44.60it/s]\n",
      "100%|██████████| 40/40 [00:00<00:00, 59.90it/s]\n"
     ]
    },
    {
     "name": "stdout",
     "output_type": "stream",
     "text": [
      "28 tensor(0.8680, device='cuda:0', dtype=torch.float64)\n"
     ]
    },
    {
     "name": "stderr",
     "output_type": "stream",
     "text": [
      "100%|██████████| 40/40 [00:00<00:00, 44.39it/s]\n",
      "100%|██████████| 40/40 [00:00<00:00, 59.62it/s]\n",
      "100%|██████████| 40/40 [00:00<00:00, 42.86it/s]\n",
      "100%|██████████| 40/40 [00:00<00:00, 54.63it/s]\n"
     ]
    },
    {
     "name": "stdout",
     "output_type": "stream",
     "text": [
      "30 tensor(0.8900, device='cuda:0', dtype=torch.float64)\n"
     ]
    },
    {
     "name": "stderr",
     "output_type": "stream",
     "text": [
      "100%|██████████| 40/40 [00:00<00:00, 46.61it/s]\n",
      "100%|██████████| 40/40 [00:00<00:00, 56.76it/s]\n",
      "100%|██████████| 40/40 [00:00<00:00, 42.69it/s]\n",
      "100%|██████████| 40/40 [00:00<00:00, 60.42it/s]\n",
      "100%|██████████| 40/40 [00:00<00:00, 43.79it/s]\n",
      "100%|██████████| 40/40 [00:00<00:00, 60.71it/s]\n",
      "100%|██████████| 40/40 [00:00<00:00, 46.13it/s]\n",
      "100%|██████████| 40/40 [00:00<00:00, 57.12it/s]\n",
      "100%|██████████| 40/40 [00:00<00:00, 43.71it/s]\n",
      "100%|██████████| 40/40 [00:00<00:00, 64.37it/s]\n",
      "100%|██████████| 40/40 [00:00<00:00, 45.00it/s]\n",
      "100%|██████████| 40/40 [00:00<00:00, 56.55it/s]\n"
     ]
    },
    {
     "name": "stdout",
     "output_type": "stream",
     "text": [
      "36 tensor(0.8940, device='cuda:0', dtype=torch.float64)\n"
     ]
    },
    {
     "name": "stderr",
     "output_type": "stream",
     "text": [
      "100%|██████████| 40/40 [00:00<00:00, 44.38it/s]\n",
      "100%|██████████| 40/40 [00:00<00:00, 60.45it/s]\n"
     ]
    },
    {
     "name": "stdout",
     "output_type": "stream",
     "text": [
      "37 tensor(0.9160, device='cuda:0', dtype=torch.float64)\n"
     ]
    },
    {
     "name": "stderr",
     "output_type": "stream",
     "text": [
      "100%|██████████| 40/40 [00:00<00:00, 44.34it/s]\n",
      "100%|██████████| 40/40 [00:00<00:00, 62.03it/s]\n",
      "100%|██████████| 40/40 [00:00<00:00, 40.03it/s]\n",
      "100%|██████████| 40/40 [00:00<00:00, 58.11it/s]\n"
     ]
    },
    {
     "name": "stdout",
     "output_type": "stream",
     "text": [
      "Finished Shadow Model 11 Training with accuracy 0.916\n",
      "TAILLE dataset {'train': 2500, 'val': 2500}\n",
      "DATASET SIZE {'train': 2500, 'val': 2500}\n"
     ]
    },
    {
     "name": "stderr",
     "output_type": "stream",
     "text": [
      "100%|██████████| 40/40 [00:00<00:00, 43.06it/s]\n",
      "100%|██████████| 40/40 [00:00<00:00, 60.25it/s]\n"
     ]
    },
    {
     "name": "stdout",
     "output_type": "stream",
     "text": [
      "0 tensor(0.0960, device='cuda:0', dtype=torch.float64)\n"
     ]
    },
    {
     "name": "stderr",
     "output_type": "stream",
     "text": [
      "100%|██████████| 40/40 [00:00<00:00, 40.96it/s]\n",
      "100%|██████████| 40/40 [00:00<00:00, 55.14it/s]\n"
     ]
    },
    {
     "name": "stdout",
     "output_type": "stream",
     "text": [
      "1 tensor(0.1080, device='cuda:0', dtype=torch.float64)\n"
     ]
    },
    {
     "name": "stderr",
     "output_type": "stream",
     "text": [
      "100%|██████████| 40/40 [00:00<00:00, 61.82it/s]\n",
      "100%|██████████| 40/40 [00:00<00:00, 72.47it/s]\n"
     ]
    },
    {
     "name": "stdout",
     "output_type": "stream",
     "text": [
      "2 tensor(0.1660, device='cuda:0', dtype=torch.float64)\n"
     ]
    },
    {
     "name": "stderr",
     "output_type": "stream",
     "text": [
      "100%|██████████| 40/40 [00:00<00:00, 51.61it/s]\n",
      "100%|██████████| 40/40 [00:00<00:00, 54.92it/s]\n"
     ]
    },
    {
     "name": "stdout",
     "output_type": "stream",
     "text": [
      "3 tensor(0.2140, device='cuda:0', dtype=torch.float64)\n"
     ]
    },
    {
     "name": "stderr",
     "output_type": "stream",
     "text": [
      "100%|██████████| 40/40 [00:00<00:00, 52.00it/s]\n",
      "100%|██████████| 40/40 [00:00<00:00, 60.75it/s]\n"
     ]
    },
    {
     "name": "stdout",
     "output_type": "stream",
     "text": [
      "4 tensor(0.2600, device='cuda:0', dtype=torch.float64)\n"
     ]
    },
    {
     "name": "stderr",
     "output_type": "stream",
     "text": [
      "100%|██████████| 40/40 [00:00<00:00, 52.56it/s]\n",
      "100%|██████████| 40/40 [00:00<00:00, 73.21it/s]\n"
     ]
    },
    {
     "name": "stdout",
     "output_type": "stream",
     "text": [
      "5 tensor(0.3500, device='cuda:0', dtype=torch.float64)\n"
     ]
    },
    {
     "name": "stderr",
     "output_type": "stream",
     "text": [
      "100%|██████████| 40/40 [00:00<00:00, 133.78it/s]\n",
      "100%|██████████| 40/40 [00:00<00:00, 157.47it/s]\n"
     ]
    },
    {
     "name": "stdout",
     "output_type": "stream",
     "text": [
      "6 tensor(0.4420, device='cuda:0', dtype=torch.float64)\n"
     ]
    },
    {
     "name": "stderr",
     "output_type": "stream",
     "text": [
      "100%|██████████| 40/40 [00:00<00:00, 120.43it/s]\n",
      "100%|██████████| 40/40 [00:00<00:00, 173.48it/s]\n"
     ]
    },
    {
     "name": "stdout",
     "output_type": "stream",
     "text": [
      "7 tensor(0.4920, device='cuda:0', dtype=torch.float64)\n"
     ]
    },
    {
     "name": "stderr",
     "output_type": "stream",
     "text": [
      "100%|██████████| 40/40 [00:00<00:00, 139.35it/s]\n",
      "100%|██████████| 40/40 [00:00<00:00, 175.79it/s]\n"
     ]
    },
    {
     "name": "stdout",
     "output_type": "stream",
     "text": [
      "8 tensor(0.5020, device='cuda:0', dtype=torch.float64)\n"
     ]
    },
    {
     "name": "stderr",
     "output_type": "stream",
     "text": [
      "100%|██████████| 40/40 [00:00<00:00, 137.44it/s]\n",
      "100%|██████████| 40/40 [00:00<00:00, 174.05it/s]\n"
     ]
    },
    {
     "name": "stdout",
     "output_type": "stream",
     "text": [
      "9 tensor(0.5140, device='cuda:0', dtype=torch.float64)\n"
     ]
    },
    {
     "name": "stderr",
     "output_type": "stream",
     "text": [
      "100%|██████████| 40/40 [00:00<00:00, 138.43it/s]\n",
      "100%|██████████| 40/40 [00:00<00:00, 148.76it/s]\n"
     ]
    },
    {
     "name": "stdout",
     "output_type": "stream",
     "text": [
      "10 tensor(0.5420, device='cuda:0', dtype=torch.float64)\n"
     ]
    },
    {
     "name": "stderr",
     "output_type": "stream",
     "text": [
      "100%|██████████| 40/40 [00:00<00:00, 121.68it/s]\n",
      "100%|██████████| 40/40 [00:00<00:00, 176.90it/s]\n"
     ]
    },
    {
     "name": "stdout",
     "output_type": "stream",
     "text": [
      "11 tensor(0.5680, device='cuda:0', dtype=torch.float64)\n"
     ]
    },
    {
     "name": "stderr",
     "output_type": "stream",
     "text": [
      "100%|██████████| 40/40 [00:00<00:00, 141.77it/s]\n",
      "100%|██████████| 40/40 [00:00<00:00, 174.43it/s]\n"
     ]
    },
    {
     "name": "stdout",
     "output_type": "stream",
     "text": [
      "12 tensor(0.6100, device='cuda:0', dtype=torch.float64)\n"
     ]
    },
    {
     "name": "stderr",
     "output_type": "stream",
     "text": [
      "100%|██████████| 40/40 [00:00<00:00, 137.17it/s]\n",
      "100%|██████████| 40/40 [00:00<00:00, 171.41it/s]\n"
     ]
    },
    {
     "name": "stdout",
     "output_type": "stream",
     "text": [
      "13 tensor(0.6380, device='cuda:0', dtype=torch.float64)\n"
     ]
    },
    {
     "name": "stderr",
     "output_type": "stream",
     "text": [
      "100%|██████████| 40/40 [00:00<00:00, 137.35it/s]\n",
      "100%|██████████| 40/40 [00:00<00:00, 145.00it/s]\n"
     ]
    },
    {
     "name": "stdout",
     "output_type": "stream",
     "text": [
      "14 tensor(0.6420, device='cuda:0', dtype=torch.float64)\n"
     ]
    },
    {
     "name": "stderr",
     "output_type": "stream",
     "text": [
      "100%|██████████| 40/40 [00:00<00:00, 121.85it/s]\n",
      "100%|██████████| 40/40 [00:00<00:00, 173.07it/s]\n"
     ]
    },
    {
     "name": "stdout",
     "output_type": "stream",
     "text": [
      "15 tensor(0.6760, device='cuda:0', dtype=torch.float64)\n"
     ]
    },
    {
     "name": "stderr",
     "output_type": "stream",
     "text": [
      "100%|██████████| 40/40 [00:00<00:00, 138.23it/s]\n",
      "100%|██████████| 40/40 [00:00<00:00, 171.52it/s]\n"
     ]
    },
    {
     "name": "stdout",
     "output_type": "stream",
     "text": [
      "16 tensor(0.7200, device='cuda:0', dtype=torch.float64)\n"
     ]
    },
    {
     "name": "stderr",
     "output_type": "stream",
     "text": [
      "100%|██████████| 40/40 [00:00<00:00, 140.51it/s]\n",
      "100%|██████████| 40/40 [00:00<00:00, 175.86it/s]\n"
     ]
    },
    {
     "name": "stdout",
     "output_type": "stream",
     "text": [
      "17 tensor(0.7380, device='cuda:0', dtype=torch.float64)\n"
     ]
    },
    {
     "name": "stderr",
     "output_type": "stream",
     "text": [
      "100%|██████████| 40/40 [00:00<00:00, 140.44it/s]\n",
      "100%|██████████| 40/40 [00:00<00:00, 153.20it/s]\n"
     ]
    },
    {
     "name": "stdout",
     "output_type": "stream",
     "text": [
      "18 tensor(0.7700, device='cuda:0', dtype=torch.float64)\n"
     ]
    },
    {
     "name": "stderr",
     "output_type": "stream",
     "text": [
      "100%|██████████| 40/40 [00:00<00:00, 120.71it/s]\n",
      "100%|██████████| 40/40 [00:00<00:00, 171.59it/s]\n"
     ]
    },
    {
     "name": "stdout",
     "output_type": "stream",
     "text": [
      "19 tensor(0.7880, device='cuda:0', dtype=torch.float64)\n"
     ]
    },
    {
     "name": "stderr",
     "output_type": "stream",
     "text": [
      "100%|██████████| 40/40 [00:00<00:00, 144.73it/s]\n",
      "100%|██████████| 40/40 [00:00<00:00, 175.83it/s]\n",
      "100%|██████████| 40/40 [00:00<00:00, 143.34it/s]\n",
      "100%|██████████| 40/40 [00:00<00:00, 168.31it/s]\n"
     ]
    },
    {
     "name": "stdout",
     "output_type": "stream",
     "text": [
      "21 tensor(0.8000, device='cuda:0', dtype=torch.float64)\n"
     ]
    },
    {
     "name": "stderr",
     "output_type": "stream",
     "text": [
      "100%|██████████| 40/40 [00:00<00:00, 143.31it/s]\n",
      "100%|██████████| 40/40 [00:00<00:00, 171.54it/s]\n"
     ]
    },
    {
     "name": "stdout",
     "output_type": "stream",
     "text": [
      "22 tensor(0.8360, device='cuda:0', dtype=torch.float64)\n"
     ]
    },
    {
     "name": "stderr",
     "output_type": "stream",
     "text": [
      "100%|██████████| 40/40 [00:00<00:00, 117.24it/s]\n",
      "100%|██████████| 40/40 [00:00<00:00, 182.13it/s]\n",
      "100%|██████████| 40/40 [00:00<00:00, 147.56it/s]\n",
      "100%|██████████| 40/40 [00:00<00:00, 181.59it/s]\n",
      "100%|██████████| 40/40 [00:00<00:00, 145.45it/s]\n",
      "100%|██████████| 40/40 [00:00<00:00, 181.93it/s]\n"
     ]
    },
    {
     "name": "stdout",
     "output_type": "stream",
     "text": [
      "25 tensor(0.8700, device='cuda:0', dtype=torch.float64)\n"
     ]
    },
    {
     "name": "stderr",
     "output_type": "stream",
     "text": [
      "100%|██████████| 40/40 [00:00<00:00, 149.76it/s]\n",
      "100%|██████████| 40/40 [00:00<00:00, 182.88it/s]\n"
     ]
    },
    {
     "name": "stdout",
     "output_type": "stream",
     "text": [
      "26 tensor(0.8720, device='cuda:0', dtype=torch.float64)\n"
     ]
    },
    {
     "name": "stderr",
     "output_type": "stream",
     "text": [
      "100%|██████████| 40/40 [00:00<00:00, 109.50it/s]\n",
      "100%|██████████| 40/40 [00:00<00:00, 149.44it/s]\n",
      "100%|██████████| 40/40 [00:00<00:00, 109.88it/s]\n",
      "100%|██████████| 40/40 [00:00<00:00, 124.85it/s]\n",
      "100%|██████████| 40/40 [00:00<00:00, 117.90it/s]\n",
      "100%|██████████| 40/40 [00:00<00:00, 184.35it/s]\n"
     ]
    },
    {
     "name": "stdout",
     "output_type": "stream",
     "text": [
      "29 tensor(0.8840, device='cuda:0', dtype=torch.float64)\n"
     ]
    },
    {
     "name": "stderr",
     "output_type": "stream",
     "text": [
      "100%|██████████| 40/40 [00:00<00:00, 142.89it/s]\n",
      "100%|██████████| 40/40 [00:00<00:00, 178.84it/s]\n",
      "100%|██████████| 40/40 [00:00<00:00, 144.44it/s]\n",
      "100%|██████████| 40/40 [00:00<00:00, 179.83it/s]\n",
      "100%|██████████| 40/40 [00:00<00:00, 144.33it/s]\n",
      "100%|██████████| 40/40 [00:00<00:00, 150.51it/s]\n",
      "100%|██████████| 40/40 [00:00<00:00, 103.43it/s]\n",
      "100%|██████████| 40/40 [00:00<00:00, 145.49it/s]\n",
      "100%|██████████| 40/40 [00:00<00:00, 107.55it/s]\n",
      "100%|██████████| 40/40 [00:00<00:00, 146.80it/s]\n",
      "100%|██████████| 40/40 [00:00<00:00, 105.78it/s]\n",
      "100%|██████████| 40/40 [00:00<00:00, 148.68it/s]\n"
     ]
    },
    {
     "name": "stdout",
     "output_type": "stream",
     "text": [
      "35 tensor(0.8940, device='cuda:0', dtype=torch.float64)\n"
     ]
    },
    {
     "name": "stderr",
     "output_type": "stream",
     "text": [
      "100%|██████████| 40/40 [00:00<00:00, 110.71it/s]\n",
      "100%|██████████| 40/40 [00:00<00:00, 113.32it/s]\n",
      "100%|██████████| 40/40 [00:00<00:00, 97.62it/s]\n",
      "100%|██████████| 40/40 [00:00<00:00, 183.07it/s]\n",
      "100%|██████████| 40/40 [00:00<00:00, 146.65it/s]\n",
      "100%|██████████| 40/40 [00:00<00:00, 185.86it/s]\n",
      "100%|██████████| 40/40 [00:00<00:00, 146.05it/s]\n",
      "100%|██████████| 40/40 [00:00<00:00, 177.52it/s]\n"
     ]
    },
    {
     "name": "stdout",
     "output_type": "stream",
     "text": [
      "39 tensor(0.9160, device='cuda:0', dtype=torch.float64)\n",
      "Finished Shadow Model 12 Training with accuracy 0.916\n",
      "TAILLE dataset {'train': 2500, 'val': 2500}\n",
      "DATASET SIZE {'train': 2500, 'val': 2500}\n"
     ]
    },
    {
     "name": "stderr",
     "output_type": "stream",
     "text": [
      "100%|██████████| 40/40 [00:00<00:00, 144.46it/s]\n",
      "100%|██████████| 40/40 [00:00<00:00, 165.09it/s]\n"
     ]
    },
    {
     "name": "stdout",
     "output_type": "stream",
     "text": [
      "0 tensor(0.1120, device='cuda:0', dtype=torch.float64)\n"
     ]
    },
    {
     "name": "stderr",
     "output_type": "stream",
     "text": [
      "100%|██████████| 40/40 [00:00<00:00, 106.17it/s]\n",
      "100%|██████████| 40/40 [00:00<00:00, 151.80it/s]\n"
     ]
    },
    {
     "name": "stdout",
     "output_type": "stream",
     "text": [
      "1 tensor(0.1700, device='cuda:0', dtype=torch.float64)\n"
     ]
    },
    {
     "name": "stderr",
     "output_type": "stream",
     "text": [
      "100%|██████████| 40/40 [00:00<00:00, 107.45it/s]\n",
      "100%|██████████| 40/40 [00:00<00:00, 149.09it/s]\n"
     ]
    },
    {
     "name": "stdout",
     "output_type": "stream",
     "text": [
      "2 tensor(0.2220, device='cuda:0', dtype=torch.float64)\n"
     ]
    },
    {
     "name": "stderr",
     "output_type": "stream",
     "text": [
      "100%|██████████| 40/40 [00:00<00:00, 107.39it/s]\n",
      "100%|██████████| 40/40 [00:00<00:00, 147.81it/s]\n"
     ]
    },
    {
     "name": "stdout",
     "output_type": "stream",
     "text": [
      "3 tensor(0.3480, device='cuda:0', dtype=torch.float64)\n"
     ]
    },
    {
     "name": "stderr",
     "output_type": "stream",
     "text": [
      "100%|██████████| 40/40 [00:00<00:00, 109.52it/s]\n",
      "100%|██████████| 40/40 [00:00<00:00, 181.92it/s]\n"
     ]
    },
    {
     "name": "stdout",
     "output_type": "stream",
     "text": [
      "4 tensor(0.4360, device='cuda:0', dtype=torch.float64)\n"
     ]
    },
    {
     "name": "stderr",
     "output_type": "stream",
     "text": [
      "100%|██████████| 40/40 [00:00<00:00, 139.24it/s]\n",
      "100%|██████████| 40/40 [00:00<00:00, 182.80it/s]\n"
     ]
    },
    {
     "name": "stdout",
     "output_type": "stream",
     "text": [
      "5 tensor(0.4960, device='cuda:0', dtype=torch.float64)\n"
     ]
    },
    {
     "name": "stderr",
     "output_type": "stream",
     "text": [
      "100%|██████████| 40/40 [00:00<00:00, 142.06it/s]\n",
      "100%|██████████| 40/40 [00:00<00:00, 175.97it/s]\n"
     ]
    },
    {
     "name": "stdout",
     "output_type": "stream",
     "text": [
      "6 tensor(0.5360, device='cuda:0', dtype=torch.float64)\n"
     ]
    },
    {
     "name": "stderr",
     "output_type": "stream",
     "text": [
      "100%|██████████| 40/40 [00:00<00:00, 142.74it/s]\n",
      "100%|██████████| 40/40 [00:00<00:00, 179.30it/s]\n"
     ]
    },
    {
     "name": "stdout",
     "output_type": "stream",
     "text": [
      "7 tensor(0.5600, device='cuda:0', dtype=torch.float64)\n"
     ]
    },
    {
     "name": "stderr",
     "output_type": "stream",
     "text": [
      "100%|██████████| 40/40 [00:00<00:00, 107.41it/s]\n",
      "100%|██████████| 40/40 [00:00<00:00, 148.30it/s]\n"
     ]
    },
    {
     "name": "stdout",
     "output_type": "stream",
     "text": [
      "8 tensor(0.6200, device='cuda:0', dtype=torch.float64)\n"
     ]
    },
    {
     "name": "stderr",
     "output_type": "stream",
     "text": [
      "100%|██████████| 40/40 [00:00<00:00, 104.67it/s]\n",
      "100%|██████████| 40/40 [00:00<00:00, 132.61it/s]\n"
     ]
    },
    {
     "name": "stdout",
     "output_type": "stream",
     "text": [
      "9 tensor(0.6660, device='cuda:0', dtype=torch.float64)\n"
     ]
    },
    {
     "name": "stderr",
     "output_type": "stream",
     "text": [
      "100%|██████████| 40/40 [00:00<00:00, 93.20it/s] \n",
      "100%|██████████| 40/40 [00:00<00:00, 186.29it/s]\n"
     ]
    },
    {
     "name": "stdout",
     "output_type": "stream",
     "text": [
      "10 tensor(0.6980, device='cuda:0', dtype=torch.float64)\n"
     ]
    },
    {
     "name": "stderr",
     "output_type": "stream",
     "text": [
      "100%|██████████| 40/40 [00:00<00:00, 145.11it/s]\n",
      "100%|██████████| 40/40 [00:00<00:00, 178.32it/s]\n"
     ]
    },
    {
     "name": "stdout",
     "output_type": "stream",
     "text": [
      "11 tensor(0.7080, device='cuda:0', dtype=torch.float64)\n"
     ]
    },
    {
     "name": "stderr",
     "output_type": "stream",
     "text": [
      "100%|██████████| 40/40 [00:00<00:00, 142.72it/s]\n",
      "100%|██████████| 40/40 [00:00<00:00, 182.90it/s]\n"
     ]
    },
    {
     "name": "stdout",
     "output_type": "stream",
     "text": [
      "12 tensor(0.7380, device='cuda:0', dtype=torch.float64)\n"
     ]
    },
    {
     "name": "stderr",
     "output_type": "stream",
     "text": [
      "100%|██████████| 40/40 [00:00<00:00, 143.77it/s]\n",
      "100%|██████████| 40/40 [00:00<00:00, 171.23it/s]\n"
     ]
    },
    {
     "name": "stdout",
     "output_type": "stream",
     "text": [
      "13 tensor(0.7520, device='cuda:0', dtype=torch.float64)\n"
     ]
    },
    {
     "name": "stderr",
     "output_type": "stream",
     "text": [
      "100%|██████████| 40/40 [00:00<00:00, 105.72it/s]\n",
      "100%|██████████| 40/40 [00:00<00:00, 147.72it/s]\n"
     ]
    },
    {
     "name": "stdout",
     "output_type": "stream",
     "text": [
      "14 tensor(0.7680, device='cuda:0', dtype=torch.float64)\n"
     ]
    },
    {
     "name": "stderr",
     "output_type": "stream",
     "text": [
      "100%|██████████| 40/40 [00:00<00:00, 101.91it/s]\n",
      "100%|██████████| 40/40 [00:00<00:00, 143.56it/s]\n"
     ]
    },
    {
     "name": "stdout",
     "output_type": "stream",
     "text": [
      "15 tensor(0.7860, device='cuda:0', dtype=torch.float64)\n"
     ]
    },
    {
     "name": "stderr",
     "output_type": "stream",
     "text": [
      "100%|██████████| 40/40 [00:00<00:00, 101.83it/s]\n",
      "100%|██████████| 40/40 [00:00<00:00, 139.97it/s]\n"
     ]
    },
    {
     "name": "stdout",
     "output_type": "stream",
     "text": [
      "16 tensor(0.7960, device='cuda:0', dtype=torch.float64)\n"
     ]
    },
    {
     "name": "stderr",
     "output_type": "stream",
     "text": [
      "100%|██████████| 40/40 [00:00<00:00, 109.38it/s]\n",
      "100%|██████████| 40/40 [00:00<00:00, 136.16it/s]\n",
      "100%|██████████| 40/40 [00:00<00:00, 104.46it/s]\n",
      "100%|██████████| 40/40 [00:00<00:00, 190.79it/s]\n"
     ]
    },
    {
     "name": "stdout",
     "output_type": "stream",
     "text": [
      "18 tensor(0.8320, device='cuda:0', dtype=torch.float64)\n"
     ]
    },
    {
     "name": "stderr",
     "output_type": "stream",
     "text": [
      "100%|██████████| 40/40 [00:00<00:00, 153.80it/s]\n",
      "100%|██████████| 40/40 [00:00<00:00, 185.13it/s]\n",
      "100%|██████████| 40/40 [00:00<00:00, 158.03it/s]\n",
      "100%|██████████| 40/40 [00:00<00:00, 187.11it/s]\n",
      "100%|██████████| 40/40 [00:00<00:00, 157.54it/s]\n",
      "100%|██████████| 40/40 [00:00<00:00, 190.72it/s]\n"
     ]
    },
    {
     "name": "stdout",
     "output_type": "stream",
     "text": [
      "21 tensor(0.8340, device='cuda:0', dtype=torch.float64)\n"
     ]
    },
    {
     "name": "stderr",
     "output_type": "stream",
     "text": [
      "100%|██████████| 40/40 [00:00<00:00, 107.99it/s]\n",
      "100%|██████████| 40/40 [00:00<00:00, 156.94it/s]\n",
      "100%|██████████| 40/40 [00:00<00:00, 112.79it/s]\n",
      "100%|██████████| 40/40 [00:00<00:00, 153.21it/s]\n"
     ]
    },
    {
     "name": "stdout",
     "output_type": "stream",
     "text": [
      "23 tensor(0.8480, device='cuda:0', dtype=torch.float64)\n"
     ]
    },
    {
     "name": "stderr",
     "output_type": "stream",
     "text": [
      "100%|██████████| 40/40 [00:00<00:00, 112.47it/s]\n",
      "100%|██████████| 40/40 [00:00<00:00, 183.08it/s]\n"
     ]
    },
    {
     "name": "stdout",
     "output_type": "stream",
     "text": [
      "24 tensor(0.8660, device='cuda:0', dtype=torch.float64)\n"
     ]
    },
    {
     "name": "stderr",
     "output_type": "stream",
     "text": [
      "100%|██████████| 40/40 [00:00<00:00, 147.32it/s]\n",
      "100%|██████████| 40/40 [00:00<00:00, 183.02it/s]\n"
     ]
    },
    {
     "name": "stdout",
     "output_type": "stream",
     "text": [
      "25 tensor(0.8720, device='cuda:0', dtype=torch.float64)\n"
     ]
    },
    {
     "name": "stderr",
     "output_type": "stream",
     "text": [
      "100%|██████████| 40/40 [00:00<00:00, 139.33it/s]\n",
      "100%|██████████| 40/40 [00:00<00:00, 182.04it/s]\n"
     ]
    },
    {
     "name": "stdout",
     "output_type": "stream",
     "text": [
      "26 tensor(0.8740, device='cuda:0', dtype=torch.float64)\n"
     ]
    },
    {
     "name": "stderr",
     "output_type": "stream",
     "text": [
      "100%|██████████| 40/40 [00:00<00:00, 146.28it/s]\n",
      "100%|██████████| 40/40 [00:00<00:00, 183.91it/s]\n"
     ]
    },
    {
     "name": "stdout",
     "output_type": "stream",
     "text": [
      "27 tensor(0.8900, device='cuda:0', dtype=torch.float64)\n"
     ]
    },
    {
     "name": "stderr",
     "output_type": "stream",
     "text": [
      "100%|██████████| 40/40 [00:00<00:00, 113.01it/s]\n",
      "100%|██████████| 40/40 [00:00<00:00, 155.13it/s]\n",
      "100%|██████████| 40/40 [00:00<00:00, 108.92it/s]\n",
      "100%|██████████| 40/40 [00:00<00:00, 154.57it/s]\n",
      "100%|██████████| 40/40 [00:00<00:00, 109.78it/s]\n",
      "100%|██████████| 40/40 [00:00<00:00, 136.15it/s]\n",
      "100%|██████████| 40/40 [00:00<00:00, 117.04it/s]\n",
      "100%|██████████| 40/40 [00:00<00:00, 186.51it/s]\n"
     ]
    },
    {
     "name": "stdout",
     "output_type": "stream",
     "text": [
      "31 tensor(0.8980, device='cuda:0', dtype=torch.float64)\n"
     ]
    },
    {
     "name": "stderr",
     "output_type": "stream",
     "text": [
      "100%|██████████| 40/40 [00:00<00:00, 148.18it/s]\n",
      "100%|██████████| 40/40 [00:00<00:00, 188.66it/s]\n",
      "100%|██████████| 40/40 [00:00<00:00, 150.24it/s]\n",
      "100%|██████████| 40/40 [00:00<00:00, 188.45it/s]\n",
      "100%|██████████| 40/40 [00:00<00:00, 151.78it/s]\n",
      "100%|██████████| 40/40 [00:00<00:00, 176.51it/s]\n"
     ]
    },
    {
     "name": "stdout",
     "output_type": "stream",
     "text": [
      "34 tensor(0.9000, device='cuda:0', dtype=torch.float64)\n"
     ]
    },
    {
     "name": "stderr",
     "output_type": "stream",
     "text": [
      "100%|██████████| 40/40 [00:00<00:00, 107.14it/s]\n",
      "100%|██████████| 40/40 [00:00<00:00, 151.29it/s]\n"
     ]
    },
    {
     "name": "stdout",
     "output_type": "stream",
     "text": [
      "35 tensor(0.9020, device='cuda:0', dtype=torch.float64)\n"
     ]
    },
    {
     "name": "stderr",
     "output_type": "stream",
     "text": [
      "100%|██████████| 40/40 [00:00<00:00, 108.48it/s]\n",
      "100%|██████████| 40/40 [00:00<00:00, 155.29it/s]\n",
      "100%|██████████| 40/40 [00:00<00:00, 122.74it/s]\n",
      "100%|██████████| 40/40 [00:00<00:00, 187.14it/s]\n",
      "100%|██████████| 40/40 [00:00<00:00, 142.78it/s]\n",
      "100%|██████████| 40/40 [00:00<00:00, 174.81it/s]\n"
     ]
    },
    {
     "name": "stdout",
     "output_type": "stream",
     "text": [
      "38 tensor(0.9040, device='cuda:0', dtype=torch.float64)\n"
     ]
    },
    {
     "name": "stderr",
     "output_type": "stream",
     "text": [
      "100%|██████████| 40/40 [00:00<00:00, 142.62it/s]\n",
      "100%|██████████| 40/40 [00:00<00:00, 185.67it/s]\n"
     ]
    },
    {
     "name": "stdout",
     "output_type": "stream",
     "text": [
      "Finished Shadow Model 13 Training with accuracy 0.904\n",
      "TAILLE dataset {'train': 2500, 'val': 2500}\n",
      "DATASET SIZE {'train': 2500, 'val': 2500}\n"
     ]
    },
    {
     "name": "stderr",
     "output_type": "stream",
     "text": [
      "100%|██████████| 40/40 [00:00<00:00, 146.25it/s]\n",
      "100%|██████████| 40/40 [00:00<00:00, 180.62it/s]\n"
     ]
    },
    {
     "name": "stdout",
     "output_type": "stream",
     "text": [
      "0 tensor(0.2040, device='cuda:0', dtype=torch.float64)\n"
     ]
    },
    {
     "name": "stderr",
     "output_type": "stream",
     "text": [
      "100%|██████████| 40/40 [00:00<00:00, 108.42it/s]\n",
      "100%|██████████| 40/40 [00:00<00:00, 152.26it/s]\n"
     ]
    },
    {
     "name": "stdout",
     "output_type": "stream",
     "text": [
      "1 tensor(0.2580, device='cuda:0', dtype=torch.float64)\n"
     ]
    },
    {
     "name": "stderr",
     "output_type": "stream",
     "text": [
      "100%|██████████| 40/40 [00:00<00:00, 105.24it/s]\n",
      "100%|██████████| 40/40 [00:00<00:00, 122.16it/s]\n"
     ]
    },
    {
     "name": "stdout",
     "output_type": "stream",
     "text": [
      "2 tensor(0.2820, device='cuda:0', dtype=torch.float64)\n"
     ]
    },
    {
     "name": "stderr",
     "output_type": "stream",
     "text": [
      "100%|██████████| 40/40 [00:00<00:00, 107.41it/s]\n",
      "100%|██████████| 40/40 [00:00<00:00, 179.80it/s]\n"
     ]
    },
    {
     "name": "stdout",
     "output_type": "stream",
     "text": [
      "3 tensor(0.3020, device='cuda:0', dtype=torch.float64)\n"
     ]
    },
    {
     "name": "stderr",
     "output_type": "stream",
     "text": [
      "100%|██████████| 40/40 [00:00<00:00, 157.51it/s]\n",
      "100%|██████████| 40/40 [00:00<00:00, 191.50it/s]\n"
     ]
    },
    {
     "name": "stdout",
     "output_type": "stream",
     "text": [
      "4 tensor(0.3420, device='cuda:0', dtype=torch.float64)\n"
     ]
    },
    {
     "name": "stderr",
     "output_type": "stream",
     "text": [
      "100%|██████████| 40/40 [00:00<00:00, 155.39it/s]\n",
      "100%|██████████| 40/40 [00:00<00:00, 186.37it/s]\n"
     ]
    },
    {
     "name": "stdout",
     "output_type": "stream",
     "text": [
      "5 tensor(0.4100, device='cuda:0', dtype=torch.float64)\n"
     ]
    },
    {
     "name": "stderr",
     "output_type": "stream",
     "text": [
      "100%|██████████| 40/40 [00:00<00:00, 155.24it/s]\n",
      "100%|██████████| 40/40 [00:00<00:00, 185.61it/s]\n"
     ]
    },
    {
     "name": "stdout",
     "output_type": "stream",
     "text": [
      "6 tensor(0.4620, device='cuda:0', dtype=torch.float64)\n"
     ]
    },
    {
     "name": "stderr",
     "output_type": "stream",
     "text": [
      "100%|██████████| 40/40 [00:00<00:00, 109.11it/s]\n",
      "100%|██████████| 40/40 [00:00<00:00, 160.75it/s]\n"
     ]
    },
    {
     "name": "stdout",
     "output_type": "stream",
     "text": [
      "7 tensor(0.4880, device='cuda:0', dtype=torch.float64)\n"
     ]
    },
    {
     "name": "stderr",
     "output_type": "stream",
     "text": [
      "100%|██████████| 40/40 [00:00<00:00, 110.71it/s]\n",
      "100%|██████████| 40/40 [00:00<00:00, 148.19it/s]\n"
     ]
    },
    {
     "name": "stdout",
     "output_type": "stream",
     "text": [
      "8 tensor(0.5040, device='cuda:0', dtype=torch.float64)\n"
     ]
    },
    {
     "name": "stderr",
     "output_type": "stream",
     "text": [
      "100%|██████████| 40/40 [00:00<00:00, 114.93it/s]\n",
      "100%|██████████| 40/40 [00:00<00:00, 184.18it/s]\n"
     ]
    },
    {
     "name": "stdout",
     "output_type": "stream",
     "text": [
      "9 tensor(0.5160, device='cuda:0', dtype=torch.float64)\n"
     ]
    },
    {
     "name": "stderr",
     "output_type": "stream",
     "text": [
      "100%|██████████| 40/40 [00:00<00:00, 145.19it/s]\n",
      "100%|██████████| 40/40 [00:00<00:00, 186.77it/s]\n",
      "100%|██████████| 40/40 [00:00<00:00, 147.45it/s]\n",
      "100%|██████████| 40/40 [00:00<00:00, 182.80it/s]\n"
     ]
    },
    {
     "name": "stdout",
     "output_type": "stream",
     "text": [
      "11 tensor(0.5200, device='cuda:0', dtype=torch.float64)\n"
     ]
    },
    {
     "name": "stderr",
     "output_type": "stream",
     "text": [
      "100%|██████████| 40/40 [00:00<00:00, 144.79it/s]\n",
      "100%|██████████| 40/40 [00:00<00:00, 185.77it/s]\n"
     ]
    },
    {
     "name": "stdout",
     "output_type": "stream",
     "text": [
      "12 tensor(0.5240, device='cuda:0', dtype=torch.float64)\n"
     ]
    },
    {
     "name": "stderr",
     "output_type": "stream",
     "text": [
      "100%|██████████| 40/40 [00:00<00:00, 113.36it/s]\n",
      "100%|██████████| 40/40 [00:00<00:00, 149.89it/s]\n"
     ]
    },
    {
     "name": "stdout",
     "output_type": "stream",
     "text": [
      "13 tensor(0.5540, device='cuda:0', dtype=torch.float64)\n"
     ]
    },
    {
     "name": "stderr",
     "output_type": "stream",
     "text": [
      "100%|██████████| 40/40 [00:00<00:00, 114.06it/s]\n",
      "100%|██████████| 40/40 [00:00<00:00, 154.55it/s]\n"
     ]
    },
    {
     "name": "stdout",
     "output_type": "stream",
     "text": [
      "14 tensor(0.6120, device='cuda:0', dtype=torch.float64)\n"
     ]
    },
    {
     "name": "stderr",
     "output_type": "stream",
     "text": [
      "100%|██████████| 40/40 [00:00<00:00, 93.81it/s] \n",
      "100%|██████████| 40/40 [00:00<00:00, 189.58it/s]\n"
     ]
    },
    {
     "name": "stdout",
     "output_type": "stream",
     "text": [
      "15 tensor(0.6740, device='cuda:0', dtype=torch.float64)\n"
     ]
    },
    {
     "name": "stderr",
     "output_type": "stream",
     "text": [
      "100%|██████████| 40/40 [00:00<00:00, 154.51it/s]\n",
      "100%|██████████| 40/40 [00:00<00:00, 185.98it/s]\n"
     ]
    },
    {
     "name": "stdout",
     "output_type": "stream",
     "text": [
      "16 tensor(0.7280, device='cuda:0', dtype=torch.float64)\n"
     ]
    },
    {
     "name": "stderr",
     "output_type": "stream",
     "text": [
      "100%|██████████| 40/40 [00:00<00:00, 155.58it/s]\n",
      "100%|██████████| 40/40 [00:00<00:00, 187.64it/s]\n"
     ]
    },
    {
     "name": "stdout",
     "output_type": "stream",
     "text": [
      "17 tensor(0.7400, device='cuda:0', dtype=torch.float64)\n"
     ]
    },
    {
     "name": "stderr",
     "output_type": "stream",
     "text": [
      "100%|██████████| 40/40 [00:00<00:00, 153.49it/s]\n",
      "100%|██████████| 40/40 [00:00<00:00, 184.46it/s]\n"
     ]
    },
    {
     "name": "stdout",
     "output_type": "stream",
     "text": [
      "18 tensor(0.7700, device='cuda:0', dtype=torch.float64)\n"
     ]
    },
    {
     "name": "stderr",
     "output_type": "stream",
     "text": [
      "100%|██████████| 40/40 [00:00<00:00, 132.46it/s]\n",
      "100%|██████████| 40/40 [00:00<00:00, 157.48it/s]\n",
      "100%|██████████| 40/40 [00:00<00:00, 111.68it/s]\n",
      "100%|██████████| 40/40 [00:00<00:00, 150.52it/s]\n"
     ]
    },
    {
     "name": "stdout",
     "output_type": "stream",
     "text": [
      "20 tensor(0.8140, device='cuda:0', dtype=torch.float64)\n"
     ]
    },
    {
     "name": "stderr",
     "output_type": "stream",
     "text": [
      "100%|██████████| 40/40 [00:00<00:00, 108.06it/s]\n",
      "100%|██████████| 40/40 [00:00<00:00, 148.48it/s]\n",
      "100%|██████████| 40/40 [00:00<00:00, 113.50it/s]\n",
      "100%|██████████| 40/40 [00:00<00:00, 155.14it/s]\n"
     ]
    },
    {
     "name": "stdout",
     "output_type": "stream",
     "text": [
      "22 tensor(0.8180, device='cuda:0', dtype=torch.float64)\n"
     ]
    },
    {
     "name": "stderr",
     "output_type": "stream",
     "text": [
      "100%|██████████| 40/40 [00:00<00:00, 116.43it/s]\n",
      "100%|██████████| 40/40 [00:00<00:00, 187.97it/s]\n",
      "100%|██████████| 40/40 [00:00<00:00, 145.53it/s]\n",
      "100%|██████████| 40/40 [00:00<00:00, 187.83it/s]\n",
      "100%|██████████| 40/40 [00:00<00:00, 145.43it/s]\n",
      "100%|██████████| 40/40 [00:00<00:00, 187.24it/s]\n"
     ]
    },
    {
     "name": "stdout",
     "output_type": "stream",
     "text": [
      "25 tensor(0.8360, device='cuda:0', dtype=torch.float64)\n"
     ]
    },
    {
     "name": "stderr",
     "output_type": "stream",
     "text": [
      "100%|██████████| 40/40 [00:00<00:00, 146.14it/s]\n",
      "100%|██████████| 40/40 [00:00<00:00, 183.82it/s]\n"
     ]
    },
    {
     "name": "stdout",
     "output_type": "stream",
     "text": [
      "26 tensor(0.8400, device='cuda:0', dtype=torch.float64)\n"
     ]
    },
    {
     "name": "stderr",
     "output_type": "stream",
     "text": [
      "100%|██████████| 40/40 [00:00<00:00, 110.72it/s]\n",
      "100%|██████████| 40/40 [00:00<00:00, 147.81it/s]\n",
      "100%|██████████| 40/40 [00:00<00:00, 107.92it/s]\n",
      "100%|██████████| 40/40 [00:00<00:00, 148.74it/s]\n",
      "100%|██████████| 40/40 [00:00<00:00, 95.17it/s] \n",
      "100%|██████████| 40/40 [00:00<00:00, 184.11it/s]\n"
     ]
    },
    {
     "name": "stdout",
     "output_type": "stream",
     "text": [
      "29 tensor(0.8480, device='cuda:0', dtype=torch.float64)\n"
     ]
    },
    {
     "name": "stderr",
     "output_type": "stream",
     "text": [
      "100%|██████████| 40/40 [00:00<00:00, 148.38it/s]\n",
      "100%|██████████| 40/40 [00:00<00:00, 187.25it/s]\n",
      "100%|██████████| 40/40 [00:00<00:00, 152.93it/s]\n",
      "100%|██████████| 40/40 [00:00<00:00, 187.35it/s]\n"
     ]
    },
    {
     "name": "stdout",
     "output_type": "stream",
     "text": [
      "31 tensor(0.8580, device='cuda:0', dtype=torch.float64)\n"
     ]
    },
    {
     "name": "stderr",
     "output_type": "stream",
     "text": [
      "100%|██████████| 40/40 [00:00<00:00, 153.71it/s]\n",
      "100%|██████████| 40/40 [00:00<00:00, 187.19it/s]\n",
      "100%|██████████| 40/40 [00:00<00:00, 119.65it/s]\n",
      "100%|██████████| 40/40 [00:00<00:00, 160.53it/s]\n",
      "100%|██████████| 40/40 [00:00<00:00, 112.63it/s]\n",
      "100%|██████████| 40/40 [00:00<00:00, 153.97it/s]\n",
      "100%|██████████| 40/40 [00:00<00:00, 119.65it/s]\n",
      "100%|██████████| 40/40 [00:00<00:00, 184.67it/s]\n",
      "100%|██████████| 40/40 [00:00<00:00, 147.03it/s]\n",
      "100%|██████████| 40/40 [00:00<00:00, 180.04it/s]\n",
      "100%|██████████| 40/40 [00:00<00:00, 146.05it/s]\n",
      "100%|██████████| 40/40 [00:00<00:00, 186.39it/s]\n",
      "100%|██████████| 40/40 [00:00<00:00, 144.58it/s]\n",
      "100%|██████████| 40/40 [00:00<00:00, 187.46it/s]\n",
      "100%|██████████| 40/40 [00:00<00:00, 106.26it/s]\n",
      "100%|██████████| 40/40 [00:00<00:00, 149.62it/s]\n"
     ]
    },
    {
     "name": "stdout",
     "output_type": "stream",
     "text": [
      "Finished Shadow Model 14 Training with accuracy 0.8580000000000001\n",
      "TAILLE dataset {'train': 2500, 'val': 2500}\n",
      "DATASET SIZE {'train': 2500, 'val': 2500}\n"
     ]
    },
    {
     "name": "stderr",
     "output_type": "stream",
     "text": [
      "100%|██████████| 40/40 [00:00<00:00, 106.01it/s]\n",
      "100%|██████████| 40/40 [00:00<00:00, 143.89it/s]\n"
     ]
    },
    {
     "name": "stdout",
     "output_type": "stream",
     "text": [
      "0 tensor(0.1940, device='cuda:0', dtype=torch.float64)\n"
     ]
    },
    {
     "name": "stderr",
     "output_type": "stream",
     "text": [
      "100%|██████████| 40/40 [00:00<00:00, 109.56it/s]\n",
      "100%|██████████| 40/40 [00:00<00:00, 155.50it/s]\n"
     ]
    },
    {
     "name": "stdout",
     "output_type": "stream",
     "text": [
      "1 tensor(0.2680, device='cuda:0', dtype=torch.float64)\n"
     ]
    },
    {
     "name": "stderr",
     "output_type": "stream",
     "text": [
      "100%|██████████| 40/40 [00:00<00:00, 103.08it/s]\n",
      "100%|██████████| 40/40 [00:00<00:00, 188.63it/s]\n"
     ]
    },
    {
     "name": "stdout",
     "output_type": "stream",
     "text": [
      "2 tensor(0.3140, device='cuda:0', dtype=torch.float64)\n"
     ]
    },
    {
     "name": "stderr",
     "output_type": "stream",
     "text": [
      "100%|██████████| 40/40 [00:00<00:00, 152.81it/s]\n",
      "100%|██████████| 40/40 [00:00<00:00, 187.56it/s]\n"
     ]
    },
    {
     "name": "stdout",
     "output_type": "stream",
     "text": [
      "3 tensor(0.3620, device='cuda:0', dtype=torch.float64)\n"
     ]
    },
    {
     "name": "stderr",
     "output_type": "stream",
     "text": [
      "100%|██████████| 40/40 [00:00<00:00, 152.90it/s]\n",
      "100%|██████████| 40/40 [00:00<00:00, 186.85it/s]\n"
     ]
    },
    {
     "name": "stdout",
     "output_type": "stream",
     "text": [
      "4 tensor(0.4320, device='cuda:0', dtype=torch.float64)\n"
     ]
    },
    {
     "name": "stderr",
     "output_type": "stream",
     "text": [
      "100%|██████████| 40/40 [00:00<00:00, 154.91it/s]\n",
      "100%|██████████| 40/40 [00:00<00:00, 193.53it/s]\n"
     ]
    },
    {
     "name": "stdout",
     "output_type": "stream",
     "text": [
      "5 tensor(0.4800, device='cuda:0', dtype=torch.float64)\n"
     ]
    },
    {
     "name": "stderr",
     "output_type": "stream",
     "text": [
      "100%|██████████| 40/40 [00:00<00:00, 113.16it/s]\n",
      "100%|██████████| 40/40 [00:00<00:00, 158.18it/s]\n"
     ]
    },
    {
     "name": "stdout",
     "output_type": "stream",
     "text": [
      "6 tensor(0.5040, device='cuda:0', dtype=torch.float64)\n"
     ]
    },
    {
     "name": "stderr",
     "output_type": "stream",
     "text": [
      "100%|██████████| 40/40 [00:00<00:00, 109.98it/s]\n",
      "100%|██████████| 40/40 [00:00<00:00, 151.49it/s]\n"
     ]
    },
    {
     "name": "stdout",
     "output_type": "stream",
     "text": [
      "7 tensor(0.5560, device='cuda:0', dtype=torch.float64)\n"
     ]
    },
    {
     "name": "stderr",
     "output_type": "stream",
     "text": [
      "100%|██████████| 40/40 [00:00<00:00, 111.26it/s]\n",
      "100%|██████████| 40/40 [00:00<00:00, 154.94it/s]\n"
     ]
    },
    {
     "name": "stdout",
     "output_type": "stream",
     "text": [
      "8 tensor(0.5980, device='cuda:0', dtype=torch.float64)\n"
     ]
    },
    {
     "name": "stderr",
     "output_type": "stream",
     "text": [
      "100%|██████████| 40/40 [00:00<00:00, 114.01it/s]\n",
      "100%|██████████| 40/40 [00:00<00:00, 182.00it/s]\n"
     ]
    },
    {
     "name": "stdout",
     "output_type": "stream",
     "text": [
      "9 tensor(0.6540, device='cuda:0', dtype=torch.float64)\n"
     ]
    },
    {
     "name": "stderr",
     "output_type": "stream",
     "text": [
      "100%|██████████| 40/40 [00:00<00:00, 148.14it/s]\n",
      "100%|██████████| 40/40 [00:00<00:00, 188.78it/s]\n"
     ]
    },
    {
     "name": "stdout",
     "output_type": "stream",
     "text": [
      "10 tensor(0.6860, device='cuda:0', dtype=torch.float64)\n"
     ]
    },
    {
     "name": "stderr",
     "output_type": "stream",
     "text": [
      "100%|██████████| 40/40 [00:00<00:00, 145.10it/s]\n",
      "100%|██████████| 40/40 [00:00<00:00, 187.22it/s]\n"
     ]
    },
    {
     "name": "stdout",
     "output_type": "stream",
     "text": [
      "11 tensor(0.7020, device='cuda:0', dtype=torch.float64)\n"
     ]
    },
    {
     "name": "stderr",
     "output_type": "stream",
     "text": [
      "100%|██████████| 40/40 [00:00<00:00, 143.77it/s]\n",
      "100%|██████████| 40/40 [00:00<00:00, 185.53it/s]\n"
     ]
    },
    {
     "name": "stdout",
     "output_type": "stream",
     "text": [
      "12 tensor(0.7120, device='cuda:0', dtype=torch.float64)\n"
     ]
    },
    {
     "name": "stderr",
     "output_type": "stream",
     "text": [
      "100%|██████████| 40/40 [00:00<00:00, 119.05it/s]\n",
      "100%|██████████| 40/40 [00:00<00:00, 154.69it/s]\n",
      "100%|██████████| 40/40 [00:00<00:00, 111.50it/s]\n",
      "100%|██████████| 40/40 [00:00<00:00, 154.18it/s]\n"
     ]
    },
    {
     "name": "stdout",
     "output_type": "stream",
     "text": [
      "14 tensor(0.7240, device='cuda:0', dtype=torch.float64)\n"
     ]
    },
    {
     "name": "stderr",
     "output_type": "stream",
     "text": [
      "100%|██████████| 40/40 [00:00<00:00, 100.66it/s]\n",
      "100%|██████████| 40/40 [00:00<00:00, 185.86it/s]\n",
      "100%|██████████| 40/40 [00:00<00:00, 152.58it/s]\n",
      "100%|██████████| 40/40 [00:00<00:00, 189.18it/s]\n"
     ]
    },
    {
     "name": "stdout",
     "output_type": "stream",
     "text": [
      "16 tensor(0.7400, device='cuda:0', dtype=torch.float64)\n"
     ]
    },
    {
     "name": "stderr",
     "output_type": "stream",
     "text": [
      "100%|██████████| 40/40 [00:00<00:00, 153.10it/s]\n",
      "100%|██████████| 40/40 [00:00<00:00, 185.88it/s]\n"
     ]
    },
    {
     "name": "stdout",
     "output_type": "stream",
     "text": [
      "17 tensor(0.7560, device='cuda:0', dtype=torch.float64)\n"
     ]
    },
    {
     "name": "stderr",
     "output_type": "stream",
     "text": [
      "100%|██████████| 40/40 [00:00<00:00, 150.83it/s]\n",
      "100%|██████████| 40/40 [00:00<00:00, 190.75it/s]\n"
     ]
    },
    {
     "name": "stdout",
     "output_type": "stream",
     "text": [
      "18 tensor(0.7740, device='cuda:0', dtype=torch.float64)\n"
     ]
    },
    {
     "name": "stderr",
     "output_type": "stream",
     "text": [
      "100%|██████████| 40/40 [00:00<00:00, 112.46it/s]\n",
      "100%|██████████| 40/40 [00:00<00:00, 158.00it/s]\n"
     ]
    },
    {
     "name": "stdout",
     "output_type": "stream",
     "text": [
      "19 tensor(0.8020, device='cuda:0', dtype=torch.float64)\n"
     ]
    },
    {
     "name": "stderr",
     "output_type": "stream",
     "text": [
      "100%|██████████| 40/40 [00:00<00:00, 112.94it/s]\n",
      "100%|██████████| 40/40 [00:00<00:00, 155.41it/s]\n",
      "100%|██████████| 40/40 [00:00<00:00, 111.82it/s]\n",
      "100%|██████████| 40/40 [00:00<00:00, 148.85it/s]\n"
     ]
    },
    {
     "name": "stdout",
     "output_type": "stream",
     "text": [
      "21 tensor(0.8100, device='cuda:0', dtype=torch.float64)\n"
     ]
    },
    {
     "name": "stderr",
     "output_type": "stream",
     "text": [
      "100%|██████████| 40/40 [00:00<00:00, 115.44it/s]\n",
      "100%|██████████| 40/40 [00:00<00:00, 153.30it/s]\n",
      "100%|██████████| 40/40 [00:00<00:00, 111.00it/s]\n",
      "100%|██████████| 40/40 [00:00<00:00, 150.32it/s]\n"
     ]
    },
    {
     "name": "stdout",
     "output_type": "stream",
     "text": [
      "23 tensor(0.8200, device='cuda:0', dtype=torch.float64)\n"
     ]
    },
    {
     "name": "stderr",
     "output_type": "stream",
     "text": [
      "100%|██████████| 40/40 [00:00<00:00, 117.99it/s]\n",
      "100%|██████████| 40/40 [00:00<00:00, 184.83it/s]\n"
     ]
    },
    {
     "name": "stdout",
     "output_type": "stream",
     "text": [
      "24 tensor(0.8420, device='cuda:0', dtype=torch.float64)\n"
     ]
    },
    {
     "name": "stderr",
     "output_type": "stream",
     "text": [
      "100%|██████████| 40/40 [00:00<00:00, 142.47it/s]\n",
      "100%|██████████| 40/40 [00:00<00:00, 186.65it/s]\n",
      "100%|██████████| 40/40 [00:00<00:00, 146.90it/s]\n",
      "100%|██████████| 40/40 [00:00<00:00, 183.81it/s]\n",
      "100%|██████████| 40/40 [00:00<00:00, 147.62it/s]\n",
      "100%|██████████| 40/40 [00:00<00:00, 184.43it/s]\n",
      "100%|██████████| 40/40 [00:00<00:00, 113.22it/s]\n",
      "100%|██████████| 40/40 [00:00<00:00, 156.67it/s]\n",
      "100%|██████████| 40/40 [00:00<00:00, 107.93it/s]\n",
      "100%|██████████| 40/40 [00:00<00:00, 152.60it/s]\n"
     ]
    },
    {
     "name": "stdout",
     "output_type": "stream",
     "text": [
      "29 tensor(0.8460, device='cuda:0', dtype=torch.float64)\n"
     ]
    },
    {
     "name": "stderr",
     "output_type": "stream",
     "text": [
      "100%|██████████| 40/40 [00:00<00:00, 107.74it/s]\n",
      "100%|██████████| 40/40 [00:00<00:00, 185.74it/s]\n"
     ]
    },
    {
     "name": "stdout",
     "output_type": "stream",
     "text": [
      "30 tensor(0.8480, device='cuda:0', dtype=torch.float64)\n"
     ]
    },
    {
     "name": "stderr",
     "output_type": "stream",
     "text": [
      "100%|██████████| 40/40 [00:00<00:00, 153.53it/s]\n",
      "100%|██████████| 40/40 [00:00<00:00, 185.87it/s]\n"
     ]
    },
    {
     "name": "stdout",
     "output_type": "stream",
     "text": [
      "31 tensor(0.8620, device='cuda:0', dtype=torch.float64)\n"
     ]
    },
    {
     "name": "stderr",
     "output_type": "stream",
     "text": [
      "100%|██████████| 40/40 [00:00<00:00, 152.92it/s]\n",
      "100%|██████████| 40/40 [00:00<00:00, 184.22it/s]\n",
      "100%|██████████| 40/40 [00:00<00:00, 149.57it/s]\n",
      "100%|██████████| 40/40 [00:00<00:00, 180.94it/s]\n",
      "100%|██████████| 40/40 [00:00<00:00, 107.02it/s]\n",
      "100%|██████████| 40/40 [00:00<00:00, 156.77it/s]\n",
      "100%|██████████| 40/40 [00:00<00:00, 114.61it/s]\n",
      "100%|██████████| 40/40 [00:00<00:00, 149.31it/s]\n",
      "100%|██████████| 40/40 [00:00<00:00, 107.85it/s]\n",
      "100%|██████████| 40/40 [00:00<00:00, 173.73it/s]\n",
      "100%|██████████| 40/40 [00:00<00:00, 143.87it/s]\n",
      "100%|██████████| 40/40 [00:00<00:00, 183.89it/s]\n"
     ]
    },
    {
     "name": "stdout",
     "output_type": "stream",
     "text": [
      "37 tensor(0.8680, device='cuda:0', dtype=torch.float64)\n"
     ]
    },
    {
     "name": "stderr",
     "output_type": "stream",
     "text": [
      "100%|██████████| 40/40 [00:00<00:00, 145.65it/s]\n",
      "100%|██████████| 40/40 [00:00<00:00, 192.90it/s]\n"
     ]
    },
    {
     "name": "stdout",
     "output_type": "stream",
     "text": [
      "38 tensor(0.8720, device='cuda:0', dtype=torch.float64)\n"
     ]
    },
    {
     "name": "stderr",
     "output_type": "stream",
     "text": [
      "100%|██████████| 40/40 [00:00<00:00, 143.64it/s]\n",
      "100%|██████████| 40/40 [00:00<00:00, 186.19it/s]\n"
     ]
    },
    {
     "name": "stdout",
     "output_type": "stream",
     "text": [
      "39 tensor(0.8740, device='cuda:0', dtype=torch.float64)\n",
      "Finished Shadow Model 15 Training with accuracy 0.874\n",
      "TAILLE dataset {'train': 2500, 'val': 2000}\n",
      "DATASET SIZE {'train': 2500, 'val': 2000}\n"
     ]
    },
    {
     "name": "stderr",
     "output_type": "stream",
     "text": [
      "100%|██████████| 40/40 [00:00<00:00, 105.55it/s]\n",
      "100%|██████████| 32/32 [00:00<00:00, 151.99it/s]\n"
     ]
    },
    {
     "name": "stdout",
     "output_type": "stream",
     "text": [
      "0 tensor(0.0900, device='cuda:0', dtype=torch.float64)\n"
     ]
    },
    {
     "name": "stderr",
     "output_type": "stream",
     "text": [
      "100%|██████████| 40/40 [00:00<00:00, 108.11it/s]\n",
      "100%|██████████| 32/32 [00:00<00:00, 150.20it/s]\n"
     ]
    },
    {
     "name": "stdout",
     "output_type": "stream",
     "text": [
      "1 tensor(0.1100, device='cuda:0', dtype=torch.float64)\n"
     ]
    },
    {
     "name": "stderr",
     "output_type": "stream",
     "text": [
      "100%|██████████| 40/40 [00:00<00:00, 108.84it/s]\n",
      "100%|██████████| 32/32 [00:00<00:00, 154.11it/s]\n"
     ]
    },
    {
     "name": "stdout",
     "output_type": "stream",
     "text": [
      "2 tensor(0.1540, device='cuda:0', dtype=torch.float64)\n"
     ]
    },
    {
     "name": "stderr",
     "output_type": "stream",
     "text": [
      "100%|██████████| 40/40 [00:00<00:00, 110.42it/s]\n",
      "100%|██████████| 32/32 [00:00<00:00, 190.01it/s]\n"
     ]
    },
    {
     "name": "stdout",
     "output_type": "stream",
     "text": [
      "3 tensor(0.2000, device='cuda:0', dtype=torch.float64)\n"
     ]
    },
    {
     "name": "stderr",
     "output_type": "stream",
     "text": [
      "100%|██████████| 40/40 [00:00<00:00, 155.97it/s]\n",
      "100%|██████████| 32/32 [00:00<00:00, 188.02it/s]\n"
     ]
    },
    {
     "name": "stdout",
     "output_type": "stream",
     "text": [
      "4 tensor(0.2720, device='cuda:0', dtype=torch.float64)\n"
     ]
    },
    {
     "name": "stderr",
     "output_type": "stream",
     "text": [
      "100%|██████████| 40/40 [00:00<00:00, 153.49it/s]\n",
      "100%|██████████| 32/32 [00:00<00:00, 190.85it/s]\n"
     ]
    },
    {
     "name": "stdout",
     "output_type": "stream",
     "text": [
      "5 tensor(0.3880, device='cuda:0', dtype=torch.float64)\n"
     ]
    },
    {
     "name": "stderr",
     "output_type": "stream",
     "text": [
      "100%|██████████| 40/40 [00:00<00:00, 152.46it/s]\n",
      "100%|██████████| 32/32 [00:00<00:00, 189.61it/s]\n"
     ]
    },
    {
     "name": "stdout",
     "output_type": "stream",
     "text": [
      "6 tensor(0.4520, device='cuda:0', dtype=torch.float64)\n"
     ]
    },
    {
     "name": "stderr",
     "output_type": "stream",
     "text": [
      "100%|██████████| 40/40 [00:00<00:00, 135.41it/s]\n",
      "100%|██████████| 32/32 [00:00<00:00, 152.78it/s]\n"
     ]
    },
    {
     "name": "stdout",
     "output_type": "stream",
     "text": [
      "7 tensor(0.5180, device='cuda:0', dtype=torch.float64)\n"
     ]
    },
    {
     "name": "stderr",
     "output_type": "stream",
     "text": [
      "100%|██████████| 40/40 [00:00<00:00, 109.55it/s]\n",
      "100%|██████████| 32/32 [00:00<00:00, 158.06it/s]\n"
     ]
    },
    {
     "name": "stdout",
     "output_type": "stream",
     "text": [
      "8 tensor(0.5800, device='cuda:0', dtype=torch.float64)\n"
     ]
    },
    {
     "name": "stderr",
     "output_type": "stream",
     "text": [
      "100%|██████████| 40/40 [00:00<00:00, 118.11it/s]\n",
      "100%|██████████| 32/32 [00:00<00:00, 188.36it/s]\n"
     ]
    },
    {
     "name": "stdout",
     "output_type": "stream",
     "text": [
      "9 tensor(0.6400, device='cuda:0', dtype=torch.float64)\n"
     ]
    },
    {
     "name": "stderr",
     "output_type": "stream",
     "text": [
      "100%|██████████| 40/40 [00:00<00:00, 145.80it/s]\n",
      "100%|██████████| 32/32 [00:00<00:00, 185.00it/s]\n"
     ]
    },
    {
     "name": "stdout",
     "output_type": "stream",
     "text": [
      "10 tensor(0.6480, device='cuda:0', dtype=torch.float64)\n"
     ]
    },
    {
     "name": "stderr",
     "output_type": "stream",
     "text": [
      "100%|██████████| 40/40 [00:00<00:00, 146.52it/s]\n",
      "100%|██████████| 32/32 [00:00<00:00, 177.94it/s]\n"
     ]
    },
    {
     "name": "stdout",
     "output_type": "stream",
     "text": [
      "11 tensor(0.6680, device='cuda:0', dtype=torch.float64)\n"
     ]
    },
    {
     "name": "stderr",
     "output_type": "stream",
     "text": [
      "100%|██████████| 40/40 [00:00<00:00, 148.27it/s]\n",
      "100%|██████████| 32/32 [00:00<00:00, 184.94it/s]\n"
     ]
    },
    {
     "name": "stdout",
     "output_type": "stream",
     "text": [
      "12 tensor(0.6860, device='cuda:0', dtype=torch.float64)\n"
     ]
    },
    {
     "name": "stderr",
     "output_type": "stream",
     "text": [
      "100%|██████████| 40/40 [00:00<00:00, 141.41it/s]\n",
      "100%|██████████| 32/32 [00:00<00:00, 157.33it/s]\n"
     ]
    },
    {
     "name": "stdout",
     "output_type": "stream",
     "text": [
      "13 tensor(0.6960, device='cuda:0', dtype=torch.float64)\n"
     ]
    },
    {
     "name": "stderr",
     "output_type": "stream",
     "text": [
      "100%|██████████| 40/40 [00:00<00:00, 106.51it/s]\n",
      "100%|██████████| 32/32 [00:00<00:00, 152.17it/s]\n"
     ]
    },
    {
     "name": "stdout",
     "output_type": "stream",
     "text": [
      "14 tensor(0.7100, device='cuda:0', dtype=torch.float64)\n"
     ]
    },
    {
     "name": "stderr",
     "output_type": "stream",
     "text": [
      "100%|██████████| 40/40 [00:00<00:00, 110.72it/s]\n",
      "100%|██████████| 32/32 [00:00<00:00, 186.46it/s]\n"
     ]
    },
    {
     "name": "stdout",
     "output_type": "stream",
     "text": [
      "15 tensor(0.7420, device='cuda:0', dtype=torch.float64)\n"
     ]
    },
    {
     "name": "stderr",
     "output_type": "stream",
     "text": [
      "100%|██████████| 40/40 [00:00<00:00, 147.20it/s]\n",
      "100%|██████████| 32/32 [00:00<00:00, 183.74it/s]\n"
     ]
    },
    {
     "name": "stdout",
     "output_type": "stream",
     "text": [
      "16 tensor(0.7700, device='cuda:0', dtype=torch.float64)\n"
     ]
    },
    {
     "name": "stderr",
     "output_type": "stream",
     "text": [
      "100%|██████████| 40/40 [00:00<00:00, 143.49it/s]\n",
      "100%|██████████| 32/32 [00:00<00:00, 184.67it/s]\n"
     ]
    },
    {
     "name": "stdout",
     "output_type": "stream",
     "text": [
      "17 tensor(0.7800, device='cuda:0', dtype=torch.float64)\n"
     ]
    },
    {
     "name": "stderr",
     "output_type": "stream",
     "text": [
      "100%|██████████| 40/40 [00:00<00:00, 147.22it/s]\n",
      "100%|██████████| 32/32 [00:00<00:00, 182.87it/s]\n"
     ]
    },
    {
     "name": "stdout",
     "output_type": "stream",
     "text": [
      "18 tensor(0.8040, device='cuda:0', dtype=torch.float64)\n"
     ]
    },
    {
     "name": "stderr",
     "output_type": "stream",
     "text": [
      "100%|██████████| 40/40 [00:00<00:00, 144.52it/s]\n",
      "100%|██████████| 32/32 [00:00<00:00, 152.70it/s]\n",
      "100%|██████████| 40/40 [00:00<00:00, 108.18it/s]\n",
      "100%|██████████| 32/32 [00:00<00:00, 158.85it/s]\n"
     ]
    },
    {
     "name": "stdout",
     "output_type": "stream",
     "text": [
      "20 tensor(0.8240, device='cuda:0', dtype=torch.float64)\n"
     ]
    },
    {
     "name": "stderr",
     "output_type": "stream",
     "text": [
      "100%|██████████| 40/40 [00:00<00:00, 108.15it/s]\n",
      "100%|██████████| 32/32 [00:00<00:00, 186.19it/s]\n"
     ]
    },
    {
     "name": "stdout",
     "output_type": "stream",
     "text": [
      "21 tensor(0.8320, device='cuda:0', dtype=torch.float64)\n"
     ]
    },
    {
     "name": "stderr",
     "output_type": "stream",
     "text": [
      "100%|██████████| 40/40 [00:00<00:00, 147.56it/s]\n",
      "100%|██████████| 32/32 [00:00<00:00, 185.20it/s]\n"
     ]
    },
    {
     "name": "stdout",
     "output_type": "stream",
     "text": [
      "22 tensor(0.8340, device='cuda:0', dtype=torch.float64)\n"
     ]
    },
    {
     "name": "stderr",
     "output_type": "stream",
     "text": [
      "100%|██████████| 40/40 [00:00<00:00, 143.30it/s]\n",
      "100%|██████████| 32/32 [00:00<00:00, 185.00it/s]\n"
     ]
    },
    {
     "name": "stdout",
     "output_type": "stream",
     "text": [
      "23 tensor(0.8480, device='cuda:0', dtype=torch.float64)\n"
     ]
    },
    {
     "name": "stderr",
     "output_type": "stream",
     "text": [
      "100%|██████████| 40/40 [00:00<00:00, 141.85it/s]\n",
      "100%|██████████| 32/32 [00:00<00:00, 188.13it/s]\n"
     ]
    },
    {
     "name": "stdout",
     "output_type": "stream",
     "text": [
      "24 tensor(0.8660, device='cuda:0', dtype=torch.float64)\n"
     ]
    },
    {
     "name": "stderr",
     "output_type": "stream",
     "text": [
      "100%|██████████| 40/40 [00:00<00:00, 144.54it/s]\n",
      "100%|██████████| 32/32 [00:00<00:00, 155.64it/s]\n",
      "100%|██████████| 40/40 [00:00<00:00, 110.71it/s]\n",
      "100%|██████████| 32/32 [00:00<00:00, 157.85it/s]\n",
      "100%|██████████| 40/40 [00:00<00:00, 108.58it/s]\n",
      "100%|██████████| 32/32 [00:00<00:00, 150.02it/s]\n"
     ]
    },
    {
     "name": "stdout",
     "output_type": "stream",
     "text": [
      "27 tensor(0.8760, device='cuda:0', dtype=torch.float64)\n"
     ]
    },
    {
     "name": "stderr",
     "output_type": "stream",
     "text": [
      "100%|██████████| 40/40 [00:00<00:00, 121.57it/s]\n",
      "100%|██████████| 32/32 [00:00<00:00, 185.59it/s]\n",
      "100%|██████████| 40/40 [00:00<00:00, 145.68it/s]\n",
      "100%|██████████| 32/32 [00:00<00:00, 184.07it/s]\n",
      "100%|██████████| 40/40 [00:00<00:00, 147.45it/s]\n",
      "100%|██████████| 32/32 [00:00<00:00, 185.31it/s]\n"
     ]
    },
    {
     "name": "stdout",
     "output_type": "stream",
     "text": [
      "30 tensor(0.8800, device='cuda:0', dtype=torch.float64)\n"
     ]
    },
    {
     "name": "stderr",
     "output_type": "stream",
     "text": [
      "100%|██████████| 40/40 [00:00<00:00, 147.70it/s]\n",
      "100%|██████████| 32/32 [00:00<00:00, 187.15it/s]\n"
     ]
    },
    {
     "name": "stdout",
     "output_type": "stream",
     "text": [
      "31 tensor(0.8900, device='cuda:0', dtype=torch.float64)\n"
     ]
    },
    {
     "name": "stderr",
     "output_type": "stream",
     "text": [
      "100%|██████████| 40/40 [00:00<00:00, 131.08it/s]\n",
      "100%|██████████| 32/32 [00:00<00:00, 152.74it/s]\n",
      "100%|██████████| 40/40 [00:00<00:00, 108.80it/s]\n",
      "100%|██████████| 32/32 [00:00<00:00, 156.84it/s]\n",
      "100%|██████████| 40/40 [00:00<00:00, 111.52it/s]\n",
      "100%|██████████| 32/32 [00:00<00:00, 157.48it/s]\n",
      "100%|██████████| 40/40 [00:00<00:00, 115.43it/s]\n",
      "100%|██████████| 32/32 [00:00<00:00, 186.53it/s]\n",
      "100%|██████████| 40/40 [00:00<00:00, 148.33it/s]\n",
      "100%|██████████| 32/32 [00:00<00:00, 188.04it/s]\n",
      "100%|██████████| 40/40 [00:00<00:00, 148.37it/s]\n",
      "100%|██████████| 32/32 [00:00<00:00, 183.93it/s]\n",
      "100%|██████████| 40/40 [00:00<00:00, 149.73it/s]\n",
      "100%|██████████| 32/32 [00:00<00:00, 188.82it/s]\n",
      "100%|██████████| 40/40 [00:00<00:00, 146.77it/s]\n",
      "100%|██████████| 32/32 [00:00<00:00, 151.39it/s]\n"
     ]
    },
    {
     "name": "stdout",
     "output_type": "stream",
     "text": [
      "39 tensor(0.8960, device='cuda:0', dtype=torch.float64)\n",
      "Finished Shadow Model 16 Training with accuracy 0.896\n",
      "TAILLE dataset {'train': 2500, 'val': 1500}\n",
      "DATASET SIZE {'train': 2500, 'val': 1500}\n"
     ]
    },
    {
     "name": "stderr",
     "output_type": "stream",
     "text": [
      "100%|██████████| 40/40 [00:00<00:00, 106.99it/s]\n",
      "100%|██████████| 24/24 [00:00<00:00, 154.10it/s]\n"
     ]
    },
    {
     "name": "stdout",
     "output_type": "stream",
     "text": [
      "0 tensor(0.0940, device='cuda:0', dtype=torch.float64)\n"
     ]
    },
    {
     "name": "stderr",
     "output_type": "stream",
     "text": [
      "100%|██████████| 40/40 [00:00<00:00, 109.03it/s]\n",
      "100%|██████████| 24/24 [00:00<00:00, 157.24it/s]\n",
      "100%|██████████| 40/40 [00:00<00:00, 120.25it/s]\n",
      "100%|██████████| 24/24 [00:00<00:00, 184.87it/s]\n",
      "100%|██████████| 40/40 [00:00<00:00, 142.81it/s]\n",
      "100%|██████████| 24/24 [00:00<00:00, 185.66it/s]\n",
      "100%|██████████| 40/40 [00:00<00:00, 146.73it/s]\n",
      "100%|██████████| 24/24 [00:00<00:00, 182.80it/s]\n",
      "100%|██████████| 40/40 [00:00<00:00, 147.02it/s]\n",
      "100%|██████████| 24/24 [00:00<00:00, 181.60it/s]\n",
      "100%|██████████| 40/40 [00:00<00:00, 146.61it/s]\n",
      "100%|██████████| 24/24 [00:00<00:00, 175.71it/s]\n"
     ]
    },
    {
     "name": "stdout",
     "output_type": "stream",
     "text": [
      "6 tensor(0.0960, device='cuda:0', dtype=torch.float64)\n"
     ]
    },
    {
     "name": "stderr",
     "output_type": "stream",
     "text": [
      "100%|██████████| 40/40 [00:00<00:00, 105.81it/s]\n",
      "100%|██████████| 24/24 [00:00<00:00, 153.68it/s]\n"
     ]
    },
    {
     "name": "stdout",
     "output_type": "stream",
     "text": [
      "7 tensor(0.1000, device='cuda:0', dtype=torch.float64)\n"
     ]
    },
    {
     "name": "stderr",
     "output_type": "stream",
     "text": [
      "100%|██████████| 40/40 [00:00<00:00, 110.42it/s]\n",
      "100%|██████████| 24/24 [00:00<00:00, 145.59it/s]\n"
     ]
    },
    {
     "name": "stdout",
     "output_type": "stream",
     "text": [
      "8 tensor(0.1060, device='cuda:0', dtype=torch.float64)\n"
     ]
    },
    {
     "name": "stderr",
     "output_type": "stream",
     "text": [
      "100%|██████████| 40/40 [00:00<00:00, 114.15it/s]\n",
      "100%|██████████| 24/24 [00:00<00:00, 183.05it/s]\n"
     ]
    },
    {
     "name": "stdout",
     "output_type": "stream",
     "text": [
      "9 tensor(0.1320, device='cuda:0', dtype=torch.float64)\n"
     ]
    },
    {
     "name": "stderr",
     "output_type": "stream",
     "text": [
      "100%|██████████| 40/40 [00:00<00:00, 146.43it/s]\n",
      "100%|██████████| 24/24 [00:00<00:00, 182.44it/s]\n"
     ]
    },
    {
     "name": "stdout",
     "output_type": "stream",
     "text": [
      "10 tensor(0.1940, device='cuda:0', dtype=torch.float64)\n"
     ]
    },
    {
     "name": "stderr",
     "output_type": "stream",
     "text": [
      "100%|██████████| 40/40 [00:00<00:00, 145.98it/s]\n",
      "100%|██████████| 24/24 [00:00<00:00, 182.27it/s]\n"
     ]
    },
    {
     "name": "stdout",
     "output_type": "stream",
     "text": [
      "11 tensor(0.2400, device='cuda:0', dtype=torch.float64)\n"
     ]
    },
    {
     "name": "stderr",
     "output_type": "stream",
     "text": [
      "100%|██████████| 40/40 [00:00<00:00, 145.93it/s]\n",
      "100%|██████████| 24/24 [00:00<00:00, 189.09it/s]\n"
     ]
    },
    {
     "name": "stdout",
     "output_type": "stream",
     "text": [
      "12 tensor(0.3020, device='cuda:0', dtype=torch.float64)\n"
     ]
    },
    {
     "name": "stderr",
     "output_type": "stream",
     "text": [
      "100%|██████████| 40/40 [00:00<00:00, 148.45it/s]\n",
      "100%|██████████| 24/24 [00:00<00:00, 174.61it/s]\n"
     ]
    },
    {
     "name": "stdout",
     "output_type": "stream",
     "text": [
      "13 tensor(0.3460, device='cuda:0', dtype=torch.float64)\n"
     ]
    },
    {
     "name": "stderr",
     "output_type": "stream",
     "text": [
      "100%|██████████| 40/40 [00:00<00:00, 106.67it/s]\n",
      "100%|██████████| 24/24 [00:00<00:00, 151.00it/s]\n"
     ]
    },
    {
     "name": "stdout",
     "output_type": "stream",
     "text": [
      "14 tensor(0.3620, device='cuda:0', dtype=torch.float64)\n"
     ]
    },
    {
     "name": "stderr",
     "output_type": "stream",
     "text": [
      "100%|██████████| 40/40 [00:00<00:00, 121.23it/s]\n",
      "100%|██████████| 24/24 [00:00<00:00, 182.27it/s]\n"
     ]
    },
    {
     "name": "stdout",
     "output_type": "stream",
     "text": [
      "15 tensor(0.4040, device='cuda:0', dtype=torch.float64)\n"
     ]
    },
    {
     "name": "stderr",
     "output_type": "stream",
     "text": [
      "100%|██████████| 40/40 [00:00<00:00, 145.42it/s]\n",
      "100%|██████████| 24/24 [00:00<00:00, 184.53it/s]\n"
     ]
    },
    {
     "name": "stdout",
     "output_type": "stream",
     "text": [
      "16 tensor(0.4700, device='cuda:0', dtype=torch.float64)\n"
     ]
    },
    {
     "name": "stderr",
     "output_type": "stream",
     "text": [
      "100%|██████████| 40/40 [00:00<00:00, 147.65it/s]\n",
      "100%|██████████| 24/24 [00:00<00:00, 185.17it/s]\n"
     ]
    },
    {
     "name": "stdout",
     "output_type": "stream",
     "text": [
      "17 tensor(0.5280, device='cuda:0', dtype=torch.float64)\n"
     ]
    },
    {
     "name": "stderr",
     "output_type": "stream",
     "text": [
      "100%|██████████| 40/40 [00:00<00:00, 147.26it/s]\n",
      "100%|██████████| 24/24 [00:00<00:00, 190.33it/s]\n"
     ]
    },
    {
     "name": "stdout",
     "output_type": "stream",
     "text": [
      "18 tensor(0.5700, device='cuda:0', dtype=torch.float64)\n"
     ]
    },
    {
     "name": "stderr",
     "output_type": "stream",
     "text": [
      "100%|██████████| 40/40 [00:00<00:00, 144.65it/s]\n",
      "100%|██████████| 24/24 [00:00<00:00, 164.17it/s]\n"
     ]
    },
    {
     "name": "stdout",
     "output_type": "stream",
     "text": [
      "19 tensor(0.5920, device='cuda:0', dtype=torch.float64)\n"
     ]
    },
    {
     "name": "stderr",
     "output_type": "stream",
     "text": [
      "100%|██████████| 40/40 [00:00<00:00, 103.70it/s]\n",
      "100%|██████████| 24/24 [00:00<00:00, 159.80it/s]\n"
     ]
    },
    {
     "name": "stdout",
     "output_type": "stream",
     "text": [
      "20 tensor(0.6200, device='cuda:0', dtype=torch.float64)\n"
     ]
    },
    {
     "name": "stderr",
     "output_type": "stream",
     "text": [
      "100%|██████████| 40/40 [00:00<00:00, 110.09it/s]\n",
      "100%|██████████| 24/24 [00:00<00:00, 152.09it/s]\n"
     ]
    },
    {
     "name": "stdout",
     "output_type": "stream",
     "text": [
      "21 tensor(0.6540, device='cuda:0', dtype=torch.float64)\n"
     ]
    },
    {
     "name": "stderr",
     "output_type": "stream",
     "text": [
      "100%|██████████| 40/40 [00:00<00:00, 124.06it/s]\n",
      "100%|██████████| 24/24 [00:00<00:00, 180.18it/s]\n"
     ]
    },
    {
     "name": "stdout",
     "output_type": "stream",
     "text": [
      "22 tensor(0.7040, device='cuda:0', dtype=torch.float64)\n"
     ]
    },
    {
     "name": "stderr",
     "output_type": "stream",
     "text": [
      "100%|██████████| 40/40 [00:00<00:00, 144.35it/s]\n",
      "100%|██████████| 24/24 [00:00<00:00, 185.46it/s]\n"
     ]
    },
    {
     "name": "stdout",
     "output_type": "stream",
     "text": [
      "23 tensor(0.7480, device='cuda:0', dtype=torch.float64)\n"
     ]
    },
    {
     "name": "stderr",
     "output_type": "stream",
     "text": [
      "100%|██████████| 40/40 [00:00<00:00, 142.89it/s]\n",
      "100%|██████████| 24/24 [00:00<00:00, 188.32it/s]\n"
     ]
    },
    {
     "name": "stdout",
     "output_type": "stream",
     "text": [
      "24 tensor(0.7620, device='cuda:0', dtype=torch.float64)\n"
     ]
    },
    {
     "name": "stderr",
     "output_type": "stream",
     "text": [
      "100%|██████████| 40/40 [00:00<00:00, 145.50it/s]\n",
      "100%|██████████| 24/24 [00:00<00:00, 179.78it/s]\n"
     ]
    },
    {
     "name": "stdout",
     "output_type": "stream",
     "text": [
      "25 tensor(0.8020, device='cuda:0', dtype=torch.float64)\n"
     ]
    },
    {
     "name": "stderr",
     "output_type": "stream",
     "text": [
      "100%|██████████| 40/40 [00:00<00:00, 147.20it/s]\n",
      "100%|██████████| 24/24 [00:00<00:00, 169.19it/s]\n"
     ]
    },
    {
     "name": "stdout",
     "output_type": "stream",
     "text": [
      "26 tensor(0.8120, device='cuda:0', dtype=torch.float64)\n"
     ]
    },
    {
     "name": "stderr",
     "output_type": "stream",
     "text": [
      "100%|██████████| 40/40 [00:00<00:00, 102.62it/s]\n",
      "100%|██████████| 24/24 [00:00<00:00, 150.92it/s]\n"
     ]
    },
    {
     "name": "stdout",
     "output_type": "stream",
     "text": [
      "27 tensor(0.8460, device='cuda:0', dtype=torch.float64)\n"
     ]
    },
    {
     "name": "stderr",
     "output_type": "stream",
     "text": [
      "100%|██████████| 40/40 [00:00<00:00, 102.68it/s]\n",
      "100%|██████████| 24/24 [00:00<00:00, 143.07it/s]\n",
      "100%|██████████| 40/40 [00:00<00:00, 103.97it/s]\n",
      "100%|██████████| 24/24 [00:00<00:00, 136.63it/s]\n",
      "100%|██████████| 40/40 [00:00<00:00, 103.79it/s]\n",
      "100%|██████████| 24/24 [00:00<00:00, 142.82it/s]\n"
     ]
    },
    {
     "name": "stdout",
     "output_type": "stream",
     "text": [
      "30 tensor(0.8480, device='cuda:0', dtype=torch.float64)\n"
     ]
    },
    {
     "name": "stderr",
     "output_type": "stream",
     "text": [
      "100%|██████████| 40/40 [00:00<00:00, 86.17it/s]\n",
      "100%|██████████| 24/24 [00:00<00:00, 158.62it/s]\n"
     ]
    },
    {
     "name": "stdout",
     "output_type": "stream",
     "text": [
      "31 tensor(0.8520, device='cuda:0', dtype=torch.float64)\n"
     ]
    },
    {
     "name": "stderr",
     "output_type": "stream",
     "text": [
      "100%|██████████| 40/40 [00:00<00:00, 142.68it/s]\n",
      "100%|██████████| 24/24 [00:00<00:00, 167.07it/s]\n"
     ]
    },
    {
     "name": "stdout",
     "output_type": "stream",
     "text": [
      "32 tensor(0.8540, device='cuda:0', dtype=torch.float64)\n"
     ]
    },
    {
     "name": "stderr",
     "output_type": "stream",
     "text": [
      "100%|██████████| 40/40 [00:00<00:00, 142.20it/s]\n",
      "100%|██████████| 24/24 [00:00<00:00, 172.39it/s]\n",
      "100%|██████████| 40/40 [00:00<00:00, 143.53it/s]\n",
      "100%|██████████| 24/24 [00:00<00:00, 180.39it/s]\n"
     ]
    },
    {
     "name": "stdout",
     "output_type": "stream",
     "text": [
      "34 tensor(0.8660, device='cuda:0', dtype=torch.float64)\n"
     ]
    },
    {
     "name": "stderr",
     "output_type": "stream",
     "text": [
      "100%|██████████| 40/40 [00:00<00:00, 142.89it/s]\n",
      "100%|██████████| 24/24 [00:00<00:00, 162.05it/s]\n"
     ]
    },
    {
     "name": "stdout",
     "output_type": "stream",
     "text": [
      "35 tensor(0.8700, device='cuda:0', dtype=torch.float64)\n"
     ]
    },
    {
     "name": "stderr",
     "output_type": "stream",
     "text": [
      "100%|██████████| 40/40 [00:00<00:00, 101.39it/s]\n",
      "100%|██████████| 24/24 [00:00<00:00, 142.99it/s]\n"
     ]
    },
    {
     "name": "stdout",
     "output_type": "stream",
     "text": [
      "36 tensor(0.8780, device='cuda:0', dtype=torch.float64)\n"
     ]
    },
    {
     "name": "stderr",
     "output_type": "stream",
     "text": [
      "100%|██████████| 40/40 [00:00<00:00, 99.04it/s]\n",
      "100%|██████████| 24/24 [00:00<00:00, 138.36it/s]\n",
      "100%|██████████| 40/40 [00:00<00:00, 102.92it/s]\n",
      "100%|██████████| 24/24 [00:00<00:00, 140.97it/s]\n",
      "100%|██████████| 40/40 [00:00<00:00, 98.40it/s]\n",
      "100%|██████████| 24/24 [00:00<00:00, 132.50it/s]\n"
     ]
    },
    {
     "name": "stdout",
     "output_type": "stream",
     "text": [
      "39 tensor(0.8860, device='cuda:0', dtype=torch.float64)\n",
      "Finished Shadow Model 17 Training with accuracy 0.886\n",
      "TAILLE dataset {'train': 2500, 'val': 1000}\n",
      "DATASET SIZE {'train': 2500, 'val': 1000}\n"
     ]
    },
    {
     "name": "stderr",
     "output_type": "stream",
     "text": [
      "100%|██████████| 40/40 [00:00<00:00, 102.05it/s]\n",
      "100%|██████████| 16/16 [00:00<00:00, 139.02it/s]\n"
     ]
    },
    {
     "name": "stdout",
     "output_type": "stream",
     "text": [
      "0 tensor(0.1800, device='cuda:0', dtype=torch.float64)\n"
     ]
    },
    {
     "name": "stderr",
     "output_type": "stream",
     "text": [
      "100%|██████████| 40/40 [00:00<00:00, 104.00it/s]\n",
      "100%|██████████| 16/16 [00:00<00:00, 139.67it/s]\n"
     ]
    },
    {
     "name": "stdout",
     "output_type": "stream",
     "text": [
      "1 tensor(0.1960, device='cuda:0', dtype=torch.float64)\n"
     ]
    },
    {
     "name": "stderr",
     "output_type": "stream",
     "text": [
      "100%|██████████| 40/40 [00:00<00:00, 104.95it/s]\n",
      "100%|██████████| 16/16 [00:00<00:00, 170.41it/s]\n"
     ]
    },
    {
     "name": "stdout",
     "output_type": "stream",
     "text": [
      "2 tensor(0.2300, device='cuda:0', dtype=torch.float64)\n"
     ]
    },
    {
     "name": "stderr",
     "output_type": "stream",
     "text": [
      "100%|██████████| 40/40 [00:00<00:00, 129.92it/s]\n",
      "100%|██████████| 16/16 [00:00<00:00, 182.86it/s]\n"
     ]
    },
    {
     "name": "stdout",
     "output_type": "stream",
     "text": [
      "3 tensor(0.3020, device='cuda:0', dtype=torch.float64)\n"
     ]
    },
    {
     "name": "stderr",
     "output_type": "stream",
     "text": [
      "100%|██████████| 40/40 [00:00<00:00, 137.59it/s]\n",
      "100%|██████████| 16/16 [00:00<00:00, 172.67it/s]\n"
     ]
    },
    {
     "name": "stdout",
     "output_type": "stream",
     "text": [
      "4 tensor(0.3980, device='cuda:0', dtype=torch.float64)\n"
     ]
    },
    {
     "name": "stderr",
     "output_type": "stream",
     "text": [
      "100%|██████████| 40/40 [00:00<00:00, 139.90it/s]\n",
      "100%|██████████| 16/16 [00:00<00:00, 175.06it/s]\n"
     ]
    },
    {
     "name": "stdout",
     "output_type": "stream",
     "text": [
      "5 tensor(0.4820, device='cuda:0', dtype=torch.float64)\n"
     ]
    },
    {
     "name": "stderr",
     "output_type": "stream",
     "text": [
      "100%|██████████| 40/40 [00:00<00:00, 135.19it/s]\n",
      "100%|██████████| 16/16 [00:00<00:00, 179.49it/s]\n"
     ]
    },
    {
     "name": "stdout",
     "output_type": "stream",
     "text": [
      "6 tensor(0.5120, device='cuda:0', dtype=torch.float64)\n"
     ]
    },
    {
     "name": "stderr",
     "output_type": "stream",
     "text": [
      "100%|██████████| 40/40 [00:00<00:00, 114.52it/s]\n",
      "100%|██████████| 16/16 [00:00<00:00, 144.38it/s]\n"
     ]
    },
    {
     "name": "stdout",
     "output_type": "stream",
     "text": [
      "7 tensor(0.5400, device='cuda:0', dtype=torch.float64)\n"
     ]
    },
    {
     "name": "stderr",
     "output_type": "stream",
     "text": [
      "100%|██████████| 40/40 [00:00<00:00, 98.86it/s] \n",
      "100%|██████████| 16/16 [00:00<00:00, 135.96it/s]\n"
     ]
    },
    {
     "name": "stdout",
     "output_type": "stream",
     "text": [
      "8 tensor(0.5820, device='cuda:0', dtype=torch.float64)\n"
     ]
    },
    {
     "name": "stderr",
     "output_type": "stream",
     "text": [
      "100%|██████████| 40/40 [00:00<00:00, 99.20it/s]\n",
      "100%|██████████| 16/16 [00:00<00:00, 135.04it/s]\n"
     ]
    },
    {
     "name": "stdout",
     "output_type": "stream",
     "text": [
      "9 tensor(0.6240, device='cuda:0', dtype=torch.float64)\n"
     ]
    },
    {
     "name": "stderr",
     "output_type": "stream",
     "text": [
      "100%|██████████| 40/40 [00:00<00:00, 102.94it/s]\n",
      "100%|██████████| 16/16 [00:00<00:00, 139.11it/s]\n"
     ]
    },
    {
     "name": "stdout",
     "output_type": "stream",
     "text": [
      "10 tensor(0.6660, device='cuda:0', dtype=torch.float64)\n"
     ]
    },
    {
     "name": "stderr",
     "output_type": "stream",
     "text": [
      "100%|██████████| 40/40 [00:00<00:00, 106.44it/s]\n",
      "100%|██████████| 16/16 [00:00<00:00, 140.97it/s]\n"
     ]
    },
    {
     "name": "stdout",
     "output_type": "stream",
     "text": [
      "11 tensor(0.6920, device='cuda:0', dtype=torch.float64)\n"
     ]
    },
    {
     "name": "stderr",
     "output_type": "stream",
     "text": [
      "100%|██████████| 40/40 [00:00<00:00, 106.48it/s]\n",
      "100%|██████████| 16/16 [00:00<00:00, 144.78it/s]\n"
     ]
    },
    {
     "name": "stdout",
     "output_type": "stream",
     "text": [
      "12 tensor(0.7240, device='cuda:0', dtype=torch.float64)\n"
     ]
    },
    {
     "name": "stderr",
     "output_type": "stream",
     "text": [
      "100%|██████████| 40/40 [00:00<00:00, 110.59it/s]\n",
      "100%|██████████| 16/16 [00:00<00:00, 174.66it/s]\n"
     ]
    },
    {
     "name": "stdout",
     "output_type": "stream",
     "text": [
      "13 tensor(0.7360, device='cuda:0', dtype=torch.float64)\n"
     ]
    },
    {
     "name": "stderr",
     "output_type": "stream",
     "text": [
      "100%|██████████| 40/40 [00:00<00:00, 134.15it/s]\n",
      "100%|██████████| 16/16 [00:00<00:00, 170.81it/s]\n"
     ]
    },
    {
     "name": "stdout",
     "output_type": "stream",
     "text": [
      "14 tensor(0.7760, device='cuda:0', dtype=torch.float64)\n"
     ]
    },
    {
     "name": "stderr",
     "output_type": "stream",
     "text": [
      "100%|██████████| 40/40 [00:00<00:00, 137.06it/s]\n",
      "100%|██████████| 16/16 [00:00<00:00, 174.81it/s]\n"
     ]
    },
    {
     "name": "stdout",
     "output_type": "stream",
     "text": [
      "15 tensor(0.7880, device='cuda:0', dtype=torch.float64)\n"
     ]
    },
    {
     "name": "stderr",
     "output_type": "stream",
     "text": [
      "100%|██████████| 40/40 [00:00<00:00, 136.58it/s]\n",
      "100%|██████████| 16/16 [00:00<00:00, 168.21it/s]\n"
     ]
    },
    {
     "name": "stdout",
     "output_type": "stream",
     "text": [
      "16 tensor(0.7920, device='cuda:0', dtype=torch.float64)\n"
     ]
    },
    {
     "name": "stderr",
     "output_type": "stream",
     "text": [
      "100%|██████████| 40/40 [00:00<00:00, 135.78it/s]\n",
      "100%|██████████| 16/16 [00:00<00:00, 174.33it/s]\n"
     ]
    },
    {
     "name": "stdout",
     "output_type": "stream",
     "text": [
      "17 tensor(0.8000, device='cuda:0', dtype=torch.float64)\n"
     ]
    },
    {
     "name": "stderr",
     "output_type": "stream",
     "text": [
      "100%|██████████| 40/40 [00:00<00:00, 111.61it/s]\n",
      "100%|██████████| 16/16 [00:00<00:00, 146.11it/s]\n",
      "100%|██████████| 40/40 [00:00<00:00, 104.78it/s]\n",
      "100%|██████████| 16/16 [00:00<00:00, 140.99it/s]\n"
     ]
    },
    {
     "name": "stdout",
     "output_type": "stream",
     "text": [
      "19 tensor(0.8200, device='cuda:0', dtype=torch.float64)\n"
     ]
    },
    {
     "name": "stderr",
     "output_type": "stream",
     "text": [
      "100%|██████████| 40/40 [00:00<00:00, 100.30it/s]\n",
      "100%|██████████| 16/16 [00:00<00:00, 144.97it/s]\n"
     ]
    },
    {
     "name": "stdout",
     "output_type": "stream",
     "text": [
      "20 tensor(0.8440, device='cuda:0', dtype=torch.float64)\n"
     ]
    },
    {
     "name": "stderr",
     "output_type": "stream",
     "text": [
      "100%|██████████| 40/40 [00:00<00:00, 106.08it/s]\n",
      "100%|██████████| 16/16 [00:00<00:00, 133.59it/s]\n"
     ]
    },
    {
     "name": "stdout",
     "output_type": "stream",
     "text": [
      "21 tensor(0.8480, device='cuda:0', dtype=torch.float64)\n"
     ]
    },
    {
     "name": "stderr",
     "output_type": "stream",
     "text": [
      "100%|██████████| 40/40 [00:00<00:00, 105.37it/s]\n",
      "100%|██████████| 16/16 [00:00<00:00, 137.54it/s]\n"
     ]
    },
    {
     "name": "stdout",
     "output_type": "stream",
     "text": [
      "22 tensor(0.8520, device='cuda:0', dtype=torch.float64)\n"
     ]
    },
    {
     "name": "stderr",
     "output_type": "stream",
     "text": [
      "100%|██████████| 40/40 [00:00<00:00, 101.09it/s]\n",
      "100%|██████████| 16/16 [00:00<00:00, 171.77it/s]\n"
     ]
    },
    {
     "name": "stdout",
     "output_type": "stream",
     "text": [
      "23 tensor(0.8700, device='cuda:0', dtype=torch.float64)\n"
     ]
    },
    {
     "name": "stderr",
     "output_type": "stream",
     "text": [
      "100%|██████████| 40/40 [00:00<00:00, 139.31it/s]\n",
      "100%|██████████| 16/16 [00:00<00:00, 170.33it/s]\n",
      "100%|██████████| 40/40 [00:00<00:00, 138.98it/s]\n",
      "100%|██████████| 16/16 [00:00<00:00, 174.55it/s]\n"
     ]
    },
    {
     "name": "stdout",
     "output_type": "stream",
     "text": [
      "25 tensor(0.8940, device='cuda:0', dtype=torch.float64)\n"
     ]
    },
    {
     "name": "stderr",
     "output_type": "stream",
     "text": [
      "100%|██████████| 40/40 [00:00<00:00, 136.57it/s]\n",
      "100%|██████████| 16/16 [00:00<00:00, 171.49it/s]\n",
      "100%|██████████| 40/40 [00:00<00:00, 136.69it/s]\n",
      "100%|██████████| 16/16 [00:00<00:00, 152.81it/s]\n"
     ]
    },
    {
     "name": "stdout",
     "output_type": "stream",
     "text": [
      "27 tensor(0.9000, device='cuda:0', dtype=torch.float64)\n"
     ]
    },
    {
     "name": "stderr",
     "output_type": "stream",
     "text": [
      "100%|██████████| 40/40 [00:00<00:00, 99.16it/s]\n",
      "100%|██████████| 16/16 [00:00<00:00, 138.27it/s]\n",
      "100%|██████████| 40/40 [00:00<00:00, 102.42it/s]\n",
      "100%|██████████| 16/16 [00:00<00:00, 135.53it/s]\n",
      "100%|██████████| 40/40 [00:00<00:00, 102.39it/s]\n",
      "100%|██████████| 16/16 [00:00<00:00, 125.86it/s]\n",
      "100%|██████████| 40/40 [00:00<00:00, 107.33it/s]\n",
      "100%|██████████| 16/16 [00:00<00:00, 175.36it/s]\n"
     ]
    },
    {
     "name": "stdout",
     "output_type": "stream",
     "text": [
      "31 tensor(0.9160, device='cuda:0', dtype=torch.float64)\n"
     ]
    },
    {
     "name": "stderr",
     "output_type": "stream",
     "text": [
      "100%|██████████| 40/40 [00:00<00:00, 135.69it/s]\n",
      "100%|██████████| 16/16 [00:00<00:00, 172.51it/s]\n"
     ]
    },
    {
     "name": "stdout",
     "output_type": "stream",
     "text": [
      "32 tensor(0.9180, device='cuda:0', dtype=torch.float64)\n"
     ]
    },
    {
     "name": "stderr",
     "output_type": "stream",
     "text": [
      "100%|██████████| 40/40 [00:00<00:00, 132.20it/s]\n",
      "100%|██████████| 16/16 [00:00<00:00, 167.43it/s]\n",
      "100%|██████████| 40/40 [00:00<00:00, 134.03it/s]\n",
      "100%|██████████| 16/16 [00:00<00:00, 172.09it/s]\n",
      "100%|██████████| 40/40 [00:00<00:00, 136.75it/s]\n",
      "100%|██████████| 16/16 [00:00<00:00, 174.21it/s]\n"
     ]
    },
    {
     "name": "stdout",
     "output_type": "stream",
     "text": [
      "35 tensor(0.9200, device='cuda:0', dtype=torch.float64)\n"
     ]
    },
    {
     "name": "stderr",
     "output_type": "stream",
     "text": [
      "100%|██████████| 40/40 [00:00<00:00, 112.92it/s]\n",
      "100%|██████████| 16/16 [00:00<00:00, 141.35it/s]\n",
      "100%|██████████| 40/40 [00:00<00:00, 100.77it/s]\n",
      "100%|██████████| 16/16 [00:00<00:00, 148.86it/s]\n"
     ]
    },
    {
     "name": "stdout",
     "output_type": "stream",
     "text": [
      "37 tensor(0.9280, device='cuda:0', dtype=torch.float64)\n"
     ]
    },
    {
     "name": "stderr",
     "output_type": "stream",
     "text": [
      "100%|██████████| 40/40 [00:00<00:00, 103.53it/s]\n",
      "100%|██████████| 16/16 [00:00<00:00, 137.44it/s]\n",
      "100%|██████████| 40/40 [00:00<00:00, 100.03it/s]\n",
      "100%|██████████| 16/16 [00:00<00:00, 132.54it/s]\n"
     ]
    },
    {
     "name": "stdout",
     "output_type": "stream",
     "text": [
      "Finished Shadow Model 18 Training with accuracy 0.928\n",
      "TAILLE dataset {'train': 2500, 'val': 500}\n",
      "DATASET SIZE {'train': 2500, 'val': 500}\n"
     ]
    },
    {
     "name": "stderr",
     "output_type": "stream",
     "text": [
      "100%|██████████| 40/40 [00:00<00:00, 111.27it/s]\n",
      "100%|██████████| 8/8 [00:00<00:00, 175.22it/s]\n"
     ]
    },
    {
     "name": "stdout",
     "output_type": "stream",
     "text": [
      "0 tensor(0.1780, device='cuda:0', dtype=torch.float64)\n"
     ]
    },
    {
     "name": "stderr",
     "output_type": "stream",
     "text": [
      "100%|██████████| 40/40 [00:00<00:00, 136.12it/s]\n",
      "100%|██████████| 8/8 [00:00<00:00, 168.19it/s]\n"
     ]
    },
    {
     "name": "stdout",
     "output_type": "stream",
     "text": [
      "1 tensor(0.1840, device='cuda:0', dtype=torch.float64)\n"
     ]
    },
    {
     "name": "stderr",
     "output_type": "stream",
     "text": [
      "100%|██████████| 40/40 [00:00<00:00, 137.69it/s]\n",
      "100%|██████████| 8/8 [00:00<00:00, 178.19it/s]\n"
     ]
    },
    {
     "name": "stdout",
     "output_type": "stream",
     "text": [
      "2 tensor(0.2040, device='cuda:0', dtype=torch.float64)\n"
     ]
    },
    {
     "name": "stderr",
     "output_type": "stream",
     "text": [
      "100%|██████████| 40/40 [00:00<00:00, 138.14it/s]\n",
      "100%|██████████| 8/8 [00:00<00:00, 166.11it/s]\n"
     ]
    },
    {
     "name": "stdout",
     "output_type": "stream",
     "text": [
      "3 tensor(0.2280, device='cuda:0', dtype=torch.float64)\n"
     ]
    },
    {
     "name": "stderr",
     "output_type": "stream",
     "text": [
      "100%|██████████| 40/40 [00:00<00:00, 138.22it/s]\n",
      "100%|██████████| 8/8 [00:00<00:00, 165.94it/s]\n"
     ]
    },
    {
     "name": "stdout",
     "output_type": "stream",
     "text": [
      "4 tensor(0.2580, device='cuda:0', dtype=torch.float64)\n"
     ]
    },
    {
     "name": "stderr",
     "output_type": "stream",
     "text": [
      "100%|██████████| 40/40 [00:00<00:00, 137.88it/s]\n",
      "100%|██████████| 8/8 [00:00<00:00, 142.14it/s]\n"
     ]
    },
    {
     "name": "stdout",
     "output_type": "stream",
     "text": [
      "5 tensor(0.3200, device='cuda:0', dtype=torch.float64)\n"
     ]
    },
    {
     "name": "stderr",
     "output_type": "stream",
     "text": [
      "100%|██████████| 40/40 [00:00<00:00, 102.61it/s]\n",
      "100%|██████████| 8/8 [00:00<00:00, 149.92it/s]\n"
     ]
    },
    {
     "name": "stdout",
     "output_type": "stream",
     "text": [
      "6 tensor(0.3680, device='cuda:0', dtype=torch.float64)\n"
     ]
    },
    {
     "name": "stderr",
     "output_type": "stream",
     "text": [
      "100%|██████████| 40/40 [00:00<00:00, 105.48it/s]\n",
      "100%|██████████| 8/8 [00:00<00:00, 149.77it/s]\n"
     ]
    },
    {
     "name": "stdout",
     "output_type": "stream",
     "text": [
      "7 tensor(0.4140, device='cuda:0', dtype=torch.float64)\n"
     ]
    },
    {
     "name": "stderr",
     "output_type": "stream",
     "text": [
      "100%|██████████| 40/40 [00:00<00:00, 104.03it/s]\n",
      "100%|██████████| 8/8 [00:00<00:00, 135.26it/s]\n"
     ]
    },
    {
     "name": "stdout",
     "output_type": "stream",
     "text": [
      "8 tensor(0.4720, device='cuda:0', dtype=torch.float64)\n"
     ]
    },
    {
     "name": "stderr",
     "output_type": "stream",
     "text": [
      "100%|██████████| 40/40 [00:00<00:00, 104.94it/s]\n",
      "100%|██████████| 8/8 [00:00<00:00, 137.30it/s]\n"
     ]
    },
    {
     "name": "stdout",
     "output_type": "stream",
     "text": [
      "9 tensor(0.5080, device='cuda:0', dtype=torch.float64)\n"
     ]
    },
    {
     "name": "stderr",
     "output_type": "stream",
     "text": [
      "100%|██████████| 40/40 [00:00<00:00, 101.47it/s]\n",
      "100%|██████████| 8/8 [00:00<00:00, 146.33it/s]\n"
     ]
    },
    {
     "name": "stdout",
     "output_type": "stream",
     "text": [
      "10 tensor(0.5580, device='cuda:0', dtype=torch.float64)\n"
     ]
    },
    {
     "name": "stderr",
     "output_type": "stream",
     "text": [
      "100%|██████████| 40/40 [00:00<00:00, 111.37it/s]\n",
      "100%|██████████| 8/8 [00:00<00:00, 163.60it/s]\n"
     ]
    },
    {
     "name": "stdout",
     "output_type": "stream",
     "text": [
      "11 tensor(0.5900, device='cuda:0', dtype=torch.float64)\n"
     ]
    },
    {
     "name": "stderr",
     "output_type": "stream",
     "text": [
      "100%|██████████| 40/40 [00:00<00:00, 133.81it/s]\n",
      "100%|██████████| 8/8 [00:00<00:00, 164.27it/s]\n"
     ]
    },
    {
     "name": "stdout",
     "output_type": "stream",
     "text": [
      "12 tensor(0.5980, device='cuda:0', dtype=torch.float64)\n"
     ]
    },
    {
     "name": "stderr",
     "output_type": "stream",
     "text": [
      "100%|██████████| 40/40 [00:00<00:00, 136.83it/s]\n",
      "100%|██████████| 8/8 [00:00<00:00, 163.64it/s]\n"
     ]
    },
    {
     "name": "stdout",
     "output_type": "stream",
     "text": [
      "13 tensor(0.6380, device='cuda:0', dtype=torch.float64)\n"
     ]
    },
    {
     "name": "stderr",
     "output_type": "stream",
     "text": [
      "100%|██████████| 40/40 [00:00<00:00, 137.16it/s]\n",
      "100%|██████████| 8/8 [00:00<00:00, 178.73it/s]\n"
     ]
    },
    {
     "name": "stdout",
     "output_type": "stream",
     "text": [
      "14 tensor(0.6520, device='cuda:0', dtype=torch.float64)\n"
     ]
    },
    {
     "name": "stderr",
     "output_type": "stream",
     "text": [
      "100%|██████████| 40/40 [00:00<00:00, 135.94it/s]\n",
      "100%|██████████| 8/8 [00:00<00:00, 178.04it/s]\n"
     ]
    },
    {
     "name": "stdout",
     "output_type": "stream",
     "text": [
      "15 tensor(0.6700, device='cuda:0', dtype=torch.float64)\n"
     ]
    },
    {
     "name": "stderr",
     "output_type": "stream",
     "text": [
      "100%|██████████| 40/40 [00:00<00:00, 138.48it/s]\n",
      "100%|██████████| 8/8 [00:00<00:00, 149.81it/s]\n",
      "100%|██████████| 40/40 [00:00<00:00, 105.22it/s]\n",
      "100%|██████████| 8/8 [00:00<00:00, 153.36it/s]\n"
     ]
    },
    {
     "name": "stdout",
     "output_type": "stream",
     "text": [
      "17 tensor(0.6840, device='cuda:0', dtype=torch.float64)\n"
     ]
    },
    {
     "name": "stderr",
     "output_type": "stream",
     "text": [
      "100%|██████████| 40/40 [00:00<00:00, 103.88it/s]\n",
      "100%|██████████| 8/8 [00:00<00:00, 141.87it/s]\n"
     ]
    },
    {
     "name": "stdout",
     "output_type": "stream",
     "text": [
      "18 tensor(0.6940, device='cuda:0', dtype=torch.float64)\n"
     ]
    },
    {
     "name": "stderr",
     "output_type": "stream",
     "text": [
      "100%|██████████| 40/40 [00:00<00:00, 107.79it/s]\n",
      "100%|██████████| 8/8 [00:00<00:00, 142.18it/s]\n"
     ]
    },
    {
     "name": "stdout",
     "output_type": "stream",
     "text": [
      "19 tensor(0.7260, device='cuda:0', dtype=torch.float64)\n"
     ]
    },
    {
     "name": "stderr",
     "output_type": "stream",
     "text": [
      "100%|██████████| 40/40 [00:00<00:00, 118.94it/s]\n",
      "100%|██████████| 8/8 [00:00<00:00, 178.98it/s]\n"
     ]
    },
    {
     "name": "stdout",
     "output_type": "stream",
     "text": [
      "20 tensor(0.7520, device='cuda:0', dtype=torch.float64)\n"
     ]
    },
    {
     "name": "stderr",
     "output_type": "stream",
     "text": [
      "100%|██████████| 40/40 [00:00<00:00, 137.77it/s]\n",
      "100%|██████████| 8/8 [00:00<00:00, 195.53it/s]\n"
     ]
    },
    {
     "name": "stdout",
     "output_type": "stream",
     "text": [
      "21 tensor(0.7540, device='cuda:0', dtype=torch.float64)\n"
     ]
    },
    {
     "name": "stderr",
     "output_type": "stream",
     "text": [
      "100%|██████████| 40/40 [00:00<00:00, 138.09it/s]\n",
      "100%|██████████| 8/8 [00:00<00:00, 171.53it/s]\n"
     ]
    },
    {
     "name": "stdout",
     "output_type": "stream",
     "text": [
      "22 tensor(0.8080, device='cuda:0', dtype=torch.float64)\n"
     ]
    },
    {
     "name": "stderr",
     "output_type": "stream",
     "text": [
      "100%|██████████| 40/40 [00:00<00:00, 137.36it/s]\n",
      "100%|██████████| 8/8 [00:00<00:00, 173.23it/s]\n"
     ]
    },
    {
     "name": "stdout",
     "output_type": "stream",
     "text": [
      "23 tensor(0.8100, device='cuda:0', dtype=torch.float64)\n"
     ]
    },
    {
     "name": "stderr",
     "output_type": "stream",
     "text": [
      "100%|██████████| 40/40 [00:00<00:00, 134.52it/s]\n",
      "100%|██████████| 8/8 [00:00<00:00, 183.13it/s]\n",
      "100%|██████████| 40/40 [00:00<00:00, 135.94it/s]\n",
      "100%|██████████| 8/8 [00:00<00:00, 149.90it/s]\n"
     ]
    },
    {
     "name": "stdout",
     "output_type": "stream",
     "text": [
      "25 tensor(0.8340, device='cuda:0', dtype=torch.float64)\n"
     ]
    },
    {
     "name": "stderr",
     "output_type": "stream",
     "text": [
      "100%|██████████| 40/40 [00:00<00:00, 104.34it/s]\n",
      "100%|██████████| 8/8 [00:00<00:00, 145.56it/s]\n"
     ]
    },
    {
     "name": "stdout",
     "output_type": "stream",
     "text": [
      "26 tensor(0.8460, device='cuda:0', dtype=torch.float64)\n"
     ]
    },
    {
     "name": "stderr",
     "output_type": "stream",
     "text": [
      "100%|██████████| 40/40 [00:00<00:00, 107.50it/s]\n",
      "100%|██████████| 8/8 [00:00<00:00, 151.48it/s]\n"
     ]
    },
    {
     "name": "stdout",
     "output_type": "stream",
     "text": [
      "27 tensor(0.8520, device='cuda:0', dtype=torch.float64)\n"
     ]
    },
    {
     "name": "stderr",
     "output_type": "stream",
     "text": [
      "100%|██████████| 40/40 [00:00<00:00, 105.55it/s]\n",
      "100%|██████████| 8/8 [00:00<00:00, 138.20it/s]\n",
      "100%|██████████| 40/40 [00:00<00:00, 108.92it/s]\n",
      "100%|██████████| 8/8 [00:00<00:00, 136.59it/s]\n",
      "100%|██████████| 40/40 [00:00<00:00, 107.35it/s]\n",
      "100%|██████████| 8/8 [00:00<00:00, 179.78it/s]\n"
     ]
    },
    {
     "name": "stdout",
     "output_type": "stream",
     "text": [
      "30 tensor(0.8660, device='cuda:0', dtype=torch.float64)\n"
     ]
    },
    {
     "name": "stderr",
     "output_type": "stream",
     "text": [
      "100%|██████████| 40/40 [00:00<00:00, 128.82it/s]\n",
      "100%|██████████| 8/8 [00:00<00:00, 167.09it/s]\n"
     ]
    },
    {
     "name": "stdout",
     "output_type": "stream",
     "text": [
      "31 tensor(0.8760, device='cuda:0', dtype=torch.float64)\n"
     ]
    },
    {
     "name": "stderr",
     "output_type": "stream",
     "text": [
      "100%|██████████| 40/40 [00:00<00:00, 140.57it/s]\n",
      "100%|██████████| 8/8 [00:00<00:00, 177.76it/s]\n",
      "100%|██████████| 40/40 [00:00<00:00, 136.58it/s]\n",
      "100%|██████████| 8/8 [00:00<00:00, 178.22it/s]\n",
      "100%|██████████| 40/40 [00:00<00:00, 139.75it/s]\n",
      "100%|██████████| 8/8 [00:00<00:00, 169.67it/s]\n"
     ]
    },
    {
     "name": "stdout",
     "output_type": "stream",
     "text": [
      "34 tensor(0.8820, device='cuda:0', dtype=torch.float64)\n"
     ]
    },
    {
     "name": "stderr",
     "output_type": "stream",
     "text": [
      "100%|██████████| 40/40 [00:00<00:00, 138.59it/s]\n",
      "100%|██████████| 8/8 [00:00<00:00, 175.85it/s]\n",
      "100%|██████████| 40/40 [00:00<00:00, 107.27it/s]\n",
      "100%|██████████| 8/8 [00:00<00:00, 142.68it/s]\n"
     ]
    },
    {
     "name": "stdout",
     "output_type": "stream",
     "text": [
      "36 tensor(0.8840, device='cuda:0', dtype=torch.float64)\n"
     ]
    },
    {
     "name": "stderr",
     "output_type": "stream",
     "text": [
      "100%|██████████| 40/40 [00:00<00:00, 105.83it/s]\n",
      "100%|██████████| 8/8 [00:00<00:00, 156.60it/s]\n"
     ]
    },
    {
     "name": "stdout",
     "output_type": "stream",
     "text": [
      "37 tensor(0.8880, device='cuda:0', dtype=torch.float64)\n"
     ]
    },
    {
     "name": "stderr",
     "output_type": "stream",
     "text": [
      "100%|██████████| 40/40 [00:00<00:00, 108.91it/s]\n",
      "100%|██████████| 8/8 [00:00<00:00, 180.68it/s]\n",
      "100%|██████████| 40/40 [00:00<00:00, 136.63it/s]\n",
      "100%|██████████| 8/8 [00:00<00:00, 169.37it/s]"
     ]
    },
    {
     "name": "stdout",
     "output_type": "stream",
     "text": [
      "39 tensor(0.8900, device='cuda:0', dtype=torch.float64)\n",
      "Finished Shadow Model 19 Training with accuracy 0.89\n",
      "Finished Shadow Model Training\n"
     ]
    },
    {
     "name": "stderr",
     "output_type": "stream",
     "text": [
      "\n"
     ]
    }
   ],
   "source": [
    "data_train_set = []\n",
    "label_train_set = []\n",
    "\n",
    "for num_model_shadow in range(20):\n",
    "    ############# Train 20 shadow models each 40 epochs and get their output dataset and label_set for MIA\n",
    "    ############# Store them in data_train_set and label_train_set\n",
    "    ############# Shadow model can also use Net_mnist\n",
    "    ############# The training optimization setting and scheduler can following the target model's setting\n",
    "    ############# Point 5\n",
    "    data_train_shadow = custum_MNIST(False, num_model_shadow, '../data', train=True, download=True, transform=transforms.Compose([\n",
    "                        transforms.ToTensor(),\n",
    "                        transforms.Normalize((0.1307,), (0.3081,))\n",
    "                    ]))\n",
    "    data_test_shadow = custum_MNIST(False, num_model_shadow, '../data', train=False, transform=transforms.Compose([\n",
    "                    transforms.ToTensor(),\n",
    "                    transforms.Normalize((0.1307,), (0.3081,))\n",
    "                ]))\n",
    "\n",
    "    criterion = nn.CrossEntropyLoss()\n",
    "    train_loader_shadow = torch.utils.data.DataLoader(data_train_shadow, batch_size=64, shuffle=True)\n",
    "    test_loader_shadow = torch.utils.data.DataLoader(data_test_shadow, batch_size=64, shuffle=True)\n",
    "    dataloaders_shadow = {\"train\": train_loader_shadow, \"val\": test_loader_shadow}\n",
    "    dataset_sizes_shadow = {\"train\": len(data_train_shadow), \"val\": len(data_test_shadow)}\n",
    "    print(\"TAILLE dataset\", dataset_sizes_shadow)\n",
    "    model_shadow = Net_mnist().to(device)\n",
    "    optimizer = optim.SGD(model_shadow.parameters(), lr=0.001, momentum=0.5)\n",
    "    exp_lr_scheduler = None\n",
    "\n",
    "    model_shadow, best_acc_shadow, data_sd_model, label_sd_model = train(model_shadow, criterion, optimizer, exp_lr_scheduler, dataloaders_shadow, dataset_sizes_shadow,\n",
    "                        num_epochs=40)\n",
    "    data_train_set.append(data_sd_model)\n",
    "    label_train_set.append(label_sd_model)\n",
    "    print(f\"Finished Shadow Model {num_model_shadow} Training with accuracy {best_acc_shadow}\")\n",
    "\n",
    "\n",
    "print(\"Finished Shadow Model Training\")"
   ]
  },
  {
   "attachments": {},
   "cell_type": "markdown",
   "id": "9655e94d",
   "metadata": {},
   "source": [
    "<h3>Process datasets</h3>"
   ]
  },
  {
   "cell_type": "code",
   "execution_count": 6,
   "id": "dc887e8d",
   "metadata": {},
   "outputs": [
    {
     "name": "stdout",
     "output_type": "stream",
     "text": [
      "Finished Shadow Dataset Generation\n"
     ]
    }
   ],
   "source": [
    "data_train_set = np.concatenate(data_train_set)\n",
    "label_train_set = np.concatenate(label_train_set)\n",
    "data_train_set, label_train_set = shuffle(data_train_set, label_train_set, random_state=42)\n",
    "data_test_set, label_test_set = shuffle(data_test_set, label_test_set, random_state=42)\n",
    "print(\"Finished Shadow Dataset Generation\")"
   ]
  },
  {
   "attachments": {},
   "cell_type": "markdown",
   "id": "e8a1b1c2",
   "metadata": {},
   "source": [
    "<h3>Use lightgbm to attack</h3>"
   ]
  },
  {
   "cell_type": "code",
   "execution_count": 7,
   "id": "fca156bb",
   "metadata": {},
   "outputs": [
    {
     "name": "stdout",
     "output_type": "stream",
     "text": [
      "Start Fit\n",
      "[LightGBM] [Info] Number of positive: 50000, number of negative: 40000\n",
      "[LightGBM] [Info] Auto-choosing col-wise multi-threading, the overhead of testing was 0.000881 seconds.\n",
      "You can set `force_col_wise=true` to remove the overhead.\n",
      "[LightGBM] [Info] Total Bins 2550\n",
      "[LightGBM] [Info] Number of data points in the train set: 90000, number of used features: 10\n",
      "[LightGBM] [Info] [binary:BoostFromScore]: pavg=0.555556 -> initscore=0.223144\n",
      "[LightGBM] [Info] Start training from score 0.223144\n",
      "Finish Fit\n"
     ]
    }
   ],
   "source": [
    "import lightgbm as lgb\n",
    "model = lgb.LGBMClassifier(objective='binary', reg_lambda=10, n_estimators=10000)\n",
    "print(\"Start Fit\")\n",
    "model.fit(data_train_set, label_train_set)\n",
    "print(\"Finish Fit\")\n",
    "y_pred_lgbm = model.predict(data_test_set)"
   ]
  },
  {
   "attachments": {},
   "cell_type": "markdown",
   "id": "ebf33912",
   "metadata": {},
   "source": [
    "<h3>Get acc, should larger than 85%</h3>"
   ]
  },
  {
   "cell_type": "code",
   "execution_count": 8,
   "id": "fbd584a4",
   "metadata": {},
   "outputs": [
    {
     "name": "stdout",
     "output_type": "stream",
     "text": [
      "0.8918\n"
     ]
    }
   ],
   "source": [
    "print((y_pred_lgbm==label_test_set).sum()/(label_test_set).sum())"
   ]
  },
  {
   "cell_type": "code",
   "execution_count": null,
   "id": "73542a4b",
   "metadata": {},
   "outputs": [],
   "source": []
  },
  {
   "cell_type": "code",
   "execution_count": null,
   "id": "993ddb59",
   "metadata": {},
   "outputs": [],
   "source": []
  },
  {
   "cell_type": "code",
   "execution_count": null,
   "id": "fb0e9c47",
   "metadata": {},
   "outputs": [],
   "source": []
  }
 ],
 "metadata": {
  "kernelspec": {
   "display_name": "Python 3",
   "language": "python",
   "name": "python3"
  },
  "language_info": {
   "codemirror_mode": {
    "name": "ipython",
    "version": 3
   },
   "file_extension": ".py",
   "mimetype": "text/x-python",
   "name": "python",
   "nbconvert_exporter": "python",
   "pygments_lexer": "ipython3",
   "version": "3.10.11"
  }
 },
 "nbformat": 4,
 "nbformat_minor": 5
}
