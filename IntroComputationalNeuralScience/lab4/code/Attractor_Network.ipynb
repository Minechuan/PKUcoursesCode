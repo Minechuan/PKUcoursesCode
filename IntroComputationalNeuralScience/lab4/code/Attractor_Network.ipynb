{
 "cells": [
  {
   "cell_type": "markdown",
   "metadata": {
    "id": "AE7C80958B5D40239D6DE4DC4192B0C0",
    "jupyter": {},
    "notebookId": "655933bb671b03a7f562adc0",
    "runtime": {
     "execution_status": null,
     "is_visible": false,
     "status": "default"
    },
    "scrolled": false,
    "slideshow": {
     "slide_type": "slide"
    },
    "tags": []
   },
   "source": [
    "# Attractor Neural Network  \n",
    "## Amari-Hopfield Network  \n",
    "Let's begin from studying the one of the most classic attractor neural network model -- **Amari-Hopfield Network**.  \n",
    "\n",
    "This network consists of $N$ neurons, each state is denoted as **$S_i (i=1,2,...,N)$**. This model assumes the neuron can only be at **two binary states, i.e., $S_i = +1 / -1$**, representing the neuron can only be either activated or silenced at one time. The neurons are recurrently connected with each other, the connection strength can be expressed as a matrix **$W$**.  \n",
    "The update rule of the network is expressed as,  \n",
    "$$S_i(t+1) = sign(\\sum_{j=1}^N W_{ij}S_j(t) - \\theta)$$  \n",
    "where $\\sum_{j=1}^N W_{ij}S_j(t)$ represents the total recurrent input current the $i_{th}$ neuron receives at time $t$, which in turn determines the neuron state in the next time. Specifically, if the recurrent input exceeds a certain threshold $\\theta$, the neuron state $S_i=1$, otherwise $S_i = -1$.  \n",
    "It should be noted that, the update of different neurons are asynchoronous, which means that at each time only one neuron state will change.  \n",
    "\n",
    "Amari and Hopfield proved that, to store $n$ different **patterns $\\xi^\\mu (\\mu = 1,2,...n)$** as attractor states in this network, the synaptic weights between i-th an j-th neuron $W_{ij}$ should be:  \n",
    "$$W_{ij} = \\sum_{\\mu=1}^n \\xi_i^\\mu \\xi_j^\\mu$$  \n",
    "where $W_{ii}=0$, representing that neurons do not connect with itself.  \n",
    "\n",
    "The energy function $E$ is expressed as,  \n",
    "$$ E = -\\frac{1}{2} \\sum_{i,j}W_{ij} S_i S_j + \\theta \\sum_i S_i"
   ]
  },
  {
   "cell_type": "markdown",
   "metadata": {
    "id": "3D2D4ACAF9AD4C7991D88335E5F46B27",
    "jupyter": {},
    "notebookId": "655933bb671b03a7f562adc0",
    "runtime": {
     "execution_status": null,
     "is_visible": false,
     "status": "default"
    },
    "scrolled": false,
    "slideshow": {
     "slide_type": "slide"
    },
    "tags": []
   },
   "source": [
    "## Costomize Amari-Hopfield Network"
   ]
  },
  {
   "cell_type": "code",
   "execution_count": 5,
   "metadata": {
    "collapsed": false,
    "id": "58FC41DEBDE54C59948C2A3D5FFD2713",
    "jupyter": {},
    "notebookId": "655933bb671b03a7f562adc0",
    "scrolled": false,
    "slideshow": {
     "slide_type": "slide"
    },
    "tags": [],
    "trusted": true
   },
   "outputs": [],
   "source": [
    "import numpy as np\n",
    "import matplotlib.pyplot as plt\n",
    "\n",
    "import brainpy as bp\n",
    "import brainpy.math as bm\n",
    "\n",
    "class HopfieldNet(bp.DynamicalSystem):\n",
    "  def __init__(self, num):\n",
    "    super().__init__()\n",
    "    self.num = num\n",
    "    self.weight = bm.Variable(bm.zeros([num, num]))\n",
    "\n",
    "  # Train function for the Hopfield net. (By updating the weights)\n",
    "  @bm.cls_jit\n",
    "  def store_patterns(self, samples):\n",
    "    # data: An array with [d, N]. 'd' is the number of data samples used to train. (In this case 2)\n",
    "    assert samples.ndim == 2\n",
    "    assert samples.shape[1] == self.num\n",
    "\n",
    "    # Loop through all data samples.\n",
    "    bm.for_loop(self.store, samples)\n",
    "\n",
    "    # Hopfield nets are a form of RNNs, albeit without self-connections, and so,\n",
    "    # we need to make sure that the diagonal elements of the final weight matrix are zero.\n",
    "    bm.fill_diagonal(self.weight, 0)\n",
    "\n",
    "  # Storing one sample pattern\n",
    "  @bm.cls_jit\n",
    "  def store(self, sample):\n",
    "    # sample is an array with the shape of (N,)\n",
    "    assert self.num == sample.shape[0]\n",
    "\n",
    "    # Data cross-product gives neural hopfield update rule.\n",
    "    w_update = bm.outer(sample, sample)\n",
    "\n",
    "    # Sum all pattern cross-products.\n",
    "    self.weight += w_update\n",
    "\n",
    "  def async_recover(self, sample, n, energy=False):\n",
    "    # n: the number of iterations to recover\n",
    "    # energy: calculate the energy function\n",
    "    idxs = bm.random.randint(0, self.num, n)  # the sampled positions\n",
    "    # JIT compilation requires to label the value to be changed as Variable\n",
    "    sample = bm.Variable(sample)\n",
    "\n",
    "    def recover(i):\n",
    "      # i: the position to update\n",
    "      # update\n",
    "      sample[i] = bm.sign(bm.inner(self.weight[i], sample))\n",
    "      # return energy\n",
    "      if energy:\n",
    "        energy_trace = self.energy(sample)\n",
    "        return energy_trace\n",
    "    r = bm.for_loop(recover, idxs, progress_bar=True) # for loop JIT\n",
    "    return (sample, r) if energy else sample\n",
    "\n",
    "    r = bm.for_loop(recover, idxs)  # for loop JIT\n",
    "    return (sample, r) if energy else sample\n",
    "\n",
    "  # This function computes the Hopfield nets' energy.\n",
    "  def energy(self, x):\n",
    "    # x: [N] data vector\n",
    "    return bm.inner(- x @ self.weight, x)\n"
   ]
  },
  {
   "cell_type": "markdown",
   "metadata": {
    "id": "E51E8FD1EB5B441894011074809C8158",
    "jupyter": {},
    "notebookId": "655933bb671b03a7f562adc0",
    "runtime": {
     "execution_status": null,
     "is_visible": false,
     "status": "default"
    },
    "scrolled": false,
    "slideshow": {
     "slide_type": "slide"
    },
    "tags": []
   },
   "source": [
    "## Simulating the Amari-Hopfield Network  \n",
    "Now let us test its ability to store patterns and steadily retrieve it as attractor states!  \n",
    "### Data for testing  \n",
    "Now we are going to load the data in. We have already saved off two images, a ‘9’ and a ‘4’, to keep things simple for us. We also reshape them into their native [28 x 28] size, so that we can later corrupt them in this domain, and then reconstruct them.  \n",
    "\n",
    "The data can be downloaded in this url: https://github.com/brainpy/examples/blob/main/attractors/data/data_to_train_on.npy"
   ]
  },
  {
   "cell_type": "code",
   "execution_count": 6,
   "metadata": {
    "collapsed": false,
    "id": "DA2DBE6217554511838A31DF77561D3E",
    "jupyter": {},
    "notebookId": "655933bb671b03a7f562adc0",
    "scrolled": false,
    "slideshow": {
     "slide_type": "slide"
    },
    "tags": [],
    "trusted": true
   },
   "outputs": [
    {
     "data": {
      "text/plain": [
       "(2, 784)"
      ]
     },
     "execution_count": 6,
     "metadata": {},
     "output_type": "execute_result"
    }
   ],
   "source": [
    "data = (np.load('/home/mw/project/data_to_train_on.npy')).astype(np.float32)\n",
    "\n",
    "data.shape"
   ]
  },
  {
   "cell_type": "markdown",
   "metadata": {
    "id": "BFC833B398A64D83AADDB9851AC157C3",
    "jupyter": {},
    "notebookId": "655933bb671b03a7f562adc0",
    "runtime": {
     "execution_status": null,
     "is_visible": false,
     "status": "default"
    },
    "scrolled": false,
    "slideshow": {
     "slide_type": "slide"
    },
    "tags": []
   },
   "source": [
    "What does our data look like? Well they are just two binary images, showing a figure ‘9’, and a figure ‘4’. Let’s image them just to take a peek at what they look like."
   ]
  },
  {
   "cell_type": "code",
   "execution_count": 7,
   "metadata": {
    "collapsed": false,
    "id": "73C1F07D382E4C1DA46C75947ABC57BB",
    "jupyter": {},
    "notebookId": "655933bb671b03a7f562adc0",
    "scrolled": false,
    "slideshow": {
     "slide_type": "slide"
    },
    "tags": [],
    "trusted": true
   },
   "outputs": [
    {
     "data": {
      "text/html": [
       "<img src=\"https://cdn.kesci.com/upload/rt/73C1F07D382E4C1DA46C75947ABC57BB/s4caqqyudw.png\">"
      ],
      "text/plain": [
       "<Figure size 1080x540 with 2 Axes>"
      ]
     },
     "metadata": {
      "needs_background": "light"
     },
     "output_type": "display_data"
    }
   ],
   "source": [
    "# Show the training data - it's just two different samples that we are going to want the Hopfield net to store.\n",
    "fig, ax = plt.subplots(nrows=1, ncols=2, figsize=(15,7.5))\n",
    "ax[0].imshow(data[0].reshape(28, 28), interpolation='None', cmap='winter')\n",
    "ax[1].imshow(data[1].reshape(28, 28), interpolation='None', cmap='winter')\n",
    "plt.show()"
   ]
  },
  {
   "cell_type": "markdown",
   "metadata": {
    "id": "697CAB4125074399A1E81DB80E286145",
    "jupyter": {},
    "notebookId": "655933bb671b03a7f562adc0",
    "runtime": {
     "execution_status": null,
     "is_visible": false,
     "status": "default"
    },
    "scrolled": false,
    "slideshow": {
     "slide_type": "slide"
    },
    "tags": []
   },
   "source": [
    "We will use this function to take in a good image, and corrupt it, based on two types of noise, either bernouli noise, (where every pixel is randomly flipped in sign), or masking noise, where we blot out entire sections of the image. Our Hopfield net will be able to recover the original image via energy minimization as we will see."
   ]
  },
  {
   "cell_type": "code",
   "execution_count": 8,
   "metadata": {
    "collapsed": false,
    "id": "24E33DC6623144C09CC9DCED0862D2D3",
    "jupyter": {},
    "notebookId": "655933bb671b03a7f562adc0",
    "scrolled": false,
    "slideshow": {
     "slide_type": "slide"
    },
    "tags": [],
    "trusted": true
   },
   "outputs": [],
   "source": [
    "def add_bernouli_noise(img, prob=0.1, mask_value=1.):\n",
    "    rand = np.random.rand(*img.shape) < prob\n",
    "    return np.where(rand, mask_value, img)\n",
    "def add_mask_noise(img, mask_value=-1, mask_matrix=np.zeros((2,2))):\n",
    "    img = np.copy(img)\n",
    "    img[mask_matrix[0,0]: mask_matrix[0,1], mask_matrix[1,0]: mask_matrix[1,1]] = mask_value\n",
    "    return img"
   ]
  },
  {
   "cell_type": "markdown",
   "metadata": {
    "id": "382BE7D473D34D619B3E882B33F82844",
    "jupyter": {},
    "notebookId": "655933bb671b03a7f562adc0",
    "runtime": {
     "execution_status": null,
     "is_visible": false,
     "status": "default"
    },
    "scrolled": false,
    "slideshow": {
     "slide_type": "slide"
    },
    "tags": []
   },
   "source": [
    "### Training  \n",
    "OK this is where the fun begins! We are now going to train our Hopfield net. The objective is simple: We want it to store those two patterns we are feeding it, such that a faithful reconstruction can be performed, when corrupted versions of either of those inputs is given later in the future."
   ]
  },
  {
   "cell_type": "code",
   "execution_count": 9,
   "metadata": {
    "collapsed": false,
    "id": "7D53BF5368D44B068A69ABC6B7CA5BC9",
    "jupyter": {},
    "notebookId": "655933bb671b03a7f562adc0",
    "scrolled": false,
    "slideshow": {
     "slide_type": "slide"
    },
    "tags": [],
    "trusted": true
   },
   "outputs": [],
   "source": [
    "# Train the Hopfield net!\n",
    "\n",
    "# So there are as many neurons as pixels per pattern, and this is what this computes.\n",
    "net = HopfieldNet(num=data.shape[1])\n",
    "\n",
    "# Great - we are all set - now we train!\n",
    "net.store_patterns(data)"
   ]
  },
  {
   "cell_type": "markdown",
   "metadata": {
    "id": "DB8637A8B97F43199AB4C2174567DABC",
    "jupyter": {},
    "notebookId": "655933bb671b03a7f562adc0",
    "runtime": {
     "execution_status": null,
     "is_visible": false,
     "status": "default"
    },
    "scrolled": false,
    "slideshow": {
     "slide_type": "slide"
    },
    "tags": []
   },
   "source": [
    "Now at this point, we have a trained weight matrix, encoded with the pattern ‘4’ and pattern ‘9’. (We will see later on that Hopfield nets aren’t that memory efficient, but it’s still amazing what they are capable of). Now remember - the objective here is simple: We want it to store those two patterns we are feeding it, such that faithful reconstruction can later be performed, when corrupted versions of either of those inputs are presented. But does it work? Let’s find out!).  \n",
    "\n",
    "### Testing  \n",
    "We can corrupt our data in many ways - and here, we can add two types of noise: Bernouli noise, (where every pixel is flipped in sign with a certain probability) and/or masking noise, (where we simply blot out certain regions with one particular sign)."
   ]
  },
  {
   "cell_type": "code",
   "execution_count": 10,
   "metadata": {
    "collapsed": false,
    "id": "7638066803924A6C95207398A74E0BF2",
    "jupyter": {},
    "notebookId": "655933bb671b03a7f562adc0",
    "scrolled": false,
    "slideshow": {
     "slide_type": "slide"
    },
    "tags": [],
    "trusted": true
   },
   "outputs": [
    {
     "data": {
      "text/html": [
       "<img src=\"https://cdn.kesci.com/upload/rt/7638066803924A6C95207398A74E0BF2/s4caqqd3s8.png\">"
      ],
      "text/plain": [
       "<Figure size 1080x540 with 2 Axes>"
      ]
     },
     "metadata": {
      "needs_background": "light"
     },
     "output_type": "display_data"
    }
   ],
   "source": [
    "# Let's pick one the image '4', and corrupt it.\n",
    "image = data[1]\n",
    "\n",
    "# Corrupt the image with bernouli noise.\n",
    "corrupted_image = add_bernouli_noise(image, prob=0.1)\n",
    "\n",
    "# Let's see the original image, as well as the corrupted version.\n",
    "fig, ax = plt.subplots(nrows=1, ncols=2, figsize=(15,7.5))\n",
    "ax[0].imshow(image.reshape(28, 28), interpolation='None', cmap='winter')\n",
    "ax[1].imshow(corrupted_image.reshape(28, 28), interpolation='None', cmap='winter')\n",
    "plt.show()"
   ]
  },
  {
   "cell_type": "markdown",
   "metadata": {
    "id": "6F1E7921841040C2A3085A4B7FF6157D",
    "jupyter": {},
    "notebookId": "655933bb671b03a7f562adc0",
    "runtime": {
     "execution_status": null,
     "is_visible": false,
     "status": "default"
    },
    "scrolled": false,
    "slideshow": {
     "slide_type": "slide"
    },
    "tags": []
   },
   "source": [
    "This is the moment of truth: With a corrupted input now at hand, we then present this to our trained net, and hope that it denoises it. We do so by picking pixels at random, and then evaluating their activation functions, based on the current input configuration, (corrupted image), and the set weights, (that do not change here, as the net has already been trained).  \n",
    "\n",
    "Since the Hopfield net stores patterns as minimal enery states, every iteration where we update a neuron/pixel should place the net into a lower energy configuration - that is - closer to the original pattern we stored - the weights are designed to do so after all."
   ]
  },
  {
   "cell_type": "code",
   "execution_count": 11,
   "metadata": {
    "collapsed": false,
    "id": "28608C583F86441D9DDCCE24DA553D23",
    "jupyter": {},
    "notebookId": "655933bb671b03a7f562adc0",
    "scrolled": false,
    "slideshow": {
     "slide_type": "slide"
    },
    "tags": [],
    "trusted": true
   },
   "outputs": [
    {
     "data": {
      "application/vnd.jupyter.widget-view+json": {
       "model_id": "a1ed3eff7d7444589aebf7542b84663e",
       "version_major": 2,
       "version_minor": 0
      },
      "text/plain": [
       "  0%|          | 0/5000 [00:00<?, ?it/s]"
      ]
     },
     "metadata": {},
     "output_type": "display_data"
    },
    {
     "data": {
      "text/html": [
       "<img src=\"https://cdn.kesci.com/upload/rt/28608C583F86441D9DDCCE24DA553D23/s4caqsbtdk.png\">"
      ],
      "text/plain": [
       "<Figure size 1080x540 with 2 Axes>"
      ]
     },
     "metadata": {
      "needs_background": "light"
     },
     "output_type": "display_data"
    }
   ],
   "source": [
    "\n",
    "# The number of iterations where we randomly update neurons/pixels\n",
    "n_iterations = 5000\n",
    "\n",
    "# Loop through, and recover the image from it's corrupted self.\n",
    "# energy_vec: This will store the energy of the Hopfield net.\n",
    "cleaned_image, energy_vec = net.async_recover(corrupted_image, n_iterations, True)\n",
    "\n",
    "# (For imaging purposes)\n",
    "fig, ax = plt.subplots(nrows = 1, ncols = 2, figsize=(15, 7.5))\n",
    "ax[0].imshow(corrupted_image.reshape(28, 28), interpolation='None', cmap='winter')\n",
    "ax[0].set_title('Corrupted Image')\n",
    "ax[1].imshow(cleaned_image.reshape(28, 28), interpolation='None', cmap='winter')\n",
    "ax[1].set_title('Recovered Image')\n",
    "plt.show()"
   ]
  },
  {
   "cell_type": "markdown",
   "metadata": {
    "id": "9F79025C5DF948DBA1C44438214082CE",
    "jupyter": {},
    "notebookId": "655933bb671b03a7f562adc0",
    "runtime": {
     "execution_status": null,
     "is_visible": false,
     "status": "default"
    },
    "scrolled": false,
    "slideshow": {
     "slide_type": "slide"
    },
    "tags": []
   },
   "source": [
    "The Hopfield energy plotted as the recovery iteration index is shown below. We can see that as the recovery process was being run, the total net energy was being decreased."
   ]
  },
  {
   "cell_type": "code",
   "execution_count": 12,
   "metadata": {
    "collapsed": false,
    "id": "2DD6DC1F885A452D878AE54EE36805E7",
    "jupyter": {},
    "notebookId": "655933bb671b03a7f562adc0",
    "scrolled": false,
    "slideshow": {
     "slide_type": "slide"
    },
    "tags": [],
    "trusted": true
   },
   "outputs": [
    {
     "data": {
      "text/html": [
       "<img src=\"https://cdn.kesci.com/upload/rt/2DD6DC1F885A452D878AE54EE36805E7/s4caqsi2u6.png\">"
      ],
      "text/plain": [
       "<Figure size 432x288 with 1 Axes>"
      ]
     },
     "metadata": {
      "needs_background": "light"
     },
     "output_type": "display_data"
    }
   ],
   "source": [
    "# Plot the Hopfield energy during recovery\n",
    "plt.plot(bm.as_numpy(energy_vec))\n",
    "plt.grid('on')\n",
    "plt.show()"
   ]
  },
  {
   "cell_type": "markdown",
   "metadata": {
    "id": "AA4A7F241B244CC3B3336DDA638DF6CB",
    "jupyter": {},
    "notebookId": "655933bb671b03a7f562adc0",
    "runtime": {
     "execution_status": null,
     "is_visible": false,
     "status": "default"
    },
    "scrolled": false,
    "slideshow": {
     "slide_type": "slide"
    },
    "tags": []
   },
   "source": [
    "Our original pattern has been very nicely recovered. What about masking noise and bernouli noise? "
   ]
  },
  {
   "cell_type": "code",
   "execution_count": 13,
   "metadata": {
    "collapsed": false,
    "id": "BB10BF57BE1B415C93995B5106B6DC21",
    "jupyter": {},
    "notebookId": "655933bb671b03a7f562adc0",
    "scrolled": false,
    "slideshow": {
     "slide_type": "slide"
    },
    "tags": [],
    "trusted": true
   },
   "outputs": [
    {
     "data": {
      "text/html": [
       "<img src=\"https://cdn.kesci.com/upload/rt/BB10BF57BE1B415C93995B5106B6DC21/s4caqsf282.png\">"
      ],
      "text/plain": [
       "<Figure size 1080x540 with 2 Axes>"
      ]
     },
     "metadata": {
      "needs_background": "light"
     },
     "output_type": "display_data"
    }
   ],
   "source": [
    "# Masking and Bernouli noise\n",
    "mask_matrix = np.asarray([[7, 20], [8, 25]], dtype=np.int32)\n",
    "\n",
    "image = data[0].reshape(28, 28)\n",
    "corrupted_image = add_mask_noise(image, mask_value=1, mask_matrix=mask_matrix)\n",
    "corrupted_image = add_bernouli_noise(corrupted_image, prob=0.1)\n",
    "\n",
    "fig, ax = plt.subplots(nrows=1, ncols=2, figsize=(15,7.5))\n",
    "ax[0].imshow(image, interpolation='None', cmap='winter')\n",
    "ax[1].imshow(corrupted_image, interpolation='None', cmap='winter')\n",
    "plt.show()"
   ]
  },
  {
   "cell_type": "markdown",
   "metadata": {
    "id": "4054D52137DA4F2BB705581EE1EB596B",
    "jupyter": {},
    "notebookId": "655933bb671b03a7f562adc0",
    "runtime": {
     "execution_status": null,
     "is_visible": false,
     "status": "default"
    },
    "scrolled": false,
    "slideshow": {
     "slide_type": "slide"
    },
    "tags": []
   },
   "source": [
    "The rest part is leaved to you as homework.  \n",
    "## Try it by your own hand and hope you enjoy it!"
   ]
  },
  {
   "cell_type": "markdown",
   "metadata": {
    "id": "25583251E6034A479BA4E2F8A0FA3B59",
    "jupyter": {},
    "notebookId": "655933bb671b03a7f562adc0",
    "runtime": {
     "execution_status": null,
     "is_visible": false,
     "status": "default"
    },
    "scrolled": false,
    "slideshow": {
     "slide_type": "slide"
    },
    "tags": []
   },
   "source": [
    "# Modern Hopfield Network  \n",
    "The traditional Hopfield network has a lot of limits as a memory storage system, including its limited capacity and the lack of ability for representing continuous variables.  \n",
    "\n",
    "To overcome these limits, \"modern Hopfield Network\" is proposed. In contrast with the traditional Hopfield Network, Modern Hopfield is two-layerd network.  \n",
    "\n",
    "Notations: external input of visible neurons, $I_i(t)$; synaptic input of visible neurons, $v_i(t)$; firing rate of visible neurons, $g(v_i(t))$; synaptic input of hidden neurons, $h_{\\mu}(t)$; firing rate of visible neurons, $f(h_{\\mu}(t))$;  \n",
    "\n",
    "The dynamics of the network is given by:  \n",
    "\n",
    "$$ \\tau_f \\frac{dv_i(t)}{dt} = -v_i(t)+\\sum_{\\mu=1}^{N_h} \\xi_{i, \\mu}f(h_{\\mu}(t))+I_i(t)$$  \n",
    "$$ \\tau_h \\frac{dh_{\\mu}(t)}{dt} = -h_{\\mu}(t)+\\sum_{i=1}^{N_f} \\xi_{\\mu, i}g(v_{i}(t))$$  \n",
    "\n",
    "The general form of energy fucntion is given by:  \n",
    "\n",
    "$$ E(t) =  \\left[\\sum_{i=1}^{N_f}(x_i(t)-I_i(t))g_i(x_i(t)) - L_v(f_i(t))\\right] + \\left[\\sum_{\\mu=1}^{N_h}h_\\mu(t) f_\\mu(t) - L_h(h_\\mu(t))\\right] - \\sum_{\\mu, i} f(h_{\\mu}(t))\\xi_{\\mu, i}g(v_{i}(t))$$  \n",
    "where $L_h$ and $L_v$ represents two Larangian functions of the activation function, which is given by:  \n",
    "$$f_\\mu = \\frac{\\partial L_\\mu}{\\partial h_\\mu},        g_i = \\frac{\\partial L_v}{\\partial v_i} $$  \n",
    "\n",
    "# Costomize a Modern Hopfield Network  \n",
    "Here we assume that the Lagrangian fucntions take the form,  \n",
    "$$L_\\mu = log\\left(\\sum_{\\mu} e^{h_\\mu} \\right),        L_v = \\frac{1}{2}\\sum_{i}v_i^2 $$  \n",
    "which gives,  \n",
    "$$f_\\mu(h) = softmax(h_\\mu) = \\frac{e^{h_\\mu}}{\\sum_{\\mu}e^{h_\\mu}}  ,        g_i(v) = v_i $$"
   ]
  },
  {
   "cell_type": "markdown",
   "metadata": {
    "id": "CE90DD398AB3484E9A024710CBD5162C",
    "jupyter": {},
    "notebookId": "655933bb671b03a7f562adc0",
    "runtime": {
     "execution_status": null,
     "is_visible": false,
     "status": "default"
    },
    "scrolled": false,
    "slideshow": {
     "slide_type": "slide"
    },
    "tags": []
   },
   "source": [
    "## Costomize a Modern Hopfield Network"
   ]
  },
  {
   "cell_type": "code",
   "execution_count": 14,
   "metadata": {
    "collapsed": false,
    "id": "D012E1ABFBF9404994F2957FF6C96811",
    "jupyter": {},
    "notebookId": "655933bb671b03a7f562adc0",
    "scrolled": false,
    "slideshow": {
     "slide_type": "slide"
    },
    "tags": [],
    "trusted": true
   },
   "outputs": [],
   "source": [
    "\n",
    "class ModernHopfieldNet(bp.DynamicalSystem):\n",
    "  def __init__(self, Patterns, tau_f = 100., tau_h = 1.):\n",
    "    super().__init__()\n",
    "    self.num_f = Patterns.shape[1]\n",
    "    self.num_h = Patterns.shape[0]\n",
    "    self.tau_f = tau_f\n",
    "    self.tau_h = tau_h\n",
    "    self.conn_mat = bm.Variable(Patterns)\n",
    "    self.v = bm.Variable(self.num_f)\n",
    "    self.g = bm.Variable(self.num_f)\n",
    "    self.h = bm.Variable(self.num_h)\n",
    "    self.f = bm.Variable(self.num_h)\n",
    "    self.E = bm.Variable(1)\n",
    "\n",
    "    self.integral = bp.odeint(self.derivative)\n",
    "\n",
    "  # 微分方程\n",
    "  @property\n",
    "  def derivative(self):\n",
    "      dv = lambda v, t, I_ext: (-v + bm.matmul(bm.transpose(self.conn_mat), self.f) + I_ext) / self.tau_f\n",
    "      dh = lambda h, t: (-h + bm.matmul(self.conn_mat,self.g) ) / self.tau_h\n",
    "      return bp.JointEq([dv, dh])\n",
    "  \n",
    "  def softmax(self, x1):\n",
    "    x1 = x1 - bm.max(x1)\n",
    "    # x1 = bm.where(x1<=50, x1, 50)\n",
    "    return bm.exp(x1)/bm.sum(bm.exp(x1))\n",
    "\n",
    "  def activation(self):\n",
    "    h = self.h.value\n",
    "    self.f.value = self.softmax(h)\n",
    "    self.g = self.v\n",
    "  \n",
    "  def initialize(self, sample):\n",
    "    self.v = bm.Variable(sample)\n",
    "    self.g = self.v\n",
    "    h = bm.matmul(self.conn_mat, self.g)\n",
    "    self.h.value = h\n",
    "    self.f = self.softmax(self.h)\n",
    "  \n",
    "  # This function computes the Hopfield nets' energy.\n",
    "  def energy(self):\n",
    "    h = self.h.value\n",
    "    hmax = bm.max(h)\n",
    "    exp_h = bm.exp(self.h-hmax)\n",
    "    v2 = bm.square(self.v)\n",
    "    E = bm.array(1/2*bm.sum(v2) - hmax - bm.log(bm.sum(exp_h)))\n",
    "    self.E.value = E.reshape(-1)\n",
    "\n",
    "  def update(self, input):\n",
    "    self.activation()\n",
    "    v, h = self.integral(self.v, self.h, bp.share['t'], input)\n",
    "    self.v = v\n",
    "    self.h = h\n",
    "    self.energy()"
   ]
  },
  {
   "cell_type": "markdown",
   "metadata": {
    "id": "0B286139ACAA48918B288DEFE9C9DA23",
    "jupyter": {},
    "notebookId": "655933bb671b03a7f562adc0",
    "runtime": {
     "execution_status": null,
     "is_visible": false,
     "status": "default"
    },
    "scrolled": false,
    "slideshow": {
     "slide_type": "slide"
    },
    "tags": []
   },
   "source": [
    "### Import few pictures that we need to store and add noise"
   ]
  },
  {
   "cell_type": "code",
   "execution_count": 15,
   "metadata": {
    "collapsed": false,
    "id": "E52EBB39677F4F7DB2063F213FEA195C",
    "jupyter": {},
    "notebookId": "655933bb671b03a7f562adc0",
    "scrolled": false,
    "slideshow": {
     "slide_type": "slide"
    },
    "tags": [],
    "trusted": true
   },
   "outputs": [
    {
     "data": {
      "text/plain": [
       "<matplotlib.image.AxesImage at 0x7efe6c448580>"
      ]
     },
     "execution_count": 15,
     "metadata": {},
     "output_type": "execute_result"
    },
    {
     "data": {
      "text/html": [
       "<img src=\"https://cdn.kesci.com/upload/rt/E52EBB39677F4F7DB2063F213FEA195C/s4caqut8gr.png\">"
      ],
      "text/plain": [
       "<Figure size 1080x540 with 2 Axes>"
      ]
     },
     "metadata": {
      "needs_background": "light"
     },
     "output_type": "display_data"
    }
   ],
   "source": [
    "\n",
    "from PIL import Image\n",
    "# 打开原始图像\n",
    "n_image = 4\n",
    "n1 = 192*2\n",
    "n2 = 108*2\n",
    "data = np.zeros([n_image, n1 * n2])\n",
    "image = np.zeros([n_image, n1, n2])\n",
    "corrupted_image = np.zeros([n_image, n1, n2])\n",
    "for i in range(n_image):\n",
    "    original_image_path = '/home/mw/project/bro_' + str(i+1) +  '.jpg'\n",
    "    original_image = Image.open(original_image_path)\n",
    "    # Downsampling\n",
    "    resized_image = original_image.resize((n2, n1), Image.LANCZOS)\n",
    "    # 将降采样后的图像转换为NumPy数组\n",
    "    array_image = np.array(resized_image)\n",
    "    resized_image_array = array_image/256\n",
    "    image[i] = np.mean(resized_image_array, axis=2)\n",
    "    data[i] = image[i].reshape([1,-1])\n",
    "    corrupted_image[i] = add_bernouli_noise(image[i], prob=0.4)\n",
    "\n",
    "retrieve_idx = 1\n",
    "# Let's see the original image, as well as the corrupted version.\n",
    "fig, ax = plt.subplots(nrows=1, ncols=2, figsize=(15,7.5))\n",
    "ax[0].imshow(image[retrieve_idx], interpolation='None', cmap='winter', vmin = np.min(image), vmax = np.max(image))\n",
    "ax[1].imshow(corrupted_image[retrieve_idx], interpolation='None', cmap='winter', vmin = np.min(image), vmax = np.max(image))\n"
   ]
  },
  {
   "cell_type": "code",
   "execution_count": 16,
   "metadata": {
    "collapsed": false,
    "id": "FE5DF7BF08964C0A9D50419527AEC747",
    "jupyter": {},
    "notebookId": "655933bb671b03a7f562adc0",
    "scrolled": false,
    "slideshow": {
     "slide_type": "slide"
    },
    "tags": [],
    "trusted": true
   },
   "outputs": [
    {
     "data": {
      "application/vnd.jupyter.widget-view+json": {
       "model_id": "7024dd37c1fd4814861c28ddc4f64bb1",
       "version_major": 2,
       "version_minor": 0
      },
      "text/plain": [
       "  0%|          | 0/3000 [00:00<?, ?it/s]"
      ]
     },
     "metadata": {},
     "output_type": "display_data"
    },
    {
     "data": {
      "text/html": [
       "<img src=\"https://cdn.kesci.com/upload/rt/FE5DF7BF08964C0A9D50419527AEC747/s4caqw9scc.png\">"
      ],
      "text/plain": [
       "<Figure size 432x288 with 1 Axes>"
      ]
     },
     "metadata": {
      "needs_background": "light"
     },
     "output_type": "display_data"
    },
    {
     "data": {
      "text/html": [
       "<img src=\"https://cdn.kesci.com/upload/rt/FE5DF7BF08964C0A9D50419527AEC747/s4caqxv1bk.png\">"
      ],
      "text/plain": [
       "<Figure size 1152x576 with 3 Axes>"
      ]
     },
     "metadata": {
      "needs_background": "light"
     },
     "output_type": "display_data"
    }
   ],
   "source": [
    "\n",
    "# run net\n",
    "net = ModernHopfieldNet(data)\n",
    "sample = corrupted_image[retrieve_idx].reshape(-1,)\n",
    "net.initialize(sample=sample)\n",
    "\n",
    "def run_net(i):  # 20 x size\n",
    "    net.step_run(i, input=0)\n",
    "    return net.v, net.E\n",
    "total_time = 3000\n",
    "indices = np.arange(total_time)\n",
    "V_trace, E_trace = bm.for_loop(run_net, indices, progress_bar=True)\n",
    "# First set up the figure, the axis, and the plot element we want to animate\n",
    "\n",
    "fig = plt.figure()\n",
    "plt.plot(E_trace)\n",
    "\n",
    "from matplotlib.animation import FuncAnimation\n",
    "fps = 30\n",
    "n_step = 20\n",
    "# 动画化网络活动\\\n",
    "data1 = bm.as_numpy(V_trace[::n_step, :])\n",
    "T = data1.shape[0]\n",
    "snapshots = bm.as_numpy(data1).reshape([T, n1, n2])\n",
    "\n",
    "\n",
    "# First set up the figure, the axis, and the plot element we want to animate\n",
    "fig, ax = plt.subplots(1,3,figsize=(16,8))\n",
    "ax[1].imshow(image[retrieve_idx], interpolation='None', cmap='winter', vmin = np.min(image), vmax = np.max(image))\n",
    "ax[1].set_title('clean image')\n",
    "ax[2].imshow(corrupted_image[retrieve_idx], interpolation='None', cmap='winter', vmin = np.min(image), vmax = np.max(image))\n",
    "ax[2].set_title('noise image')\n",
    "a = snapshots[0]\n",
    "im = ax[0].imshow(a, interpolation='none', cmap='winter', vmin = np.min(image), vmax = np.max(image))\n",
    "ax[0].set_title('network response')\n",
    "def animate_func(i):\n",
    "    im.set_array(snapshots[i])\n",
    "    return [im]\n",
    "\n",
    "anim = FuncAnimation(fig, animate_func, frames = T, interval = 1000 / fps, blit=True)\n",
    "plt.show()"
   ]
  },
  {
   "cell_type": "markdown",
   "metadata": {
    "id": "EFDBB68B2F3D40C28F609C67AD9F52CC",
    "jupyter": {},
    "notebookId": "655933bb671b03a7f562adc0",
    "runtime": {
     "execution_status": null,
     "is_visible": false,
     "status": "default"
    },
    "scrolled": false,
    "slideshow": {
     "slide_type": "slide"
    },
    "tags": []
   },
   "source": [
    "# Continuous Attractor Neural Network  \n",
    "## The dynamics of the model  \n",
    "### Synaptic current dynamics (exponential conductance model):  \n",
    "$$  \n",
    "\\tau\\frac{dU(x,t)}{dt} = -U(x,t)+I^{rec} (x,t)+ I^{ext}(x,t)  \n",
    "$$  \n",
    "where the recurrent input $I_{rec}(x,t) = \\int_{x'}J(x,x')r(x',t)dx'$, which represents a weighted sum of all recurrently connected neurons' firing rate,  \n",
    "### Activation function (which transfer the synaptic current to firing rates):  \n",
    "$$  \n",
    "r(x,t) = \\frac{U(x,t)^2}{1+k\\int_x' U(x',t)^2dx'}  \n",
    "$$  \n",
    "### Synaptic connection strength matrix  \n",
    "$$  \n",
    "J(x,t) = J_0 exp [-\\frac{dist(x，x')^2}{2a^2}]  \n",
    "$$  \n",
    "where $dist(x, x')$ represents the distance of two features, e.g., in Euler space the $dist(x,x') = |x-x'|$.  \n",
    "## Customize a ring CANN in brainpy  \n",
    "In simulations, we can not simulate a CANN encoding features ranging $(-\\inf, \\inf)$. Instead, we simulate a ring attractor network which encodes features ranging $(-\\pi, \\pi)$. Note that the distance on a ring should be:  \n",
    "$$  \n",
    "dist_{ring}(x,x') = min(|x-x'|,2\\pi-|x-x'|)  \n",
    "$$  \n"
   ]
  },
  {
   "cell_type": "code",
   "execution_count": 17,
   "metadata": {
    "collapsed": false,
    "id": "04D60ED29F074AFBA3F99F6B1F805A81",
    "jupyter": {},
    "notebookId": "655933bb671b03a7f562adc0",
    "scrolled": false,
    "slideshow": {
     "slide_type": "slide"
    },
    "tags": [],
    "trusted": true
   },
   "outputs": [],
   "source": [
    "import brainpy as bp\n",
    "import brainpy.math as bm\n",
    "import matplotlib.pyplot as plt\n",
    "\n",
    "plt.rcParams.update({\"font.size\": 15})\n",
    "plt.rcParams['font.sans-serif'] = ['Times New Roman']\n",
    "\n",
    "\n",
    "class CANN1D(bp.NeuGroupNS):\n",
    "  def __init__(self, num, tau=1., k=8.1, a=0.5, A=10., J0=4.,\n",
    "               z_min=-bm.pi, z_max=bm.pi, **kwargs):\n",
    "    super(CANN1D, self).__init__(size=num, **kwargs)\n",
    "\n",
    "    # 初始化参数\n",
    "    self.tau = tau\n",
    "    self.k = k\n",
    "    self.a = a\n",
    "    self.A = A\n",
    "    self.J0 = J0\n",
    "\n",
    "    # 初始化特征空间相关参数\n",
    "    self.z_min = z_min\n",
    "    self.z_max = z_max\n",
    "    self.z_range = z_max - z_min\n",
    "    self.x = bm.linspace(z_min, z_max, num)\n",
    "    self.rho = num / self.z_range\n",
    "    self.dx = self.z_range / num\n",
    "\n",
    "    # 初始化变量\n",
    "    self.u = bm.Variable(bm.zeros(num))\n",
    "    self.input = bm.Variable(bm.zeros(num))\n",
    "    self.conn_mat = self.make_conn(self.x)  # 连接矩阵\n",
    "\n",
    "    # 定义积分函数\n",
    "    self.integral = bp.odeint(self.derivative)\n",
    "\n",
    "  # 微分方程\n",
    "  @property\n",
    "  def derivative(self):\n",
    "    du = lambda u, t, Irec, Iext: (-u + Irec + Iext) / self.tau\n",
    "    return du\n",
    "\n",
    "  # 将距离转换到[-z_range/2, z_range/2)之间\n",
    "  def dist(self, d):\n",
    "    d = bm.remainder(d, self.z_range)\n",
    "    d = bm.where(d > 0.5 * self.z_range, d - self.z_range, d)\n",
    "    return d\n",
    "\n",
    "  # 计算连接矩阵\n",
    "  def make_conn(self, x):\n",
    "    assert bm.ndim(x) == 1\n",
    "    d = self.dist(x - x[:, None])  # 距离矩阵\n",
    "    Jxx = self.J0 * bm.exp(\n",
    "      -0.5 * bm.square(d / self.a)) / (bm.sqrt(2 * bm.pi) * self.a) \n",
    "    return Jxx\n",
    "\n",
    "  # 获取各个神经元到pos处神经元的输入\n",
    "  def get_stimulus_by_pos(self, pos):\n",
    "    return self.A * bm.exp(-0.25 * bm.square(self.dist(self.x - pos) / self.a))\n",
    "\n",
    "  def update(self, x=None):\n",
    "    _t = bp.share['t']\n",
    "    u2 = bm.square(self.u)\n",
    "    r = u2 / (1.0 + self.k * bm.sum(u2))\n",
    "    Irec = bm.dot(self.conn_mat, r)\n",
    "    self.u[:] = self.integral(self.u, _t,Irec, self.input)\n",
    "    self.input[:] = 0.  # 重置外部电流"
   ]
  },
  {
   "cell_type": "markdown",
   "metadata": {
    "id": "562045B9D84242BBAC3F2C96AE3BD2C8",
    "jupyter": {},
    "notebookId": "655933bb671b03a7f562adc0",
    "runtime": {
     "execution_status": null,
     "is_visible": false,
     "status": "default"
    },
    "scrolled": false,
    "slideshow": {
     "slide_type": "slide"
    },
    "tags": []
   },
   "source": [
    "## Simulate the persistent activity of CANN after the removal of external input  \n",
    "We first project a gaussian-bump external input to activate CANN, then remove it and check the population response of CANN."
   ]
  },
  {
   "cell_type": "code",
   "execution_count": 18,
   "metadata": {
    "collapsed": false,
    "id": "B43A8585583446379DB573537111ECB8",
    "jupyter": {},
    "notebookId": "655933bb671b03a7f562adc0",
    "scrolled": false,
    "slideshow": {
     "slide_type": "slide"
    },
    "tags": [],
    "trusted": true
   },
   "outputs": [
    {
     "data": {
      "application/vnd.jupyter.widget-view+json": {
       "model_id": "c3079cc511b0437ba6ff2b519e8c8c16",
       "version_major": 2,
       "version_minor": 0
      },
      "text/plain": [
       "  0%|          | 0/220 [00:00<?, ?it/s]"
      ]
     },
     "metadata": {},
     "output_type": "display_data"
    },
    {
     "name": "stderr",
     "output_type": "stream",
     "text": [
      "findfont: Generic family 'sans-serif' not found because none of the following families were found: Times New Roman\n",
      "findfont: Generic family 'sans-serif' not found because none of the following families were found: Times New Roman\n",
      "findfont: Generic family 'sans-serif' not found because none of the following families were found: Times New Roman\n",
      "findfont: Generic family 'sans-serif' not found because none of the following families were found: Times New Roman\n",
      "findfont: Generic family 'sans-serif' not found because none of the following families were found: Times New Roman\n",
      "findfont: Generic family 'sans-serif' not found because none of the following families were found: Times New Roman\n",
      "findfont: Generic family 'sans-serif' not found because none of the following families were found: Times New Roman\n",
      "findfont: Generic family 'sans-serif' not found because none of the following families were found: Times New Roman\n",
      "findfont: Font family ['sans-serif'] not found. Falling back to DejaVu Sans.\n",
      "findfont: Generic family 'sans-serif' not found because none of the following families were found: Times New Roman\n",
      "findfont: Generic family 'sans-serif' not found because none of the following families were found: Times New Roman\n",
      "findfont: Generic family 'sans-serif' not found because none of the following families were found: Times New Roman\n",
      "findfont: Generic family 'sans-serif' not found because none of the following families were found: Times New Roman\n",
      "findfont: Generic family 'sans-serif' not found because none of the following families were found: Times New Roman\n",
      "findfont: Generic family 'sans-serif' not found because none of the following families were found: Times New Roman\n",
      "findfont: Generic family 'sans-serif' not found because none of the following families were found: Times New Roman\n",
      "findfont: Generic family 'sans-serif' not found because none of the following families were found: Times New Roman\n",
      "findfont: Generic family 'sans-serif' not found because none of the following families were found: Times New Roman\n",
      "findfont: Font family ['sans-serif'] not found. Falling back to DejaVu Sans.\n",
      "findfont: Generic family 'sans-serif' not found because none of the following families were found: Times New Roman\n",
      "findfont: Generic family 'sans-serif' not found because none of the following families were found: Times New Roman\n",
      "findfont: Generic family 'sans-serif' not found because none of the following families were found: Times New Roman\n",
      "findfont: Generic family 'sans-serif' not found because none of the following families were found: Times New Roman\n",
      "findfont: Generic family 'sans-serif' not found because none of the following families were found: Times New Roman\n",
      "findfont: Generic family 'sans-serif' not found because none of the following families were found: Times New Roman\n",
      "findfont: Generic family 'sans-serif' not found because none of the following families were found: Times New Roman\n",
      "findfont: Generic family 'sans-serif' not found because none of the following families were found: Times New Roman\n",
      "findfont: Generic family 'sans-serif' not found because none of the following families were found: Times New Roman\n",
      "findfont: Generic family 'sans-serif' not found because none of the following families were found: Times New Roman\n",
      "findfont: Generic family 'sans-serif' not found because none of the following families were found: Times New Roman\n",
      "findfont: Generic family 'sans-serif' not found because none of the following families were found: Times New Roman\n",
      "findfont: Generic family 'sans-serif' not found because none of the following families were found: Times New Roman\n",
      "findfont: Generic family 'sans-serif' not found because none of the following families were found: Times New Roman\n",
      "findfont: Generic family 'sans-serif' not found because none of the following families were found: Times New Roman\n",
      "findfont: Generic family 'sans-serif' not found because none of the following families were found: Times New Roman\n",
      "findfont: Generic family 'sans-serif' not found because none of the following families were found: Times New Roman\n",
      "findfont: Generic family 'sans-serif' not found because none of the following families were found: Times New Roman\n",
      "findfont: Generic family 'sans-serif' not found because none of the following families were found: Times New Roman\n",
      "findfont: Generic family 'sans-serif' not found because none of the following families were found: Times New Roman\n",
      "findfont: Generic family 'sans-serif' not found because none of the following families were found: Times New Roman\n",
      "findfont: Generic family 'sans-serif' not found because none of the following families were found: Times New Roman\n",
      "findfont: Generic family 'sans-serif' not found because none of the following families were found: Times New Roman\n",
      "findfont: Generic family 'sans-serif' not found because none of the following families were found: Times New Roman\n",
      "findfont: Generic family 'sans-serif' not found because none of the following families were found: Times New Roman\n",
      "findfont: Generic family 'sans-serif' not found because none of the following families were found: Times New Roman\n",
      "findfont: Generic family 'sans-serif' not found because none of the following families were found: Times New Roman\n",
      "findfont: Generic family 'sans-serif' not found because none of the following families were found: Times New Roman\n",
      "findfont: Generic family 'sans-serif' not found because none of the following families were found: Times New Roman\n",
      "findfont: Generic family 'sans-serif' not found because none of the following families were found: Times New Roman\n",
      "findfont: Generic family 'sans-serif' not found because none of the following families were found: Times New Roman\n",
      "findfont: Generic family 'sans-serif' not found because none of the following families were found: Times New Roman\n",
      "findfont: Generic family 'sans-serif' not found because none of the following families were found: Times New Roman\n",
      "findfont: Generic family 'sans-serif' not found because none of the following families were found: Times New Roman\n",
      "findfont: Generic family 'sans-serif' not found because none of the following families were found: Times New Roman\n",
      "findfont: Generic family 'sans-serif' not found because none of the following families were found: Times New Roman\n",
      "findfont: Generic family 'sans-serif' not found because none of the following families were found: Times New Roman\n",
      "findfont: Generic family 'sans-serif' not found because none of the following families were found: Times New Roman\n",
      "findfont: Generic family 'sans-serif' not found because none of the following families were found: Times New Roman\n",
      "findfont: Generic family 'sans-serif' not found because none of the following families were found: Times New Roman\n",
      "findfont: Generic family 'sans-serif' not found because none of the following families were found: Times New Roman\n",
      "findfont: Generic family 'sans-serif' not found because none of the following families were found: Times New Roman\n",
      "findfont: Generic family 'sans-serif' not found because none of the following families were found: Times New Roman\n",
      "findfont: Generic family 'sans-serif' not found because none of the following families were found: Times New Roman\n",
      "findfont: Generic family 'sans-serif' not found because none of the following families were found: Times New Roman\n",
      "findfont: Generic family 'sans-serif' not found because none of the following families were found: Times New Roman\n",
      "findfont: Generic family 'sans-serif' not found because none of the following families were found: Times New Roman\n",
      "findfont: Generic family 'sans-serif' not found because none of the following families were found: Times New Roman\n",
      "findfont: Generic family 'sans-serif' not found because none of the following families were found: Times New Roman\n",
      "findfont: Generic family 'sans-serif' not found because none of the following families were found: Times New Roman\n",
      "findfont: Generic family 'sans-serif' not found because none of the following families were found: Times New Roman\n",
      "findfont: Generic family 'sans-serif' not found because none of the following families were found: Times New Roman\n",
      "findfont: Generic family 'sans-serif' not found because none of the following families were found: Times New Roman\n",
      "findfont: Generic family 'sans-serif' not found because none of the following families were found: Times New Roman\n",
      "findfont: Generic family 'sans-serif' not found because none of the following families were found: Times New Roman\n",
      "findfont: Generic family 'sans-serif' not found because none of the following families were found: Times New Roman\n",
      "findfont: Generic family 'sans-serif' not found because none of the following families were found: Times New Roman\n",
      "findfont: Generic family 'sans-serif' not found because none of the following families were found: Times New Roman\n",
      "findfont: Generic family 'sans-serif' not found because none of the following families were found: Times New Roman\n",
      "findfont: Generic family 'sans-serif' not found because none of the following families were found: Times New Roman\n",
      "findfont: Generic family 'sans-serif' not found because none of the following families were found: Times New Roman\n",
      "findfont: Generic family 'sans-serif' not found because none of the following families were found: Times New Roman\n",
      "findfont: Generic family 'sans-serif' not found because none of the following families were found: Times New Roman\n",
      "findfont: Generic family 'sans-serif' not found because none of the following families were found: Times New Roman\n",
      "findfont: Generic family 'sans-serif' not found because none of the following families were found: Times New Roman\n",
      "findfont: Generic family 'sans-serif' not found because none of the following families were found: Times New Roman\n",
      "findfont: Generic family 'sans-serif' not found because none of the following families were found: Times New Roman\n"
     ]
    },
    {
     "data": {
      "text/html": [
       "<img src=\"https://cdn.kesci.com/upload/rt/B43A8585583446379DB573537111ECB8/s4caqz6d95.png\">"
      ],
      "text/plain": [
       "<Figure size 432x324 with 1 Axes>"
      ]
     },
     "metadata": {
      "needs_background": "light"
     },
     "output_type": "display_data"
    },
    {
     "name": "stderr",
     "output_type": "stream",
     "text": [
      "findfont: Generic family 'sans-serif' not found because none of the following families were found: Times New Roman\n",
      "findfont: Generic family 'sans-serif' not found because none of the following families were found: Times New Roman\n",
      "findfont: Generic family 'sans-serif' not found because none of the following families were found: Times New Roman\n",
      "findfont: Generic family 'sans-serif' not found because none of the following families were found: Times New Roman\n",
      "findfont: Generic family 'sans-serif' not found because none of the following families were found: Times New Roman\n",
      "findfont: Generic family 'sans-serif' not found because none of the following families were found: Times New Roman\n",
      "findfont: Generic family 'sans-serif' not found because none of the following families were found: Times New Roman\n",
      "findfont: Generic family 'sans-serif' not found because none of the following families were found: Times New Roman\n",
      "findfont: Generic family 'sans-serif' not found because none of the following families were found: Times New Roman\n",
      "findfont: Generic family 'sans-serif' not found because none of the following families were found: Times New Roman\n",
      "findfont: Generic family 'sans-serif' not found because none of the following families were found: Times New Roman\n",
      "findfont: Generic family 'sans-serif' not found because none of the following families were found: Times New Roman\n",
      "findfont: Generic family 'sans-serif' not found because none of the following families were found: Times New Roman\n",
      "findfont: Generic family 'sans-serif' not found because none of the following families were found: Times New Roman\n",
      "findfont: Generic family 'sans-serif' not found because none of the following families were found: Times New Roman\n",
      "findfont: Generic family 'sans-serif' not found because none of the following families were found: Times New Roman\n",
      "findfont: Generic family 'sans-serif' not found because none of the following families were found: Times New Roman\n",
      "findfont: Generic family 'sans-serif' not found because none of the following families were found: Times New Roman\n",
      "findfont: Generic family 'sans-serif' not found because none of the following families were found: Times New Roman\n",
      "findfont: Generic family 'sans-serif' not found because none of the following families were found: Times New Roman\n",
      "findfont: Generic family 'sans-serif' not found because none of the following families were found: Times New Roman\n",
      "findfont: Generic family 'sans-serif' not found because none of the following families were found: Times New Roman\n",
      "findfont: Generic family 'sans-serif' not found because none of the following families were found: Times New Roman\n",
      "findfont: Generic family 'sans-serif' not found because none of the following families were found: Times New Roman\n",
      "findfont: Generic family 'sans-serif' not found because none of the following families were found: Times New Roman\n",
      "findfont: Generic family 'sans-serif' not found because none of the following families were found: Times New Roman\n",
      "findfont: Generic family 'sans-serif' not found because none of the following families were found: Times New Roman\n",
      "findfont: Generic family 'sans-serif' not found because none of the following families were found: Times New Roman\n",
      "findfont: Generic family 'sans-serif' not found because none of the following families were found: Times New Roman\n",
      "findfont: Generic family 'sans-serif' not found because none of the following families were found: Times New Roman\n",
      "findfont: Generic family 'sans-serif' not found because none of the following families were found: Times New Roman\n",
      "findfont: Generic family 'sans-serif' not found because none of the following families were found: Times New Roman\n",
      "findfont: Generic family 'sans-serif' not found because none of the following families were found: Times New Roman\n",
      "findfont: Generic family 'sans-serif' not found because none of the following families were found: Times New Roman\n",
      "findfont: Generic family 'sans-serif' not found because none of the following families were found: Times New Roman\n",
      "findfont: Generic family 'sans-serif' not found because none of the following families were found: Times New Roman\n",
      "findfont: Generic family 'sans-serif' not found because none of the following families were found: Times New Roman\n",
      "findfont: Generic family 'sans-serif' not found because none of the following families were found: Times New Roman\n",
      "findfont: Generic family 'sans-serif' not found because none of the following families were found: Times New Roman\n",
      "findfont: Generic family 'sans-serif' not found because none of the following families were found: Times New Roman\n",
      "findfont: Generic family 'sans-serif' not found because none of the following families were found: Times New Roman\n",
      "findfont: Generic family 'sans-serif' not found because none of the following families were found: Times New Roman\n",
      "findfont: Generic family 'sans-serif' not found because none of the following families were found: Times New Roman\n",
      "findfont: Generic family 'sans-serif' not found because none of the following families were found: Times New Roman\n",
      "findfont: Generic family 'sans-serif' not found because none of the following families were found: Times New Roman\n",
      "findfont: Generic family 'sans-serif' not found because none of the following families were found: Times New Roman\n",
      "findfont: Generic family 'sans-serif' not found because none of the following families were found: Times New Roman\n",
      "findfont: Generic family 'sans-serif' not found because none of the following families were found: Times New Roman\n",
      "findfont: Generic family 'sans-serif' not found because none of the following families were found: Times New Roman\n",
      "findfont: Generic family 'sans-serif' not found because none of the following families were found: Times New Roman\n",
      "findfont: Generic family 'sans-serif' not found because none of the following families were found: Times New Roman\n",
      "findfont: Generic family 'sans-serif' not found because none of the following families were found: Times New Roman\n",
      "findfont: Generic family 'sans-serif' not found because none of the following families were found: Times New Roman\n",
      "findfont: Generic family 'sans-serif' not found because none of the following families were found: Times New Roman\n",
      "findfont: Generic family 'sans-serif' not found because none of the following families were found: Times New Roman\n",
      "findfont: Generic family 'sans-serif' not found because none of the following families were found: Times New Roman\n",
      "findfont: Generic family 'sans-serif' not found because none of the following families were found: Times New Roman\n",
      "findfont: Generic family 'sans-serif' not found because none of the following families were found: Times New Roman\n",
      "findfont: Generic family 'sans-serif' not found because none of the following families were found: Times New Roman\n",
      "findfont: Generic family 'sans-serif' not found because none of the following families were found: Times New Roman\n",
      "findfont: Generic family 'sans-serif' not found because none of the following families were found: Times New Roman\n",
      "findfont: Generic family 'sans-serif' not found because none of the following families were found: Times New Roman\n",
      "findfont: Generic family 'sans-serif' not found because none of the following families were found: Times New Roman\n",
      "findfont: Generic family 'sans-serif' not found because none of the following families were found: Times New Roman\n",
      "findfont: Generic family 'sans-serif' not found because none of the following families were found: Times New Roman\n",
      "findfont: Generic family 'sans-serif' not found because none of the following families were found: Times New Roman\n",
      "findfont: Generic family 'sans-serif' not found because none of the following families were found: Times New Roman\n",
      "findfont: Generic family 'sans-serif' not found because none of the following families were found: Times New Roman\n",
      "findfont: Generic family 'sans-serif' not found because none of the following families were found: Times New Roman\n",
      "findfont: Generic family 'sans-serif' not found because none of the following families were found: Times New Roman\n",
      "findfont: Generic family 'sans-serif' not found because none of the following families were found: Times New Roman\n"
     ]
    },
    {
     "data": {
      "text/html": [
       "<img src=\"https://cdn.kesci.com/upload/rt/B43A8585583446379DB573537111ECB8/s4car129h7.png\">"
      ],
      "text/plain": [
       "<Figure size 432x324 with 1 Axes>"
      ]
     },
     "metadata": {
      "needs_background": "light"
     },
     "output_type": "display_data"
    },
    {
     "name": "stderr",
     "output_type": "stream",
     "text": [
      "findfont: Generic family 'sans-serif' not found because none of the following families were found: Times New Roman\n",
      "findfont: Generic family 'sans-serif' not found because none of the following families were found: Times New Roman\n",
      "findfont: Generic family 'sans-serif' not found because none of the following families were found: Times New Roman\n",
      "findfont: Generic family 'sans-serif' not found because none of the following families were found: Times New Roman\n",
      "findfont: Generic family 'sans-serif' not found because none of the following families were found: Times New Roman\n",
      "findfont: Generic family 'sans-serif' not found because none of the following families were found: Times New Roman\n",
      "findfont: Generic family 'sans-serif' not found because none of the following families were found: Times New Roman\n",
      "findfont: Generic family 'sans-serif' not found because none of the following families were found: Times New Roman\n",
      "findfont: Generic family 'sans-serif' not found because none of the following families were found: Times New Roman\n",
      "findfont: Generic family 'sans-serif' not found because none of the following families were found: Times New Roman\n",
      "findfont: Generic family 'sans-serif' not found because none of the following families were found: Times New Roman\n",
      "findfont: Generic family 'sans-serif' not found because none of the following families were found: Times New Roman\n",
      "findfont: Generic family 'sans-serif' not found because none of the following families were found: Times New Roman\n",
      "findfont: Generic family 'sans-serif' not found because none of the following families were found: Times New Roman\n",
      "findfont: Generic family 'sans-serif' not found because none of the following families were found: Times New Roman\n",
      "findfont: Generic family 'sans-serif' not found because none of the following families were found: Times New Roman\n",
      "findfont: Generic family 'sans-serif' not found because none of the following families were found: Times New Roman\n",
      "findfont: Generic family 'sans-serif' not found because none of the following families were found: Times New Roman\n",
      "findfont: Generic family 'sans-serif' not found because none of the following families were found: Times New Roman\n",
      "findfont: Generic family 'sans-serif' not found because none of the following families were found: Times New Roman\n",
      "findfont: Generic family 'sans-serif' not found because none of the following families were found: Times New Roman\n",
      "findfont: Generic family 'sans-serif' not found because none of the following families were found: Times New Roman\n",
      "findfont: Generic family 'sans-serif' not found because none of the following families were found: Times New Roman\n",
      "findfont: Generic family 'sans-serif' not found because none of the following families were found: Times New Roman\n",
      "findfont: Generic family 'sans-serif' not found because none of the following families were found: Times New Roman\n",
      "findfont: Generic family 'sans-serif' not found because none of the following families were found: Times New Roman\n"
     ]
    },
    {
     "data": {
      "text/html": [
       "<img src=\"https://cdn.kesci.com/upload/rt/B43A8585583446379DB573537111ECB8/s4car2xlw9.png\">"
      ],
      "text/plain": [
       "<Figure size 432x432 with 1 Axes>"
      ]
     },
     "metadata": {
      "needs_background": "light"
     },
     "output_type": "display_data"
    }
   ],
   "source": [
    "def Persistent_Activity(k=0.1,J0=1.):\n",
    "    # 生成CANN\n",
    "    cann = CANN1D(num=512, k=k,J0=J0)\n",
    "\n",
    "    # 生成外部刺激，从第2到12ms，持续10ms\n",
    "    dur1, dur2, dur3 = 2., 10., 10.\n",
    "    I1 = cann.get_stimulus_by_pos(0.)\n",
    "    Iext, duration = bp.inputs.section_input(values=[0., I1, 0.],\n",
    "                                             durations=[dur1, dur2, dur3],\n",
    "                                             return_length=True)\n",
    "    noise_level = 0.1\n",
    "    noise = bm.random.normal(0., noise_level, (int(duration / bm.get_dt()), len(I1)))\n",
    "    Iext += noise\n",
    "    # 运行数值模拟\n",
    "    runner = bp.DSRunner(cann, inputs=['input', Iext, 'iter'], monitors=['u'])\n",
    "    runner.run(duration)\n",
    "\n",
    "    # 可视化\n",
    "    def plot_response(t):\n",
    "        fig, gs = bp.visualize.get_figure(1, 1, 4.5, 6)\n",
    "        ax = fig.add_subplot(gs[0, 0])\n",
    "        ts = int(t / bm.get_dt())\n",
    "        I, u = Iext[ts], runner.mon.u[ts]\n",
    "        ax.plot(cann.x, I, label='Iext')\n",
    "        ax.plot(cann.x, u, linestyle='dashed', label='U')\n",
    "        ax.set_title(r'$t$' + ' = {} ms'.format(t))\n",
    "        ax.set_xlabel(r'$x$')\n",
    "        ax.spines['top'].set_visible(False)\n",
    "        ax.spines['right'].set_visible(False)\n",
    "        ax.legend()\n",
    "        # plt.savefig(f'CANN_t={t}.pdf', transparent=True, dpi=500)\n",
    "\n",
    "    plot_response(t=10.)\n",
    "    plot_response(t=20.)\n",
    "\n",
    "    bp.visualize.animate_1D(\n",
    "        dynamical_vars=[{'ys': runner.mon.u, 'xs': cann.x, 'legend': 'u'},\n",
    "                        {'ys': Iext, 'xs': cann.x, 'legend': 'Iext'}],\n",
    "        frame_step=1,\n",
    "        frame_delay=40,\n",
    "        show=True,\n",
    "    )\n",
    "    plt.show()\n",
    "Persistent_Activity(k=0.1)"
   ]
  },
  {
   "cell_type": "markdown",
   "metadata": {
    "id": "65410F52DFBA4251880DC1F1768B5F5C",
    "jupyter": {},
    "notebookId": "655933bb671b03a7f562adc0",
    "runtime": {
     "execution_status": null,
     "is_visible": false,
     "status": "default"
    },
    "scrolled": false,
    "slideshow": {
     "slide_type": "slide"
    },
    "tags": []
   },
   "source": [
    "## Simulate the tracking behavior of CANN  \n",
    "We first project a moving gaussian-bump input to CANN and check the population response of CANN."
   ]
  },
  {
   "cell_type": "code",
   "execution_count": 19,
   "metadata": {
    "collapsed": false,
    "id": "FACD2A3BBD094960AECEBD8779DF8E4A",
    "jupyter": {},
    "notebookId": "655933bb671b03a7f562adc0",
    "scrolled": false,
    "slideshow": {
     "slide_type": "slide"
    },
    "tags": [],
    "trusted": true
   },
   "outputs": [
    {
     "data": {
      "application/vnd.jupyter.widget-view+json": {
       "model_id": "b93b57b1140f45d99ad5380c691a2a45",
       "version_major": 2,
       "version_minor": 0
      },
      "text/plain": [
       "  0%|          | 0/400 [00:00<?, ?it/s]"
      ]
     },
     "metadata": {},
     "output_type": "display_data"
    },
    {
     "name": "stderr",
     "output_type": "stream",
     "text": [
      "/opt/conda/lib/python3.9/site-packages/matplotlib/animation.py:884: UserWarning: Animation was deleted without rendering anything. This is most likely not intended. To prevent deletion, assign the Animation to a variable, e.g. `anim`, that exists until you output the Animation using `plt.show()` or `anim.save()`.\n",
      "  warnings.warn(\n",
      "findfont: Generic family 'sans-serif' not found because none of the following families were found: Times New Roman\n",
      "findfont: Generic family 'sans-serif' not found because none of the following families were found: Times New Roman\n",
      "findfont: Generic family 'sans-serif' not found because none of the following families were found: Times New Roman\n",
      "findfont: Generic family 'sans-serif' not found because none of the following families were found: Times New Roman\n",
      "findfont: Generic family 'sans-serif' not found because none of the following families were found: Times New Roman\n",
      "findfont: Generic family 'sans-serif' not found because none of the following families were found: Times New Roman\n",
      "findfont: Generic family 'sans-serif' not found because none of the following families were found: Times New Roman\n",
      "findfont: Generic family 'sans-serif' not found because none of the following families were found: Times New Roman\n",
      "findfont: Generic family 'sans-serif' not found because none of the following families were found: Times New Roman\n",
      "findfont: Generic family 'sans-serif' not found because none of the following families were found: Times New Roman\n",
      "findfont: Generic family 'sans-serif' not found because none of the following families were found: Times New Roman\n",
      "findfont: Generic family 'sans-serif' not found because none of the following families were found: Times New Roman\n",
      "findfont: Generic family 'sans-serif' not found because none of the following families were found: Times New Roman\n",
      "findfont: Generic family 'sans-serif' not found because none of the following families were found: Times New Roman\n",
      "findfont: Generic family 'sans-serif' not found because none of the following families were found: Times New Roman\n",
      "findfont: Generic family 'sans-serif' not found because none of the following families were found: Times New Roman\n",
      "findfont: Generic family 'sans-serif' not found because none of the following families were found: Times New Roman\n",
      "findfont: Generic family 'sans-serif' not found because none of the following families were found: Times New Roman\n",
      "findfont: Generic family 'sans-serif' not found because none of the following families were found: Times New Roman\n",
      "findfont: Generic family 'sans-serif' not found because none of the following families were found: Times New Roman\n",
      "findfont: Generic family 'sans-serif' not found because none of the following families were found: Times New Roman\n",
      "findfont: Generic family 'sans-serif' not found because none of the following families were found: Times New Roman\n",
      "findfont: Generic family 'sans-serif' not found because none of the following families were found: Times New Roman\n",
      "findfont: Generic family 'sans-serif' not found because none of the following families were found: Times New Roman\n",
      "findfont: Generic family 'sans-serif' not found because none of the following families were found: Times New Roman\n",
      "findfont: Generic family 'sans-serif' not found because none of the following families were found: Times New Roman\n",
      "findfont: Generic family 'sans-serif' not found because none of the following families were found: Times New Roman\n",
      "findfont: Generic family 'sans-serif' not found because none of the following families were found: Times New Roman\n",
      "findfont: Generic family 'sans-serif' not found because none of the following families were found: Times New Roman\n",
      "findfont: Generic family 'sans-serif' not found because none of the following families were found: Times New Roman\n",
      "findfont: Generic family 'sans-serif' not found because none of the following families were found: Times New Roman\n",
      "findfont: Generic family 'sans-serif' not found because none of the following families were found: Times New Roman\n",
      "findfont: Generic family 'sans-serif' not found because none of the following families were found: Times New Roman\n",
      "findfont: Generic family 'sans-serif' not found because none of the following families were found: Times New Roman\n",
      "findfont: Generic family 'sans-serif' not found because none of the following families were found: Times New Roman\n",
      "findfont: Generic family 'sans-serif' not found because none of the following families were found: Times New Roman\n",
      "findfont: Generic family 'sans-serif' not found because none of the following families were found: Times New Roman\n",
      "findfont: Generic family 'sans-serif' not found because none of the following families were found: Times New Roman\n",
      "findfont: Generic family 'sans-serif' not found because none of the following families were found: Times New Roman\n",
      "findfont: Generic family 'sans-serif' not found because none of the following families were found: Times New Roman\n",
      "findfont: Generic family 'sans-serif' not found because none of the following families were found: Times New Roman\n",
      "findfont: Generic family 'sans-serif' not found because none of the following families were found: Times New Roman\n",
      "findfont: Generic family 'sans-serif' not found because none of the following families were found: Times New Roman\n",
      "findfont: Generic family 'sans-serif' not found because none of the following families were found: Times New Roman\n",
      "findfont: Generic family 'sans-serif' not found because none of the following families were found: Times New Roman\n",
      "findfont: Generic family 'sans-serif' not found because none of the following families were found: Times New Roman\n",
      "findfont: Generic family 'sans-serif' not found because none of the following families were found: Times New Roman\n",
      "findfont: Generic family 'sans-serif' not found because none of the following families were found: Times New Roman\n",
      "findfont: Generic family 'sans-serif' not found because none of the following families were found: Times New Roman\n",
      "findfont: Generic family 'sans-serif' not found because none of the following families were found: Times New Roman\n",
      "findfont: Generic family 'sans-serif' not found because none of the following families were found: Times New Roman\n",
      "findfont: Generic family 'sans-serif' not found because none of the following families were found: Times New Roman\n",
      "findfont: Generic family 'sans-serif' not found because none of the following families were found: Times New Roman\n",
      "findfont: Generic family 'sans-serif' not found because none of the following families were found: Times New Roman\n",
      "findfont: Generic family 'sans-serif' not found because none of the following families were found: Times New Roman\n",
      "findfont: Generic family 'sans-serif' not found because none of the following families were found: Times New Roman\n",
      "findfont: Generic family 'sans-serif' not found because none of the following families were found: Times New Roman\n",
      "findfont: Generic family 'sans-serif' not found because none of the following families were found: Times New Roman\n",
      "findfont: Generic family 'sans-serif' not found because none of the following families were found: Times New Roman\n",
      "findfont: Generic family 'sans-serif' not found because none of the following families were found: Times New Roman\n",
      "findfont: Generic family 'sans-serif' not found because none of the following families were found: Times New Roman\n",
      "findfont: Generic family 'sans-serif' not found because none of the following families were found: Times New Roman\n",
      "findfont: Generic family 'sans-serif' not found because none of the following families were found: Times New Roman\n",
      "findfont: Generic family 'sans-serif' not found because none of the following families were found: Times New Roman\n",
      "findfont: Generic family 'sans-serif' not found because none of the following families were found: Times New Roman\n",
      "findfont: Generic family 'sans-serif' not found because none of the following families were found: Times New Roman\n",
      "findfont: Generic family 'sans-serif' not found because none of the following families were found: Times New Roman\n",
      "findfont: Generic family 'sans-serif' not found because none of the following families were found: Times New Roman\n",
      "findfont: Generic family 'sans-serif' not found because none of the following families were found: Times New Roman\n",
      "findfont: Generic family 'sans-serif' not found because none of the following families were found: Times New Roman\n",
      "findfont: Generic family 'sans-serif' not found because none of the following families were found: Times New Roman\n",
      "findfont: Generic family 'sans-serif' not found because none of the following families were found: Times New Roman\n",
      "findfont: Generic family 'sans-serif' not found because none of the following families were found: Times New Roman\n",
      "findfont: Generic family 'sans-serif' not found because none of the following families were found: Times New Roman\n",
      "findfont: Generic family 'sans-serif' not found because none of the following families were found: Times New Roman\n"
     ]
    },
    {
     "data": {
      "text/html": [
       "<img src=\"https://cdn.kesci.com/upload/rt/FACD2A3BBD094960AECEBD8779DF8E4A/s4car343u.png\">"
      ],
      "text/plain": [
       "<Figure size 432x324 with 1 Axes>"
      ]
     },
     "metadata": {
      "needs_background": "light"
     },
     "output_type": "display_data"
    },
    {
     "name": "stderr",
     "output_type": "stream",
     "text": [
      "findfont: Generic family 'sans-serif' not found because none of the following families were found: Times New Roman\n",
      "findfont: Generic family 'sans-serif' not found because none of the following families were found: Times New Roman\n",
      "findfont: Generic family 'sans-serif' not found because none of the following families were found: Times New Roman\n",
      "findfont: Generic family 'sans-serif' not found because none of the following families were found: Times New Roman\n",
      "findfont: Generic family 'sans-serif' not found because none of the following families were found: Times New Roman\n",
      "findfont: Generic family 'sans-serif' not found because none of the following families were found: Times New Roman\n",
      "findfont: Generic family 'sans-serif' not found because none of the following families were found: Times New Roman\n",
      "findfont: Generic family 'sans-serif' not found because none of the following families were found: Times New Roman\n",
      "findfont: Generic family 'sans-serif' not found because none of the following families were found: Times New Roman\n",
      "findfont: Generic family 'sans-serif' not found because none of the following families were found: Times New Roman\n",
      "findfont: Generic family 'sans-serif' not found because none of the following families were found: Times New Roman\n",
      "findfont: Generic family 'sans-serif' not found because none of the following families were found: Times New Roman\n",
      "findfont: Generic family 'sans-serif' not found because none of the following families were found: Times New Roman\n",
      "findfont: Generic family 'sans-serif' not found because none of the following families were found: Times New Roman\n",
      "findfont: Generic family 'sans-serif' not found because none of the following families were found: Times New Roman\n",
      "findfont: Generic family 'sans-serif' not found because none of the following families were found: Times New Roman\n",
      "findfont: Generic family 'sans-serif' not found because none of the following families were found: Times New Roman\n",
      "findfont: Generic family 'sans-serif' not found because none of the following families were found: Times New Roman\n",
      "findfont: Generic family 'sans-serif' not found because none of the following families were found: Times New Roman\n",
      "findfont: Generic family 'sans-serif' not found because none of the following families were found: Times New Roman\n",
      "findfont: Generic family 'sans-serif' not found because none of the following families were found: Times New Roman\n",
      "findfont: Generic family 'sans-serif' not found because none of the following families were found: Times New Roman\n",
      "findfont: Generic family 'sans-serif' not found because none of the following families were found: Times New Roman\n",
      "findfont: Generic family 'sans-serif' not found because none of the following families were found: Times New Roman\n",
      "findfont: Generic family 'sans-serif' not found because none of the following families were found: Times New Roman\n",
      "findfont: Generic family 'sans-serif' not found because none of the following families were found: Times New Roman\n",
      "findfont: Generic family 'sans-serif' not found because none of the following families were found: Times New Roman\n",
      "findfont: Generic family 'sans-serif' not found because none of the following families were found: Times New Roman\n",
      "findfont: Generic family 'sans-serif' not found because none of the following families were found: Times New Roman\n",
      "findfont: Generic family 'sans-serif' not found because none of the following families were found: Times New Roman\n",
      "findfont: Generic family 'sans-serif' not found because none of the following families were found: Times New Roman\n",
      "findfont: Generic family 'sans-serif' not found because none of the following families were found: Times New Roman\n",
      "findfont: Generic family 'sans-serif' not found because none of the following families were found: Times New Roman\n",
      "findfont: Generic family 'sans-serif' not found because none of the following families were found: Times New Roman\n",
      "findfont: Generic family 'sans-serif' not found because none of the following families were found: Times New Roman\n",
      "findfont: Generic family 'sans-serif' not found because none of the following families were found: Times New Roman\n",
      "findfont: Generic family 'sans-serif' not found because none of the following families were found: Times New Roman\n",
      "findfont: Generic family 'sans-serif' not found because none of the following families were found: Times New Roman\n",
      "findfont: Generic family 'sans-serif' not found because none of the following families were found: Times New Roman\n",
      "findfont: Generic family 'sans-serif' not found because none of the following families were found: Times New Roman\n",
      "findfont: Generic family 'sans-serif' not found because none of the following families were found: Times New Roman\n",
      "findfont: Generic family 'sans-serif' not found because none of the following families were found: Times New Roman\n",
      "findfont: Generic family 'sans-serif' not found because none of the following families were found: Times New Roman\n",
      "findfont: Generic family 'sans-serif' not found because none of the following families were found: Times New Roman\n",
      "findfont: Generic family 'sans-serif' not found because none of the following families were found: Times New Roman\n",
      "findfont: Generic family 'sans-serif' not found because none of the following families were found: Times New Roman\n",
      "findfont: Generic family 'sans-serif' not found because none of the following families were found: Times New Roman\n",
      "findfont: Generic family 'sans-serif' not found because none of the following families were found: Times New Roman\n",
      "findfont: Generic family 'sans-serif' not found because none of the following families were found: Times New Roman\n",
      "findfont: Generic family 'sans-serif' not found because none of the following families were found: Times New Roman\n",
      "findfont: Generic family 'sans-serif' not found because none of the following families were found: Times New Roman\n",
      "findfont: Generic family 'sans-serif' not found because none of the following families were found: Times New Roman\n",
      "findfont: Generic family 'sans-serif' not found because none of the following families were found: Times New Roman\n",
      "findfont: Generic family 'sans-serif' not found because none of the following families were found: Times New Roman\n",
      "findfont: Generic family 'sans-serif' not found because none of the following families were found: Times New Roman\n",
      "findfont: Generic family 'sans-serif' not found because none of the following families were found: Times New Roman\n",
      "findfont: Generic family 'sans-serif' not found because none of the following families were found: Times New Roman\n",
      "findfont: Generic family 'sans-serif' not found because none of the following families were found: Times New Roman\n",
      "findfont: Generic family 'sans-serif' not found because none of the following families were found: Times New Roman\n",
      "findfont: Generic family 'sans-serif' not found because none of the following families were found: Times New Roman\n",
      "findfont: Generic family 'sans-serif' not found because none of the following families were found: Times New Roman\n",
      "findfont: Generic family 'sans-serif' not found because none of the following families were found: Times New Roman\n",
      "findfont: Generic family 'sans-serif' not found because none of the following families were found: Times New Roman\n",
      "findfont: Generic family 'sans-serif' not found because none of the following families were found: Times New Roman\n",
      "findfont: Generic family 'sans-serif' not found because none of the following families were found: Times New Roman\n",
      "findfont: Generic family 'sans-serif' not found because none of the following families were found: Times New Roman\n",
      "findfont: Generic family 'sans-serif' not found because none of the following families were found: Times New Roman\n",
      "findfont: Generic family 'sans-serif' not found because none of the following families were found: Times New Roman\n",
      "findfont: Generic family 'sans-serif' not found because none of the following families were found: Times New Roman\n",
      "findfont: Generic family 'sans-serif' not found because none of the following families were found: Times New Roman\n",
      "findfont: Generic family 'sans-serif' not found because none of the following families were found: Times New Roman\n",
      "findfont: Generic family 'sans-serif' not found because none of the following families were found: Times New Roman\n",
      "findfont: Generic family 'sans-serif' not found because none of the following families were found: Times New Roman\n",
      "findfont: Generic family 'sans-serif' not found because none of the following families were found: Times New Roman\n",
      "findfont: Generic family 'sans-serif' not found because none of the following families were found: Times New Roman\n"
     ]
    },
    {
     "data": {
      "text/html": [
       "<img src=\"https://cdn.kesci.com/upload/rt/FACD2A3BBD094960AECEBD8779DF8E4A/s4car5cfko.png\">"
      ],
      "text/plain": [
       "<Figure size 432x324 with 1 Axes>"
      ]
     },
     "metadata": {
      "needs_background": "light"
     },
     "output_type": "display_data"
    },
    {
     "name": "stderr",
     "output_type": "stream",
     "text": [
      "findfont: Generic family 'sans-serif' not found because none of the following families were found: Times New Roman\n",
      "findfont: Generic family 'sans-serif' not found because none of the following families were found: Times New Roman\n",
      "findfont: Generic family 'sans-serif' not found because none of the following families were found: Times New Roman\n",
      "findfont: Generic family 'sans-serif' not found because none of the following families were found: Times New Roman\n",
      "findfont: Generic family 'sans-serif' not found because none of the following families were found: Times New Roman\n",
      "findfont: Generic family 'sans-serif' not found because none of the following families were found: Times New Roman\n",
      "findfont: Generic family 'sans-serif' not found because none of the following families were found: Times New Roman\n",
      "findfont: Generic family 'sans-serif' not found because none of the following families were found: Times New Roman\n",
      "findfont: Generic family 'sans-serif' not found because none of the following families were found: Times New Roman\n",
      "findfont: Generic family 'sans-serif' not found because none of the following families were found: Times New Roman\n",
      "findfont: Generic family 'sans-serif' not found because none of the following families were found: Times New Roman\n",
      "findfont: Generic family 'sans-serif' not found because none of the following families were found: Times New Roman\n",
      "findfont: Generic family 'sans-serif' not found because none of the following families were found: Times New Roman\n",
      "findfont: Generic family 'sans-serif' not found because none of the following families were found: Times New Roman\n",
      "findfont: Generic family 'sans-serif' not found because none of the following families were found: Times New Roman\n",
      "findfont: Generic family 'sans-serif' not found because none of the following families were found: Times New Roman\n",
      "findfont: Generic family 'sans-serif' not found because none of the following families were found: Times New Roman\n",
      "findfont: Generic family 'sans-serif' not found because none of the following families were found: Times New Roman\n",
      "findfont: Generic family 'sans-serif' not found because none of the following families were found: Times New Roman\n",
      "findfont: Generic family 'sans-serif' not found because none of the following families were found: Times New Roman\n",
      "findfont: Generic family 'sans-serif' not found because none of the following families were found: Times New Roman\n",
      "findfont: Generic family 'sans-serif' not found because none of the following families were found: Times New Roman\n",
      "findfont: Generic family 'sans-serif' not found because none of the following families were found: Times New Roman\n",
      "findfont: Generic family 'sans-serif' not found because none of the following families were found: Times New Roman\n",
      "findfont: Generic family 'sans-serif' not found because none of the following families were found: Times New Roman\n",
      "findfont: Generic family 'sans-serif' not found because none of the following families were found: Times New Roman\n",
      "findfont: Generic family 'sans-serif' not found because none of the following families were found: Times New Roman\n",
      "findfont: Generic family 'sans-serif' not found because none of the following families were found: Times New Roman\n",
      "findfont: Generic family 'sans-serif' not found because none of the following families were found: Times New Roman\n",
      "findfont: Generic family 'sans-serif' not found because none of the following families were found: Times New Roman\n",
      "findfont: Generic family 'sans-serif' not found because none of the following families were found: Times New Roman\n",
      "findfont: Generic family 'sans-serif' not found because none of the following families were found: Times New Roman\n",
      "findfont: Generic family 'sans-serif' not found because none of the following families were found: Times New Roman\n",
      "findfont: Generic family 'sans-serif' not found because none of the following families were found: Times New Roman\n",
      "findfont: Generic family 'sans-serif' not found because none of the following families were found: Times New Roman\n",
      "findfont: Generic family 'sans-serif' not found because none of the following families were found: Times New Roman\n",
      "findfont: Generic family 'sans-serif' not found because none of the following families were found: Times New Roman\n",
      "findfont: Generic family 'sans-serif' not found because none of the following families were found: Times New Roman\n",
      "findfont: Generic family 'sans-serif' not found because none of the following families were found: Times New Roman\n",
      "findfont: Generic family 'sans-serif' not found because none of the following families were found: Times New Roman\n",
      "findfont: Generic family 'sans-serif' not found because none of the following families were found: Times New Roman\n",
      "findfont: Generic family 'sans-serif' not found because none of the following families were found: Times New Roman\n",
      "findfont: Generic family 'sans-serif' not found because none of the following families were found: Times New Roman\n",
      "findfont: Generic family 'sans-serif' not found because none of the following families were found: Times New Roman\n",
      "findfont: Generic family 'sans-serif' not found because none of the following families were found: Times New Roman\n",
      "findfont: Generic family 'sans-serif' not found because none of the following families were found: Times New Roman\n",
      "findfont: Generic family 'sans-serif' not found because none of the following families were found: Times New Roman\n",
      "findfont: Generic family 'sans-serif' not found because none of the following families were found: Times New Roman\n",
      "findfont: Generic family 'sans-serif' not found because none of the following families were found: Times New Roman\n",
      "findfont: Generic family 'sans-serif' not found because none of the following families were found: Times New Roman\n",
      "findfont: Generic family 'sans-serif' not found because none of the following families were found: Times New Roman\n",
      "findfont: Generic family 'sans-serif' not found because none of the following families were found: Times New Roman\n",
      "findfont: Generic family 'sans-serif' not found because none of the following families were found: Times New Roman\n",
      "findfont: Generic family 'sans-serif' not found because none of the following families were found: Times New Roman\n",
      "findfont: Generic family 'sans-serif' not found because none of the following families were found: Times New Roman\n",
      "findfont: Generic family 'sans-serif' not found because none of the following families were found: Times New Roman\n",
      "findfont: Generic family 'sans-serif' not found because none of the following families were found: Times New Roman\n",
      "findfont: Generic family 'sans-serif' not found because none of the following families were found: Times New Roman\n",
      "findfont: Generic family 'sans-serif' not found because none of the following families were found: Times New Roman\n",
      "findfont: Generic family 'sans-serif' not found because none of the following families were found: Times New Roman\n",
      "findfont: Generic family 'sans-serif' not found because none of the following families were found: Times New Roman\n",
      "findfont: Generic family 'sans-serif' not found because none of the following families were found: Times New Roman\n",
      "findfont: Generic family 'sans-serif' not found because none of the following families were found: Times New Roman\n",
      "findfont: Generic family 'sans-serif' not found because none of the following families were found: Times New Roman\n",
      "findfont: Generic family 'sans-serif' not found because none of the following families were found: Times New Roman\n",
      "findfont: Generic family 'sans-serif' not found because none of the following families were found: Times New Roman\n",
      "findfont: Generic family 'sans-serif' not found because none of the following families were found: Times New Roman\n",
      "findfont: Generic family 'sans-serif' not found because none of the following families were found: Times New Roman\n",
      "findfont: Generic family 'sans-serif' not found because none of the following families were found: Times New Roman\n",
      "findfont: Generic family 'sans-serif' not found because none of the following families were found: Times New Roman\n",
      "findfont: Generic family 'sans-serif' not found because none of the following families were found: Times New Roman\n",
      "findfont: Generic family 'sans-serif' not found because none of the following families were found: Times New Roman\n",
      "findfont: Generic family 'sans-serif' not found because none of the following families were found: Times New Roman\n",
      "findfont: Generic family 'sans-serif' not found because none of the following families were found: Times New Roman\n",
      "findfont: Generic family 'sans-serif' not found because none of the following families were found: Times New Roman\n"
     ]
    },
    {
     "data": {
      "text/html": [
       "<img src=\"https://cdn.kesci.com/upload/rt/FACD2A3BBD094960AECEBD8779DF8E4A/s4car765ny.png\">"
      ],
      "text/plain": [
       "<Figure size 432x324 with 1 Axes>"
      ]
     },
     "metadata": {
      "needs_background": "light"
     },
     "output_type": "display_data"
    },
    {
     "name": "stderr",
     "output_type": "stream",
     "text": [
      "findfont: Generic family 'sans-serif' not found because none of the following families were found: Times New Roman\n",
      "findfont: Generic family 'sans-serif' not found because none of the following families were found: Times New Roman\n",
      "findfont: Generic family 'sans-serif' not found because none of the following families were found: Times New Roman\n",
      "findfont: Generic family 'sans-serif' not found because none of the following families were found: Times New Roman\n",
      "findfont: Generic family 'sans-serif' not found because none of the following families were found: Times New Roman\n",
      "findfont: Generic family 'sans-serif' not found because none of the following families were found: Times New Roman\n",
      "findfont: Generic family 'sans-serif' not found because none of the following families were found: Times New Roman\n",
      "findfont: Generic family 'sans-serif' not found because none of the following families were found: Times New Roman\n",
      "findfont: Generic family 'sans-serif' not found because none of the following families were found: Times New Roman\n",
      "findfont: Generic family 'sans-serif' not found because none of the following families were found: Times New Roman\n",
      "findfont: Generic family 'sans-serif' not found because none of the following families were found: Times New Roman\n",
      "findfont: Generic family 'sans-serif' not found because none of the following families were found: Times New Roman\n",
      "findfont: Generic family 'sans-serif' not found because none of the following families were found: Times New Roman\n",
      "findfont: Generic family 'sans-serif' not found because none of the following families were found: Times New Roman\n",
      "findfont: Generic family 'sans-serif' not found because none of the following families were found: Times New Roman\n",
      "findfont: Generic family 'sans-serif' not found because none of the following families were found: Times New Roman\n",
      "findfont: Generic family 'sans-serif' not found because none of the following families were found: Times New Roman\n",
      "findfont: Generic family 'sans-serif' not found because none of the following families were found: Times New Roman\n",
      "findfont: Generic family 'sans-serif' not found because none of the following families were found: Times New Roman\n",
      "findfont: Generic family 'sans-serif' not found because none of the following families were found: Times New Roman\n",
      "findfont: Generic family 'sans-serif' not found because none of the following families were found: Times New Roman\n",
      "findfont: Generic family 'sans-serif' not found because none of the following families were found: Times New Roman\n",
      "findfont: Generic family 'sans-serif' not found because none of the following families were found: Times New Roman\n",
      "findfont: Generic family 'sans-serif' not found because none of the following families were found: Times New Roman\n",
      "findfont: Generic family 'sans-serif' not found because none of the following families were found: Times New Roman\n",
      "findfont: Generic family 'sans-serif' not found because none of the following families were found: Times New Roman\n",
      "findfont: Generic family 'sans-serif' not found because none of the following families were found: Times New Roman\n",
      "findfont: Generic family 'sans-serif' not found because none of the following families were found: Times New Roman\n",
      "findfont: Generic family 'sans-serif' not found because none of the following families were found: Times New Roman\n",
      "findfont: Generic family 'sans-serif' not found because none of the following families were found: Times New Roman\n",
      "findfont: Generic family 'sans-serif' not found because none of the following families were found: Times New Roman\n",
      "findfont: Generic family 'sans-serif' not found because none of the following families were found: Times New Roman\n",
      "findfont: Generic family 'sans-serif' not found because none of the following families were found: Times New Roman\n",
      "findfont: Generic family 'sans-serif' not found because none of the following families were found: Times New Roman\n",
      "findfont: Generic family 'sans-serif' not found because none of the following families were found: Times New Roman\n",
      "findfont: Generic family 'sans-serif' not found because none of the following families were found: Times New Roman\n",
      "findfont: Generic family 'sans-serif' not found because none of the following families were found: Times New Roman\n",
      "findfont: Generic family 'sans-serif' not found because none of the following families were found: Times New Roman\n",
      "findfont: Generic family 'sans-serif' not found because none of the following families were found: Times New Roman\n",
      "findfont: Generic family 'sans-serif' not found because none of the following families were found: Times New Roman\n",
      "findfont: Generic family 'sans-serif' not found because none of the following families were found: Times New Roman\n",
      "findfont: Generic family 'sans-serif' not found because none of the following families were found: Times New Roman\n",
      "findfont: Generic family 'sans-serif' not found because none of the following families were found: Times New Roman\n",
      "findfont: Generic family 'sans-serif' not found because none of the following families were found: Times New Roman\n",
      "findfont: Generic family 'sans-serif' not found because none of the following families were found: Times New Roman\n",
      "findfont: Generic family 'sans-serif' not found because none of the following families were found: Times New Roman\n",
      "findfont: Generic family 'sans-serif' not found because none of the following families were found: Times New Roman\n",
      "findfont: Generic family 'sans-serif' not found because none of the following families were found: Times New Roman\n",
      "findfont: Generic family 'sans-serif' not found because none of the following families were found: Times New Roman\n",
      "findfont: Generic family 'sans-serif' not found because none of the following families were found: Times New Roman\n",
      "findfont: Generic family 'sans-serif' not found because none of the following families were found: Times New Roman\n",
      "findfont: Generic family 'sans-serif' not found because none of the following families were found: Times New Roman\n",
      "findfont: Generic family 'sans-serif' not found because none of the following families were found: Times New Roman\n",
      "findfont: Generic family 'sans-serif' not found because none of the following families were found: Times New Roman\n",
      "findfont: Generic family 'sans-serif' not found because none of the following families were found: Times New Roman\n",
      "findfont: Generic family 'sans-serif' not found because none of the following families were found: Times New Roman\n",
      "findfont: Generic family 'sans-serif' not found because none of the following families were found: Times New Roman\n",
      "findfont: Generic family 'sans-serif' not found because none of the following families were found: Times New Roman\n",
      "findfont: Generic family 'sans-serif' not found because none of the following families were found: Times New Roman\n",
      "findfont: Generic family 'sans-serif' not found because none of the following families were found: Times New Roman\n",
      "findfont: Generic family 'sans-serif' not found because none of the following families were found: Times New Roman\n",
      "findfont: Generic family 'sans-serif' not found because none of the following families were found: Times New Roman\n",
      "findfont: Generic family 'sans-serif' not found because none of the following families were found: Times New Roman\n",
      "findfont: Generic family 'sans-serif' not found because none of the following families were found: Times New Roman\n",
      "findfont: Generic family 'sans-serif' not found because none of the following families were found: Times New Roman\n",
      "findfont: Generic family 'sans-serif' not found because none of the following families were found: Times New Roman\n",
      "findfont: Generic family 'sans-serif' not found because none of the following families were found: Times New Roman\n",
      "findfont: Generic family 'sans-serif' not found because none of the following families were found: Times New Roman\n",
      "findfont: Generic family 'sans-serif' not found because none of the following families were found: Times New Roman\n",
      "findfont: Generic family 'sans-serif' not found because none of the following families were found: Times New Roman\n",
      "findfont: Generic family 'sans-serif' not found because none of the following families were found: Times New Roman\n",
      "findfont: Generic family 'sans-serif' not found because none of the following families were found: Times New Roman\n",
      "findfont: Generic family 'sans-serif' not found because none of the following families were found: Times New Roman\n",
      "findfont: Generic family 'sans-serif' not found because none of the following families were found: Times New Roman\n",
      "findfont: Generic family 'sans-serif' not found because none of the following families were found: Times New Roman\n"
     ]
    },
    {
     "data": {
      "text/html": [
       "<img src=\"https://cdn.kesci.com/upload/rt/FACD2A3BBD094960AECEBD8779DF8E4A/s4carboj1g.png\">"
      ],
      "text/plain": [
       "<Figure size 432x324 with 1 Axes>"
      ]
     },
     "metadata": {
      "needs_background": "light"
     },
     "output_type": "display_data"
    },
    {
     "name": "stderr",
     "output_type": "stream",
     "text": [
      "findfont: Generic family 'sans-serif' not found because none of the following families were found: Times New Roman\n",
      "findfont: Generic family 'sans-serif' not found because none of the following families were found: Times New Roman\n",
      "findfont: Generic family 'sans-serif' not found because none of the following families were found: Times New Roman\n",
      "findfont: Generic family 'sans-serif' not found because none of the following families were found: Times New Roman\n",
      "findfont: Generic family 'sans-serif' not found because none of the following families were found: Times New Roman\n",
      "findfont: Generic family 'sans-serif' not found because none of the following families were found: Times New Roman\n",
      "findfont: Generic family 'sans-serif' not found because none of the following families were found: Times New Roman\n",
      "findfont: Generic family 'sans-serif' not found because none of the following families were found: Times New Roman\n",
      "findfont: Generic family 'sans-serif' not found because none of the following families were found: Times New Roman\n",
      "findfont: Generic family 'sans-serif' not found because none of the following families were found: Times New Roman\n",
      "findfont: Generic family 'sans-serif' not found because none of the following families were found: Times New Roman\n",
      "findfont: Generic family 'sans-serif' not found because none of the following families were found: Times New Roman\n",
      "findfont: Generic family 'sans-serif' not found because none of the following families were found: Times New Roman\n",
      "findfont: Generic family 'sans-serif' not found because none of the following families were found: Times New Roman\n",
      "findfont: Generic family 'sans-serif' not found because none of the following families were found: Times New Roman\n",
      "findfont: Generic family 'sans-serif' not found because none of the following families were found: Times New Roman\n",
      "findfont: Generic family 'sans-serif' not found because none of the following families were found: Times New Roman\n",
      "findfont: Generic family 'sans-serif' not found because none of the following families were found: Times New Roman\n",
      "findfont: Generic family 'sans-serif' not found because none of the following families were found: Times New Roman\n",
      "findfont: Generic family 'sans-serif' not found because none of the following families were found: Times New Roman\n",
      "findfont: Generic family 'sans-serif' not found because none of the following families were found: Times New Roman\n",
      "findfont: Generic family 'sans-serif' not found because none of the following families were found: Times New Roman\n",
      "findfont: Generic family 'sans-serif' not found because none of the following families were found: Times New Roman\n",
      "findfont: Generic family 'sans-serif' not found because none of the following families were found: Times New Roman\n",
      "findfont: Generic family 'sans-serif' not found because none of the following families were found: Times New Roman\n",
      "findfont: Generic family 'sans-serif' not found because none of the following families were found: Times New Roman\n"
     ]
    },
    {
     "data": {
      "text/html": [
       "<img src=\"https://cdn.kesci.com/upload/rt/FACD2A3BBD094960AECEBD8779DF8E4A/s4cardjm3e.png\">"
      ],
      "text/plain": [
       "<Figure size 432x432 with 1 Axes>"
      ]
     },
     "metadata": {
      "needs_background": "light"
     },
     "output_type": "display_data"
    }
   ],
   "source": [
    "\n",
    "def smooth_tracking():\n",
    "    cann = CANN1D(num=512, k=8.1)\n",
    "\n",
    "    # 定义随时间变化的外部刺激\n",
    "    v_ext = 1e-3\n",
    "    dur1, dur2, dur3 = 10., 10., 20\n",
    "    num1 = int(dur1 / bm.get_dt())\n",
    "    num2 = int(dur2 / bm.get_dt())\n",
    "    num3 = int(dur3 / bm.get_dt())\n",
    "    position = bm.zeros(num1 + num2 + num3)\n",
    "    position[num1: num1 + num2] = bm.linspace(0., 1.5 * bm.pi, num2)\n",
    "    position[num1 + num2: ] = 1.5 * bm.pi\n",
    "    position = position.reshape((-1, 1))\n",
    "    Iext = cann.get_stimulus_by_pos(position)\n",
    "\n",
    "    # 运行模拟\n",
    "    runner = bp.DSRunner(cann,\n",
    "                         inputs=['input', Iext, 'iter'],\n",
    "                         monitors=['u'])\n",
    "    runner.run(dur1 + dur2 + dur3)\n",
    "\n",
    "    # 可视化\n",
    "    def plot_response(t, extra_fun=None):\n",
    "        fig, gs = bp.visualize.get_figure(1, 1, 4.5, 6)\n",
    "        ax = fig.add_subplot(gs[0, 0])\n",
    "        ts = int(t / bm.get_dt())\n",
    "        I, u = Iext[ts], runner.mon.u[ts]\n",
    "        ax.plot(cann.x, I, label='Iext')\n",
    "        ax.plot(cann.x, u, linestyle='dashed', label='U')\n",
    "        ax.set_title(r'$t$' + ' = {} ms'.format(t))\n",
    "        ax.set_xlabel(r'$x$')\n",
    "        ax.spines['top'].set_visible(False)\n",
    "        ax.spines['right'].set_visible(False)\n",
    "        ax.legend()\n",
    "        if extra_fun: extra_fun()\n",
    "        # plt.savefig(f'CANN_tracking_t={t}.pdf', transparent=True, dpi=500)\n",
    "\n",
    "    plot_response(t=10.)\n",
    "\n",
    "    def f():\n",
    "        plt.annotate('', xy=(1.5, 10), xytext=(0.5, 10), arrowprops=dict(arrowstyle=\"->\"))\n",
    "\n",
    "    plot_response(t=15., extra_fun=f)\n",
    "\n",
    "    def f():\n",
    "        plt.annotate('', xy=(-2, 10), xytext=(-3, 10), arrowprops=dict(arrowstyle=\"->\"))\n",
    "\n",
    "    plot_response(t=20., extra_fun=f)\n",
    "    plot_response(t=30.)\n",
    "\n",
    "    bp.visualize.animate_1D(\n",
    "        dynamical_vars=[{'ys': runner.mon.u, 'xs': cann.x, 'legend': 'u'},\n",
    "                        {'ys': Iext, 'xs': cann.x, 'legend': 'Iext'}],\n",
    "        frame_step=5,\n",
    "        frame_delay=50,\n",
    "        show=True,\n",
    "    )\n",
    "    plt.show()\n",
    "smooth_tracking()"
   ]
  },
  {
   "cell_type": "code",
   "execution_count": null,
   "metadata": {
    "collapsed": false,
    "id": "145BBFE9555B4808A257E1499EDA4A00",
    "jupyter": {},
    "notebookId": "655933bb671b03a7f562adc0",
    "scrolled": false,
    "slideshow": {
     "slide_type": "slide"
    },
    "tags": [],
    "trusted": true
   },
   "outputs": [],
   "source": []
  }
 ],
 "metadata": {
  "kernelspec": {
   "display_name": "Python 3",
   "language": "python",
   "name": "python3"
  },
  "language_info": {
   "codemirror_mode": {
    "name": "ipython",
    "version": 3
   },
   "file_extension": ".py",
   "mimetype": "text/x-python",
   "name": "python",
   "nbconvert_exporter": "python",
   "pygments_lexer": "ipython3",
   "version": "3.5.2"
  }
 },
 "nbformat": 4,
 "nbformat_minor": 2
}
